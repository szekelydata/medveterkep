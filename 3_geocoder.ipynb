{
 "cells": [
  {
   "cell_type": "code",
   "execution_count": 121,
   "metadata": {
    "ExecuteTime": {
     "end_time": "2019-04-18T04:32:34.216709Z",
     "start_time": "2019-04-18T04:32:34.210710Z"
    }
   },
   "outputs": [],
   "source": [
    "import pandas as pd, numpy as np\n",
    "import itertools, requests, json"
   ]
  },
  {
   "cell_type": "code",
   "execution_count": 122,
   "metadata": {
    "ExecuteTime": {
     "end_time": "2019-04-18T04:32:34.425705Z",
     "start_time": "2019-04-18T04:32:34.359710Z"
    }
   },
   "outputs": [],
   "source": [
    "dm=pd.read_excel('data/szekelyhon_medve.xlsx')\n",
    "dc=pd.read_excel('data/szekelyhon_medve_curated.xlsx')\n",
    "lm=pd.read_excel('data/szekelyhon_locs_curated.xlsx')"
   ]
  },
  {
   "cell_type": "code",
   "execution_count": 123,
   "metadata": {
    "ExecuteTime": {
     "end_time": "2019-04-18T04:32:34.519710Z",
     "start_time": "2019-04-18T04:32:34.509717Z"
    }
   },
   "outputs": [],
   "source": [
    "dc=dc[(dc['duplicate']!=1)&(dc['relevant']==1)]"
   ]
  },
  {
   "cell_type": "code",
   "execution_count": 124,
   "metadata": {
    "ExecuteTime": {
     "end_time": "2019-04-18T04:32:34.668713Z",
     "start_time": "2019-04-18T04:32:34.653710Z"
    }
   },
   "outputs": [],
   "source": [
    "dc[\"uid\"] = dc[\"title\"].map(str) + dc[\"content\"]\n",
    "dm[\"uid\"] = dm[\"title\"].map(str) + dm[\"content\"]\n",
    "lm[\"uid\"] = lm[\"title\"].map(str) + lm[\"content\"]"
   ]
  },
  {
   "cell_type": "code",
   "execution_count": 125,
   "metadata": {
    "ExecuteTime": {
     "end_time": "2019-04-18T04:32:34.807714Z",
     "start_time": "2019-04-18T04:32:34.795706Z"
    }
   },
   "outputs": [],
   "source": [
    "dc=dc.set_index('uid')[['relevant','severity','deaths','duplicate']]\n",
    "dm=dm.set_index('uid')\n",
    "lm=lm.set_index('uid')[['predicted_locs','actual_locs']]"
   ]
  },
  {
   "cell_type": "code",
   "execution_count": 126,
   "metadata": {
    "ExecuteTime": {
     "end_time": "2019-04-18T04:32:34.945711Z",
     "start_time": "2019-04-18T04:32:34.938708Z"
    }
   },
   "outputs": [],
   "source": [
    "dmi=dm.loc[dc.index.dropna()]"
   ]
  },
  {
   "cell_type": "code",
   "execution_count": 127,
   "metadata": {
    "ExecuteTime": {
     "end_time": "2019-04-18T04:32:35.125710Z",
     "start_time": "2019-04-18T04:32:35.094712Z"
    }
   },
   "outputs": [],
   "source": [
    "df=dmi.join(dc).drop_duplicates()"
   ]
  },
  {
   "cell_type": "code",
   "execution_count": 128,
   "metadata": {
    "ExecuteTime": {
     "end_time": "2019-04-18T04:32:35.264708Z",
     "start_time": "2019-04-18T04:32:35.247713Z"
    }
   },
   "outputs": [],
   "source": [
    "dl=df.join(lm)"
   ]
  },
  {
   "cell_type": "code",
   "execution_count": 129,
   "metadata": {},
   "outputs": [
    {
     "data": {
      "text/plain": [
       "7"
      ]
     },
     "execution_count": 129,
     "metadata": {},
     "output_type": "execute_result"
    }
   ],
   "source": [
    "len(dl)"
   ]
  },
  {
   "cell_type": "markdown",
   "metadata": {
    "ExecuteTime": {
     "end_time": "2018-11-03T01:06:46.878487Z",
     "start_time": "2018-11-03T01:06:46.784487Z"
    }
   },
   "source": [
    "Working df ready. Now infer location."
   ]
  },
  {
   "cell_type": "code",
   "execution_count": 130,
   "metadata": {
    "ExecuteTime": {
     "end_time": "2019-04-18T04:32:35.595708Z",
     "start_time": "2019-04-18T04:32:35.590707Z"
    }
   },
   "outputs": [],
   "source": [
    "to_geo=[i.split(',') for i in dl['actual_locs'].unique() if str(i)!='nan']"
   ]
  },
  {
   "cell_type": "code",
   "execution_count": 131,
   "metadata": {
    "ExecuteTime": {
     "end_time": "2019-04-18T04:32:35.790713Z",
     "start_time": "2019-04-18T04:32:35.785710Z"
    }
   },
   "outputs": [],
   "source": [
    "to_geo=[i.strip() for i in list(itertools.chain.from_iterable(to_geo))]"
   ]
  },
  {
   "cell_type": "markdown",
   "metadata": {},
   "source": [
    "Load HU names"
   ]
  },
  {
   "cell_type": "code",
   "execution_count": 132,
   "metadata": {
    "ExecuteTime": {
     "end_time": "2019-04-18T04:32:36.208711Z",
     "start_time": "2019-04-18T04:32:36.171710Z"
    }
   },
   "outputs": [],
   "source": [
    "coords=json.loads(open('geo/huncoords.json','r').read())\n",
    "megyek=json.loads(open('geo/megyek.json','r').read())"
   ]
  },
  {
   "cell_type": "code",
   "execution_count": 133,
   "metadata": {
    "ExecuteTime": {
     "end_time": "2019-04-18T04:32:36.479710Z",
     "start_time": "2019-04-18T04:32:36.439714Z"
    }
   },
   "outputs": [],
   "source": [
    "data=[]\n",
    "header=['index']\n",
    "for i in dl.iteritems():\n",
    "    header.append(i[0])\n",
    "header.append('geo_loc')\n",
    "header.append('latitude')\n",
    "header.append('longitude')\n",
    "header.append('id')\n",
    "for i in dl.T.iteritems():\n",
    "    dummy=[i[0]]\n",
    "    for j in range(len(i[1])):\n",
    "        if j==(len(i[1])-1):\n",
    "            dummy.append(i[1][j])\n",
    "            dummy.append('')\n",
    "            dummy.append('')\n",
    "            dummy.append('')\n",
    "            dummy.append('')\n",
    "            dtime=str(dummy[1])[:10]\n",
    "            if dtime=='nan': dtime=u'N/A' \n",
    "            if str(i[1][j])!='nan':    \n",
    "                for k in i[1][j].split(','):\n",
    "                    tk=k.strip().replace('[','').replace(']','').replace(\"'\",'')\n",
    "                    dummy[-4]=tk\n",
    "                    if tk in coords:\n",
    "                        dummy[-3]=coords[tk][0]\n",
    "                        dummy[-2]=coords[tk][1]\n",
    "                    else:\n",
    "                        dummy[-3]=''\n",
    "                        dummy[-2]=''\n",
    "                    #dummy[-1]=str(dummy[-3])+' ('+str(dummy[0]+1)+')\\n'+dtime\n",
    "                    dummy[-1]=str(dummy[-4])+', '+dtime\n",
    "                    data.append(list(dummy))                    \n",
    "            else:\n",
    "                dummy[-1]=u'N/A' +', '+dtime\n",
    "                data.append(list(dummy))\n",
    "        else: \n",
    "            dummy.append(i[1][j])"
   ]
  },
  {
   "cell_type": "code",
   "execution_count": 134,
   "metadata": {
    "ExecuteTime": {
     "end_time": "2019-04-18T04:32:36.991710Z",
     "start_time": "2019-04-18T04:32:36.864711Z"
    }
   },
   "outputs": [
    {
     "data": {
      "text/html": [
       "<div>\n",
       "<style scoped>\n",
       "    .dataframe tbody tr th:only-of-type {\n",
       "        vertical-align: middle;\n",
       "    }\n",
       "\n",
       "    .dataframe tbody tr th {\n",
       "        vertical-align: top;\n",
       "    }\n",
       "\n",
       "    .dataframe thead th {\n",
       "        text-align: right;\n",
       "    }\n",
       "</style>\n",
       "<table border=\"1\" class=\"dataframe\">\n",
       "  <thead>\n",
       "    <tr style=\"text-align: right;\">\n",
       "      <th></th>\n",
       "      <th>index</th>\n",
       "      <th>Unnamed: 0</th>\n",
       "      <th>date</th>\n",
       "      <th>hudate</th>\n",
       "      <th>link</th>\n",
       "      <th>image</th>\n",
       "      <th>category</th>\n",
       "      <th>icategory</th>\n",
       "      <th>tags</th>\n",
       "      <th>title</th>\n",
       "      <th>...</th>\n",
       "      <th>relevant</th>\n",
       "      <th>severity</th>\n",
       "      <th>deaths</th>\n",
       "      <th>duplicate</th>\n",
       "      <th>predicted_locs</th>\n",
       "      <th>actual_locs</th>\n",
       "      <th>geo_loc</th>\n",
       "      <th>latitude</th>\n",
       "      <th>longitude</th>\n",
       "      <th>id</th>\n",
       "    </tr>\n",
       "  </thead>\n",
       "  <tbody>\n",
       "    <tr>\n",
       "      <th>0</th>\n",
       "      <td>Medve Szentegyháza határábanNem kis fennakadás...</td>\n",
       "      <td>1</td>\n",
       "      <td>2019-06-07</td>\n",
       "      <td>2019. június 07.</td>\n",
       "      <td>https://szekelyhon.ro/aktualis/medve-szentegyh...</td>\n",
       "      <td>https://media.szekelyhon.ro/pictures/agerpres/...</td>\n",
       "      <td>aktualis</td>\n",
       "      <td>agerpres</td>\n",
       "      <td>['medve', 'Szentegyháza']</td>\n",
       "      <td>Medve Szentegyháza határában</td>\n",
       "      <td>...</td>\n",
       "      <td>1</td>\n",
       "      <td>1</td>\n",
       "      <td>0</td>\n",
       "      <td>0</td>\n",
       "      <td>Szentegyháza</td>\n",
       "      <td>Szentegyháza</td>\n",
       "      <td>Szentegyháza</td>\n",
       "      <td>46.3267</td>\n",
       "      <td>25.5148</td>\n",
       "      <td>Szentegyháza, 1</td>\n",
       "    </tr>\n",
       "    <tr>\n",
       "      <th>1</th>\n",
       "      <td>Amikor farkas provokálja a medvéketRendhagyó v...</td>\n",
       "      <td>3</td>\n",
       "      <td>2019-06-13</td>\n",
       "      <td>2019. június 13.</td>\n",
       "      <td>https://szekelyhon.ro/aktualis/amikor-farkas-p...</td>\n",
       "      <td>https://media.szekelyhon.ro/pictures/agerpres/...</td>\n",
       "      <td>aktualis</td>\n",
       "      <td>agerpres</td>\n",
       "      <td>['Háromszék', 'medve']</td>\n",
       "      <td>Amikor farkas provokálja a medvéket</td>\n",
       "      <td>...</td>\n",
       "      <td>1</td>\n",
       "      <td>1</td>\n",
       "      <td>0</td>\n",
       "      <td>0</td>\n",
       "      <td>Sepsibükszád</td>\n",
       "      <td>Sepsibükszád</td>\n",
       "      <td>Sepsibükszád</td>\n",
       "      <td>46.0077</td>\n",
       "      <td>25.8411</td>\n",
       "      <td>Sepsibükszád, 3</td>\n",
       "    </tr>\n",
       "    <tr>\n",
       "      <th>2</th>\n",
       "      <td>Medvebocsot kínoztak, eljárás indul ellenükNag...</td>\n",
       "      <td>4</td>\n",
       "      <td>2019-06-17</td>\n",
       "      <td>2019. június 17.</td>\n",
       "      <td>https://szekelyhon.ro/aktualis/medvebocsot-kin...</td>\n",
       "      <td>https://media.szekelyhon.ro/pictures/udvarhely...</td>\n",
       "      <td>aktualis</td>\n",
       "      <td>udvarhely</td>\n",
       "      <td>['Brassó megye', 'medve']</td>\n",
       "      <td>Medvebocsot kínoztak, eljárás indul ellenük</td>\n",
       "      <td>...</td>\n",
       "      <td>1</td>\n",
       "      <td>1</td>\n",
       "      <td>0</td>\n",
       "      <td>0</td>\n",
       "      <td>['Brassó', 'Ágostonfalva', 'Brassó', 'Ágostonf...</td>\n",
       "      <td>Ágostonfalva</td>\n",
       "      <td>Ágostonfalva</td>\n",
       "      <td>46.0046</td>\n",
       "      <td>25.5553</td>\n",
       "      <td>Ágostonfalva, 4</td>\n",
       "    </tr>\n",
       "    <tr>\n",
       "      <th>3</th>\n",
       "      <td>Medvecsalád bukkant fel Csíkszentimre határába...</td>\n",
       "      <td>6</td>\n",
       "      <td>2019-06-25</td>\n",
       "      <td>2019. június 25.</td>\n",
       "      <td>https://szekelyhon.ro/aktualis/medvecsalad-buk...</td>\n",
       "      <td>https://media.szekelyhon.ro/pictures/csik/aktu...</td>\n",
       "      <td>aktualis</td>\n",
       "      <td>csik</td>\n",
       "      <td>['Csíkszentimre', 'medve']</td>\n",
       "      <td>Medvecsalád bukkant fel Csíkszentimre határában</td>\n",
       "      <td>...</td>\n",
       "      <td>1</td>\n",
       "      <td>1</td>\n",
       "      <td>0</td>\n",
       "      <td>0</td>\n",
       "      <td>Csíkszentimre</td>\n",
       "      <td>Csíkszentimre</td>\n",
       "      <td>Csíkszentimre</td>\n",
       "      <td>46.2617</td>\n",
       "      <td>25.7966</td>\n",
       "      <td>Csíkszentimre, 6</td>\n",
       "    </tr>\n",
       "    <tr>\n",
       "      <th>4</th>\n",
       "      <td>Semmi különös, csak a székely eteti a medvét a...</td>\n",
       "      <td>7</td>\n",
       "      <td>2019-06-28</td>\n",
       "      <td>2019. június 28.</td>\n",
       "      <td>https://szekelyhon.ro/aktualis/semmi-kulonos-c...</td>\n",
       "      <td>https://media.szekelyhon.ro/pictures/agerpres/...</td>\n",
       "      <td>aktualis</td>\n",
       "      <td>agerpres</td>\n",
       "      <td>['Háromszék', 'medve']</td>\n",
       "      <td>Semmi különös, csak a székely eteti a medvét a...</td>\n",
       "      <td>...</td>\n",
       "      <td>1</td>\n",
       "      <td>1</td>\n",
       "      <td>0</td>\n",
       "      <td>0</td>\n",
       "      <td>['Ozsdola', 'Újszékely', 'Ozsdola']</td>\n",
       "      <td>Ozsdola</td>\n",
       "      <td>Ozsdola</td>\n",
       "      <td>45.9805</td>\n",
       "      <td>26.263</td>\n",
       "      <td>Ozsdola, 7</td>\n",
       "    </tr>\n",
       "    <tr>\n",
       "      <th>5</th>\n",
       "      <td>Túlélte a gázolást a Brassó határában elütött ...</td>\n",
       "      <td>8</td>\n",
       "      <td>2019-06-28</td>\n",
       "      <td>2019. június 28.</td>\n",
       "      <td>https://szekelyhon.ro/aktualis/tulelte-a-gazol...</td>\n",
       "      <td>https://media.szekelyhon.ro/pictures/123rf/201...</td>\n",
       "      <td>aktualis</td>\n",
       "      <td>123rf</td>\n",
       "      <td>['Brassó', 'medve']</td>\n",
       "      <td>Túlélte a gázolást a Brassó határában elütött ...</td>\n",
       "      <td>...</td>\n",
       "      <td>1</td>\n",
       "      <td>0</td>\n",
       "      <td>0</td>\n",
       "      <td>0</td>\n",
       "      <td>Brassó</td>\n",
       "      <td>Brassó</td>\n",
       "      <td>Brassó</td>\n",
       "      <td>45.658</td>\n",
       "      <td>25.6012</td>\n",
       "      <td>Brassó, 8</td>\n",
       "    </tr>\n",
       "    <tr>\n",
       "      <th>6</th>\n",
       "      <td>Íme, a vitatéma: megszámolták a medvéketÉvről ...</td>\n",
       "      <td>9</td>\n",
       "      <td>NaT</td>\n",
       "      <td>NaN</td>\n",
       "      <td>https://szekelyhon.ro/aktualis/ime-a-vitatema-...</td>\n",
       "      <td>https://media.szekelyhon.ro/pictures/udvarhely...</td>\n",
       "      <td>aktualis</td>\n",
       "      <td>udvarhely</td>\n",
       "      <td>['Hargita megye', 'Maros megye', 'medve']</td>\n",
       "      <td>Íme, a vitatéma: megszámolták a medvéket</td>\n",
       "      <td>...</td>\n",
       "      <td>1</td>\n",
       "      <td>0</td>\n",
       "      <td>0</td>\n",
       "      <td>0</td>\n",
       "      <td>NaN</td>\n",
       "      <td>NaN</td>\n",
       "      <td></td>\n",
       "      <td></td>\n",
       "      <td></td>\n",
       "      <td>N/A, 9</td>\n",
       "    </tr>\n",
       "  </tbody>\n",
       "</table>\n",
       "<p>7 rows × 21 columns</p>\n",
       "</div>"
      ],
      "text/plain": [
       "                                               index  Unnamed: 0       date  \\\n",
       "0  Medve Szentegyháza határábanNem kis fennakadás...           1 2019-06-07   \n",
       "1  Amikor farkas provokálja a medvéketRendhagyó v...           3 2019-06-13   \n",
       "2  Medvebocsot kínoztak, eljárás indul ellenükNag...           4 2019-06-17   \n",
       "3  Medvecsalád bukkant fel Csíkszentimre határába...           6 2019-06-25   \n",
       "4  Semmi különös, csak a székely eteti a medvét a...           7 2019-06-28   \n",
       "5  Túlélte a gázolást a Brassó határában elütött ...           8 2019-06-28   \n",
       "6  Íme, a vitatéma: megszámolták a medvéketÉvről ...           9        NaT   \n",
       "\n",
       "             hudate                                               link  \\\n",
       "0  2019. június 07.  https://szekelyhon.ro/aktualis/medve-szentegyh...   \n",
       "1  2019. június 13.  https://szekelyhon.ro/aktualis/amikor-farkas-p...   \n",
       "2  2019. június 17.  https://szekelyhon.ro/aktualis/medvebocsot-kin...   \n",
       "3  2019. június 25.  https://szekelyhon.ro/aktualis/medvecsalad-buk...   \n",
       "4  2019. június 28.  https://szekelyhon.ro/aktualis/semmi-kulonos-c...   \n",
       "5  2019. június 28.  https://szekelyhon.ro/aktualis/tulelte-a-gazol...   \n",
       "6               NaN  https://szekelyhon.ro/aktualis/ime-a-vitatema-...   \n",
       "\n",
       "                                               image  category  icategory  \\\n",
       "0  https://media.szekelyhon.ro/pictures/agerpres/...  aktualis   agerpres   \n",
       "1  https://media.szekelyhon.ro/pictures/agerpres/...  aktualis   agerpres   \n",
       "2  https://media.szekelyhon.ro/pictures/udvarhely...  aktualis  udvarhely   \n",
       "3  https://media.szekelyhon.ro/pictures/csik/aktu...  aktualis       csik   \n",
       "4  https://media.szekelyhon.ro/pictures/agerpres/...  aktualis   agerpres   \n",
       "5  https://media.szekelyhon.ro/pictures/123rf/201...  aktualis      123rf   \n",
       "6  https://media.szekelyhon.ro/pictures/udvarhely...  aktualis  udvarhely   \n",
       "\n",
       "                                        tags  \\\n",
       "0                  ['medve', 'Szentegyháza']   \n",
       "1                     ['Háromszék', 'medve']   \n",
       "2                  ['Brassó megye', 'medve']   \n",
       "3                 ['Csíkszentimre', 'medve']   \n",
       "4                     ['Háromszék', 'medve']   \n",
       "5                        ['Brassó', 'medve']   \n",
       "6  ['Hargita megye', 'Maros megye', 'medve']   \n",
       "\n",
       "                                               title  ... relevant  severity  \\\n",
       "0                       Medve Szentegyháza határában  ...        1         1   \n",
       "1                Amikor farkas provokálja a medvéket  ...        1         1   \n",
       "2        Medvebocsot kínoztak, eljárás indul ellenük  ...        1         1   \n",
       "3    Medvecsalád bukkant fel Csíkszentimre határában  ...        1         1   \n",
       "4  Semmi különös, csak a székely eteti a medvét a...  ...        1         1   \n",
       "5  Túlélte a gázolást a Brassó határában elütött ...  ...        1         0   \n",
       "6           Íme, a vitatéma: megszámolták a medvéket  ...        1         0   \n",
       "\n",
       "   deaths  duplicate                                     predicted_locs  \\\n",
       "0       0          0                                       Szentegyháza   \n",
       "1       0          0                                       Sepsibükszád   \n",
       "2       0          0  ['Brassó', 'Ágostonfalva', 'Brassó', 'Ágostonf...   \n",
       "3       0          0                                      Csíkszentimre   \n",
       "4       0          0                ['Ozsdola', 'Újszékely', 'Ozsdola']   \n",
       "5       0          0                                             Brassó   \n",
       "6       0          0                                                NaN   \n",
       "\n",
       "     actual_locs        geo_loc latitude longitude                id  \n",
       "0   Szentegyháza   Szentegyháza  46.3267   25.5148   Szentegyháza, 1  \n",
       "1   Sepsibükszád   Sepsibükszád  46.0077   25.8411   Sepsibükszád, 3  \n",
       "2   Ágostonfalva   Ágostonfalva  46.0046   25.5553   Ágostonfalva, 4  \n",
       "3  Csíkszentimre  Csíkszentimre  46.2617   25.7966  Csíkszentimre, 6  \n",
       "4        Ozsdola        Ozsdola  45.9805    26.263        Ozsdola, 7  \n",
       "5         Brassó         Brassó   45.658   25.6012         Brassó, 8  \n",
       "6            NaN                                              N/A, 9  \n",
       "\n",
       "[7 rows x 21 columns]"
      ]
     },
     "execution_count": 134,
     "metadata": {},
     "output_type": "execute_result"
    }
   ],
   "source": [
    "df=pd.DataFrame(data)\n",
    "df.columns=header\n",
    "df"
   ]
  },
  {
   "cell_type": "markdown",
   "metadata": {},
   "source": [
    "Save data for loading in viz app"
   ]
  },
  {
   "cell_type": "code",
   "execution_count": 135,
   "metadata": {
    "ExecuteTime": {
     "end_time": "2019-04-18T04:33:06.297709Z",
     "start_time": "2019-04-18T04:33:06.289711Z"
    }
   },
   "outputs": [],
   "source": [
    "df['checked']=''\n",
    "df['exact_loc']=0\n",
    "df['source']='Székelyhon'"
   ]
  },
  {
   "cell_type": "code",
   "execution_count": 136,
   "metadata": {
    "ExecuteTime": {
     "end_time": "2019-04-18T04:33:06.786724Z",
     "start_time": "2019-04-18T04:33:06.769712Z"
    }
   },
   "outputs": [],
   "source": [
    "df=df[['checked',\n",
    "    'date',\n",
    "    'link',\n",
    "    'image',\n",
    "    'source',\n",
    "    'title',\n",
    "    'content',\n",
    "    'relevant',\n",
    "    'severity',\n",
    "    'deaths',\n",
    "    'duplicate',\n",
    "    'geo_loc',\n",
    "    'exact_loc',\n",
    "    'latitude',\n",
    "    'longitude']].set_index('checked')"
   ]
  },
  {
   "cell_type": "code",
   "execution_count": 137,
   "metadata": {
    "ExecuteTime": {
     "end_time": "2019-04-18T04:33:07.955716Z",
     "start_time": "2019-04-18T04:33:07.743723Z"
    }
   },
   "outputs": [],
   "source": [
    "#PowerBI exploration data\n",
    "df.to_excel('data/szekelyhon_data.xlsx')"
   ]
  },
  {
   "cell_type": "code",
   "execution_count": null,
   "metadata": {},
   "outputs": [],
   "source": []
  }
 ],
 "metadata": {
  "kernelspec": {
   "display_name": "Python 3",
   "language": "python",
   "name": "python3"
  },
  "language_info": {
   "codemirror_mode": {
    "name": "ipython",
    "version": 3
   },
   "file_extension": ".py",
   "mimetype": "text/x-python",
   "name": "python",
   "nbconvert_exporter": "python",
   "pygments_lexer": "ipython3",
   "version": "3.6.7"
  },
  "toc": {
   "base_numbering": 1,
   "nav_menu": {},
   "number_sections": true,
   "sideBar": true,
   "skip_h1_title": false,
   "title_cell": "Table of Contents",
   "title_sidebar": "Contents",
   "toc_cell": false,
   "toc_position": {},
   "toc_section_display": true,
   "toc_window_display": false
  }
 },
 "nbformat": 4,
 "nbformat_minor": 2
}
