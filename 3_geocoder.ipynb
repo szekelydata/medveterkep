{
 "cells": [
  {
   "cell_type": "code",
   "execution_count": 1,
   "metadata": {
    "ExecuteTime": {
     "end_time": "2019-04-18T04:32:34.216709Z",
     "start_time": "2019-04-18T04:32:34.210710Z"
    }
   },
   "outputs": [],
   "source": [
    "import pandas as pd, numpy as np\n",
    "import itertools, requests, json"
   ]
  },
  {
   "cell_type": "code",
   "execution_count": 2,
   "metadata": {
    "ExecuteTime": {
     "end_time": "2019-04-18T04:32:34.425705Z",
     "start_time": "2019-04-18T04:32:34.359710Z"
    }
   },
   "outputs": [],
   "source": [
    "dm=pd.read_excel('data/szekelyhon_medve.xlsx')\n",
    "dc=pd.read_excel('data/szekelyhon_medve_curated.xlsx')\n",
    "lm=pd.read_excel('data/szekelyhon_locs_curated.xlsx')"
   ]
  },
  {
   "cell_type": "code",
   "execution_count": 3,
   "metadata": {
    "ExecuteTime": {
     "end_time": "2019-04-18T04:32:34.519710Z",
     "start_time": "2019-04-18T04:32:34.509717Z"
    }
   },
   "outputs": [],
   "source": [
    "dc=dc[(dc['duplicate']!=1)&(dc['relevant']==1)]"
   ]
  },
  {
   "cell_type": "code",
   "execution_count": 4,
   "metadata": {
    "ExecuteTime": {
     "end_time": "2019-04-18T04:32:34.668713Z",
     "start_time": "2019-04-18T04:32:34.653710Z"
    }
   },
   "outputs": [],
   "source": [
    "dc[\"uid\"] = dc[\"title\"].map(str) + dc[\"content\"]\n",
    "dm[\"uid\"] = dm[\"title\"].map(str) + dm[\"content\"]\n",
    "lm[\"uid\"] = lm[\"title\"].map(str) + lm[\"content\"]"
   ]
  },
  {
   "cell_type": "code",
   "execution_count": 5,
   "metadata": {
    "ExecuteTime": {
     "end_time": "2019-04-18T04:32:34.807714Z",
     "start_time": "2019-04-18T04:32:34.795706Z"
    }
   },
   "outputs": [],
   "source": [
    "dc=dc.set_index('uid')[['relevant','severity','deaths','duplicate']]\n",
    "dm=dm.set_index('uid')\n",
    "lm=lm.set_index('uid')[['predicted_locs','actual_locs']]"
   ]
  },
  {
   "cell_type": "code",
   "execution_count": 6,
   "metadata": {
    "ExecuteTime": {
     "end_time": "2019-04-18T04:32:34.945711Z",
     "start_time": "2019-04-18T04:32:34.938708Z"
    }
   },
   "outputs": [],
   "source": [
    "dmi=dm.loc[dc.index.dropna()]"
   ]
  },
  {
   "cell_type": "code",
   "execution_count": 7,
   "metadata": {
    "ExecuteTime": {
     "end_time": "2019-04-18T04:32:35.125710Z",
     "start_time": "2019-04-18T04:32:35.094712Z"
    }
   },
   "outputs": [],
   "source": [
    "df=dmi.join(dc).drop_duplicates()"
   ]
  },
  {
   "cell_type": "code",
   "execution_count": 8,
   "metadata": {
    "ExecuteTime": {
     "end_time": "2019-04-18T04:32:35.264708Z",
     "start_time": "2019-04-18T04:32:35.247713Z"
    }
   },
   "outputs": [],
   "source": [
    "dl=df.join(lm)"
   ]
  },
  {
   "cell_type": "code",
   "execution_count": 9,
   "metadata": {},
   "outputs": [
    {
     "data": {
      "text/plain": [
       "12"
      ]
     },
     "execution_count": 9,
     "metadata": {},
     "output_type": "execute_result"
    }
   ],
   "source": [
    "len(dl)"
   ]
  },
  {
   "cell_type": "markdown",
   "metadata": {
    "ExecuteTime": {
     "end_time": "2018-11-03T01:06:46.878487Z",
     "start_time": "2018-11-03T01:06:46.784487Z"
    }
   },
   "source": [
    "Working df ready. Now infer location."
   ]
  },
  {
   "cell_type": "code",
   "execution_count": 10,
   "metadata": {
    "ExecuteTime": {
     "end_time": "2019-04-18T04:32:35.595708Z",
     "start_time": "2019-04-18T04:32:35.590707Z"
    }
   },
   "outputs": [],
   "source": [
    "to_geo=[i.split(',') for i in dl['actual_locs'].unique() if str(i)!='nan']"
   ]
  },
  {
   "cell_type": "code",
   "execution_count": 11,
   "metadata": {
    "ExecuteTime": {
     "end_time": "2019-04-18T04:32:35.790713Z",
     "start_time": "2019-04-18T04:32:35.785710Z"
    }
   },
   "outputs": [],
   "source": [
    "to_geo=[i.strip() for i in list(itertools.chain.from_iterable(to_geo))]"
   ]
  },
  {
   "cell_type": "markdown",
   "metadata": {},
   "source": [
    "Load HU names"
   ]
  },
  {
   "cell_type": "code",
   "execution_count": 12,
   "metadata": {
    "ExecuteTime": {
     "end_time": "2019-04-18T04:32:36.208711Z",
     "start_time": "2019-04-18T04:32:36.171710Z"
    }
   },
   "outputs": [],
   "source": [
    "coords=json.loads(open('geo/huncoords.json','r').read())\n",
    "megyek=json.loads(open('geo/megyek.json','r').read())"
   ]
  },
  {
   "cell_type": "code",
   "execution_count": 13,
   "metadata": {
    "ExecuteTime": {
     "end_time": "2019-04-18T04:32:36.479710Z",
     "start_time": "2019-04-18T04:32:36.439714Z"
    }
   },
   "outputs": [],
   "source": [
    "data=[]\n",
    "header=['index']\n",
    "for i in dl.iteritems():\n",
    "    header.append(i[0])\n",
    "header.append('geo_loc')\n",
    "header.append('latitude')\n",
    "header.append('longitude')\n",
    "header.append('id')\n",
    "for i in dl.T.iteritems():\n",
    "    dummy=[i[0]]\n",
    "    for j in range(len(i[1])):\n",
    "        if j==(len(i[1])-1):\n",
    "            dummy.append(i[1][j])\n",
    "            dummy.append('')\n",
    "            dummy.append('')\n",
    "            dummy.append('')\n",
    "            dummy.append('')\n",
    "            dtime=str(dummy[1])[:10]\n",
    "            if dtime=='nan': dtime=u'N/A' \n",
    "            if str(i[1][j])!='nan':    \n",
    "                for k in i[1][j].split(','):\n",
    "                    tk=k.strip().replace('[','').replace(']','').replace(\"'\",'')\n",
    "                    dummy[-4]=tk\n",
    "                    if tk in coords:\n",
    "                        dummy[-3]=coords[tk][0]\n",
    "                        dummy[-2]=coords[tk][1]\n",
    "                    else:\n",
    "                        dummy[-3]=''\n",
    "                        dummy[-2]=''\n",
    "                    #dummy[-1]=str(dummy[-3])+' ('+str(dummy[0]+1)+')\\n'+dtime\n",
    "                    dummy[-1]=str(dummy[-4])+', '+dtime\n",
    "                    data.append(list(dummy))                    \n",
    "            else:\n",
    "                dummy[-1]=u'N/A' +', '+dtime\n",
    "                data.append(list(dummy))\n",
    "        else: \n",
    "            dummy.append(i[1][j])"
   ]
  },
  {
   "cell_type": "code",
   "execution_count": 14,
   "metadata": {
    "ExecuteTime": {
     "end_time": "2019-04-18T04:32:36.991710Z",
     "start_time": "2019-04-18T04:32:36.864711Z"
    }
   },
   "outputs": [
    {
     "data": {
      "text/html": [
       "<div>\n",
       "<style scoped>\n",
       "    .dataframe tbody tr th:only-of-type {\n",
       "        vertical-align: middle;\n",
       "    }\n",
       "\n",
       "    .dataframe tbody tr th {\n",
       "        vertical-align: top;\n",
       "    }\n",
       "\n",
       "    .dataframe thead th {\n",
       "        text-align: right;\n",
       "    }\n",
       "</style>\n",
       "<table border=\"1\" class=\"dataframe\">\n",
       "  <thead>\n",
       "    <tr style=\"text-align: right;\">\n",
       "      <th></th>\n",
       "      <th>index</th>\n",
       "      <th>Unnamed: 0</th>\n",
       "      <th>date</th>\n",
       "      <th>hudate</th>\n",
       "      <th>link</th>\n",
       "      <th>image</th>\n",
       "      <th>category</th>\n",
       "      <th>icategory</th>\n",
       "      <th>tags</th>\n",
       "      <th>title</th>\n",
       "      <th>...</th>\n",
       "      <th>relevant</th>\n",
       "      <th>severity</th>\n",
       "      <th>deaths</th>\n",
       "      <th>duplicate</th>\n",
       "      <th>predicted_locs</th>\n",
       "      <th>actual_locs</th>\n",
       "      <th>geo_loc</th>\n",
       "      <th>latitude</th>\n",
       "      <th>longitude</th>\n",
       "      <th>id</th>\n",
       "    </tr>\n",
       "  </thead>\n",
       "  <tbody>\n",
       "    <tr>\n",
       "      <th>0</th>\n",
       "      <td>Elpusztult egy medve Etéd határában, orvvadász...</td>\n",
       "      <td>0</td>\n",
       "      <td>2020-04-27</td>\n",
       "      <td>2020. április 27.</td>\n",
       "      <td>https://szekelyhon.ro/aktualis/elpusztult-egy-...</td>\n",
       "      <td>https://media.szekelyhon.ro/pictures/udvarhely...</td>\n",
       "      <td>aktualis</td>\n",
       "      <td>udvarhely</td>\n",
       "      <td>['Etéd']</td>\n",
       "      <td>Elpusztult egy medve Etéd határában, orvvadász...</td>\n",
       "      <td>...</td>\n",
       "      <td>1</td>\n",
       "      <td>2</td>\n",
       "      <td>0</td>\n",
       "      <td>0</td>\n",
       "      <td>Etéd</td>\n",
       "      <td>Etéd</td>\n",
       "      <td>Etéd</td>\n",
       "      <td>46.4484</td>\n",
       "      <td>25.0532</td>\n",
       "      <td>Etéd, 0</td>\n",
       "    </tr>\n",
       "    <tr>\n",
       "      <th>1</th>\n",
       "      <td>Célkeresztben a „medvetörvény” – a vadászok sz...</td>\n",
       "      <td>1</td>\n",
       "      <td>2020-05-04</td>\n",
       "      <td>2020. május 04.</td>\n",
       "      <td>https://szekelyhon.ro/aktualis/celkeresztben-a...</td>\n",
       "      <td>https://media.szekelyhon.ro/pictures/udvarhely...</td>\n",
       "      <td>aktualis</td>\n",
       "      <td>udvarhely</td>\n",
       "      <td>['Hargita megye', 'Háromszék', 'Marosszék']</td>\n",
       "      <td>Célkeresztben a „medvetörvény” – a vadászok sz...</td>\n",
       "      <td>...</td>\n",
       "      <td>1</td>\n",
       "      <td>0</td>\n",
       "      <td>0</td>\n",
       "      <td>0</td>\n",
       "      <td>Haraly</td>\n",
       "      <td>NaN</td>\n",
       "      <td></td>\n",
       "      <td></td>\n",
       "      <td></td>\n",
       "      <td>N/A, 1</td>\n",
       "    </tr>\n",
       "    <tr>\n",
       "      <th>2</th>\n",
       "      <td>Tehetetlenek a lakók, az ablakból kénytelenek ...</td>\n",
       "      <td>2</td>\n",
       "      <td>2020-05-05</td>\n",
       "      <td>2020. május 05.</td>\n",
       "      <td>https://szekelyhon.ro/aktualis/tehetetlenek-a-...</td>\n",
       "      <td>https://media.szekelyhon.ro/pictures/udvarhely...</td>\n",
       "      <td>aktualis</td>\n",
       "      <td>udvarhely</td>\n",
       "      <td>['Háromszék', 'medve']</td>\n",
       "      <td>Tehetetlenek a lakók, az ablakból kénytelenek ...</td>\n",
       "      <td>...</td>\n",
       "      <td>1</td>\n",
       "      <td>3</td>\n",
       "      <td>0</td>\n",
       "      <td>0</td>\n",
       "      <td>['Ádámos', 'Zágon']</td>\n",
       "      <td>Zágon</td>\n",
       "      <td>Zágon</td>\n",
       "      <td>45.7717</td>\n",
       "      <td>26.1243</td>\n",
       "      <td>Zágon, 2</td>\n",
       "    </tr>\n",
       "    <tr>\n",
       "      <th>3</th>\n",
       "      <td>Három juhot ölt meg a medve egy farcádi gazda ...</td>\n",
       "      <td>3</td>\n",
       "      <td>2020-05-05</td>\n",
       "      <td>2020. május 05.</td>\n",
       "      <td>https://szekelyhon.ro/aktualis/harom-juhot-olt...</td>\n",
       "      <td>https://media.szekelyhon.ro/pictures/vasarhely...</td>\n",
       "      <td>aktualis</td>\n",
       "      <td>vasarhely</td>\n",
       "      <td>['Felsőboldogfalva', 'medve']</td>\n",
       "      <td>Három juhot ölt meg a medve egy farcádi gazda ...</td>\n",
       "      <td>...</td>\n",
       "      <td>1</td>\n",
       "      <td>3</td>\n",
       "      <td>3</td>\n",
       "      <td>0</td>\n",
       "      <td>['Felsőboldogfalva', 'Farcád']</td>\n",
       "      <td>Farcád</td>\n",
       "      <td>Farcád</td>\n",
       "      <td>46.3071</td>\n",
       "      <td>25.2361</td>\n",
       "      <td>Farcád, 3</td>\n",
       "    </tr>\n",
       "    <tr>\n",
       "      <th>4</th>\n",
       "      <td>Áthelyezik egy másik területre a Tusnádfürdőre...</td>\n",
       "      <td>4</td>\n",
       "      <td>2020-05-08</td>\n",
       "      <td>2020. május 08.</td>\n",
       "      <td>https://szekelyhon.ro/aktualis/athelyezik-egy-...</td>\n",
       "      <td>https://media.szekelyhon.ro/pictures/csik/aktu...</td>\n",
       "      <td>aktualis</td>\n",
       "      <td>csik</td>\n",
       "      <td>['medve', 'Tusnádfürdő']</td>\n",
       "      <td>Áthelyezik egy másik területre a Tusnádfürdőre...</td>\n",
       "      <td>...</td>\n",
       "      <td>1</td>\n",
       "      <td>0</td>\n",
       "      <td>0</td>\n",
       "      <td>0</td>\n",
       "      <td>Tusnádfürdő</td>\n",
       "      <td>Tusnádfürdő</td>\n",
       "      <td>Tusnádfürdő</td>\n",
       "      <td>46.1461</td>\n",
       "      <td>25.857</td>\n",
       "      <td>Tusnádfürdő, 4</td>\n",
       "    </tr>\n",
       "    <tr>\n",
       "      <th>5</th>\n",
       "      <td>Medvék miatt riasztották a hatóságokat és ébre...</td>\n",
       "      <td>5</td>\n",
       "      <td>2020-05-11</td>\n",
       "      <td>2020. május 11.</td>\n",
       "      <td>https://szekelyhon.ro/aktualis/medvek-miatt-ri...</td>\n",
       "      <td>https://media.szekelyhon.ro/pictures/123rf/202...</td>\n",
       "      <td>aktualis</td>\n",
       "      <td>123rf</td>\n",
       "      <td>['Gyergyószék', 'medve', 'Udvarhelyszék']</td>\n",
       "      <td>Medvék miatt riasztották a hatóságokat és ébre...</td>\n",
       "      <td>...</td>\n",
       "      <td>1</td>\n",
       "      <td>2</td>\n",
       "      <td>0</td>\n",
       "      <td>0</td>\n",
       "      <td>Vasláb</td>\n",
       "      <td>Vasláb</td>\n",
       "      <td>Vasláb</td>\n",
       "      <td>46.6461</td>\n",
       "      <td>25.6237</td>\n",
       "      <td>Vasláb, 5</td>\n",
       "    </tr>\n",
       "    <tr>\n",
       "      <th>6</th>\n",
       "      <td>Külön megelőzési kvótát és a medvekárok kifize...</td>\n",
       "      <td>6</td>\n",
       "      <td>2020-05-12</td>\n",
       "      <td>2020. május 12.</td>\n",
       "      <td>https://szekelyhon.ro/aktualis/kulon-megelozes...</td>\n",
       "      <td>https://media.szekelyhon.ro/pictures/udvarhely...</td>\n",
       "      <td>aktualis</td>\n",
       "      <td>udvarhely</td>\n",
       "      <td>['Kovászna megye', 'medve']</td>\n",
       "      <td>Külön megelőzési kvótát és a medvekárok kifize...</td>\n",
       "      <td>...</td>\n",
       "      <td>1</td>\n",
       "      <td>0</td>\n",
       "      <td>0</td>\n",
       "      <td>0</td>\n",
       "      <td>NaN</td>\n",
       "      <td>NaN</td>\n",
       "      <td></td>\n",
       "      <td></td>\n",
       "      <td></td>\n",
       "      <td>N/A, 6</td>\n",
       "    </tr>\n",
       "    <tr>\n",
       "      <th>7</th>\n",
       "      <td>A kormorán lekerülhet a védett fajok listájáró...</td>\n",
       "      <td>7</td>\n",
       "      <td>2020-05-13</td>\n",
       "      <td>2020. május 13.</td>\n",
       "      <td>https://szekelyhon.ro/vilag/a-kormoran-lekerul...</td>\n",
       "      <td>https://media.szekelyhon.ro/pictures/csik/aktu...</td>\n",
       "      <td>vilag</td>\n",
       "      <td>csik</td>\n",
       "      <td>['Belföld', 'medve']</td>\n",
       "      <td>A kormorán lekerülhet a védett fajok listájáró...</td>\n",
       "      <td>...</td>\n",
       "      <td>1</td>\n",
       "      <td>0</td>\n",
       "      <td>0</td>\n",
       "      <td>0</td>\n",
       "      <td>NaN</td>\n",
       "      <td>NaN</td>\n",
       "      <td></td>\n",
       "      <td></td>\n",
       "      <td></td>\n",
       "      <td>N/A, 7</td>\n",
       "    </tr>\n",
       "    <tr>\n",
       "      <th>8</th>\n",
       "      <td>Medve hatolt be egy tusnádfürdői portáraEgy tu...</td>\n",
       "      <td>8</td>\n",
       "      <td>2020-05-15</td>\n",
       "      <td>2020. május 15.</td>\n",
       "      <td>https://szekelyhon.ro/aktualis/medve-hatolt-be...</td>\n",
       "      <td>https://media.szekelyhon.ro/pictures/csik/aktu...</td>\n",
       "      <td>aktualis</td>\n",
       "      <td>csik</td>\n",
       "      <td>['medve', 'Tusnád']</td>\n",
       "      <td>Medve hatolt be egy tusnádfürdői portára</td>\n",
       "      <td>...</td>\n",
       "      <td>1</td>\n",
       "      <td>1</td>\n",
       "      <td>0</td>\n",
       "      <td>0</td>\n",
       "      <td>['Tusnád', 'Tusnádfürdő']</td>\n",
       "      <td>Tusnádfürdő</td>\n",
       "      <td>Tusnádfürdő</td>\n",
       "      <td>46.1461</td>\n",
       "      <td>25.857</td>\n",
       "      <td>Tusnádfürdő, 8</td>\n",
       "    </tr>\n",
       "    <tr>\n",
       "      <th>9</th>\n",
       "      <td>Hárombocsos anyamedve bukkant fel Gyergyószent...</td>\n",
       "      <td>9</td>\n",
       "      <td>2020-05-15</td>\n",
       "      <td>2020. május 15.</td>\n",
       "      <td>https://szekelyhon.ro/aktualis/harombocsos-any...</td>\n",
       "      <td>https://media.szekelyhon.ro/pictures/csik/aktu...</td>\n",
       "      <td>aktualis</td>\n",
       "      <td>csik</td>\n",
       "      <td>['Gyergyószentmiklós', 'medve']</td>\n",
       "      <td>Hárombocsos anyamedve bukkant fel Gyergyószent...</td>\n",
       "      <td>...</td>\n",
       "      <td>1</td>\n",
       "      <td>1</td>\n",
       "      <td>0</td>\n",
       "      <td>0</td>\n",
       "      <td>Gyergyószentmiklós</td>\n",
       "      <td>Gyergyószentmiklós</td>\n",
       "      <td>Gyergyószentmiklós</td>\n",
       "      <td>46.7212</td>\n",
       "      <td>25.5855</td>\n",
       "      <td>Gyergyószentmiklós, 9</td>\n",
       "    </tr>\n",
       "    <tr>\n",
       "      <th>10</th>\n",
       "      <td>Boncolás után úgy vélik, autó üthette el az el...</td>\n",
       "      <td>10</td>\n",
       "      <td>2020-05-18</td>\n",
       "      <td>2020. május 18.</td>\n",
       "      <td>https://szekelyhon.ro/aktualis/boncolas-utan-u...</td>\n",
       "      <td>https://media.szekelyhon.ro/pictures/udvarhely...</td>\n",
       "      <td>aktualis</td>\n",
       "      <td>udvarhely</td>\n",
       "      <td>['medve', 'Udvarhelyszék']</td>\n",
       "      <td>Boncolás után úgy vélik, autó üthette el az el...</td>\n",
       "      <td>...</td>\n",
       "      <td>1</td>\n",
       "      <td>1</td>\n",
       "      <td>0</td>\n",
       "      <td>0</td>\n",
       "      <td>['Kőrispatak', 'Kispatak']</td>\n",
       "      <td>Kőrispatak</td>\n",
       "      <td>Kőrispatak</td>\n",
       "      <td>46.4178</td>\n",
       "      <td>24.9704</td>\n",
       "      <td>Kőrispatak, 10</td>\n",
       "    </tr>\n",
       "    <tr>\n",
       "      <th>11</th>\n",
       "      <td>A villanypásztor sem állította meg a medvétNem...</td>\n",
       "      <td>11</td>\n",
       "      <td>2020-05-25</td>\n",
       "      <td>2020. május 25.</td>\n",
       "      <td>https://szekelyhon.ro/aktualis/a-villanypaszto...</td>\n",
       "      <td>https://media.szekelyhon.ro/pictures/udvarhely...</td>\n",
       "      <td>aktualis</td>\n",
       "      <td>udvarhely</td>\n",
       "      <td>['Etéd', 'medve']</td>\n",
       "      <td>A villanypásztor sem állította meg a medvét</td>\n",
       "      <td>...</td>\n",
       "      <td>1</td>\n",
       "      <td>3</td>\n",
       "      <td>1</td>\n",
       "      <td>0</td>\n",
       "      <td>Etéd</td>\n",
       "      <td>Etéd</td>\n",
       "      <td>Etéd</td>\n",
       "      <td>46.4484</td>\n",
       "      <td>25.0532</td>\n",
       "      <td>Etéd, 11</td>\n",
       "    </tr>\n",
       "  </tbody>\n",
       "</table>\n",
       "<p>12 rows × 21 columns</p>\n",
       "</div>"
      ],
      "text/plain": [
       "                                                index  Unnamed: 0       date  \\\n",
       "0   Elpusztult egy medve Etéd határában, orvvadász...           0 2020-04-27   \n",
       "1   Célkeresztben a „medvetörvény” – a vadászok sz...           1 2020-05-04   \n",
       "2   Tehetetlenek a lakók, az ablakból kénytelenek ...           2 2020-05-05   \n",
       "3   Három juhot ölt meg a medve egy farcádi gazda ...           3 2020-05-05   \n",
       "4   Áthelyezik egy másik területre a Tusnádfürdőre...           4 2020-05-08   \n",
       "5   Medvék miatt riasztották a hatóságokat és ébre...           5 2020-05-11   \n",
       "6   Külön megelőzési kvótát és a medvekárok kifize...           6 2020-05-12   \n",
       "7   A kormorán lekerülhet a védett fajok listájáró...           7 2020-05-13   \n",
       "8   Medve hatolt be egy tusnádfürdői portáraEgy tu...           8 2020-05-15   \n",
       "9   Hárombocsos anyamedve bukkant fel Gyergyószent...           9 2020-05-15   \n",
       "10  Boncolás után úgy vélik, autó üthette el az el...          10 2020-05-18   \n",
       "11  A villanypásztor sem állította meg a medvétNem...          11 2020-05-25   \n",
       "\n",
       "               hudate                                               link  \\\n",
       "0   2020. április 27.  https://szekelyhon.ro/aktualis/elpusztult-egy-...   \n",
       "1     2020. május 04.  https://szekelyhon.ro/aktualis/celkeresztben-a...   \n",
       "2     2020. május 05.  https://szekelyhon.ro/aktualis/tehetetlenek-a-...   \n",
       "3     2020. május 05.  https://szekelyhon.ro/aktualis/harom-juhot-olt...   \n",
       "4     2020. május 08.  https://szekelyhon.ro/aktualis/athelyezik-egy-...   \n",
       "5     2020. május 11.  https://szekelyhon.ro/aktualis/medvek-miatt-ri...   \n",
       "6     2020. május 12.  https://szekelyhon.ro/aktualis/kulon-megelozes...   \n",
       "7     2020. május 13.  https://szekelyhon.ro/vilag/a-kormoran-lekerul...   \n",
       "8     2020. május 15.  https://szekelyhon.ro/aktualis/medve-hatolt-be...   \n",
       "9     2020. május 15.  https://szekelyhon.ro/aktualis/harombocsos-any...   \n",
       "10    2020. május 18.  https://szekelyhon.ro/aktualis/boncolas-utan-u...   \n",
       "11    2020. május 25.  https://szekelyhon.ro/aktualis/a-villanypaszto...   \n",
       "\n",
       "                                                image  category  icategory  \\\n",
       "0   https://media.szekelyhon.ro/pictures/udvarhely...  aktualis  udvarhely   \n",
       "1   https://media.szekelyhon.ro/pictures/udvarhely...  aktualis  udvarhely   \n",
       "2   https://media.szekelyhon.ro/pictures/udvarhely...  aktualis  udvarhely   \n",
       "3   https://media.szekelyhon.ro/pictures/vasarhely...  aktualis  vasarhely   \n",
       "4   https://media.szekelyhon.ro/pictures/csik/aktu...  aktualis       csik   \n",
       "5   https://media.szekelyhon.ro/pictures/123rf/202...  aktualis      123rf   \n",
       "6   https://media.szekelyhon.ro/pictures/udvarhely...  aktualis  udvarhely   \n",
       "7   https://media.szekelyhon.ro/pictures/csik/aktu...     vilag       csik   \n",
       "8   https://media.szekelyhon.ro/pictures/csik/aktu...  aktualis       csik   \n",
       "9   https://media.szekelyhon.ro/pictures/csik/aktu...  aktualis       csik   \n",
       "10  https://media.szekelyhon.ro/pictures/udvarhely...  aktualis  udvarhely   \n",
       "11  https://media.szekelyhon.ro/pictures/udvarhely...  aktualis  udvarhely   \n",
       "\n",
       "                                           tags  \\\n",
       "0                                      ['Etéd']   \n",
       "1   ['Hargita megye', 'Háromszék', 'Marosszék']   \n",
       "2                        ['Háromszék', 'medve']   \n",
       "3                 ['Felsőboldogfalva', 'medve']   \n",
       "4                      ['medve', 'Tusnádfürdő']   \n",
       "5     ['Gyergyószék', 'medve', 'Udvarhelyszék']   \n",
       "6                   ['Kovászna megye', 'medve']   \n",
       "7                          ['Belföld', 'medve']   \n",
       "8                           ['medve', 'Tusnád']   \n",
       "9               ['Gyergyószentmiklós', 'medve']   \n",
       "10                   ['medve', 'Udvarhelyszék']   \n",
       "11                            ['Etéd', 'medve']   \n",
       "\n",
       "                                                title  ... relevant  severity  \\\n",
       "0   Elpusztult egy medve Etéd határában, orvvadász...  ...        1         2   \n",
       "1   Célkeresztben a „medvetörvény” – a vadászok sz...  ...        1         0   \n",
       "2   Tehetetlenek a lakók, az ablakból kénytelenek ...  ...        1         3   \n",
       "3   Három juhot ölt meg a medve egy farcádi gazda ...  ...        1         3   \n",
       "4   Áthelyezik egy másik területre a Tusnádfürdőre...  ...        1         0   \n",
       "5   Medvék miatt riasztották a hatóságokat és ébre...  ...        1         2   \n",
       "6   Külön megelőzési kvótát és a medvekárok kifize...  ...        1         0   \n",
       "7   A kormorán lekerülhet a védett fajok listájáró...  ...        1         0   \n",
       "8            Medve hatolt be egy tusnádfürdői portára  ...        1         1   \n",
       "9   Hárombocsos anyamedve bukkant fel Gyergyószent...  ...        1         1   \n",
       "10  Boncolás után úgy vélik, autó üthette el az el...  ...        1         1   \n",
       "11        A villanypásztor sem állította meg a medvét  ...        1         3   \n",
       "\n",
       "    deaths  duplicate                  predicted_locs         actual_locs  \\\n",
       "0        0          0                            Etéd                Etéd   \n",
       "1        0          0                          Haraly                 NaN   \n",
       "2        0          0             ['Ádámos', 'Zágon']               Zágon   \n",
       "3        3          0  ['Felsőboldogfalva', 'Farcád']              Farcád   \n",
       "4        0          0                     Tusnádfürdő         Tusnádfürdő   \n",
       "5        0          0                          Vasláb              Vasláb   \n",
       "6        0          0                             NaN                 NaN   \n",
       "7        0          0                             NaN                 NaN   \n",
       "8        0          0       ['Tusnád', 'Tusnádfürdő']         Tusnádfürdő   \n",
       "9        0          0              Gyergyószentmiklós  Gyergyószentmiklós   \n",
       "10       0          0      ['Kőrispatak', 'Kispatak']          Kőrispatak   \n",
       "11       1          0                            Etéd                Etéd   \n",
       "\n",
       "               geo_loc latitude longitude                     id  \n",
       "0                 Etéd  46.4484   25.0532                Etéd, 0  \n",
       "1                                                         N/A, 1  \n",
       "2                Zágon  45.7717   26.1243               Zágon, 2  \n",
       "3               Farcád  46.3071   25.2361              Farcád, 3  \n",
       "4          Tusnádfürdő  46.1461    25.857         Tusnádfürdő, 4  \n",
       "5               Vasláb  46.6461   25.6237              Vasláb, 5  \n",
       "6                                                         N/A, 6  \n",
       "7                                                         N/A, 7  \n",
       "8          Tusnádfürdő  46.1461    25.857         Tusnádfürdő, 8  \n",
       "9   Gyergyószentmiklós  46.7212   25.5855  Gyergyószentmiklós, 9  \n",
       "10          Kőrispatak  46.4178   24.9704         Kőrispatak, 10  \n",
       "11                Etéd  46.4484   25.0532               Etéd, 11  \n",
       "\n",
       "[12 rows x 21 columns]"
      ]
     },
     "execution_count": 14,
     "metadata": {},
     "output_type": "execute_result"
    }
   ],
   "source": [
    "df=pd.DataFrame(data)\n",
    "df.columns=header\n",
    "df"
   ]
  },
  {
   "cell_type": "markdown",
   "metadata": {},
   "source": [
    "Save data for loading in viz app"
   ]
  },
  {
   "cell_type": "code",
   "execution_count": 15,
   "metadata": {
    "ExecuteTime": {
     "end_time": "2019-04-18T04:33:06.297709Z",
     "start_time": "2019-04-18T04:33:06.289711Z"
    }
   },
   "outputs": [],
   "source": [
    "df['checked']=''\n",
    "df['exact_loc']=0\n",
    "df['source']='Székelyhon'"
   ]
  },
  {
   "cell_type": "code",
   "execution_count": 16,
   "metadata": {
    "ExecuteTime": {
     "end_time": "2019-04-18T04:33:06.786724Z",
     "start_time": "2019-04-18T04:33:06.769712Z"
    }
   },
   "outputs": [],
   "source": [
    "df=df[['checked',\n",
    "    'date',\n",
    "    'link',\n",
    "    'image',\n",
    "    'source',\n",
    "    'title',\n",
    "    'content',\n",
    "    'relevant',\n",
    "    'severity',\n",
    "    'deaths',\n",
    "    'duplicate',\n",
    "    'geo_loc',\n",
    "    'exact_loc',\n",
    "    'latitude',\n",
    "    'longitude']].set_index('checked')"
   ]
  },
  {
   "cell_type": "code",
   "execution_count": 17,
   "metadata": {
    "ExecuteTime": {
     "end_time": "2019-04-18T04:33:07.955716Z",
     "start_time": "2019-04-18T04:33:07.743723Z"
    }
   },
   "outputs": [],
   "source": [
    "#PowerBI exploration data\n",
    "df.to_excel('data/szekelyhon_data.xlsx')"
   ]
  },
  {
   "cell_type": "code",
   "execution_count": null,
   "metadata": {},
   "outputs": [],
   "source": []
  }
 ],
 "metadata": {
  "kernelspec": {
   "display_name": "Python 3",
   "language": "python",
   "name": "python3"
  },
  "language_info": {
   "codemirror_mode": {
    "name": "ipython",
    "version": 3
   },
   "file_extension": ".py",
   "mimetype": "text/x-python",
   "name": "python",
   "nbconvert_exporter": "python",
   "pygments_lexer": "ipython3",
   "version": "3.7.4"
  },
  "toc": {
   "base_numbering": 1,
   "nav_menu": {},
   "number_sections": true,
   "sideBar": true,
   "skip_h1_title": false,
   "title_cell": "Table of Contents",
   "title_sidebar": "Contents",
   "toc_cell": false,
   "toc_position": {},
   "toc_section_display": true,
   "toc_window_display": false
  }
 },
 "nbformat": 4,
 "nbformat_minor": 4
}
