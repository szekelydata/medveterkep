{
 "cells": [
  {
   "cell_type": "code",
   "execution_count": 1,
   "metadata": {
    "ExecuteTime": {
     "end_time": "2019-04-18T04:32:34.216709Z",
     "start_time": "2019-04-18T04:32:34.210710Z"
    }
   },
   "outputs": [],
   "source": [
    "import pandas as pd, numpy as np\n",
    "import itertools, requests, json"
   ]
  },
  {
   "cell_type": "code",
   "execution_count": 2,
   "metadata": {
    "ExecuteTime": {
     "end_time": "2019-04-18T04:32:34.425705Z",
     "start_time": "2019-04-18T04:32:34.359710Z"
    }
   },
   "outputs": [],
   "source": [
    "dm=pd.read_excel('data/szekelyhon_medve.xlsx')\n",
    "dc=pd.read_excel('data/szekelyhon_medve_curated.xlsx')\n",
    "lm=pd.read_excel('data/szekelyhon_locs_curated.xlsx')"
   ]
  },
  {
   "cell_type": "code",
   "execution_count": 3,
   "metadata": {
    "ExecuteTime": {
     "end_time": "2019-04-18T04:32:34.519710Z",
     "start_time": "2019-04-18T04:32:34.509717Z"
    }
   },
   "outputs": [],
   "source": [
    "dc=dc[(dc['duplicate']!=1)&(dc['relevant']==1)]"
   ]
  },
  {
   "cell_type": "code",
   "execution_count": 4,
   "metadata": {
    "ExecuteTime": {
     "end_time": "2019-04-18T04:32:34.668713Z",
     "start_time": "2019-04-18T04:32:34.653710Z"
    }
   },
   "outputs": [],
   "source": [
    "dc[\"uid\"] = dc[\"title\"].map(str) + dc[\"content\"]\n",
    "dm[\"uid\"] = dm[\"title\"].map(str) + dm[\"content\"]\n",
    "lm[\"uid\"] = lm[\"title\"].map(str) + lm[\"content\"]"
   ]
  },
  {
   "cell_type": "code",
   "execution_count": 5,
   "metadata": {
    "ExecuteTime": {
     "end_time": "2019-04-18T04:32:34.807714Z",
     "start_time": "2019-04-18T04:32:34.795706Z"
    }
   },
   "outputs": [],
   "source": [
    "dc=dc.set_index('uid')[['relevant','severity','deaths','duplicate']]\n",
    "dm=dm.set_index('uid')\n",
    "lm=lm.set_index('uid')[['predicted_locs','actual_locs']]"
   ]
  },
  {
   "cell_type": "code",
   "execution_count": 6,
   "metadata": {
    "ExecuteTime": {
     "end_time": "2019-04-18T04:32:34.945711Z",
     "start_time": "2019-04-18T04:32:34.938708Z"
    }
   },
   "outputs": [],
   "source": [
    "dmi=dm.loc[dc.index.dropna()]"
   ]
  },
  {
   "cell_type": "code",
   "execution_count": 7,
   "metadata": {
    "ExecuteTime": {
     "end_time": "2019-04-18T04:32:35.125710Z",
     "start_time": "2019-04-18T04:32:35.094712Z"
    }
   },
   "outputs": [],
   "source": [
    "df=dmi.join(dc).drop_duplicates()"
   ]
  },
  {
   "cell_type": "code",
   "execution_count": 8,
   "metadata": {
    "ExecuteTime": {
     "end_time": "2019-04-18T04:32:35.264708Z",
     "start_time": "2019-04-18T04:32:35.247713Z"
    }
   },
   "outputs": [],
   "source": [
    "dl=df.join(lm)"
   ]
  },
  {
   "cell_type": "code",
   "execution_count": 9,
   "metadata": {},
   "outputs": [
    {
     "data": {
      "text/plain": [
       "9"
      ]
     },
     "execution_count": 9,
     "metadata": {},
     "output_type": "execute_result"
    }
   ],
   "source": [
    "len(dl)"
   ]
  },
  {
   "cell_type": "markdown",
   "metadata": {
    "ExecuteTime": {
     "end_time": "2018-11-03T01:06:46.878487Z",
     "start_time": "2018-11-03T01:06:46.784487Z"
    }
   },
   "source": [
    "Working df ready. Now infer location."
   ]
  },
  {
   "cell_type": "code",
   "execution_count": 10,
   "metadata": {
    "ExecuteTime": {
     "end_time": "2019-04-18T04:32:35.595708Z",
     "start_time": "2019-04-18T04:32:35.590707Z"
    }
   },
   "outputs": [],
   "source": [
    "to_geo=[i.split(',') for i in dl['actual_locs'].unique() if str(i)!='nan']"
   ]
  },
  {
   "cell_type": "code",
   "execution_count": 11,
   "metadata": {
    "ExecuteTime": {
     "end_time": "2019-04-18T04:32:35.790713Z",
     "start_time": "2019-04-18T04:32:35.785710Z"
    }
   },
   "outputs": [],
   "source": [
    "to_geo=[i.strip() for i in list(itertools.chain.from_iterable(to_geo))]"
   ]
  },
  {
   "cell_type": "markdown",
   "metadata": {},
   "source": [
    "Load HU names"
   ]
  },
  {
   "cell_type": "code",
   "execution_count": 12,
   "metadata": {
    "ExecuteTime": {
     "end_time": "2019-04-18T04:32:36.208711Z",
     "start_time": "2019-04-18T04:32:36.171710Z"
    }
   },
   "outputs": [],
   "source": [
    "coords=json.loads(open('geo/huncoords.json','r').read())\n",
    "megyek=json.loads(open('geo/megyek.json','r').read())"
   ]
  },
  {
   "cell_type": "code",
   "execution_count": 13,
   "metadata": {
    "ExecuteTime": {
     "end_time": "2019-04-18T04:32:36.479710Z",
     "start_time": "2019-04-18T04:32:36.439714Z"
    }
   },
   "outputs": [],
   "source": [
    "data=[]\n",
    "header=['index']\n",
    "for i in dl.iteritems():\n",
    "    header.append(i[0])\n",
    "header.append('geo_loc')\n",
    "header.append('latitude')\n",
    "header.append('longitude')\n",
    "header.append('id')\n",
    "for i in dl.T.iteritems():\n",
    "    dummy=[i[0]]\n",
    "    for j in range(len(i[1])):\n",
    "        if j==(len(i[1])-1):\n",
    "            dummy.append(i[1][j])\n",
    "            dummy.append('')\n",
    "            dummy.append('')\n",
    "            dummy.append('')\n",
    "            dummy.append('')\n",
    "            dtime=str(dummy[1])[:10]\n",
    "            if dtime=='nan': dtime=u'N/A' \n",
    "            if str(i[1][j])!='nan':    \n",
    "                for k in i[1][j].split(','):\n",
    "                    tk=k.strip().replace('[','').replace(']','').replace(\"'\",'')\n",
    "                    dummy[-4]=tk\n",
    "                    if tk in coords:\n",
    "                        dummy[-3]=coords[tk][0]\n",
    "                        dummy[-2]=coords[tk][1]\n",
    "                    else:\n",
    "                        dummy[-3]=''\n",
    "                        dummy[-2]=''\n",
    "                    #dummy[-1]=str(dummy[-3])+' ('+str(dummy[0]+1)+')\\n'+dtime\n",
    "                    dummy[-1]=str(dummy[-4])+', '+dtime\n",
    "                    data.append(list(dummy))                    \n",
    "            else:\n",
    "                dummy[-1]=u'N/A' +', '+dtime\n",
    "                data.append(list(dummy))\n",
    "        else: \n",
    "            dummy.append(i[1][j])"
   ]
  },
  {
   "cell_type": "code",
   "execution_count": 14,
   "metadata": {
    "ExecuteTime": {
     "end_time": "2019-04-18T04:32:36.991710Z",
     "start_time": "2019-04-18T04:32:36.864711Z"
    }
   },
   "outputs": [
    {
     "data": {
      "text/html": [
       "<div>\n",
       "<style scoped>\n",
       "    .dataframe tbody tr th:only-of-type {\n",
       "        vertical-align: middle;\n",
       "    }\n",
       "\n",
       "    .dataframe tbody tr th {\n",
       "        vertical-align: top;\n",
       "    }\n",
       "\n",
       "    .dataframe thead th {\n",
       "        text-align: right;\n",
       "    }\n",
       "</style>\n",
       "<table border=\"1\" class=\"dataframe\">\n",
       "  <thead>\n",
       "    <tr style=\"text-align: right;\">\n",
       "      <th></th>\n",
       "      <th>index</th>\n",
       "      <th>Unnamed: 0</th>\n",
       "      <th>date</th>\n",
       "      <th>hudate</th>\n",
       "      <th>link</th>\n",
       "      <th>image</th>\n",
       "      <th>category</th>\n",
       "      <th>icategory</th>\n",
       "      <th>tags</th>\n",
       "      <th>title</th>\n",
       "      <th>...</th>\n",
       "      <th>relevant</th>\n",
       "      <th>severity</th>\n",
       "      <th>deaths</th>\n",
       "      <th>duplicate</th>\n",
       "      <th>predicted_locs</th>\n",
       "      <th>actual_locs</th>\n",
       "      <th>geo_loc</th>\n",
       "      <th>latitude</th>\n",
       "      <th>longitude</th>\n",
       "      <th>id</th>\n",
       "    </tr>\n",
       "  </thead>\n",
       "  <tbody>\n",
       "    <tr>\n",
       "      <td>0</td>\n",
       "      <td>Medveprobléma: brüsszeli nyomásgyakorlásban bí...</td>\n",
       "      <td>0</td>\n",
       "      <td>2019-11-26</td>\n",
       "      <td>2019. november 26.</td>\n",
       "      <td>https://szekelyhon.ro/aktualis/medveproblema-b...</td>\n",
       "      <td>https://media.szekelyhon.ro/pictures/udvarhely...</td>\n",
       "      <td>aktualis</td>\n",
       "      <td>udvarhely</td>\n",
       "      <td>['Brassó megye', 'medve', 'Székelyföld']</td>\n",
       "      <td>Medveprobléma: brüsszeli nyomásgyakorlásban bí...</td>\n",
       "      <td>...</td>\n",
       "      <td>1</td>\n",
       "      <td>0</td>\n",
       "      <td>0</td>\n",
       "      <td>0</td>\n",
       "      <td>['Brassó', 'Kovászna']</td>\n",
       "      <td>Csíkszereda</td>\n",
       "      <td>Csíkszereda</td>\n",
       "      <td>46.3696</td>\n",
       "      <td>25.7954</td>\n",
       "      <td>Csíkszereda, 0</td>\n",
       "    </tr>\n",
       "    <tr>\n",
       "      <td>1</td>\n",
       "      <td>Sokkos állapotban került kórházba a medvetámad...</td>\n",
       "      <td>1</td>\n",
       "      <td>2019-11-26</td>\n",
       "      <td>2019. november 26.</td>\n",
       "      <td>https://szekelyhon.ro/aktualis/sokkos-allapotb...</td>\n",
       "      <td>https://media.szekelyhon.ro/pictures/udvarhely...</td>\n",
       "      <td>aktualis</td>\n",
       "      <td>udvarhely</td>\n",
       "      <td>['medve', 'Udvarhelyszék']</td>\n",
       "      <td>Sokkos állapotban került kórházba a medvetámad...</td>\n",
       "      <td>...</td>\n",
       "      <td>1</td>\n",
       "      <td>4</td>\n",
       "      <td>0</td>\n",
       "      <td>0</td>\n",
       "      <td>Hidegkút</td>\n",
       "      <td>Hidegkút</td>\n",
       "      <td>Hidegkút</td>\n",
       "      <td>46.3359</td>\n",
       "      <td>24.8941</td>\n",
       "      <td>Hidegkút, 1</td>\n",
       "    </tr>\n",
       "    <tr>\n",
       "      <td>2</td>\n",
       "      <td>Kilőnék a Hidegkúton emberre támadó medvétKérn...</td>\n",
       "      <td>2</td>\n",
       "      <td>2019-11-27</td>\n",
       "      <td>2019. november 27.</td>\n",
       "      <td>https://szekelyhon.ro/aktualis/kilonek-a-hideg...</td>\n",
       "      <td>https://media.szekelyhon.ro/pictures/udvarhely...</td>\n",
       "      <td>aktualis</td>\n",
       "      <td>udvarhely</td>\n",
       "      <td>['medve', 'Székelykeresztúr']</td>\n",
       "      <td>Kilőnék a Hidegkúton emberre támadó medvét</td>\n",
       "      <td>...</td>\n",
       "      <td>1</td>\n",
       "      <td>0</td>\n",
       "      <td>0</td>\n",
       "      <td>0</td>\n",
       "      <td>['Hidegkút', 'Székelykeresztúr']</td>\n",
       "      <td>Székelykeresztúr</td>\n",
       "      <td>Székelykeresztúr</td>\n",
       "      <td>46.2925</td>\n",
       "      <td>25.0317</td>\n",
       "      <td>Székelykeresztúr, 2</td>\n",
       "    </tr>\n",
       "    <tr>\n",
       "      <td>3</td>\n",
       "      <td>Szeben és Fehér megye is csatlakozott a „medve...</td>\n",
       "      <td>3</td>\n",
       "      <td>2019-11-28</td>\n",
       "      <td>2019. november 28.</td>\n",
       "      <td>https://szekelyhon.ro/aktualis/szeben-es-feher...</td>\n",
       "      <td>https://media.szekelyhon.ro/pictures/csik/aktu...</td>\n",
       "      <td>aktualis</td>\n",
       "      <td>csik</td>\n",
       "      <td>['Belföld', 'medve']</td>\n",
       "      <td>Szeben és Fehér megye is csatlakozott a „medve...</td>\n",
       "      <td>...</td>\n",
       "      <td>1</td>\n",
       "      <td>0</td>\n",
       "      <td>0</td>\n",
       "      <td>0</td>\n",
       "      <td>NaN</td>\n",
       "      <td>Szeben</td>\n",
       "      <td>Szeben</td>\n",
       "      <td></td>\n",
       "      <td></td>\n",
       "      <td>Szeben, 3</td>\n",
       "    </tr>\n",
       "    <tr>\n",
       "      <td>4</td>\n",
       "      <td>Megtérítik a gazdáknak az elmúlt három évben t...</td>\n",
       "      <td>4</td>\n",
       "      <td>2019-11-29</td>\n",
       "      <td>2019. november 29.</td>\n",
       "      <td>https://szekelyhon.ro/aktualis/megteritik-a-ga...</td>\n",
       "      <td>https://media.szekelyhon.ro/pictures/udvarhely...</td>\n",
       "      <td>aktualis</td>\n",
       "      <td>udvarhely</td>\n",
       "      <td>['Gazdaság', 'Hargita megye', 'medve']</td>\n",
       "      <td>Megtérítik a gazdáknak az elmúlt három évben t...</td>\n",
       "      <td>...</td>\n",
       "      <td>1</td>\n",
       "      <td>0</td>\n",
       "      <td>0</td>\n",
       "      <td>0</td>\n",
       "      <td>NaN</td>\n",
       "      <td>Csíkszereda</td>\n",
       "      <td>Csíkszereda</td>\n",
       "      <td>46.3696</td>\n",
       "      <td>25.7954</td>\n",
       "      <td>Csíkszereda, 4</td>\n",
       "    </tr>\n",
       "    <tr>\n",
       "      <td>5</td>\n",
       "      <td>Csíksomlyón jár a medve – figyelmeztet a Ro-Al...</td>\n",
       "      <td>5</td>\n",
       "      <td>2019-12-02</td>\n",
       "      <td>2019. december 02.</td>\n",
       "      <td>https://szekelyhon.ro/aktualis/csiksomlyon-jar...</td>\n",
       "      <td>https://media.szekelyhon.ro/pictures/csik/aktu...</td>\n",
       "      <td>aktualis</td>\n",
       "      <td>csik</td>\n",
       "      <td>['Csíksomlyó', 'medve']</td>\n",
       "      <td>Csíksomlyón jár a medve – figyelmeztet a Ro-Alert</td>\n",
       "      <td>...</td>\n",
       "      <td>1</td>\n",
       "      <td>1</td>\n",
       "      <td>0</td>\n",
       "      <td>0</td>\n",
       "      <td>Csíksomlyó</td>\n",
       "      <td>Csíksomlyó</td>\n",
       "      <td>Csíksomlyó</td>\n",
       "      <td>46.3753</td>\n",
       "      <td>25.8193</td>\n",
       "      <td>Csíksomlyó, 5</td>\n",
       "    </tr>\n",
       "    <tr>\n",
       "      <td>6</td>\n",
       "      <td>Kilőtték a medvét, amely május óta rettegésben...</td>\n",
       "      <td>6</td>\n",
       "      <td>2019-12-02</td>\n",
       "      <td>2019. december 02.</td>\n",
       "      <td>https://szekelyhon.ro/aktualis/kilottek-a-medv...</td>\n",
       "      <td>https://media.szekelyhon.ro/pictures/udvarhely...</td>\n",
       "      <td>aktualis</td>\n",
       "      <td>udvarhely</td>\n",
       "      <td>['Háromszék', 'medve']</td>\n",
       "      <td>Kilőtték a medvét, amely május óta rettegésben...</td>\n",
       "      <td>...</td>\n",
       "      <td>1</td>\n",
       "      <td>0</td>\n",
       "      <td>0</td>\n",
       "      <td>0</td>\n",
       "      <td>Oltszem</td>\n",
       "      <td>Oltszem</td>\n",
       "      <td>Oltszem</td>\n",
       "      <td>45.971</td>\n",
       "      <td>25.8458</td>\n",
       "      <td>Oltszem, 6</td>\n",
       "    </tr>\n",
       "    <tr>\n",
       "      <td>7</td>\n",
       "      <td>Számítani kell arra, hogy télen is aktívak leh...</td>\n",
       "      <td>7</td>\n",
       "      <td>2019-12-03</td>\n",
       "      <td>2019. december 03.</td>\n",
       "      <td>https://szekelyhon.ro/aktualis/szamitani-kell-...</td>\n",
       "      <td>https://media.szekelyhon.ro/pictures/udvarhely...</td>\n",
       "      <td>aktualis</td>\n",
       "      <td>udvarhely</td>\n",
       "      <td>['Hargita megye', 'Kovászna megye', 'Maros meg...</td>\n",
       "      <td>Számítani kell arra, hogy télen is aktívak leh...</td>\n",
       "      <td>...</td>\n",
       "      <td>1</td>\n",
       "      <td>0</td>\n",
       "      <td>0</td>\n",
       "      <td>0</td>\n",
       "      <td>Kilyén</td>\n",
       "      <td>NaN</td>\n",
       "      <td></td>\n",
       "      <td></td>\n",
       "      <td></td>\n",
       "      <td>N/A, 7</td>\n",
       "    </tr>\n",
       "    <tr>\n",
       "      <td>8</td>\n",
       "      <td>A háztáji gazdaságban levő összes birkát megöl...</td>\n",
       "      <td>8</td>\n",
       "      <td>2019-12-03</td>\n",
       "      <td>2019. december 03.</td>\n",
       "      <td>https://szekelyhon.ro/aktualis/a-haztaji-gazda...</td>\n",
       "      <td>https://media.szekelyhon.ro/pictures/udvarhely...</td>\n",
       "      <td>aktualis</td>\n",
       "      <td>udvarhely</td>\n",
       "      <td>['Gyergyószék', 'medve']</td>\n",
       "      <td>A háztáji gazdaságban levő összes birkát megöl...</td>\n",
       "      <td>...</td>\n",
       "      <td>1</td>\n",
       "      <td>3</td>\n",
       "      <td>11</td>\n",
       "      <td>0</td>\n",
       "      <td>NaN</td>\n",
       "      <td>Vasláb</td>\n",
       "      <td>Vasláb</td>\n",
       "      <td>46.6461</td>\n",
       "      <td>25.6237</td>\n",
       "      <td>Vasláb, 8</td>\n",
       "    </tr>\n",
       "  </tbody>\n",
       "</table>\n",
       "<p>9 rows × 21 columns</p>\n",
       "</div>"
      ],
      "text/plain": [
       "                                               index  Unnamed: 0       date  \\\n",
       "0  Medveprobléma: brüsszeli nyomásgyakorlásban bí...           0 2019-11-26   \n",
       "1  Sokkos állapotban került kórházba a medvetámad...           1 2019-11-26   \n",
       "2  Kilőnék a Hidegkúton emberre támadó medvétKérn...           2 2019-11-27   \n",
       "3  Szeben és Fehér megye is csatlakozott a „medve...           3 2019-11-28   \n",
       "4  Megtérítik a gazdáknak az elmúlt három évben t...           4 2019-11-29   \n",
       "5  Csíksomlyón jár a medve – figyelmeztet a Ro-Al...           5 2019-12-02   \n",
       "6  Kilőtték a medvét, amely május óta rettegésben...           6 2019-12-02   \n",
       "7  Számítani kell arra, hogy télen is aktívak leh...           7 2019-12-03   \n",
       "8  A háztáji gazdaságban levő összes birkát megöl...           8 2019-12-03   \n",
       "\n",
       "               hudate                                               link  \\\n",
       "0  2019. november 26.  https://szekelyhon.ro/aktualis/medveproblema-b...   \n",
       "1  2019. november 26.  https://szekelyhon.ro/aktualis/sokkos-allapotb...   \n",
       "2  2019. november 27.  https://szekelyhon.ro/aktualis/kilonek-a-hideg...   \n",
       "3  2019. november 28.  https://szekelyhon.ro/aktualis/szeben-es-feher...   \n",
       "4  2019. november 29.  https://szekelyhon.ro/aktualis/megteritik-a-ga...   \n",
       "5  2019. december 02.  https://szekelyhon.ro/aktualis/csiksomlyon-jar...   \n",
       "6  2019. december 02.  https://szekelyhon.ro/aktualis/kilottek-a-medv...   \n",
       "7  2019. december 03.  https://szekelyhon.ro/aktualis/szamitani-kell-...   \n",
       "8  2019. december 03.  https://szekelyhon.ro/aktualis/a-haztaji-gazda...   \n",
       "\n",
       "                                               image  category  icategory  \\\n",
       "0  https://media.szekelyhon.ro/pictures/udvarhely...  aktualis  udvarhely   \n",
       "1  https://media.szekelyhon.ro/pictures/udvarhely...  aktualis  udvarhely   \n",
       "2  https://media.szekelyhon.ro/pictures/udvarhely...  aktualis  udvarhely   \n",
       "3  https://media.szekelyhon.ro/pictures/csik/aktu...  aktualis       csik   \n",
       "4  https://media.szekelyhon.ro/pictures/udvarhely...  aktualis  udvarhely   \n",
       "5  https://media.szekelyhon.ro/pictures/csik/aktu...  aktualis       csik   \n",
       "6  https://media.szekelyhon.ro/pictures/udvarhely...  aktualis  udvarhely   \n",
       "7  https://media.szekelyhon.ro/pictures/udvarhely...  aktualis  udvarhely   \n",
       "8  https://media.szekelyhon.ro/pictures/udvarhely...  aktualis  udvarhely   \n",
       "\n",
       "                                                tags  \\\n",
       "0           ['Brassó megye', 'medve', 'Székelyföld']   \n",
       "1                         ['medve', 'Udvarhelyszék']   \n",
       "2                      ['medve', 'Székelykeresztúr']   \n",
       "3                               ['Belföld', 'medve']   \n",
       "4             ['Gazdaság', 'Hargita megye', 'medve']   \n",
       "5                            ['Csíksomlyó', 'medve']   \n",
       "6                             ['Háromszék', 'medve']   \n",
       "7  ['Hargita megye', 'Kovászna megye', 'Maros meg...   \n",
       "8                           ['Gyergyószék', 'medve']   \n",
       "\n",
       "                                               title  ... relevant  severity  \\\n",
       "0  Medveprobléma: brüsszeli nyomásgyakorlásban bí...  ...        1         0   \n",
       "1  Sokkos állapotban került kórházba a medvetámad...  ...        1         4   \n",
       "2         Kilőnék a Hidegkúton emberre támadó medvét  ...        1         0   \n",
       "3  Szeben és Fehér megye is csatlakozott a „medve...  ...        1         0   \n",
       "4  Megtérítik a gazdáknak az elmúlt három évben t...  ...        1         0   \n",
       "5  Csíksomlyón jár a medve – figyelmeztet a Ro-Alert  ...        1         1   \n",
       "6  Kilőtték a medvét, amely május óta rettegésben...  ...        1         0   \n",
       "7  Számítani kell arra, hogy télen is aktívak leh...  ...        1         0   \n",
       "8  A háztáji gazdaságban levő összes birkát megöl...  ...        1         3   \n",
       "\n",
       "   deaths  duplicate                    predicted_locs       actual_locs  \\\n",
       "0       0          0            ['Brassó', 'Kovászna']       Csíkszereda   \n",
       "1       0          0                          Hidegkút          Hidegkút   \n",
       "2       0          0  ['Hidegkút', 'Székelykeresztúr']  Székelykeresztúr   \n",
       "3       0          0                               NaN            Szeben   \n",
       "4       0          0                               NaN       Csíkszereda   \n",
       "5       0          0                        Csíksomlyó        Csíksomlyó   \n",
       "6       0          0                           Oltszem           Oltszem   \n",
       "7       0          0                            Kilyén               NaN   \n",
       "8      11          0                               NaN            Vasláb   \n",
       "\n",
       "            geo_loc latitude longitude                   id  \n",
       "0       Csíkszereda  46.3696   25.7954       Csíkszereda, 0  \n",
       "1          Hidegkút  46.3359   24.8941          Hidegkút, 1  \n",
       "2  Székelykeresztúr  46.2925   25.0317  Székelykeresztúr, 2  \n",
       "3            Szeben                               Szeben, 3  \n",
       "4       Csíkszereda  46.3696   25.7954       Csíkszereda, 4  \n",
       "5        Csíksomlyó  46.3753   25.8193        Csíksomlyó, 5  \n",
       "6           Oltszem   45.971   25.8458           Oltszem, 6  \n",
       "7                                                    N/A, 7  \n",
       "8            Vasláb  46.6461   25.6237            Vasláb, 8  \n",
       "\n",
       "[9 rows x 21 columns]"
      ]
     },
     "execution_count": 14,
     "metadata": {},
     "output_type": "execute_result"
    }
   ],
   "source": [
    "df=pd.DataFrame(data)\n",
    "df.columns=header\n",
    "df"
   ]
  },
  {
   "cell_type": "markdown",
   "metadata": {},
   "source": [
    "Save data for loading in viz app"
   ]
  },
  {
   "cell_type": "code",
   "execution_count": 15,
   "metadata": {
    "ExecuteTime": {
     "end_time": "2019-04-18T04:33:06.297709Z",
     "start_time": "2019-04-18T04:33:06.289711Z"
    }
   },
   "outputs": [],
   "source": [
    "df['checked']=''\n",
    "df['exact_loc']=0\n",
    "df['source']='Székelyhon'"
   ]
  },
  {
   "cell_type": "code",
   "execution_count": 16,
   "metadata": {
    "ExecuteTime": {
     "end_time": "2019-04-18T04:33:06.786724Z",
     "start_time": "2019-04-18T04:33:06.769712Z"
    }
   },
   "outputs": [],
   "source": [
    "df=df[['checked',\n",
    "    'date',\n",
    "    'link',\n",
    "    'image',\n",
    "    'source',\n",
    "    'title',\n",
    "    'content',\n",
    "    'relevant',\n",
    "    'severity',\n",
    "    'deaths',\n",
    "    'duplicate',\n",
    "    'geo_loc',\n",
    "    'exact_loc',\n",
    "    'latitude',\n",
    "    'longitude']].set_index('checked')"
   ]
  },
  {
   "cell_type": "code",
   "execution_count": 17,
   "metadata": {
    "ExecuteTime": {
     "end_time": "2019-04-18T04:33:07.955716Z",
     "start_time": "2019-04-18T04:33:07.743723Z"
    }
   },
   "outputs": [],
   "source": [
    "#PowerBI exploration data\n",
    "df.to_excel('data/szekelyhon_data.xlsx')"
   ]
  },
  {
   "cell_type": "code",
   "execution_count": null,
   "metadata": {},
   "outputs": [],
   "source": []
  }
 ],
 "metadata": {
  "kernelspec": {
   "display_name": "Python 3",
   "language": "python",
   "name": "python3"
  },
  "language_info": {
   "codemirror_mode": {
    "name": "ipython",
    "version": 3
   },
   "file_extension": ".py",
   "mimetype": "text/x-python",
   "name": "python",
   "nbconvert_exporter": "python",
   "pygments_lexer": "ipython3",
   "version": "3.7.4"
  },
  "toc": {
   "base_numbering": 1,
   "nav_menu": {},
   "number_sections": true,
   "sideBar": true,
   "skip_h1_title": false,
   "title_cell": "Table of Contents",
   "title_sidebar": "Contents",
   "toc_cell": false,
   "toc_position": {},
   "toc_section_display": true,
   "toc_window_display": false
  }
 },
 "nbformat": 4,
 "nbformat_minor": 4
}
