{
 "cells": [
  {
   "cell_type": "code",
   "execution_count": 2,
   "metadata": {
    "ExecuteTime": {
     "end_time": "2019-04-18T04:32:34.216709Z",
     "start_time": "2019-04-18T04:32:34.210710Z"
    }
   },
   "outputs": [],
   "source": [
    "import pandas as pd, numpy as np\n",
    "import itertools, requests, json"
   ]
  },
  {
   "cell_type": "code",
   "execution_count": 3,
   "metadata": {
    "ExecuteTime": {
     "end_time": "2019-04-18T04:32:34.425705Z",
     "start_time": "2019-04-18T04:32:34.359710Z"
    }
   },
   "outputs": [],
   "source": [
    "dm=pd.read_excel('data/szekelyhon_medve.xlsx')\n",
    "dc=pd.read_excel('data/szekelyhon_medve_curated.xlsx')\n",
    "lm=pd.read_excel('data/szekelyhon_locs_curated.xlsx')"
   ]
  },
  {
   "cell_type": "code",
   "execution_count": 4,
   "metadata": {
    "ExecuteTime": {
     "end_time": "2019-04-18T04:32:34.519710Z",
     "start_time": "2019-04-18T04:32:34.509717Z"
    }
   },
   "outputs": [],
   "source": [
    "dc=dc[(dc['duplicate']!=1)&(dc['relevant']==1)]"
   ]
  },
  {
   "cell_type": "code",
   "execution_count": 5,
   "metadata": {
    "ExecuteTime": {
     "end_time": "2019-04-18T04:32:34.668713Z",
     "start_time": "2019-04-18T04:32:34.653710Z"
    }
   },
   "outputs": [],
   "source": [
    "dc[\"uid\"] = dc[\"title\"].map(str) + dc[\"content\"]\n",
    "dm[\"uid\"] = dm[\"title\"].map(str) + dm[\"content\"]\n",
    "lm[\"uid\"] = lm[\"title\"].map(str) + lm[\"content\"]"
   ]
  },
  {
   "cell_type": "code",
   "execution_count": 6,
   "metadata": {
    "ExecuteTime": {
     "end_time": "2019-04-18T04:32:34.807714Z",
     "start_time": "2019-04-18T04:32:34.795706Z"
    }
   },
   "outputs": [],
   "source": [
    "dc=dc.set_index('uid')[['relevant','severity','deaths','duplicate']]\n",
    "dm=dm.set_index('uid')\n",
    "lm=lm.set_index('uid')[['predicted_locs','actual_locs']]"
   ]
  },
  {
   "cell_type": "code",
   "execution_count": 7,
   "metadata": {
    "ExecuteTime": {
     "end_time": "2019-04-18T04:32:34.945711Z",
     "start_time": "2019-04-18T04:32:34.938708Z"
    }
   },
   "outputs": [],
   "source": [
    "dmi=dm.loc[dc.index.dropna()]"
   ]
  },
  {
   "cell_type": "code",
   "execution_count": 8,
   "metadata": {
    "ExecuteTime": {
     "end_time": "2019-04-18T04:32:35.125710Z",
     "start_time": "2019-04-18T04:32:35.094712Z"
    }
   },
   "outputs": [],
   "source": [
    "df=dmi.join(dc).drop_duplicates()"
   ]
  },
  {
   "cell_type": "code",
   "execution_count": 9,
   "metadata": {
    "ExecuteTime": {
     "end_time": "2019-04-18T04:32:35.264708Z",
     "start_time": "2019-04-18T04:32:35.247713Z"
    }
   },
   "outputs": [],
   "source": [
    "dl=df.join(lm)"
   ]
  },
  {
   "cell_type": "code",
   "execution_count": 10,
   "metadata": {},
   "outputs": [
    {
     "data": {
      "text/plain": [
       "11"
      ]
     },
     "execution_count": 10,
     "metadata": {},
     "output_type": "execute_result"
    }
   ],
   "source": [
    "len(dl)"
   ]
  },
  {
   "cell_type": "markdown",
   "metadata": {
    "ExecuteTime": {
     "end_time": "2018-11-03T01:06:46.878487Z",
     "start_time": "2018-11-03T01:06:46.784487Z"
    }
   },
   "source": [
    "Working df ready. Now infer location."
   ]
  },
  {
   "cell_type": "code",
   "execution_count": 11,
   "metadata": {
    "ExecuteTime": {
     "end_time": "2019-04-18T04:32:35.595708Z",
     "start_time": "2019-04-18T04:32:35.590707Z"
    }
   },
   "outputs": [],
   "source": [
    "to_geo=[i.split(',') for i in dl['actual_locs'].unique() if str(i)!='nan']"
   ]
  },
  {
   "cell_type": "code",
   "execution_count": 12,
   "metadata": {
    "ExecuteTime": {
     "end_time": "2019-04-18T04:32:35.790713Z",
     "start_time": "2019-04-18T04:32:35.785710Z"
    }
   },
   "outputs": [],
   "source": [
    "to_geo=[i.strip() for i in list(itertools.chain.from_iterable(to_geo))]"
   ]
  },
  {
   "cell_type": "markdown",
   "metadata": {},
   "source": [
    "Load HU names"
   ]
  },
  {
   "cell_type": "code",
   "execution_count": 13,
   "metadata": {
    "ExecuteTime": {
     "end_time": "2019-04-18T04:32:36.208711Z",
     "start_time": "2019-04-18T04:32:36.171710Z"
    }
   },
   "outputs": [],
   "source": [
    "coords=json.loads(open('geo/huncoords.json','r').read())\n",
    "megyek=json.loads(open('geo/megyek.json','r').read())"
   ]
  },
  {
   "cell_type": "code",
   "execution_count": 14,
   "metadata": {
    "ExecuteTime": {
     "end_time": "2019-04-18T04:32:36.479710Z",
     "start_time": "2019-04-18T04:32:36.439714Z"
    }
   },
   "outputs": [],
   "source": [
    "data=[]\n",
    "header=['index']\n",
    "for i in dl.iteritems():\n",
    "    header.append(i[0])\n",
    "header.append('geo_loc')\n",
    "header.append('latitude')\n",
    "header.append('longitude')\n",
    "header.append('id')\n",
    "for i in dl.T.iteritems():\n",
    "    dummy=[i[0]]\n",
    "    for j in range(len(i[1])):\n",
    "        if j==(len(i[1])-1):\n",
    "            dummy.append(i[1][j])\n",
    "            dummy.append('')\n",
    "            dummy.append('')\n",
    "            dummy.append('')\n",
    "            dummy.append('')\n",
    "            dtime=str(dummy[1])[:10]\n",
    "            if dtime=='nan': dtime=u'N/A' \n",
    "            if str(i[1][j])!='nan':    \n",
    "                for k in i[1][j].split(','):\n",
    "                    tk=k.strip().replace('[','').replace(']','').replace(\"'\",'')\n",
    "                    dummy[-4]=tk\n",
    "                    if tk in coords:\n",
    "                        dummy[-3]=coords[tk][0]\n",
    "                        dummy[-2]=coords[tk][1]\n",
    "                    else:\n",
    "                        dummy[-3]=''\n",
    "                        dummy[-2]=''\n",
    "                    #dummy[-1]=str(dummy[-3])+' ('+str(dummy[0]+1)+')\\n'+dtime\n",
    "                    dummy[-1]=str(dummy[-4])+', '+dtime\n",
    "                    data.append(list(dummy))                    \n",
    "            else:\n",
    "                dummy[-1]=u'N/A' +', '+dtime\n",
    "                data.append(list(dummy))\n",
    "        else: \n",
    "            dummy.append(i[1][j])"
   ]
  },
  {
   "cell_type": "code",
   "execution_count": 15,
   "metadata": {
    "ExecuteTime": {
     "end_time": "2019-04-18T04:32:36.991710Z",
     "start_time": "2019-04-18T04:32:36.864711Z"
    }
   },
   "outputs": [
    {
     "data": {
      "text/html": [
       "<div>\n",
       "<style scoped>\n",
       "    .dataframe tbody tr th:only-of-type {\n",
       "        vertical-align: middle;\n",
       "    }\n",
       "\n",
       "    .dataframe tbody tr th {\n",
       "        vertical-align: top;\n",
       "    }\n",
       "\n",
       "    .dataframe thead th {\n",
       "        text-align: right;\n",
       "    }\n",
       "</style>\n",
       "<table border=\"1\" class=\"dataframe\">\n",
       "  <thead>\n",
       "    <tr style=\"text-align: right;\">\n",
       "      <th></th>\n",
       "      <th>index</th>\n",
       "      <th>Unnamed: 0</th>\n",
       "      <th>date</th>\n",
       "      <th>hudate</th>\n",
       "      <th>link</th>\n",
       "      <th>image</th>\n",
       "      <th>category</th>\n",
       "      <th>icategory</th>\n",
       "      <th>tags</th>\n",
       "      <th>title</th>\n",
       "      <th>...</th>\n",
       "      <th>relevant</th>\n",
       "      <th>severity</th>\n",
       "      <th>deaths</th>\n",
       "      <th>duplicate</th>\n",
       "      <th>predicted_locs</th>\n",
       "      <th>actual_locs</th>\n",
       "      <th>geo_loc</th>\n",
       "      <th>latitude</th>\n",
       "      <th>longitude</th>\n",
       "      <th>id</th>\n",
       "    </tr>\n",
       "  </thead>\n",
       "  <tbody>\n",
       "    <tr>\n",
       "      <th>0</th>\n",
       "      <td>Megtermett medve rohangált Csíkpálfalva utcáin...</td>\n",
       "      <td>75</td>\n",
       "      <td>2020-08-26</td>\n",
       "      <td>2020. augusztus 26.</td>\n",
       "      <td>https://szekelyhon.ro/aktualis/megtermett-medv...</td>\n",
       "      <td>https://media.szekelyhon.ro/pictures/csik/aktu...</td>\n",
       "      <td>aktualis</td>\n",
       "      <td>csik</td>\n",
       "      <td>['Csíkpálfalva', 'medve']</td>\n",
       "      <td>Megtermett medve rohangált Csíkpálfalva utcáin</td>\n",
       "      <td>...</td>\n",
       "      <td>1</td>\n",
       "      <td>2</td>\n",
       "      <td>0</td>\n",
       "      <td>0</td>\n",
       "      <td>['Csíkdánfalva', 'Csíkpálfalva']</td>\n",
       "      <td>Csíkpálfalva</td>\n",
       "      <td>Csíkpálfalva</td>\n",
       "      <td>46.3948</td>\n",
       "      <td>25.8341</td>\n",
       "      <td>Csíkpálfalva, 75</td>\n",
       "    </tr>\n",
       "    <tr>\n",
       "      <th>1</th>\n",
       "      <td>Kutyát és juhokat pusztítottak el a medvék Csí...</td>\n",
       "      <td>76</td>\n",
       "      <td>2020-08-27</td>\n",
       "      <td>2020. augusztus 27.</td>\n",
       "      <td>https://szekelyhon.ro/aktualis/kutyat-juhokat-...</td>\n",
       "      <td>https://media.szekelyhon.ro/pictures/udvarhely...</td>\n",
       "      <td>aktualis</td>\n",
       "      <td>udvarhely</td>\n",
       "      <td>['Csíkszék', 'medve']</td>\n",
       "      <td>Kutyát és juhokat pusztítottak el a medvék Csí...</td>\n",
       "      <td>...</td>\n",
       "      <td>1</td>\n",
       "      <td>3</td>\n",
       "      <td>5</td>\n",
       "      <td>0</td>\n",
       "      <td>['Csíkszereda', 'Csíkpálfalva']</td>\n",
       "      <td>['Csíkszereda', 'Csíkpálfalva','Csíkszépvíz']</td>\n",
       "      <td>Csíkszereda</td>\n",
       "      <td>46.3696</td>\n",
       "      <td>25.7954</td>\n",
       "      <td>Csíkszereda, 76</td>\n",
       "    </tr>\n",
       "    <tr>\n",
       "      <th>2</th>\n",
       "      <td>Kutyát és juhokat pusztítottak el a medvék Csí...</td>\n",
       "      <td>76</td>\n",
       "      <td>2020-08-27</td>\n",
       "      <td>2020. augusztus 27.</td>\n",
       "      <td>https://szekelyhon.ro/aktualis/kutyat-juhokat-...</td>\n",
       "      <td>https://media.szekelyhon.ro/pictures/udvarhely...</td>\n",
       "      <td>aktualis</td>\n",
       "      <td>udvarhely</td>\n",
       "      <td>['Csíkszék', 'medve']</td>\n",
       "      <td>Kutyát és juhokat pusztítottak el a medvék Csí...</td>\n",
       "      <td>...</td>\n",
       "      <td>1</td>\n",
       "      <td>3</td>\n",
       "      <td>5</td>\n",
       "      <td>0</td>\n",
       "      <td>['Csíkszereda', 'Csíkpálfalva']</td>\n",
       "      <td>['Csíkszereda', 'Csíkpálfalva','Csíkszépvíz']</td>\n",
       "      <td>Csíkpálfalva</td>\n",
       "      <td>46.3948</td>\n",
       "      <td>25.8341</td>\n",
       "      <td>Csíkpálfalva, 76</td>\n",
       "    </tr>\n",
       "    <tr>\n",
       "      <th>3</th>\n",
       "      <td>Kutyát és juhokat pusztítottak el a medvék Csí...</td>\n",
       "      <td>76</td>\n",
       "      <td>2020-08-27</td>\n",
       "      <td>2020. augusztus 27.</td>\n",
       "      <td>https://szekelyhon.ro/aktualis/kutyat-juhokat-...</td>\n",
       "      <td>https://media.szekelyhon.ro/pictures/udvarhely...</td>\n",
       "      <td>aktualis</td>\n",
       "      <td>udvarhely</td>\n",
       "      <td>['Csíkszék', 'medve']</td>\n",
       "      <td>Kutyát és juhokat pusztítottak el a medvék Csí...</td>\n",
       "      <td>...</td>\n",
       "      <td>1</td>\n",
       "      <td>3</td>\n",
       "      <td>5</td>\n",
       "      <td>0</td>\n",
       "      <td>['Csíkszereda', 'Csíkpálfalva']</td>\n",
       "      <td>['Csíkszereda', 'Csíkpálfalva','Csíkszépvíz']</td>\n",
       "      <td>Csíkszépvíz</td>\n",
       "      <td></td>\n",
       "      <td></td>\n",
       "      <td>Csíkszépvíz, 76</td>\n",
       "    </tr>\n",
       "    <tr>\n",
       "      <th>4</th>\n",
       "      <td>Egyre több medve csatangol Székelyudvarhelyen,...</td>\n",
       "      <td>77</td>\n",
       "      <td>2020-09-04</td>\n",
       "      <td>2020. szeptember 04.</td>\n",
       "      <td>https://szekelyhon.ro/aktualis/egyre-tobb-medv...</td>\n",
       "      <td>https://media.szekelyhon.ro/pictures/udvarhely...</td>\n",
       "      <td>aktualis</td>\n",
       "      <td>udvarhely</td>\n",
       "      <td>['Udvarhelyszék']</td>\n",
       "      <td>Egyre több medve csatangol Székelyudvarhelyen,...</td>\n",
       "      <td>...</td>\n",
       "      <td>1</td>\n",
       "      <td>2</td>\n",
       "      <td>0</td>\n",
       "      <td>0</td>\n",
       "      <td>NaN</td>\n",
       "      <td>Székelyudvarhely</td>\n",
       "      <td>Székelyudvarhely</td>\n",
       "      <td>46.305</td>\n",
       "      <td>25.2926</td>\n",
       "      <td>Székelyudvarhely, 77</td>\n",
       "    </tr>\n",
       "    <tr>\n",
       "      <th>5</th>\n",
       "      <td>Rendszeresen garázdálkodik egy nagyvad Székely...</td>\n",
       "      <td>78</td>\n",
       "      <td>2020-09-17</td>\n",
       "      <td>2020. szeptember 17.</td>\n",
       "      <td>https://szekelyhon.ro/aktualis/rendszeresen-ga...</td>\n",
       "      <td>https://media.szekelyhon.ro/pictures/udvarhely...</td>\n",
       "      <td>aktualis</td>\n",
       "      <td>udvarhely</td>\n",
       "      <td>['medve', 'Udvarhelyszék']</td>\n",
       "      <td>Rendszeresen garázdálkodik egy nagyvad Székely...</td>\n",
       "      <td>...</td>\n",
       "      <td>1</td>\n",
       "      <td>3</td>\n",
       "      <td>0</td>\n",
       "      <td>0</td>\n",
       "      <td>Székelyszentmihály</td>\n",
       "      <td>Székelyszentmihály</td>\n",
       "      <td>Székelyszentmihály</td>\n",
       "      <td>46.3601</td>\n",
       "      <td>25.1764</td>\n",
       "      <td>Székelyszentmihály, 78</td>\n",
       "    </tr>\n",
       "    <tr>\n",
       "      <th>6</th>\n",
       "      <td>Ez a medve nem csak úgy átszaladt az úton – ké...</td>\n",
       "      <td>79</td>\n",
       "      <td>2020-09-19</td>\n",
       "      <td>2020. szeptember 19.</td>\n",
       "      <td>https://szekelyhon.ro/aktualis/ez-a-medve-nem-...</td>\n",
       "      <td>https://media.szekelyhon.ro/pictures/udvarhely...</td>\n",
       "      <td>aktualis</td>\n",
       "      <td>udvarhely</td>\n",
       "      <td>['Csíkszék', 'medve']</td>\n",
       "      <td>Ez a medve nem csak úgy átszaladt az úton – ké...</td>\n",
       "      <td>...</td>\n",
       "      <td>1</td>\n",
       "      <td>2</td>\n",
       "      <td>0</td>\n",
       "      <td>0</td>\n",
       "      <td>NaN</td>\n",
       "      <td>Csíkmindszent</td>\n",
       "      <td>Csíkmindszent</td>\n",
       "      <td>46.3281</td>\n",
       "      <td>25.8874</td>\n",
       "      <td>Csíkmindszent, 79</td>\n",
       "    </tr>\n",
       "    <tr>\n",
       "      <th>7</th>\n",
       "      <td>Pásztorra támadt egy medve Csíkbánkfalva közel...</td>\n",
       "      <td>80</td>\n",
       "      <td>2020-09-26</td>\n",
       "      <td>2020. szeptember 26.</td>\n",
       "      <td>https://szekelyhon.ro/aktualis/pasztorra-tamad...</td>\n",
       "      <td>https://media.szekelyhon.ro/pictures/csik/aktu...</td>\n",
       "      <td>aktualis</td>\n",
       "      <td>csik</td>\n",
       "      <td>['Csíkbánkfalva', 'medve']</td>\n",
       "      <td>Pásztorra támadt egy medve Csíkbánkfalva közel...</td>\n",
       "      <td>...</td>\n",
       "      <td>1</td>\n",
       "      <td>4</td>\n",
       "      <td>0</td>\n",
       "      <td>0</td>\n",
       "      <td>['Csíkdánfalva', 'Csíkbánkfalva']</td>\n",
       "      <td>Csíkbánkfalva</td>\n",
       "      <td>Csíkbánkfalva</td>\n",
       "      <td>46.3017</td>\n",
       "      <td>25.9432</td>\n",
       "      <td>Csíkbánkfalva, 80</td>\n",
       "    </tr>\n",
       "    <tr>\n",
       "      <th>8</th>\n",
       "      <td>A kilövési kérések száma alapján is Székelyföl...</td>\n",
       "      <td>81</td>\n",
       "      <td>2020-10-06</td>\n",
       "      <td>2020. október 06.</td>\n",
       "      <td>https://szekelyhon.ro/aktualis/a-kilovesi-kere...</td>\n",
       "      <td>https://media.szekelyhon.ro/pictures/udvarhely...</td>\n",
       "      <td>aktualis</td>\n",
       "      <td>udvarhely</td>\n",
       "      <td>['Hargita megye', 'Háromszék', 'Marosszék', 'm...</td>\n",
       "      <td>A kilövési kérések száma alapján is Székelyföl...</td>\n",
       "      <td>...</td>\n",
       "      <td>1</td>\n",
       "      <td>0</td>\n",
       "      <td>0</td>\n",
       "      <td>0</td>\n",
       "      <td>Zetelaka</td>\n",
       "      <td>Zetelaka</td>\n",
       "      <td>Zetelaka</td>\n",
       "      <td>46.391</td>\n",
       "      <td>25.3679</td>\n",
       "      <td>Zetelaka, 81</td>\n",
       "    </tr>\n",
       "    <tr>\n",
       "      <th>9</th>\n",
       "      <td>Ha ezt a medvék tudnák...Nem engedélyezte a kö...</td>\n",
       "      <td>82</td>\n",
       "      <td>2020-10-07</td>\n",
       "      <td>2020. október 07.</td>\n",
       "      <td>https://szekelyhon.ro/aktualis/ha-ezt-a-medvek...</td>\n",
       "      <td>https://media.szekelyhon.ro/pictures/udvarhely...</td>\n",
       "      <td>aktualis</td>\n",
       "      <td>udvarhely</td>\n",
       "      <td>['medve', 'Udvarhelyszék']</td>\n",
       "      <td>Ha ezt a medvék tudnák...</td>\n",
       "      <td>...</td>\n",
       "      <td>1</td>\n",
       "      <td>0</td>\n",
       "      <td>0</td>\n",
       "      <td>0</td>\n",
       "      <td>Székelyszentmihály</td>\n",
       "      <td>Székelyszentmihály</td>\n",
       "      <td>Székelyszentmihály</td>\n",
       "      <td>46.3601</td>\n",
       "      <td>25.1764</td>\n",
       "      <td>Székelyszentmihály, 82</td>\n",
       "    </tr>\n",
       "    <tr>\n",
       "      <th>10</th>\n",
       "      <td>Szakmai tájékoztatás mellett segítséget is nyú...</td>\n",
       "      <td>83</td>\n",
       "      <td>2020-10-14</td>\n",
       "      <td>2020. október 14.</td>\n",
       "      <td>https://szekelyhon.ro/aktualis/szakmai-tajekoz...</td>\n",
       "      <td>https://media.szekelyhon.ro/pictures/csik/aktu...</td>\n",
       "      <td>aktualis</td>\n",
       "      <td>csik</td>\n",
       "      <td>['Hargita megye', 'medve']</td>\n",
       "      <td>Szakmai tájékoztatás mellett segítséget is nyú...</td>\n",
       "      <td>...</td>\n",
       "      <td>1</td>\n",
       "      <td>0</td>\n",
       "      <td>0</td>\n",
       "      <td>0</td>\n",
       "      <td>Cintos</td>\n",
       "      <td>NaN</td>\n",
       "      <td></td>\n",
       "      <td></td>\n",
       "      <td></td>\n",
       "      <td>N/A, 83</td>\n",
       "    </tr>\n",
       "    <tr>\n",
       "      <th>11</th>\n",
       "      <td>Kijárási korlátozás a medvéknél is?Elhanyagolh...</td>\n",
       "      <td>84</td>\n",
       "      <td>2020-11-12</td>\n",
       "      <td>2020. november 12.</td>\n",
       "      <td>https://szekelyhon.ro/aktualis/kijarasi-korlat...</td>\n",
       "      <td>https://media.szekelyhon.ro/pictures/udvarhely...</td>\n",
       "      <td>aktualis</td>\n",
       "      <td>udvarhely</td>\n",
       "      <td>['Hargita megye', 'medve']</td>\n",
       "      <td>Kijárási korlátozás a medvéknél is?</td>\n",
       "      <td>...</td>\n",
       "      <td>1</td>\n",
       "      <td>0</td>\n",
       "      <td>0</td>\n",
       "      <td>0</td>\n",
       "      <td>NaN</td>\n",
       "      <td>NaN</td>\n",
       "      <td></td>\n",
       "      <td></td>\n",
       "      <td></td>\n",
       "      <td>N/A, 84</td>\n",
       "    </tr>\n",
       "    <tr>\n",
       "      <th>12</th>\n",
       "      <td>Medveles területére tévedtek, olcsón – mindöss...</td>\n",
       "      <td>85</td>\n",
       "      <td>2020-11-17</td>\n",
       "      <td>2020. november 17.</td>\n",
       "      <td>https://szekelyhon.ro/aktualis/medveles-terule...</td>\n",
       "      <td>https://media.szekelyhon.ro/pictures/udvarhely...</td>\n",
       "      <td>aktualis</td>\n",
       "      <td>udvarhely</td>\n",
       "      <td>['Gyergyószék', 'medve']</td>\n",
       "      <td>Medveles területére tévedtek, olcsón – mindöss...</td>\n",
       "      <td>...</td>\n",
       "      <td>1</td>\n",
       "      <td>1</td>\n",
       "      <td>0</td>\n",
       "      <td>0</td>\n",
       "      <td>['Marosvásárhely', 'Borzond', 'Borzont']</td>\n",
       "      <td>Borzont</td>\n",
       "      <td>Borzont</td>\n",
       "      <td>46.6917</td>\n",
       "      <td>25.443</td>\n",
       "      <td>Borzont, 85</td>\n",
       "    </tr>\n",
       "  </tbody>\n",
       "</table>\n",
       "<p>13 rows × 21 columns</p>\n",
       "</div>"
      ],
      "text/plain": [
       "                                                index  Unnamed: 0       date  \\\n",
       "0   Megtermett medve rohangált Csíkpálfalva utcáin...          75 2020-08-26   \n",
       "1   Kutyát és juhokat pusztítottak el a medvék Csí...          76 2020-08-27   \n",
       "2   Kutyát és juhokat pusztítottak el a medvék Csí...          76 2020-08-27   \n",
       "3   Kutyát és juhokat pusztítottak el a medvék Csí...          76 2020-08-27   \n",
       "4   Egyre több medve csatangol Székelyudvarhelyen,...          77 2020-09-04   \n",
       "5   Rendszeresen garázdálkodik egy nagyvad Székely...          78 2020-09-17   \n",
       "6   Ez a medve nem csak úgy átszaladt az úton – ké...          79 2020-09-19   \n",
       "7   Pásztorra támadt egy medve Csíkbánkfalva közel...          80 2020-09-26   \n",
       "8   A kilövési kérések száma alapján is Székelyföl...          81 2020-10-06   \n",
       "9   Ha ezt a medvék tudnák...Nem engedélyezte a kö...          82 2020-10-07   \n",
       "10  Szakmai tájékoztatás mellett segítséget is nyú...          83 2020-10-14   \n",
       "11  Kijárási korlátozás a medvéknél is?Elhanyagolh...          84 2020-11-12   \n",
       "12  Medveles területére tévedtek, olcsón – mindöss...          85 2020-11-17   \n",
       "\n",
       "                  hudate                                               link  \\\n",
       "0    2020. augusztus 26.  https://szekelyhon.ro/aktualis/megtermett-medv...   \n",
       "1    2020. augusztus 27.  https://szekelyhon.ro/aktualis/kutyat-juhokat-...   \n",
       "2    2020. augusztus 27.  https://szekelyhon.ro/aktualis/kutyat-juhokat-...   \n",
       "3    2020. augusztus 27.  https://szekelyhon.ro/aktualis/kutyat-juhokat-...   \n",
       "4   2020. szeptember 04.  https://szekelyhon.ro/aktualis/egyre-tobb-medv...   \n",
       "5   2020. szeptember 17.  https://szekelyhon.ro/aktualis/rendszeresen-ga...   \n",
       "6   2020. szeptember 19.  https://szekelyhon.ro/aktualis/ez-a-medve-nem-...   \n",
       "7   2020. szeptember 26.  https://szekelyhon.ro/aktualis/pasztorra-tamad...   \n",
       "8      2020. október 06.  https://szekelyhon.ro/aktualis/a-kilovesi-kere...   \n",
       "9      2020. október 07.  https://szekelyhon.ro/aktualis/ha-ezt-a-medvek...   \n",
       "10     2020. október 14.  https://szekelyhon.ro/aktualis/szakmai-tajekoz...   \n",
       "11    2020. november 12.  https://szekelyhon.ro/aktualis/kijarasi-korlat...   \n",
       "12    2020. november 17.  https://szekelyhon.ro/aktualis/medveles-terule...   \n",
       "\n",
       "                                                image  category  icategory  \\\n",
       "0   https://media.szekelyhon.ro/pictures/csik/aktu...  aktualis       csik   \n",
       "1   https://media.szekelyhon.ro/pictures/udvarhely...  aktualis  udvarhely   \n",
       "2   https://media.szekelyhon.ro/pictures/udvarhely...  aktualis  udvarhely   \n",
       "3   https://media.szekelyhon.ro/pictures/udvarhely...  aktualis  udvarhely   \n",
       "4   https://media.szekelyhon.ro/pictures/udvarhely...  aktualis  udvarhely   \n",
       "5   https://media.szekelyhon.ro/pictures/udvarhely...  aktualis  udvarhely   \n",
       "6   https://media.szekelyhon.ro/pictures/udvarhely...  aktualis  udvarhely   \n",
       "7   https://media.szekelyhon.ro/pictures/csik/aktu...  aktualis       csik   \n",
       "8   https://media.szekelyhon.ro/pictures/udvarhely...  aktualis  udvarhely   \n",
       "9   https://media.szekelyhon.ro/pictures/udvarhely...  aktualis  udvarhely   \n",
       "10  https://media.szekelyhon.ro/pictures/csik/aktu...  aktualis       csik   \n",
       "11  https://media.szekelyhon.ro/pictures/udvarhely...  aktualis  udvarhely   \n",
       "12  https://media.szekelyhon.ro/pictures/udvarhely...  aktualis  udvarhely   \n",
       "\n",
       "                                                 tags  \\\n",
       "0                           ['Csíkpálfalva', 'medve']   \n",
       "1                               ['Csíkszék', 'medve']   \n",
       "2                               ['Csíkszék', 'medve']   \n",
       "3                               ['Csíkszék', 'medve']   \n",
       "4                                   ['Udvarhelyszék']   \n",
       "5                          ['medve', 'Udvarhelyszék']   \n",
       "6                               ['Csíkszék', 'medve']   \n",
       "7                          ['Csíkbánkfalva', 'medve']   \n",
       "8   ['Hargita megye', 'Háromszék', 'Marosszék', 'm...   \n",
       "9                          ['medve', 'Udvarhelyszék']   \n",
       "10                         ['Hargita megye', 'medve']   \n",
       "11                         ['Hargita megye', 'medve']   \n",
       "12                           ['Gyergyószék', 'medve']   \n",
       "\n",
       "                                                title  ... relevant  severity  \\\n",
       "0      Megtermett medve rohangált Csíkpálfalva utcáin  ...        1         2   \n",
       "1   Kutyát és juhokat pusztítottak el a medvék Csí...  ...        1         3   \n",
       "2   Kutyát és juhokat pusztítottak el a medvék Csí...  ...        1         3   \n",
       "3   Kutyát és juhokat pusztítottak el a medvék Csí...  ...        1         3   \n",
       "4   Egyre több medve csatangol Székelyudvarhelyen,...  ...        1         2   \n",
       "5   Rendszeresen garázdálkodik egy nagyvad Székely...  ...        1         3   \n",
       "6   Ez a medve nem csak úgy átszaladt az úton – ké...  ...        1         2   \n",
       "7   Pásztorra támadt egy medve Csíkbánkfalva közel...  ...        1         4   \n",
       "8   A kilövési kérések száma alapján is Székelyföl...  ...        1         0   \n",
       "9                           Ha ezt a medvék tudnák...  ...        1         0   \n",
       "10  Szakmai tájékoztatás mellett segítséget is nyú...  ...        1         0   \n",
       "11                Kijárási korlátozás a medvéknél is?  ...        1         0   \n",
       "12  Medveles területére tévedtek, olcsón – mindöss...  ...        1         1   \n",
       "\n",
       "    deaths  duplicate                            predicted_locs  \\\n",
       "0        0          0          ['Csíkdánfalva', 'Csíkpálfalva']   \n",
       "1        5          0           ['Csíkszereda', 'Csíkpálfalva']   \n",
       "2        5          0           ['Csíkszereda', 'Csíkpálfalva']   \n",
       "3        5          0           ['Csíkszereda', 'Csíkpálfalva']   \n",
       "4        0          0                                       NaN   \n",
       "5        0          0                        Székelyszentmihály   \n",
       "6        0          0                                       NaN   \n",
       "7        0          0         ['Csíkdánfalva', 'Csíkbánkfalva']   \n",
       "8        0          0                                  Zetelaka   \n",
       "9        0          0                        Székelyszentmihály   \n",
       "10       0          0                                    Cintos   \n",
       "11       0          0                                       NaN   \n",
       "12       0          0  ['Marosvásárhely', 'Borzond', 'Borzont']   \n",
       "\n",
       "                                      actual_locs             geo_loc  \\\n",
       "0                                    Csíkpálfalva        Csíkpálfalva   \n",
       "1   ['Csíkszereda', 'Csíkpálfalva','Csíkszépvíz']         Csíkszereda   \n",
       "2   ['Csíkszereda', 'Csíkpálfalva','Csíkszépvíz']        Csíkpálfalva   \n",
       "3   ['Csíkszereda', 'Csíkpálfalva','Csíkszépvíz']         Csíkszépvíz   \n",
       "4                                Székelyudvarhely    Székelyudvarhely   \n",
       "5                              Székelyszentmihály  Székelyszentmihály   \n",
       "6                                   Csíkmindszent       Csíkmindszent   \n",
       "7                                   Csíkbánkfalva       Csíkbánkfalva   \n",
       "8                                        Zetelaka            Zetelaka   \n",
       "9                              Székelyszentmihály  Székelyszentmihály   \n",
       "10                                            NaN                       \n",
       "11                                            NaN                       \n",
       "12                                        Borzont             Borzont   \n",
       "\n",
       "   latitude longitude                      id  \n",
       "0   46.3948   25.8341        Csíkpálfalva, 75  \n",
       "1   46.3696   25.7954         Csíkszereda, 76  \n",
       "2   46.3948   25.8341        Csíkpálfalva, 76  \n",
       "3                             Csíkszépvíz, 76  \n",
       "4    46.305   25.2926    Székelyudvarhely, 77  \n",
       "5   46.3601   25.1764  Székelyszentmihály, 78  \n",
       "6   46.3281   25.8874       Csíkmindszent, 79  \n",
       "7   46.3017   25.9432       Csíkbánkfalva, 80  \n",
       "8    46.391   25.3679            Zetelaka, 81  \n",
       "9   46.3601   25.1764  Székelyszentmihály, 82  \n",
       "10                                    N/A, 83  \n",
       "11                                    N/A, 84  \n",
       "12  46.6917    25.443             Borzont, 85  \n",
       "\n",
       "[13 rows x 21 columns]"
      ]
     },
     "execution_count": 15,
     "metadata": {},
     "output_type": "execute_result"
    }
   ],
   "source": [
    "df=pd.DataFrame(data)\n",
    "df.columns=header\n",
    "df"
   ]
  },
  {
   "cell_type": "markdown",
   "metadata": {},
   "source": [
    "Save data for loading in viz app"
   ]
  },
  {
   "cell_type": "code",
   "execution_count": 16,
   "metadata": {
    "ExecuteTime": {
     "end_time": "2019-04-18T04:33:06.297709Z",
     "start_time": "2019-04-18T04:33:06.289711Z"
    }
   },
   "outputs": [],
   "source": [
    "df['checked']=''\n",
    "df['exact_loc']=0\n",
    "df['source']='Székelyhon'"
   ]
  },
  {
   "cell_type": "code",
   "execution_count": 17,
   "metadata": {
    "ExecuteTime": {
     "end_time": "2019-04-18T04:33:06.786724Z",
     "start_time": "2019-04-18T04:33:06.769712Z"
    }
   },
   "outputs": [],
   "source": [
    "df=df[['checked',\n",
    "    'date',\n",
    "    'link',\n",
    "    'image',\n",
    "    'source',\n",
    "    'title',\n",
    "    'content',\n",
    "    'relevant',\n",
    "    'severity',\n",
    "    'deaths',\n",
    "    'duplicate',\n",
    "    'geo_loc',\n",
    "    'exact_loc',\n",
    "    'latitude',\n",
    "    'longitude']].set_index('checked')"
   ]
  },
  {
   "cell_type": "code",
   "execution_count": 18,
   "metadata": {
    "ExecuteTime": {
     "end_time": "2019-04-18T04:33:07.955716Z",
     "start_time": "2019-04-18T04:33:07.743723Z"
    }
   },
   "outputs": [],
   "source": [
    "#PowerBI exploration data\n",
    "df.to_excel('data/szekelyhon_data.xlsx')"
   ]
  },
  {
   "cell_type": "code",
   "execution_count": null,
   "metadata": {},
   "outputs": [],
   "source": []
  },
  {
   "cell_type": "code",
   "execution_count": null,
   "metadata": {},
   "outputs": [],
   "source": []
  }
 ],
 "metadata": {
  "kernelspec": {
   "display_name": "Python 3",
   "language": "python",
   "name": "python3"
  },
  "language_info": {
   "codemirror_mode": {
    "name": "ipython",
    "version": 3
   },
   "file_extension": ".py",
   "mimetype": "text/x-python",
   "name": "python",
   "nbconvert_exporter": "python",
   "pygments_lexer": "ipython3",
   "version": "3.7.4"
  },
  "toc": {
   "base_numbering": 1,
   "nav_menu": {},
   "number_sections": true,
   "sideBar": true,
   "skip_h1_title": false,
   "title_cell": "Table of Contents",
   "title_sidebar": "Contents",
   "toc_cell": false,
   "toc_position": {},
   "toc_section_display": true,
   "toc_window_display": false
  }
 },
 "nbformat": 4,
 "nbformat_minor": 4
}
