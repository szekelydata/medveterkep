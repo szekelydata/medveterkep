{
 "cells": [
  {
   "cell_type": "code",
   "execution_count": 77,
   "metadata": {
    "ExecuteTime": {
     "end_time": "2019-04-18T02:42:56.963614Z",
     "start_time": "2019-04-18T02:42:56.959611Z"
    }
   },
   "outputs": [],
   "source": [
    "import pandas as pd, json, numpy as np"
   ]
  },
  {
   "cell_type": "markdown",
   "metadata": {},
   "source": [
    "Load"
   ]
  },
  {
   "cell_type": "code",
   "execution_count": 78,
   "metadata": {
    "ExecuteTime": {
     "end_time": "2019-04-18T02:42:57.495984Z",
     "start_time": "2019-04-18T02:42:57.474993Z"
    }
   },
   "outputs": [],
   "source": [
    "huncoords=json.loads(open('huncoords.json','r').read())"
   ]
  },
  {
   "cell_type": "code",
   "execution_count": 79,
   "metadata": {
    "ExecuteTime": {
     "end_time": "2019-04-18T02:42:57.854227Z",
     "start_time": "2019-04-18T02:42:57.824226Z"
    }
   },
   "outputs": [],
   "source": [
    "megyek=json.loads(open('megyek.json','r').read())"
   ]
  },
  {
   "cell_type": "markdown",
   "metadata": {},
   "source": [
    "Manual additions"
   ]
  },
  {
   "cell_type": "code",
   "execution_count": 80,
   "metadata": {
    "ExecuteTime": {
     "end_time": "2019-04-18T02:42:58.770424Z",
     "start_time": "2019-04-18T02:42:58.765416Z"
    }
   },
   "outputs": [],
   "source": [
    "manual=[{'name':'Bálványosfürdő','megye':'Kovászna','coords':[46.110929, 25.961305]}]"
   ]
  },
  {
   "cell_type": "code",
   "execution_count": 81,
   "metadata": {
    "ExecuteTime": {
     "end_time": "2019-04-18T02:42:59.138826Z",
     "start_time": "2019-04-18T02:42:59.133835Z"
    }
   },
   "outputs": [
    {
     "name": "stdout",
     "output_type": "stream",
     "text": [
      "{'name': 'Báványosfürdő', 'megye': 'Kovászna', 'coords': [46.110929, 25.961305]}\n"
     ]
    }
   ],
   "source": [
    "for i in manual:\n",
    "    print(i)\n",
    "    megyek[i['name']]=i['megye']\n",
    "    huncoords[i['name']]=i['coords']"
   ]
  },
  {
   "cell_type": "markdown",
   "metadata": {},
   "source": [
    "Update"
   ]
  },
  {
   "cell_type": "code",
   "execution_count": 82,
   "metadata": {
    "ExecuteTime": {
     "end_time": "2019-04-18T02:42:59.923989Z",
     "start_time": "2019-04-18T02:42:59.917001Z"
    }
   },
   "outputs": [],
   "source": [
    "rmegyek={}\n",
    "for m in megyek:\n",
    "    megye=megyek[m]\n",
    "    if m!=megye:\n",
    "        if megye not in rmegyek:rmegyek[megye]=[]\n",
    "        rmegyek[megye].append(m)"
   ]
  },
  {
   "cell_type": "code",
   "execution_count": 98,
   "metadata": {
    "ExecuteTime": {
     "end_time": "2019-04-18T02:51:04.067712Z",
     "start_time": "2019-04-18T02:51:04.057711Z"
    }
   },
   "outputs": [],
   "source": [
    "s=''\n",
    "for m in rmegyek:\n",
    "    if m=='Hargita':\n",
    "        s+=m+'\\n '\n",
    "    else:\n",
    "        s+='\\n'+m\n",
    "    if m!='Más megye':\n",
    "        for f in np.sort(rmegyek[m]):\n",
    "            s+='\\n '+f\n",
    "    else:\n",
    "        s+='\\n Más település'"
   ]
  },
  {
   "cell_type": "code",
   "execution_count": 99,
   "metadata": {
    "ExecuteTime": {
     "end_time": "2019-04-18T02:51:04.988671Z",
     "start_time": "2019-04-18T02:51:04.972671Z"
    }
   },
   "outputs": [
    {
     "data": {
      "text/plain": [
       "13865"
      ]
     },
     "execution_count": 99,
     "metadata": {},
     "output_type": "execute_result"
    }
   ],
   "source": [
    "open('droplist.txt','w',encoding='utf8').write(s)"
   ]
  },
  {
   "cell_type": "code",
   "execution_count": 87,
   "metadata": {
    "ExecuteTime": {
     "end_time": "2019-04-18T02:43:44.610489Z",
     "start_time": "2019-04-18T02:43:44.587495Z"
    }
   },
   "outputs": [
    {
     "data": {
      "text/plain": [
       "178130"
      ]
     },
     "execution_count": 87,
     "metadata": {},
     "output_type": "execute_result"
    }
   ],
   "source": [
    "open('megyek.json','w').write(json.dumps(megyek))"
   ]
  },
  {
   "cell_type": "code",
   "execution_count": 88,
   "metadata": {
    "ExecuteTime": {
     "end_time": "2019-04-18T02:43:45.085400Z",
     "start_time": "2019-04-18T02:43:45.053401Z"
    }
   },
   "outputs": [
    {
     "data": {
      "text/plain": [
       "229262"
      ]
     },
     "execution_count": 88,
     "metadata": {},
     "output_type": "execute_result"
    }
   ],
   "source": [
    "open('huncoords.json','w').write(json.dumps(huncoords))"
   ]
  },
  {
   "cell_type": "code",
   "execution_count": null,
   "metadata": {},
   "outputs": [],
   "source": []
  }
 ],
 "metadata": {
  "kernelspec": {
   "display_name": "Python 3",
   "language": "python",
   "name": "python3"
  },
  "language_info": {
   "codemirror_mode": {
    "name": "ipython",
    "version": 3
   },
   "file_extension": ".py",
   "mimetype": "text/x-python",
   "name": "python",
   "nbconvert_exporter": "python",
   "pygments_lexer": "ipython3",
   "version": "3.7.0"
  },
  "toc": {
   "base_numbering": 1,
   "nav_menu": {},
   "number_sections": true,
   "sideBar": true,
   "skip_h1_title": false,
   "title_cell": "Table of Contents",
   "title_sidebar": "Contents",
   "toc_cell": false,
   "toc_position": {},
   "toc_section_display": true,
   "toc_window_display": false
  }
 },
 "nbformat": 4,
 "nbformat_minor": 2
}
