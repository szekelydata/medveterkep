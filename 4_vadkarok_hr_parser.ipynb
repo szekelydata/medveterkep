{
 "cells": [
  {
   "cell_type": "code",
   "execution_count": 3,
   "metadata": {
    "ExecuteTime": {
     "end_time": "2019-04-18T04:54:01.973517Z",
     "start_time": "2019-04-18T04:53:52.656512Z"
    }
   },
   "outputs": [],
   "source": [
    "import urllib.request as req\n",
    "#!pip install fastkml\n",
    "from fastkml import kml\n",
    "import pandas as pd\n",
    "import re"
   ]
  },
  {
   "cell_type": "code",
   "execution_count": 4,
   "metadata": {
    "ExecuteTime": {
     "end_time": "2019-04-18T05:35:08.960146Z",
     "start_time": "2019-04-18T05:35:08.955131Z"
    }
   },
   "outputs": [],
   "source": [
    "# using the map from https://hargitamegye.ro/vadkarok/interaktiv-terkep.html\n",
    "# downloading in KML format\n",
    "url = 'http://www.google.com/maps/d/kml?forcekml=1&mid=1sIXAUcYDAkCBUzw_6DZelr1rt48'"
   ]
  },
  {
   "cell_type": "code",
   "execution_count": 5,
   "metadata": {
    "ExecuteTime": {
     "end_time": "2019-04-18T05:35:10.107128Z",
     "start_time": "2019-04-18T05:35:09.126127Z"
    }
   },
   "outputs": [],
   "source": [
    "fname, _ = req.urlretrieve(url)\n",
    "k = kml.KML()\n",
    "\n",
    "with open(fname, 'rt', encoding='utf-8') as f:\n",
    "    k.from_string(f.read().encode('utf-8'))"
   ]
  },
  {
   "cell_type": "code",
   "execution_count": 6,
   "metadata": {
    "ExecuteTime": {
     "end_time": "2019-04-18T05:35:10.194128Z",
     "start_time": "2019-04-18T05:35:10.111128Z"
    }
   },
   "outputs": [],
   "source": [
    "columns_raw = ['geo_loc', 'latitude', 'longitude', 'content', 'image']\n",
    "df = pd.DataFrame(columns=columns_raw)"
   ]
  },
  {
   "cell_type": "code",
   "execution_count": 7,
   "metadata": {
    "ExecuteTime": {
     "end_time": "2019-04-18T05:35:10.218129Z",
     "start_time": "2019-04-18T05:35:10.199130Z"
    }
   },
   "outputs": [],
   "source": [
    "folders = next(k.features()).features()"
   ]
  },
  {
   "cell_type": "code",
   "execution_count": 8,
   "metadata": {
    "ExecuteTime": {
     "end_time": "2019-04-18T05:35:12.236139Z",
     "start_time": "2019-04-18T05:35:10.222130Z"
    }
   },
   "outputs": [],
   "source": [
    "# parse KML, insert data into dataframe\n",
    "for f in folders:\n",
    "    for pm in f.features():\n",
    "        lon, lat, _ =  pm.geometry.coords[0]\n",
    "        media_ln = ''\n",
    "        if pm.extended_data is not None:\n",
    "            media_ln = pm.extended_data.elements[0].value\n",
    "        df = df.append({\n",
    "                    'geo_loc': pm.name, \n",
    "                    'latitude': lat, \n",
    "                    'longitude': lon, \n",
    "                    'content': pm.description, \n",
    "                    'image': media_ln}, \n",
    "                ignore_index=True)"
   ]
  },
  {
   "cell_type": "code",
   "execution_count": 9,
   "metadata": {
    "ExecuteTime": {
     "end_time": "2019-04-18T05:35:12.250130Z",
     "start_time": "2019-04-18T05:35:12.243139Z"
    }
   },
   "outputs": [],
   "source": [
    "def remove_links(desc):\n",
    "    '''\n",
    "        Input: description extracted from KML files\n",
    "        Output: description without the links of attached images\n",
    "    '''\n",
    "    desc = desc.lstrip().rstrip()\n",
    "    desc = re.sub(r'<img[^>]*/>', '', desc)\n",
    "    desc = re.sub(r'<br>', '', desc)\n",
    "    return desc"
   ]
  },
  {
   "cell_type": "code",
   "execution_count": 10,
   "metadata": {
    "ExecuteTime": {
     "end_time": "2019-04-18T05:35:12.278134Z",
     "start_time": "2019-04-18T05:35:12.254133Z"
    }
   },
   "outputs": [],
   "source": [
    "df['content'] = df['content'].apply(remove_links)"
   ]
  },
  {
   "cell_type": "code",
   "execution_count": 11,
   "metadata": {
    "ExecuteTime": {
     "end_time": "2019-04-18T05:35:12.344131Z",
     "start_time": "2019-04-18T05:35:12.287127Z"
    }
   },
   "outputs": [],
   "source": [
    "dp = re.compile('([0-9]{4})[. ]+(január|február|március|április|május|június|július|' + \n",
    "                'augusztus|szeptember|október|november|december|[0-9]{1,2})[. ]+([0-9]{1,2})')\n",
    "\n",
    "def standardize_date(date_groups):\n",
    "    '''\n",
    "        Input: result of regexp match with 3 groups, corresponding to (year, month, day)\n",
    "        Output: (year, month, day) tuple, where month is converted to numerical format\n",
    "    '''\n",
    "    months_hu = [u'január', u'február', u'március', \n",
    "                 u'április', u'május', u'június', \n",
    "                 u'július', u'augusztus', u'szeptember', \n",
    "                 u'október', u'november', u'december']\n",
    "    \n",
    "    y, m, d = date_groups\n",
    "    \n",
    "    try: \n",
    "        m = str(months_hu.index(m) + 1)\n",
    "    except:\n",
    "        return y, m, d\n",
    "    \n",
    "    return y, m, d\n",
    "\n",
    "\n",
    "def get_date(desc):\n",
    "    '''\n",
    "        Input: description extracted from KML\n",
    "        Output: Finds dates in the description, returns it in pandas datetime format\n",
    "    '''\n",
    "    res = dp.search(desc)\n",
    "    if res is not None:\n",
    "        date = standardize_date(res.groups())\n",
    "    else:\n",
    "        date = ''\n",
    "    \n",
    "    return pd.to_datetime('-'.join(date))"
   ]
  },
  {
   "cell_type": "code",
   "execution_count": 12,
   "metadata": {
    "ExecuteTime": {
     "end_time": "2019-04-18T05:35:12.481134Z",
     "start_time": "2019-04-18T05:35:12.351132Z"
    }
   },
   "outputs": [],
   "source": [
    "df['date'] = df['content'].apply(get_date)"
   ]
  },
  {
   "cell_type": "code",
   "execution_count": 13,
   "metadata": {
    "ExecuteTime": {
     "end_time": "2019-04-18T05:35:12.505133Z",
     "start_time": "2019-04-18T05:35:12.492131Z"
    }
   },
   "outputs": [],
   "source": [
    "lnp = re.compile('https?://[^ ,]*')\n",
    "\n",
    "def get_link(desc):\n",
    "    '''\n",
    "        Input: description extracted from KML\n",
    "        Output: finds links to external news sites\n",
    "    '''\n",
    "    res = lnp.search(desc)\n",
    "    if res is not None:\n",
    "        ln = desc[res.start():res.end()]\n",
    "    else: \n",
    "        ln = 'https://hargitamegye.ro/vadkarok/interaktiv-terkep.html'\n",
    "        \n",
    "    return ln"
   ]
  },
  {
   "cell_type": "code",
   "execution_count": 14,
   "metadata": {
    "ExecuteTime": {
     "end_time": "2019-04-18T05:35:12.535141Z",
     "start_time": "2019-04-18T05:35:12.513130Z"
    }
   },
   "outputs": [],
   "source": [
    "df['link'] = df['content'].apply(get_link)"
   ]
  },
  {
   "cell_type": "code",
   "execution_count": 15,
   "metadata": {
    "ExecuteTime": {
     "end_time": "2019-04-18T05:35:12.560132Z",
     "start_time": "2019-04-18T05:35:12.542135Z"
    }
   },
   "outputs": [],
   "source": [
    "def clean_content(desc):\n",
    "    '''\n",
    "        Input: description extracted from KML\n",
    "        Output: removes links from description\n",
    "    '''\n",
    "    if 'http' in desc:\n",
    "        return desc[:desc.find('http')]\n",
    "    else:\n",
    "        return desc"
   ]
  },
  {
   "cell_type": "code",
   "execution_count": 16,
   "metadata": {
    "ExecuteTime": {
     "end_time": "2019-04-18T05:35:12.601135Z",
     "start_time": "2019-04-18T05:35:12.565129Z"
    }
   },
   "outputs": [],
   "source": [
    "df['content'] = df['content'].apply(clean_content)"
   ]
  },
  {
   "cell_type": "code",
   "execution_count": 17,
   "metadata": {
    "ExecuteTime": {
     "end_time": "2019-04-18T05:35:12.685138Z",
     "start_time": "2019-04-18T05:35:12.605131Z"
    }
   },
   "outputs": [
    {
     "name": "stdout",
     "output_type": "stream",
     "text": [
      "224\n"
     ]
    },
    {
     "data": {
      "text/html": [
       "<div>\n",
       "<style scoped>\n",
       "    .dataframe tbody tr th:only-of-type {\n",
       "        vertical-align: middle;\n",
       "    }\n",
       "\n",
       "    .dataframe tbody tr th {\n",
       "        vertical-align: top;\n",
       "    }\n",
       "\n",
       "    .dataframe thead th {\n",
       "        text-align: right;\n",
       "    }\n",
       "</style>\n",
       "<table border=\"1\" class=\"dataframe\">\n",
       "  <thead>\n",
       "    <tr style=\"text-align: right;\">\n",
       "      <th></th>\n",
       "      <th>geo_loc</th>\n",
       "      <th>latitude</th>\n",
       "      <th>longitude</th>\n",
       "      <th>content</th>\n",
       "      <th>image</th>\n",
       "      <th>date</th>\n",
       "      <th>link</th>\n",
       "    </tr>\n",
       "  </thead>\n",
       "  <tbody>\n",
       "    <tr>\n",
       "      <th>0</th>\n",
       "      <td>Siménfalva</td>\n",
       "      <td>46.337221</td>\n",
       "      <td>25.107726</td>\n",
       "      <td>Kórházba került 2019. január 6-án, vasárnap eg...</td>\n",
       "      <td></td>\n",
       "      <td>2019-01-06</td>\n",
       "      <td>https://hargitamegye.ro/vadkarok/interaktiv-te...</td>\n",
       "    </tr>\n",
       "    <tr>\n",
       "      <th>1</th>\n",
       "      <td>Kőrispatak</td>\n",
       "      <td>46.417871</td>\n",
       "      <td>24.968825</td>\n",
       "      <td>2019. március 22-én 11 óra körül életveszélyes...</td>\n",
       "      <td></td>\n",
       "      <td>2019-03-22</td>\n",
       "      <td>https://hargitamegye.ro/vadkarok/interaktiv-te...</td>\n",
       "    </tr>\n",
       "    <tr>\n",
       "      <th>2</th>\n",
       "      <td>Székelyszenterzsébet</td>\n",
       "      <td>46.290531</td>\n",
       "      <td>24.935896</td>\n",
       "      <td>2018. február 6-án egy székelyszenterzsébeti f...</td>\n",
       "      <td></td>\n",
       "      <td>2018-02-06</td>\n",
       "      <td>https://hargitamegye.ro/vadkarok/interaktiv-te...</td>\n",
       "    </tr>\n",
       "    <tr>\n",
       "      <th>3</th>\n",
       "      <td>Homoródremete</td>\n",
       "      <td>46.292650</td>\n",
       "      <td>25.402600</td>\n",
       "      <td>A Homoródszentmárton községhez tartozó Homoród...</td>\n",
       "      <td>https://lh3.googleusercontent.com/Ehzdz9KPuyEb...</td>\n",
       "      <td>NaT</td>\n",
       "      <td>https://hargitamegye.ro/vadkarok/interaktiv-te...</td>\n",
       "    </tr>\n",
       "    <tr>\n",
       "      <th>4</th>\n",
       "      <td>Szent Anna-tó</td>\n",
       "      <td>46.126892</td>\n",
       "      <td>25.890094</td>\n",
       "      <td>Újabb medvetámadás áldozata került kórházba Ha...</td>\n",
       "      <td>https://lh5.googleusercontent.com/j298p_0ZiD5D...</td>\n",
       "      <td>NaT</td>\n",
       "      <td>https://hargitamegye.ro/vadkarok/interaktiv-te...</td>\n",
       "    </tr>\n",
       "    <tr>\n",
       "      <th>5</th>\n",
       "      <td>Tusnádfürdő</td>\n",
       "      <td>46.146075</td>\n",
       "      <td>25.856959</td>\n",
       "      <td>Újból emberre támadt a medve Hargita megyében,...</td>\n",
       "      <td>https://lh6.googleusercontent.com/Pzc10bLlhWJM...</td>\n",
       "      <td>NaT</td>\n",
       "      <td>https://hargitamegye.ro/vadkarok/interaktiv-te...</td>\n",
       "    </tr>\n",
       "    <tr>\n",
       "      <th>6</th>\n",
       "      <td>Tusnádfürdő</td>\n",
       "      <td>46.147443</td>\n",
       "      <td>25.860907</td>\n",
       "      <td>Újabb medvetámadás történt július 24-én éjjel ...</td>\n",
       "      <td></td>\n",
       "      <td>NaT</td>\n",
       "      <td>https://hargitamegye.ro/vadkarok/interaktiv-te...</td>\n",
       "    </tr>\n",
       "    <tr>\n",
       "      <th>7</th>\n",
       "      <td>Tusnádfürdő</td>\n",
       "      <td>46.143518</td>\n",
       "      <td>25.861250</td>\n",
       "      <td>2018. augusztus 5-én kora reggel a 28 éves tus...</td>\n",
       "      <td>https://lh6.googleusercontent.com/rHyfjJsaw0jk...</td>\n",
       "      <td>2018-08-05</td>\n",
       "      <td>https://hargitamegye.ro/vadkarok/interaktiv-te...</td>\n",
       "    </tr>\n",
       "    <tr>\n",
       "      <th>8</th>\n",
       "      <td>Tusnádfürdő</td>\n",
       "      <td>46.143697</td>\n",
       "      <td>25.852667</td>\n",
       "      <td>2018 augusztus 5-én kora reggel a 28 éves tusn...</td>\n",
       "      <td>https://lh3.googleusercontent.com/4UDOqPpshBDm...</td>\n",
       "      <td>2018-08-05</td>\n",
       "      <td>https://hargitamegye.ro/vadkarok/interaktiv-te...</td>\n",
       "    </tr>\n",
       "    <tr>\n",
       "      <th>9</th>\n",
       "      <td>Tarcsafalva</td>\n",
       "      <td>46.375859</td>\n",
       "      <td>25.130940</td>\n",
       "      <td>2018. augusztus 21-én emberre támadt a medve K...</td>\n",
       "      <td></td>\n",
       "      <td>2018-08-21</td>\n",
       "      <td>https://hargitamegye.ro/vadkarok/interaktiv-te...</td>\n",
       "    </tr>\n",
       "    <tr>\n",
       "      <th>10</th>\n",
       "      <td>Karcfalva</td>\n",
       "      <td>46.530569</td>\n",
       "      <td>25.761535</td>\n",
       "      <td>– Nyolc medve volt a kukoricásba! - meséli Pre...</td>\n",
       "      <td>https://lh3.googleusercontent.com/S82Pojbqfgo0...</td>\n",
       "      <td>NaT</td>\n",
       "      <td>https://hargitamegye.ro/vadkarok/interaktiv-te...</td>\n",
       "    </tr>\n",
       "    <tr>\n",
       "      <th>11</th>\n",
       "      <td>Csíkszentkirály</td>\n",
       "      <td>46.312080</td>\n",
       "      <td>25.821061</td>\n",
       "      <td>Szeptember 21-én újabb medvetámadás történt Cs...</td>\n",
       "      <td>https://lh5.googleusercontent.com/koAxxdjK7wZb...</td>\n",
       "      <td>NaT</td>\n",
       "      <td>https://hargitamegye.ro/vadkarok/interaktiv-te...</td>\n",
       "    </tr>\n",
       "    <tr>\n",
       "      <th>12</th>\n",
       "      <td>Kissolymos</td>\n",
       "      <td>46.338384</td>\n",
       "      <td>24.960462</td>\n",
       "      <td>Medve harapott meg egy pásztort a Hargita megy...</td>\n",
       "      <td></td>\n",
       "      <td>NaT</td>\n",
       "      <td>https://hargitamegye.ro/vadkarok/interaktiv-te...</td>\n",
       "    </tr>\n",
       "    <tr>\n",
       "      <th>13</th>\n",
       "      <td>Csíkszereda</td>\n",
       "      <td>46.371689</td>\n",
       "      <td>25.794850</td>\n",
       "      <td>Két sérülthöz riasztották 2017. április 30-án,...</td>\n",
       "      <td></td>\n",
       "      <td>2017-04-30</td>\n",
       "      <td>https://szekelyhon.ro/aktualis/medve-tamadt-ke...</td>\n",
       "    </tr>\n",
       "    <tr>\n",
       "      <th>14</th>\n",
       "      <td>Csíkdánfalva</td>\n",
       "      <td>46.515809</td>\n",
       "      <td>25.753395</td>\n",
       "      <td>Combján harapdált össze egy pásztort 2017. jún...</td>\n",
       "      <td>https://lh4.googleusercontent.com/nyguSjK-wpLO...</td>\n",
       "      <td>2017-06-24</td>\n",
       "      <td>https://szekelyhon.ro/aktualis/nappal-tamadt-e...</td>\n",
       "    </tr>\n",
       "  </tbody>\n",
       "</table>\n",
       "</div>"
      ],
      "text/plain": [
       "                 geo_loc   latitude  longitude  \\\n",
       "0             Siménfalva  46.337221  25.107726   \n",
       "1             Kőrispatak  46.417871  24.968825   \n",
       "2   Székelyszenterzsébet  46.290531  24.935896   \n",
       "3          Homoródremete  46.292650  25.402600   \n",
       "4          Szent Anna-tó  46.126892  25.890094   \n",
       "5            Tusnádfürdő  46.146075  25.856959   \n",
       "6            Tusnádfürdő  46.147443  25.860907   \n",
       "7            Tusnádfürdő  46.143518  25.861250   \n",
       "8            Tusnádfürdő  46.143697  25.852667   \n",
       "9            Tarcsafalva  46.375859  25.130940   \n",
       "10             Karcfalva  46.530569  25.761535   \n",
       "11       Csíkszentkirály  46.312080  25.821061   \n",
       "12            Kissolymos  46.338384  24.960462   \n",
       "13           Csíkszereda  46.371689  25.794850   \n",
       "14          Csíkdánfalva  46.515809  25.753395   \n",
       "\n",
       "                                              content  \\\n",
       "0   Kórházba került 2019. január 6-án, vasárnap eg...   \n",
       "1   2019. március 22-én 11 óra körül életveszélyes...   \n",
       "2   2018. február 6-án egy székelyszenterzsébeti f...   \n",
       "3   A Homoródszentmárton községhez tartozó Homoród...   \n",
       "4   Újabb medvetámadás áldozata került kórházba Ha...   \n",
       "5   Újból emberre támadt a medve Hargita megyében,...   \n",
       "6   Újabb medvetámadás történt július 24-én éjjel ...   \n",
       "7   2018. augusztus 5-én kora reggel a 28 éves tus...   \n",
       "8   2018 augusztus 5-én kora reggel a 28 éves tusn...   \n",
       "9   2018. augusztus 21-én emberre támadt a medve K...   \n",
       "10  – Nyolc medve volt a kukoricásba! - meséli Pre...   \n",
       "11  Szeptember 21-én újabb medvetámadás történt Cs...   \n",
       "12  Medve harapott meg egy pásztort a Hargita megy...   \n",
       "13  Két sérülthöz riasztották 2017. április 30-án,...   \n",
       "14  Combján harapdált össze egy pásztort 2017. jún...   \n",
       "\n",
       "                                                image       date  \\\n",
       "0                                                     2019-01-06   \n",
       "1                                                     2019-03-22   \n",
       "2                                                     2018-02-06   \n",
       "3   https://lh3.googleusercontent.com/Ehzdz9KPuyEb...        NaT   \n",
       "4   https://lh5.googleusercontent.com/j298p_0ZiD5D...        NaT   \n",
       "5   https://lh6.googleusercontent.com/Pzc10bLlhWJM...        NaT   \n",
       "6                                                            NaT   \n",
       "7   https://lh6.googleusercontent.com/rHyfjJsaw0jk... 2018-08-05   \n",
       "8   https://lh3.googleusercontent.com/4UDOqPpshBDm... 2018-08-05   \n",
       "9                                                     2018-08-21   \n",
       "10  https://lh3.googleusercontent.com/S82Pojbqfgo0...        NaT   \n",
       "11  https://lh5.googleusercontent.com/koAxxdjK7wZb...        NaT   \n",
       "12                                                           NaT   \n",
       "13                                                    2017-04-30   \n",
       "14  https://lh4.googleusercontent.com/nyguSjK-wpLO... 2017-06-24   \n",
       "\n",
       "                                                 link  \n",
       "0   https://hargitamegye.ro/vadkarok/interaktiv-te...  \n",
       "1   https://hargitamegye.ro/vadkarok/interaktiv-te...  \n",
       "2   https://hargitamegye.ro/vadkarok/interaktiv-te...  \n",
       "3   https://hargitamegye.ro/vadkarok/interaktiv-te...  \n",
       "4   https://hargitamegye.ro/vadkarok/interaktiv-te...  \n",
       "5   https://hargitamegye.ro/vadkarok/interaktiv-te...  \n",
       "6   https://hargitamegye.ro/vadkarok/interaktiv-te...  \n",
       "7   https://hargitamegye.ro/vadkarok/interaktiv-te...  \n",
       "8   https://hargitamegye.ro/vadkarok/interaktiv-te...  \n",
       "9   https://hargitamegye.ro/vadkarok/interaktiv-te...  \n",
       "10  https://hargitamegye.ro/vadkarok/interaktiv-te...  \n",
       "11  https://hargitamegye.ro/vadkarok/interaktiv-te...  \n",
       "12  https://hargitamegye.ro/vadkarok/interaktiv-te...  \n",
       "13  https://szekelyhon.ro/aktualis/medve-tamadt-ke...  \n",
       "14  https://szekelyhon.ro/aktualis/nappal-tamadt-e...  "
      ]
     },
     "execution_count": 17,
     "metadata": {},
     "output_type": "execute_result"
    }
   ],
   "source": [
    "print(len(df))\n",
    "\n",
    "df.head(15)"
   ]
  },
  {
   "cell_type": "code",
   "execution_count": 18,
   "metadata": {
    "ExecuteTime": {
     "end_time": "2019-04-18T05:35:12.704135Z",
     "start_time": "2019-04-18T05:35:12.691126Z"
    }
   },
   "outputs": [],
   "source": [
    "df['checked']=''\n",
    "df['exact_loc']=0\n",
    "df['source']='Vadkárok HR'\n",
    "df['title']=df['geo_loc']"
   ]
  },
  {
   "cell_type": "code",
   "execution_count": 19,
   "metadata": {
    "ExecuteTime": {
     "end_time": "2019-04-18T05:35:12.731132Z",
     "start_time": "2019-04-18T05:35:12.710143Z"
    }
   },
   "outputs": [],
   "source": [
    "from utils import text_processor"
   ]
  },
  {
   "cell_type": "code",
   "execution_count": 20,
   "metadata": {
    "ExecuteTime": {
     "end_time": "2019-04-18T05:35:13.310129Z",
     "start_time": "2019-04-18T05:35:12.736130Z"
    }
   },
   "outputs": [],
   "source": [
    "duplicate=[]\n",
    "relevant=[]\n",
    "severity=[]\n",
    "deaths=[]\n",
    "for i in df.index:\n",
    "    l=df.loc[i]['link']\n",
    "    d=0\n",
    "    if l:\n",
    "        if 'szekelyhon' in l: d=1\n",
    "    duplicate.append(d)\n",
    "    c=df.loc[i]['content']\n",
    "    t=df.loc[i]['title']\n",
    "    r,s,d=text_processor(t,c)\n",
    "    relevant.append(1) #override r\n",
    "    severity.append(s)\n",
    "    deaths.append(d)"
   ]
  },
  {
   "cell_type": "code",
   "execution_count": 21,
   "metadata": {
    "ExecuteTime": {
     "end_time": "2019-04-18T05:35:13.335144Z",
     "start_time": "2019-04-18T05:35:13.318129Z"
    }
   },
   "outputs": [],
   "source": [
    "df['duplicate']=duplicate\n",
    "df['relevant']=relevant\n",
    "df['severity']=severity\n",
    "df['deaths']=deaths"
   ]
  },
  {
   "cell_type": "code",
   "execution_count": 22,
   "metadata": {
    "ExecuteTime": {
     "end_time": "2019-04-18T05:35:14.130132Z",
     "start_time": "2019-04-18T05:35:14.111131Z"
    }
   },
   "outputs": [],
   "source": [
    "df=df[['checked',\n",
    "    'date',\n",
    "    'link',\n",
    "    'image',\n",
    "    'source',\n",
    "    'title',\n",
    "    'content',\n",
    "    'relevant',\n",
    "    'severity',\n",
    "    'deaths',\n",
    "    'duplicate',\n",
    "    'geo_loc',\n",
    "    'exact_loc',\n",
    "    'latitude',\n",
    "    'longitude']].set_index('checked')"
   ]
  },
  {
   "cell_type": "code",
   "execution_count": 23,
   "metadata": {
    "ExecuteTime": {
     "end_time": "2019-04-18T05:35:15.312135Z",
     "start_time": "2019-04-18T05:35:14.914135Z"
    }
   },
   "outputs": [
    {
     "name": "stderr",
     "output_type": "stream",
     "text": [
      "C:\\ProgramData\\Anaconda3\\lib\\site-packages\\xlsxwriter\\worksheet.py:915: UserWarning: Ignoring URL 'https://lh3.googleusercontent.com/S82Pojbqfgo0ecnD67_WS7dbnpwe5GOJVHHy5wki68iQZKni48N2xjgf1oYP17NdHMbi2u1XnZjwXXA1dni-QEiuTTHK9Z_2mdFJz12U-gTrLVDUYT1mt_hKVA%20https://lh3.googleusercontent.com/XdleGXGQRWFO8DYvW-7e6dCw8OheLPEsn555tEC6m5IWi5kPkDu2WSczDYoNeSRZUxG4lNQ6FUE-oFpg6gf-Wl1PYolHX40BAq_2wgrb24bvaszqt2wPyMfagpI' with link or location/anchor > 255 characters since it exceeds Excel's limit for URLS\n",
      "  force_unicode(url))\n"
     ]
    }
   ],
   "source": [
    "df.to_excel('data/vadkarok_hr.xlsx')"
   ]
  }
 ],
 "metadata": {
  "kernelspec": {
   "display_name": "Python 3",
   "language": "python",
   "name": "python3"
  },
  "language_info": {
   "codemirror_mode": {
    "name": "ipython",
    "version": 3
   },
   "file_extension": ".py",
   "mimetype": "text/x-python",
   "name": "python",
   "nbconvert_exporter": "python",
   "pygments_lexer": "ipython3",
   "version": "3.7.3"
  },
  "toc": {
   "base_numbering": 1,
   "nav_menu": {},
   "number_sections": true,
   "sideBar": true,
   "skip_h1_title": false,
   "title_cell": "Table of Contents",
   "title_sidebar": "Contents",
   "toc_cell": false,
   "toc_position": {},
   "toc_section_display": true,
   "toc_window_display": false
  }
 },
 "nbformat": 4,
 "nbformat_minor": 2
}
