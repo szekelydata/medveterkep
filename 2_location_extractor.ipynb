{
 "cells": [
  {
   "cell_type": "code",
   "execution_count": 1,
   "metadata": {
    "ExecuteTime": {
     "end_time": "2019-04-18T03:39:33.701263Z",
     "start_time": "2019-04-18T03:39:33.035262Z"
    }
   },
   "outputs": [],
   "source": [
    "import pandas as pd, numpy as np"
   ]
  },
  {
   "cell_type": "code",
   "execution_count": 2,
   "metadata": {
    "ExecuteTime": {
     "end_time": "2019-04-18T03:39:33.823266Z",
     "start_time": "2019-04-18T03:39:33.705265Z"
    }
   },
   "outputs": [],
   "source": [
    "dm=pd.read_excel('data/szekelyhon_medve.xlsx')\n",
    "dc=pd.read_excel('data/szekelyhon_medve_curated.xlsx')"
   ]
  },
  {
   "cell_type": "code",
   "execution_count": 3,
   "metadata": {
    "ExecuteTime": {
     "end_time": "2019-04-18T03:39:33.836262Z",
     "start_time": "2019-04-18T03:39:33.825260Z"
    }
   },
   "outputs": [],
   "source": [
    "dc=dc[(dc['duplicate']!=1)&(dc['relevant']==1)]"
   ]
  },
  {
   "cell_type": "code",
   "execution_count": 4,
   "metadata": {
    "ExecuteTime": {
     "end_time": "2019-04-18T03:39:33.870262Z",
     "start_time": "2019-04-18T03:39:33.840262Z"
    }
   },
   "outputs": [],
   "source": [
    "dc[\"uid\"] = dc[\"title\"].map(str) + dc[\"content\"]\n",
    "dm[\"uid\"] = dm[\"title\"].map(str) + dm[\"content\"]"
   ]
  },
  {
   "cell_type": "code",
   "execution_count": 5,
   "metadata": {
    "ExecuteTime": {
     "end_time": "2019-04-18T03:39:33.888264Z",
     "start_time": "2019-04-18T03:39:33.877270Z"
    }
   },
   "outputs": [],
   "source": [
    "dc=dc.set_index('uid')\n",
    "dm=dm.set_index('uid')"
   ]
  },
  {
   "cell_type": "code",
   "execution_count": 6,
   "metadata": {
    "ExecuteTime": {
     "end_time": "2019-04-18T03:39:33.905263Z",
     "start_time": "2019-04-18T03:39:33.892263Z"
    }
   },
   "outputs": [],
   "source": [
    "dmi=dm.loc[dc.index.dropna()]"
   ]
  },
  {
   "cell_type": "code",
   "execution_count": 7,
   "metadata": {
    "ExecuteTime": {
     "end_time": "2019-04-18T03:39:33.941267Z",
     "start_time": "2019-04-18T03:39:33.909271Z"
    }
   },
   "outputs": [],
   "source": [
    "df=dmi.merge(dc).drop_duplicates()"
   ]
  },
  {
   "cell_type": "markdown",
   "metadata": {
    "ExecuteTime": {
     "end_time": "2018-11-03T01:06:46.878487Z",
     "start_time": "2018-11-03T01:06:46.784487Z"
    }
   },
   "source": [
    "Working df ready. Now infer location."
   ]
  },
  {
   "cell_type": "code",
   "execution_count": 8,
   "metadata": {
    "ExecuteTime": {
     "end_time": "2019-04-18T03:39:34.251834Z",
     "start_time": "2019-04-18T03:39:34.244823Z"
    }
   },
   "outputs": [],
   "source": [
    "locs=df[['category','icategory','tags','title','content']]"
   ]
  },
  {
   "cell_type": "code",
   "execution_count": 9,
   "metadata": {
    "ExecuteTime": {
     "end_time": "2019-04-18T03:39:34.742497Z",
     "start_time": "2019-04-18T03:39:34.710500Z"
    }
   },
   "outputs": [
    {
     "data": {
      "text/html": [
       "<div>\n",
       "<style scoped>\n",
       "    .dataframe tbody tr th:only-of-type {\n",
       "        vertical-align: middle;\n",
       "    }\n",
       "\n",
       "    .dataframe tbody tr th {\n",
       "        vertical-align: top;\n",
       "    }\n",
       "\n",
       "    .dataframe thead th {\n",
       "        text-align: right;\n",
       "    }\n",
       "</style>\n",
       "<table border=\"1\" class=\"dataframe\">\n",
       "  <thead>\n",
       "    <tr style=\"text-align: right;\">\n",
       "      <th></th>\n",
       "      <th>category</th>\n",
       "      <th>icategory</th>\n",
       "      <th>tags</th>\n",
       "      <th>title</th>\n",
       "      <th>content</th>\n",
       "    </tr>\n",
       "  </thead>\n",
       "  <tbody>\n",
       "    <tr>\n",
       "      <th>0</th>\n",
       "      <td>aktualis</td>\n",
       "      <td>agerpres</td>\n",
       "      <td>['medve', 'Udvarhelyszék']</td>\n",
       "      <td>Videóra vették, ahogy elhurcolja a megölt tehe...</td>\n",
       "      <td>Három nap leforgása alatt három tehenet öltek ...</td>\n",
       "    </tr>\n",
       "    <tr>\n",
       "      <th>1</th>\n",
       "      <td>aktualis</td>\n",
       "      <td>csik</td>\n",
       "      <td>['Háromszék', 'medve']</td>\n",
       "      <td>Már a háromszéki prefektusnak is nagyon elege ...</td>\n",
       "      <td>Napról napra nagyobb gondot jelentenek a medvé...</td>\n",
       "    </tr>\n",
       "    <tr>\n",
       "      <th>2</th>\n",
       "      <td>aktualis</td>\n",
       "      <td>haromszek</td>\n",
       "      <td>['Háromszék', 'medve']</td>\n",
       "      <td>Kútba esett egy medve Bibarcfalván</td>\n",
       "      <td>Beleesett egy medve a kútba az erdővidéki Biba...</td>\n",
       "    </tr>\n",
       "    <tr>\n",
       "      <th>3</th>\n",
       "      <td>aktualis</td>\n",
       "      <td>csik</td>\n",
       "      <td>['medve', 'Székelyudvarhely']</td>\n",
       "      <td>Székelyudvarhely utcáin portyázott a bocsos medve</td>\n",
       "      <td>Videó is készült arról a bocsos anyamedvéről, ...</td>\n",
       "    </tr>\n",
       "    <tr>\n",
       "      <th>4</th>\n",
       "      <td>aktualis</td>\n",
       "      <td>udvarhely</td>\n",
       "      <td>['Homoródalmás', 'medve']</td>\n",
       "      <td>Letörte a csűr ajtaját is a medve a juhokért</td>\n",
       "      <td>Csűrbe zárta estére a megmaradt jószágait a ho...</td>\n",
       "    </tr>\n",
       "    <tr>\n",
       "      <th>5</th>\n",
       "      <td>vilag</td>\n",
       "      <td>udvarhely</td>\n",
       "      <td>['Belföld', 'medve']</td>\n",
       "      <td>Medve támadt egy lengyel turistára</td>\n",
       "      <td>Lengyel turistára támadt egy medve a Radnai-ha...</td>\n",
       "    </tr>\n",
       "    <tr>\n",
       "      <th>6</th>\n",
       "      <td>aktualis</td>\n",
       "      <td>csik</td>\n",
       "      <td>['Háromszék', 'medve']</td>\n",
       "      <td>Amikor négy tehén és három medve néz farkassze...</td>\n",
       "      <td>Azt, hogy leggyakrabban miként ér véget a medv...</td>\n",
       "    </tr>\n",
       "    <tr>\n",
       "      <th>7</th>\n",
       "      <td>aktualis</td>\n",
       "      <td>csik</td>\n",
       "      <td>['Csíksomlyó', 'medve']</td>\n",
       "      <td>Hárombocsos anyamedve közelítette meg a csíkso...</td>\n",
       "      <td>Egy hárombocsos anyamedve közelítette meg a Xa...</td>\n",
       "    </tr>\n",
       "    <tr>\n",
       "      <th>8</th>\n",
       "      <td>aktualis</td>\n",
       "      <td>csik</td>\n",
       "      <td>['Maros megye', 'medve']</td>\n",
       "      <td>Halálra gázoltak egy medvét, majd az úttesten ...</td>\n",
       "      <td>Elütöttek és az úton hagytak egy medvét kedden...</td>\n",
       "    </tr>\n",
       "    <tr>\n",
       "      <th>9</th>\n",
       "      <td>aktualis</td>\n",
       "      <td>agerpres</td>\n",
       "      <td>['Csíksomlyó', 'medve']</td>\n",
       "      <td>RO-Alert: Csíksomlyón jár a medve</td>\n",
       "      <td>A RO-Alert rendszeren keresztül figyelmeztette...</td>\n",
       "    </tr>\n",
       "    <tr>\n",
       "      <th>10</th>\n",
       "      <td>aktualis</td>\n",
       "      <td>agerpres</td>\n",
       "      <td>['Háromszék', 'medve']</td>\n",
       "      <td>Szétverték a medvék a szálloda egy részét</td>\n",
       "      <td>Jelentős kárt okoztak a héten egy bálványosi s...</td>\n",
       "    </tr>\n",
       "    <tr>\n",
       "      <th>11</th>\n",
       "      <td>aktualis</td>\n",
       "      <td>kronika_2016</td>\n",
       "      <td>['Háromszék', 'medve']</td>\n",
       "      <td>Emberre támadt a medve a háromszéki Nagyborosnyón</td>\n",
       "      <td>Emberre támadt a medve Nagyborosnyón csütörtök...</td>\n",
       "    </tr>\n",
       "    <tr>\n",
       "      <th>12</th>\n",
       "      <td>aktualis</td>\n",
       "      <td>csik</td>\n",
       "      <td>['medve', 'Tusnádfürdő']</td>\n",
       "      <td>Villanypásztor állja a kukázó medvék útját</td>\n",
       "      <td>Mivel önmagukban nem váltak be, tovább növelté...</td>\n",
       "    </tr>\n",
       "  </tbody>\n",
       "</table>\n",
       "</div>"
      ],
      "text/plain": [
       "    category     icategory                           tags  \\\n",
       "0   aktualis      agerpres     ['medve', 'Udvarhelyszék']   \n",
       "1   aktualis          csik         ['Háromszék', 'medve']   \n",
       "2   aktualis     haromszek         ['Háromszék', 'medve']   \n",
       "3   aktualis          csik  ['medve', 'Székelyudvarhely']   \n",
       "4   aktualis     udvarhely      ['Homoródalmás', 'medve']   \n",
       "5      vilag     udvarhely           ['Belföld', 'medve']   \n",
       "6   aktualis          csik         ['Háromszék', 'medve']   \n",
       "7   aktualis          csik        ['Csíksomlyó', 'medve']   \n",
       "8   aktualis          csik       ['Maros megye', 'medve']   \n",
       "9   aktualis      agerpres        ['Csíksomlyó', 'medve']   \n",
       "10  aktualis      agerpres         ['Háromszék', 'medve']   \n",
       "11  aktualis  kronika_2016         ['Háromszék', 'medve']   \n",
       "12  aktualis          csik       ['medve', 'Tusnádfürdő']   \n",
       "\n",
       "                                                title  \\\n",
       "0   Videóra vették, ahogy elhurcolja a megölt tehe...   \n",
       "1   Már a háromszéki prefektusnak is nagyon elege ...   \n",
       "2                  Kútba esett egy medve Bibarcfalván   \n",
       "3   Székelyudvarhely utcáin portyázott a bocsos medve   \n",
       "4        Letörte a csűr ajtaját is a medve a juhokért   \n",
       "5                  Medve támadt egy lengyel turistára   \n",
       "6   Amikor négy tehén és három medve néz farkassze...   \n",
       "7   Hárombocsos anyamedve közelítette meg a csíkso...   \n",
       "8   Halálra gázoltak egy medvét, majd az úttesten ...   \n",
       "9                   RO-Alert: Csíksomlyón jár a medve   \n",
       "10          Szétverték a medvék a szálloda egy részét   \n",
       "11  Emberre támadt a medve a háromszéki Nagyborosnyón   \n",
       "12         Villanypásztor állja a kukázó medvék útját   \n",
       "\n",
       "                                              content  \n",
       "0   Három nap leforgása alatt három tehenet öltek ...  \n",
       "1   Napról napra nagyobb gondot jelentenek a medvé...  \n",
       "2   Beleesett egy medve a kútba az erdővidéki Biba...  \n",
       "3   Videó is készült arról a bocsos anyamedvéről, ...  \n",
       "4   Csűrbe zárta estére a megmaradt jószágait a ho...  \n",
       "5   Lengyel turistára támadt egy medve a Radnai-ha...  \n",
       "6   Azt, hogy leggyakrabban miként ér véget a medv...  \n",
       "7   Egy hárombocsos anyamedve közelítette meg a Xa...  \n",
       "8   Elütöttek és az úton hagytak egy medvét kedden...  \n",
       "9   A RO-Alert rendszeren keresztül figyelmeztette...  \n",
       "10  Jelentős kárt okoztak a héten egy bálványosi s...  \n",
       "11  Emberre támadt a medve Nagyborosnyón csütörtök...  \n",
       "12  Mivel önmagukban nem váltak be, tovább növelté...  "
      ]
     },
     "execution_count": 9,
     "metadata": {},
     "output_type": "execute_result"
    }
   ],
   "source": [
    "locs"
   ]
  },
  {
   "cell_type": "code",
   "execution_count": 10,
   "metadata": {
    "ExecuteTime": {
     "end_time": "2019-04-18T03:39:35.768753Z",
     "start_time": "2019-04-18T03:39:35.764751Z"
    }
   },
   "outputs": [],
   "source": [
    "import json"
   ]
  },
  {
   "cell_type": "code",
   "execution_count": 11,
   "metadata": {
    "ExecuteTime": {
     "end_time": "2019-04-18T03:39:36.451645Z",
     "start_time": "2019-04-18T03:39:36.422649Z"
    }
   },
   "outputs": [],
   "source": [
    "lak=json.loads(open('geo/huncoords.json','r').read())\n",
    "megyek=json.loads(open('geo/megyek.json','r').read())"
   ]
  },
  {
   "cell_type": "code",
   "execution_count": 12,
   "metadata": {
    "ExecuteTime": {
     "end_time": "2019-04-18T03:45:46.996470Z",
     "start_time": "2019-04-18T03:45:46.991465Z"
    }
   },
   "outputs": [],
   "source": [
    "laks=[i for i in megyek.keys() if ((megyek[i]!='Más megye')and(i in lak.keys()))]"
   ]
  },
  {
   "cell_type": "code",
   "execution_count": 13,
   "metadata": {
    "ExecuteTime": {
     "end_time": "2019-04-18T03:45:48.371847Z",
     "start_time": "2019-04-18T03:45:48.364845Z"
    }
   },
   "outputs": [],
   "source": [
    "def levenshteinDistance(s1, s2):\n",
    "    if len(s1) > len(s2):\n",
    "        s1, s2 = s2, s1\n",
    "\n",
    "    distances = range(len(s1) + 1)\n",
    "    for i2, c2 in enumerate(s2):\n",
    "        distances_ = [i2+1]\n",
    "        for i1, c1 in enumerate(s1):\n",
    "            if c1 == c2:\n",
    "                distances_.append(distances[i1])\n",
    "            else:\n",
    "                distances_.append(1 + min((distances[i1], distances[i1 + 1], distances_[-1])))\n",
    "        distances = distances_\n",
    "    return distances[-1]"
   ]
  },
  {
   "cell_type": "code",
   "execution_count": 14,
   "metadata": {
    "ExecuteTime": {
     "end_time": "2019-04-18T03:46:16.321036Z",
     "start_time": "2019-04-18T03:45:49.054041Z"
    }
   },
   "outputs": [
    {
     "name": "stdout",
     "output_type": "stream",
     "text": [
      "3 Pálpataka\n",
      "5 Pálpataka Pálpataka\n",
      "5 Pálpataka Pálpatak\n",
      "3 Kovászna\n",
      "5 Kovászna Kovászna\n",
      "4 Bibarcfalván Bibarcfalva\n",
      "5 Bibarcfalván Bibarcfalva\n",
      "1 [\"medve\", \"Székelyudvarhely\"] Székelyudvarhely\n",
      "2 Székelyudvarhely\n",
      "3 Székelyudvarhely\n",
      "4 Székelyudvarhely Székelyudvarhely\n",
      "5 Szabók Szabéd\n",
      "5 Székelyudvarhely Székelyudvarhely\n",
      "1 [\"Homoródalmás\", \"medve\"] Homoródalmás\n",
      "5 homoródalmási Homoródalmás\n",
      "1 [\"Csíksomlyó\", \"medve\"] Csíksomlyó\n",
      "4 csíksomlyói Csíksomlyó\n",
      "5 csíksomlyói Csíksomlyó\n",
      "3 Körtvélyfája\n",
      "3 Petele\n",
      "3 Szászrégen\n",
      "5 Körtvélyfája Körtvélyfája\n",
      "5 Petele Kebele\n",
      "5 Petele Petele\n",
      "5 Szászrégen Szászrégen\n",
      "1 [\"Csíksomlyó\", \"medve\"] Csíksomlyó\n",
      "4 Csíksomlyón Csíksomlyó\n",
      "5 Csíksomlyón Csíksomlyó\n",
      "3 Nagyborosnyó\n",
      "4 Nagyborosnyón Nagyborosnyó\n",
      "5 Nagyborosnyón Nagyborosnyó\n",
      "5 Nagyborosnyó Nagyborosnyó\n",
      "1 [\"medve\", \"Tusnádfürdő\"] Tusnádfürdő\n",
      "5 Tusnádfürdőn: Tusnádfürdő\n"
     ]
    }
   ],
   "source": [
    "#look for perfect matches\n",
    "decoded_locs={}\n",
    "min_loc_len=5\n",
    "for i in locs.index:\n",
    "    if '[' in locs.loc[i]['tags']:\n",
    "        k=locs.loc[i]['tags'].replace(\"'\",'\"')\n",
    "        for j in json.loads(k):\n",
    "            if j in laks:\n",
    "                if i not in decoded_locs:decoded_locs[i]=[]\n",
    "                decoded_locs[i].append(j)\n",
    "                print('1',k,j)\n",
    "    for j in locs.loc[i]['title'].split():\n",
    "        if j in laks:\n",
    "            if i not in decoded_locs:decoded_locs[i]=[]\n",
    "            decoded_locs[i].append(j)\n",
    "            print('2',j)\n",
    "    for j in locs.loc[i]['content'].split():\n",
    "        if j in laks:\n",
    "            if i not in decoded_locs:decoded_locs[i]=[]\n",
    "            decoded_locs[i].append(j)\n",
    "            print('3',j)\n",
    "    for j in locs.loc[i]['title'].split():\n",
    "        for k in laks:\n",
    "            if ((len(j)>min_loc_len) and (len(k)>min_loc_len)):\n",
    "                if levenshteinDistance(j,k)<3:\n",
    "                    if i not in decoded_locs:decoded_locs[i]=[]\n",
    "                    decoded_locs[i].append(k)\n",
    "                    print('4',j,k)\n",
    "    for j in locs.loc[i]['content'].split():\n",
    "        for k in laks:\n",
    "            if ((len(j)>min_loc_len) and (len(k)>min_loc_len)):\n",
    "                if levenshteinDistance(j,k)<3:\n",
    "                    if i not in decoded_locs:decoded_locs[i]=[]\n",
    "                    decoded_locs[i].append(k)\n",
    "                    print('5',j,k)"
   ]
  },
  {
   "cell_type": "code",
   "execution_count": 22,
   "metadata": {
    "ExecuteTime": {
     "end_time": "2019-04-18T03:46:19.580037Z",
     "start_time": "2019-04-18T03:46:19.573034Z"
    }
   },
   "outputs": [],
   "source": [
    "predicted_locs=[]\n",
    "for i in range(len(locs.index)):\n",
    "    if locs.index[i] in decoded_locs: \n",
    "        dummy=list(set(decoded_locs[locs.index[i]]))\n",
    "        if len(dummy)==1:\n",
    "            dummy=dummy[0]\n",
    "        else:\n",
    "            dummy=repr(list(set(decoded_locs[locs.index[i]])))\n",
    "        predicted_locs.append(dummy)\n",
    "    else: \n",
    "        predicted_locs.append('')"
   ]
  },
  {
   "cell_type": "code",
   "execution_count": 23,
   "metadata": {
    "ExecuteTime": {
     "end_time": "2019-04-18T03:46:21.573034Z",
     "start_time": "2019-04-18T03:46:21.479047Z"
    }
   },
   "outputs": [
    {
     "name": "stderr",
     "output_type": "stream",
     "text": [
      "C:\\ProgramData\\Anaconda3\\lib\\site-packages\\ipykernel_launcher.py:1: SettingWithCopyWarning: \n",
      "A value is trying to be set on a copy of a slice from a DataFrame.\n",
      "Try using .loc[row_indexer,col_indexer] = value instead\n",
      "\n",
      "See the caveats in the documentation: http://pandas.pydata.org/pandas-docs/stable/indexing.html#indexing-view-versus-copy\n",
      "  \"\"\"Entry point for launching an IPython kernel.\n",
      "C:\\ProgramData\\Anaconda3\\lib\\site-packages\\ipykernel_launcher.py:2: SettingWithCopyWarning: \n",
      "A value is trying to be set on a copy of a slice from a DataFrame.\n",
      "Try using .loc[row_indexer,col_indexer] = value instead\n",
      "\n",
      "See the caveats in the documentation: http://pandas.pydata.org/pandas-docs/stable/indexing.html#indexing-view-versus-copy\n",
      "  \n"
     ]
    }
   ],
   "source": [
    "locs['predicted_locs']=predicted_locs\n",
    "locs['actual_locs']=predicted_locs"
   ]
  },
  {
   "cell_type": "code",
   "execution_count": 25,
   "metadata": {
    "ExecuteTime": {
     "end_time": "2019-04-18T03:46:22.294039Z",
     "start_time": "2019-04-18T03:46:22.285036Z"
    }
   },
   "outputs": [],
   "source": [
    "lm=locs[['title','content','predicted_locs','actual_locs']]"
   ]
  },
  {
   "cell_type": "code",
   "execution_count": 26,
   "metadata": {
    "ExecuteTime": {
     "end_time": "2019-04-18T03:46:29.143039Z",
     "start_time": "2019-04-18T03:46:28.921039Z"
    }
   },
   "outputs": [],
   "source": [
    "lm.to_excel('data/szekelyhon_locs.xlsx')\n",
    "lm.to_excel('data/szekelyhon_locs_curated.xlsx')"
   ]
  },
  {
   "cell_type": "markdown",
   "metadata": {},
   "source": [
    "Open `data/szekelyhon_locs_curated` and manually verify predicted locations. Amend `actual_locs` where necessary."
   ]
  }
 ],
 "metadata": {
  "kernelspec": {
   "display_name": "Python 3",
   "language": "python",
   "name": "python3"
  },
  "language_info": {
   "codemirror_mode": {
    "name": "ipython",
    "version": 3
   },
   "file_extension": ".py",
   "mimetype": "text/x-python",
   "name": "python",
   "nbconvert_exporter": "python",
   "pygments_lexer": "ipython3",
   "version": "3.7.3"
  },
  "toc": {
   "base_numbering": 1,
   "nav_menu": {},
   "number_sections": true,
   "sideBar": true,
   "skip_h1_title": false,
   "title_cell": "Table of Contents",
   "title_sidebar": "Contents",
   "toc_cell": false,
   "toc_position": {},
   "toc_section_display": true,
   "toc_window_display": false
  }
 },
 "nbformat": 4,
 "nbformat_minor": 2
}
