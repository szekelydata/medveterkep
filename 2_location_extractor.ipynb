{
 "cells": [
  {
   "cell_type": "code",
   "execution_count": 3,
   "metadata": {
    "ExecuteTime": {
     "end_time": "2019-04-18T03:39:33.701263Z",
     "start_time": "2019-04-18T03:39:33.035262Z"
    }
   },
   "outputs": [],
   "source": [
    "import pandas as pd, numpy as np"
   ]
  },
  {
   "cell_type": "code",
   "execution_count": 4,
   "metadata": {
    "ExecuteTime": {
     "end_time": "2019-04-18T03:39:33.823266Z",
     "start_time": "2019-04-18T03:39:33.705265Z"
    }
   },
   "outputs": [],
   "source": [
    "dm=pd.read_excel('data/szekelyhon_medve.xlsx')\n",
    "dc=pd.read_excel('data/szekelyhon_medve_curated.xlsx')"
   ]
  },
  {
   "cell_type": "code",
   "execution_count": 5,
   "metadata": {
    "ExecuteTime": {
     "end_time": "2019-04-18T03:39:33.836262Z",
     "start_time": "2019-04-18T03:39:33.825260Z"
    }
   },
   "outputs": [],
   "source": [
    "dc=dc[(dc['duplicate']!=1)&(dc['relevant']==1)]"
   ]
  },
  {
   "cell_type": "code",
   "execution_count": 6,
   "metadata": {
    "ExecuteTime": {
     "end_time": "2019-04-18T03:39:33.870262Z",
     "start_time": "2019-04-18T03:39:33.840262Z"
    }
   },
   "outputs": [],
   "source": [
    "dc[\"uid\"] = dc[\"title\"].map(str) + dc[\"content\"]\n",
    "dm[\"uid\"] = dm[\"title\"].map(str) + dm[\"content\"]"
   ]
  },
  {
   "cell_type": "code",
   "execution_count": 7,
   "metadata": {
    "ExecuteTime": {
     "end_time": "2019-04-18T03:39:33.888264Z",
     "start_time": "2019-04-18T03:39:33.877270Z"
    }
   },
   "outputs": [],
   "source": [
    "dc=dc.set_index('uid')\n",
    "dm=dm.set_index('uid')"
   ]
  },
  {
   "cell_type": "code",
   "execution_count": 8,
   "metadata": {
    "ExecuteTime": {
     "end_time": "2019-04-18T03:39:33.905263Z",
     "start_time": "2019-04-18T03:39:33.892263Z"
    }
   },
   "outputs": [],
   "source": [
    "dmi=dm.loc[dc.index.dropna()]"
   ]
  },
  {
   "cell_type": "code",
   "execution_count": 9,
   "metadata": {
    "ExecuteTime": {
     "end_time": "2019-04-18T03:39:33.941267Z",
     "start_time": "2019-04-18T03:39:33.909271Z"
    }
   },
   "outputs": [],
   "source": [
    "df=dmi.merge(dc).drop_duplicates()"
   ]
  },
  {
   "cell_type": "markdown",
   "metadata": {
    "ExecuteTime": {
     "end_time": "2018-11-03T01:06:46.878487Z",
     "start_time": "2018-11-03T01:06:46.784487Z"
    }
   },
   "source": [
    "Working df ready. Now infer location."
   ]
  },
  {
   "cell_type": "code",
   "execution_count": 10,
   "metadata": {
    "ExecuteTime": {
     "end_time": "2019-04-18T03:39:34.251834Z",
     "start_time": "2019-04-18T03:39:34.244823Z"
    }
   },
   "outputs": [],
   "source": [
    "locs=df[['category','icategory','tags','title','content']]"
   ]
  },
  {
   "cell_type": "code",
   "execution_count": 11,
   "metadata": {
    "ExecuteTime": {
     "end_time": "2019-04-18T03:39:34.742497Z",
     "start_time": "2019-04-18T03:39:34.710500Z"
    }
   },
   "outputs": [
    {
     "data": {
      "text/html": [
       "<div>\n",
       "<style scoped>\n",
       "    .dataframe tbody tr th:only-of-type {\n",
       "        vertical-align: middle;\n",
       "    }\n",
       "\n",
       "    .dataframe tbody tr th {\n",
       "        vertical-align: top;\n",
       "    }\n",
       "\n",
       "    .dataframe thead th {\n",
       "        text-align: right;\n",
       "    }\n",
       "</style>\n",
       "<table border=\"1\" class=\"dataframe\">\n",
       "  <thead>\n",
       "    <tr style=\"text-align: right;\">\n",
       "      <th></th>\n",
       "      <th>category</th>\n",
       "      <th>icategory</th>\n",
       "      <th>tags</th>\n",
       "      <th>title</th>\n",
       "      <th>content</th>\n",
       "    </tr>\n",
       "  </thead>\n",
       "  <tbody>\n",
       "    <tr>\n",
       "      <th>0</th>\n",
       "      <td>aktualis</td>\n",
       "      <td>csik</td>\n",
       "      <td>['Csíkszentkirály']</td>\n",
       "      <td>Medvét láttak Csíkszentkirályon – ez volt az é...</td>\n",
       "      <td>Csíkszentkirály utcáin ólálkodó medvére hívta ...</td>\n",
       "    </tr>\n",
       "    <tr>\n",
       "      <th>1</th>\n",
       "      <td>aktualis</td>\n",
       "      <td>agerpres</td>\n",
       "      <td>['Nézőpont', 'Székelyhon Tv']</td>\n",
       "      <td>Miért jár a medve iskolába? – Tánczos Barna a ...</td>\n",
       "      <td>Az egyik legösszetettebb ágazat, a környezetvé...</td>\n",
       "    </tr>\n",
       "    <tr>\n",
       "      <th>2</th>\n",
       "      <td>aktualis</td>\n",
       "      <td>agerpres</td>\n",
       "      <td>['Gyergyószék']</td>\n",
       "      <td>Medvebocsokat szedtek ki egy barlangból, vide...</td>\n",
       "      <td>Eljárás indult négy Neamț megyei férfi ellen, ...</td>\n",
       "    </tr>\n",
       "    <tr>\n",
       "      <th>3</th>\n",
       "      <td>aktualis</td>\n",
       "      <td>agerpres</td>\n",
       "      <td>['Gyergyószék', 'medve']</td>\n",
       "      <td>Nem találták meg a medvebocsokat</td>\n",
       "      <td>Folytatódik a hatósági vizsgálat annak a négy ...</td>\n",
       "    </tr>\n",
       "    <tr>\n",
       "      <th>4</th>\n",
       "      <td>aktualis</td>\n",
       "      <td>csik</td>\n",
       "      <td>['Háromszék', 'Környezetvédelem']</td>\n",
       "      <td>Mennyi medve van hat év semmittevés után?</td>\n",
       "      <td>Erre a kérdésre keresi első lépésben a választ...</td>\n",
       "    </tr>\n",
       "    <tr>\n",
       "      <th>5</th>\n",
       "      <td>aktualis</td>\n",
       "      <td>csik</td>\n",
       "      <td>['Marosvásárhely', 'medve']</td>\n",
       "      <td>Elköltöztetik a Vásárhelyen sétáló medvét</td>\n",
       "      <td>Marosvásárhely két erdőszéli utcájában több al...</td>\n",
       "    </tr>\n",
       "    <tr>\n",
       "      <th>6</th>\n",
       "      <td>aktualis</td>\n",
       "      <td>udvarhely</td>\n",
       "      <td>['Hargita megye', 'medve']</td>\n",
       "      <td>Újra aktívak a medvék, de még békén hagyják a...</td>\n",
       "      <td>Noha Hargita megyében már aktívak a medvék, a ...</td>\n",
       "    </tr>\n",
       "    <tr>\n",
       "      <th>7</th>\n",
       "      <td>aktualis</td>\n",
       "      <td>csik</td>\n",
       "      <td>['Gyergyószentmiklós', 'medve']</td>\n",
       "      <td>Gyergyószentmiklósi bevásárlóközpontnál járt e...</td>\n",
       "      <td>Egy kis termetű medve felbukkanása miatt riasz...</td>\n",
       "    </tr>\n",
       "    <tr>\n",
       "      <th>8</th>\n",
       "      <td>aktualis</td>\n",
       "      <td>csik</td>\n",
       "      <td>['Gyergyószentmiklós']</td>\n",
       "      <td>Ismét medvét láttak Gyergyószentmiklóson</td>\n",
       "      <td>Medve jelenlétére hívták fel a hatóságok figye...</td>\n",
       "    </tr>\n",
       "    <tr>\n",
       "      <th>9</th>\n",
       "      <td>aktualis</td>\n",
       "      <td>csik</td>\n",
       "      <td>['Gyergyószentmiklós', 'medve']</td>\n",
       "      <td>Nem tágít Gyergyószentmiklósról a medve</td>\n",
       "      <td>Háromszor is riasztották a hatóságokat az elmú...</td>\n",
       "    </tr>\n",
       "    <tr>\n",
       "      <th>10</th>\n",
       "      <td>aktualis</td>\n",
       "      <td>csik</td>\n",
       "      <td>['Gyergyóditró', 'medve']</td>\n",
       "      <td>Medve kószált Ditró központjában, a hatóságok ...</td>\n",
       "      <td>Gyergyóditró központjában bukkant fel egy kis ...</td>\n",
       "    </tr>\n",
       "    <tr>\n",
       "      <th>11</th>\n",
       "      <td>aktualis</td>\n",
       "      <td>csik</td>\n",
       "      <td>['Gyergyóditró', 'medve']</td>\n",
       "      <td>Medvés éjszaka Gyergyóditróban</td>\n",
       "      <td>Medvét láttak vasárnap éjjel Gyergyóditróban, ...</td>\n",
       "    </tr>\n",
       "    <tr>\n",
       "      <th>12</th>\n",
       "      <td>aktualis</td>\n",
       "      <td>gyergyo</td>\n",
       "      <td>['Gyergyóditró', 'medve']</td>\n",
       "      <td>Gyergyóditróból is elszállítanák a kukázó med...</td>\n",
       "      <td>Az illetékes minisztérium jóváhagyására várnak...</td>\n",
       "    </tr>\n",
       "    <tr>\n",
       "      <th>13</th>\n",
       "      <td>aktualis</td>\n",
       "      <td>2020_kepvalogatas</td>\n",
       "      <td>['Gyergyóditró', 'medve']</td>\n",
       "      <td>Visszavitték az erdőbe a Gyergyóditróban kószá...</td>\n",
       "      <td>Elkábították és visszavitték az erdőbe azt a m...</td>\n",
       "    </tr>\n",
       "    <tr>\n",
       "      <th>14</th>\n",
       "      <td>aktualis</td>\n",
       "      <td>agerpres</td>\n",
       "      <td>['Udvarhelyszék']</td>\n",
       "      <td>Medvebocson segítettek a hegyimentők</td>\n",
       "      <td>Hangos nyüszítése hívta fel a figyelmet egy ma...</td>\n",
       "    </tr>\n",
       "    <tr>\n",
       "      <th>15</th>\n",
       "      <td>aktualis</td>\n",
       "      <td>csik</td>\n",
       "      <td>['Gyergyószék', 'medve']</td>\n",
       "      <td>Focipályára fészkelte be magát bocsaival együt...</td>\n",
       "      <td>Egy anyamedve Marosfőn, a település közepén, e...</td>\n",
       "    </tr>\n",
       "    <tr>\n",
       "      <th>16</th>\n",
       "      <td>aktualis</td>\n",
       "      <td>csik</td>\n",
       "      <td>['Csíkkozmás', 'medve']</td>\n",
       "      <td>Medvék rohangáltak Csíkkozmáson</td>\n",
       "      <td>Fényes nappal Csíkkozmás utcáin rohanó medvékr...</td>\n",
       "    </tr>\n",
       "    <tr>\n",
       "      <th>17</th>\n",
       "      <td>aktualis</td>\n",
       "      <td>csik</td>\n",
       "      <td>['medve', 'Sepsiszentgyörgy']</td>\n",
       "      <td>Medveveszélyre figyelmeztetnek Sugásfürdőn</td>\n",
       "      <td>A Sepsiszentgyörgy és Sugásfürdő közötti útvon...</td>\n",
       "    </tr>\n",
       "    <tr>\n",
       "      <th>18</th>\n",
       "      <td>aktualis</td>\n",
       "      <td>2020_kepvalogatas</td>\n",
       "      <td>['Háromszék', 'medve']</td>\n",
       "      <td>Elszállítják a Sugásfürdő közelében bóklászó m...</td>\n",
       "      <td>Sepsiszentgyörgy és a közelben lévő Sugásfürdő...</td>\n",
       "    </tr>\n",
       "    <tr>\n",
       "      <th>19</th>\n",
       "      <td>aktualis</td>\n",
       "      <td>udvarhely</td>\n",
       "      <td>['medve', 'Udvarhelyszék']</td>\n",
       "      <td>Huszonegy juhot és bárányt marcangoltak szét ...</td>\n",
       "      <td>Összesen huszonegy juhot és bárányt sebesített...</td>\n",
       "    </tr>\n",
       "    <tr>\n",
       "      <th>20</th>\n",
       "      <td>aktualis</td>\n",
       "      <td>udvarhely</td>\n",
       "      <td>['medve', 'Tusnádfürdő']</td>\n",
       "      <td>Templom mellett járt, majd elhagyott épületben...</td>\n",
       "      <td>Egy kisebb termetű medve felbukkanása miatt ri...</td>\n",
       "    </tr>\n",
       "    <tr>\n",
       "      <th>21</th>\n",
       "      <td>aktualis</td>\n",
       "      <td>csik</td>\n",
       "      <td>['Csíkszereda', 'medve']</td>\n",
       "      <td>Medvét láttak a csíksomlyói sípályánál</td>\n",
       "      <td>Egy medve bukkant fel a csíksomlyói sípálya kö...</td>\n",
       "    </tr>\n",
       "    <tr>\n",
       "      <th>22</th>\n",
       "      <td>aktualis</td>\n",
       "      <td>udvarhely</td>\n",
       "      <td>['Csíksomlyó', 'medve']</td>\n",
       "      <td>Medvék jelenlétére figyelmeztetnek Csíksomlyón...</td>\n",
       "      <td>Kétbocsos anyamedve jelenlétére figyelmeztet a...</td>\n",
       "    </tr>\n",
       "    <tr>\n",
       "      <th>23</th>\n",
       "      <td>aktualis</td>\n",
       "      <td>agerpres</td>\n",
       "      <td>['Marosvásárhely', 'medve']</td>\n",
       "      <td>Belesétált a csapdába a Marosvásárhelyen időnk...</td>\n",
       "      <td>A neki felállított csapdába sétált szombatra v...</td>\n",
       "    </tr>\n",
       "    <tr>\n",
       "      <th>24</th>\n",
       "      <td>aktualis</td>\n",
       "      <td>csik</td>\n",
       "      <td>['medve', 'Tusnádfürdő']</td>\n",
       "      <td>Megkeserítik a mindennapokat: ismét több medv...</td>\n",
       "      <td>Az idő felmelegedésével újból előtérbe került ...</td>\n",
       "    </tr>\n",
       "    <tr>\n",
       "      <th>25</th>\n",
       "      <td>aktualis</td>\n",
       "      <td>udvarhely</td>\n",
       "      <td>['Farkaslaka', 'medve']</td>\n",
       "      <td>Több mint negyven jószágot pusztítottak el a ...</td>\n",
       "      <td>Több mint negyven bárányt és juhot pusztított ...</td>\n",
       "    </tr>\n",
       "    <tr>\n",
       "      <th>26</th>\n",
       "      <td>aktualis</td>\n",
       "      <td>udvarhely</td>\n",
       "      <td>['medve', 'Sepsiszentgyörgy']</td>\n",
       "      <td>Az Olt partján kóborló medve „ébresztette” a s...</td>\n",
       "      <td>Medvét láttak az Olt folyó partján – erre vona...</td>\n",
       "    </tr>\n",
       "    <tr>\n",
       "      <th>27</th>\n",
       "      <td>aktualis</td>\n",
       "      <td>agerpres</td>\n",
       "      <td>['Közlekedés', 'Kovászna megye']</td>\n",
       "      <td>Autó gázolt el egy medvét, elpusztult a vadállat</td>\n",
       "      <td>Elütöttek egy medvét vasárnap hajnalban a háro...</td>\n",
       "    </tr>\n",
       "    <tr>\n",
       "      <th>28</th>\n",
       "      <td>aktualis</td>\n",
       "      <td>udvarhely</td>\n",
       "      <td>['Farkaslaka', 'medve']</td>\n",
       "      <td>Sokasodnak a medvekárok Farkaslaka községben,...</td>\n",
       "      <td>Noha egyre több medve garázdálkodik, illetve a...</td>\n",
       "    </tr>\n",
       "  </tbody>\n",
       "</table>\n",
       "</div>"
      ],
      "text/plain": [
       "    category          icategory                               tags  \\\n",
       "0   aktualis               csik                ['Csíkszentkirály']   \n",
       "1   aktualis           agerpres      ['Nézőpont', 'Székelyhon Tv']   \n",
       "2   aktualis           agerpres                    ['Gyergyószék']   \n",
       "3   aktualis           agerpres           ['Gyergyószék', 'medve']   \n",
       "4   aktualis               csik  ['Háromszék', 'Környezetvédelem']   \n",
       "5   aktualis               csik        ['Marosvásárhely', 'medve']   \n",
       "6   aktualis          udvarhely         ['Hargita megye', 'medve']   \n",
       "7   aktualis               csik    ['Gyergyószentmiklós', 'medve']   \n",
       "8   aktualis               csik             ['Gyergyószentmiklós']   \n",
       "9   aktualis               csik    ['Gyergyószentmiklós', 'medve']   \n",
       "10  aktualis               csik          ['Gyergyóditró', 'medve']   \n",
       "11  aktualis               csik          ['Gyergyóditró', 'medve']   \n",
       "12  aktualis            gyergyo          ['Gyergyóditró', 'medve']   \n",
       "13  aktualis  2020_kepvalogatas          ['Gyergyóditró', 'medve']   \n",
       "14  aktualis           agerpres                  ['Udvarhelyszék']   \n",
       "15  aktualis               csik           ['Gyergyószék', 'medve']   \n",
       "16  aktualis               csik            ['Csíkkozmás', 'medve']   \n",
       "17  aktualis               csik      ['medve', 'Sepsiszentgyörgy']   \n",
       "18  aktualis  2020_kepvalogatas             ['Háromszék', 'medve']   \n",
       "19  aktualis          udvarhely         ['medve', 'Udvarhelyszék']   \n",
       "20  aktualis          udvarhely           ['medve', 'Tusnádfürdő']   \n",
       "21  aktualis               csik           ['Csíkszereda', 'medve']   \n",
       "22  aktualis          udvarhely            ['Csíksomlyó', 'medve']   \n",
       "23  aktualis           agerpres        ['Marosvásárhely', 'medve']   \n",
       "24  aktualis               csik           ['medve', 'Tusnádfürdő']   \n",
       "25  aktualis          udvarhely            ['Farkaslaka', 'medve']   \n",
       "26  aktualis          udvarhely      ['medve', 'Sepsiszentgyörgy']   \n",
       "27  aktualis           agerpres   ['Közlekedés', 'Kovászna megye']   \n",
       "28  aktualis          udvarhely            ['Farkaslaka', 'medve']   \n",
       "\n",
       "                                                title  \\\n",
       "0   Medvét láttak Csíkszentkirályon – ez volt az é...   \n",
       "1   Miért jár a medve iskolába? – Tánczos Barna a ...   \n",
       "2    Medvebocsokat szedtek ki egy barlangból, vide...   \n",
       "3                    Nem találták meg a medvebocsokat   \n",
       "4           Mennyi medve van hat év semmittevés után?   \n",
       "5           Elköltöztetik a Vásárhelyen sétáló medvét   \n",
       "6    Újra aktívak a medvék, de még békén hagyják a...   \n",
       "7   Gyergyószentmiklósi bevásárlóközpontnál járt e...   \n",
       "8            Ismét medvét láttak Gyergyószentmiklóson   \n",
       "9             Nem tágít Gyergyószentmiklósról a medve   \n",
       "10  Medve kószált Ditró központjában, a hatóságok ...   \n",
       "11                     Medvés éjszaka Gyergyóditróban   \n",
       "12   Gyergyóditróból is elszállítanák a kukázó med...   \n",
       "13  Visszavitték az erdőbe a Gyergyóditróban kószá...   \n",
       "14               Medvebocson segítettek a hegyimentők   \n",
       "15  Focipályára fészkelte be magát bocsaival együt...   \n",
       "16                    Medvék rohangáltak Csíkkozmáson   \n",
       "17         Medveveszélyre figyelmeztetnek Sugásfürdőn   \n",
       "18  Elszállítják a Sugásfürdő közelében bóklászó m...   \n",
       "19   Huszonegy juhot és bárányt marcangoltak szét ...   \n",
       "20  Templom mellett járt, majd elhagyott épületben...   \n",
       "21             Medvét láttak a csíksomlyói sípályánál   \n",
       "22  Medvék jelenlétére figyelmeztetnek Csíksomlyón...   \n",
       "23  Belesétált a csapdába a Marosvásárhelyen időnk...   \n",
       "24   Megkeserítik a mindennapokat: ismét több medv...   \n",
       "25   Több mint negyven jószágot pusztítottak el a ...   \n",
       "26  Az Olt partján kóborló medve „ébresztette” a s...   \n",
       "27   Autó gázolt el egy medvét, elpusztult a vadállat   \n",
       "28   Sokasodnak a medvekárok Farkaslaka községben,...   \n",
       "\n",
       "                                              content  \n",
       "0   Csíkszentkirály utcáin ólálkodó medvére hívta ...  \n",
       "1   Az egyik legösszetettebb ágazat, a környezetvé...  \n",
       "2   Eljárás indult négy Neamț megyei férfi ellen, ...  \n",
       "3   Folytatódik a hatósági vizsgálat annak a négy ...  \n",
       "4   Erre a kérdésre keresi első lépésben a választ...  \n",
       "5   Marosvásárhely két erdőszéli utcájában több al...  \n",
       "6   Noha Hargita megyében már aktívak a medvék, a ...  \n",
       "7   Egy kis termetű medve felbukkanása miatt riasz...  \n",
       "8   Medve jelenlétére hívták fel a hatóságok figye...  \n",
       "9   Háromszor is riasztották a hatóságokat az elmú...  \n",
       "10  Gyergyóditró központjában bukkant fel egy kis ...  \n",
       "11  Medvét láttak vasárnap éjjel Gyergyóditróban, ...  \n",
       "12  Az illetékes minisztérium jóváhagyására várnak...  \n",
       "13  Elkábították és visszavitték az erdőbe azt a m...  \n",
       "14  Hangos nyüszítése hívta fel a figyelmet egy ma...  \n",
       "15  Egy anyamedve Marosfőn, a település közepén, e...  \n",
       "16  Fényes nappal Csíkkozmás utcáin rohanó medvékr...  \n",
       "17  A Sepsiszentgyörgy és Sugásfürdő közötti útvon...  \n",
       "18  Sepsiszentgyörgy és a közelben lévő Sugásfürdő...  \n",
       "19  Összesen huszonegy juhot és bárányt sebesített...  \n",
       "20  Egy kisebb termetű medve felbukkanása miatt ri...  \n",
       "21  Egy medve bukkant fel a csíksomlyói sípálya kö...  \n",
       "22  Kétbocsos anyamedve jelenlétére figyelmeztet a...  \n",
       "23  A neki felállított csapdába sétált szombatra v...  \n",
       "24  Az idő felmelegedésével újból előtérbe került ...  \n",
       "25  Több mint negyven bárányt és juhot pusztított ...  \n",
       "26  Medvét láttak az Olt folyó partján – erre vona...  \n",
       "27  Elütöttek egy medvét vasárnap hajnalban a háro...  \n",
       "28  Noha egyre több medve garázdálkodik, illetve a...  "
      ]
     },
     "execution_count": 11,
     "metadata": {},
     "output_type": "execute_result"
    }
   ],
   "source": [
    "locs"
   ]
  },
  {
   "cell_type": "code",
   "execution_count": 12,
   "metadata": {
    "ExecuteTime": {
     "end_time": "2019-04-18T03:39:35.768753Z",
     "start_time": "2019-04-18T03:39:35.764751Z"
    }
   },
   "outputs": [],
   "source": [
    "import json"
   ]
  },
  {
   "cell_type": "code",
   "execution_count": 13,
   "metadata": {
    "ExecuteTime": {
     "end_time": "2019-04-18T03:39:36.451645Z",
     "start_time": "2019-04-18T03:39:36.422649Z"
    }
   },
   "outputs": [],
   "source": [
    "lak=json.loads(open('geo/huncoords.json','r').read())\n",
    "megyek=json.loads(open('geo/megyek.json','r').read())"
   ]
  },
  {
   "cell_type": "code",
   "execution_count": 14,
   "metadata": {
    "ExecuteTime": {
     "end_time": "2019-04-18T03:45:46.996470Z",
     "start_time": "2019-04-18T03:45:46.991465Z"
    }
   },
   "outputs": [],
   "source": [
    "laks=[i for i in megyek.keys() if ((megyek[i]!='Más megye')and(i in lak.keys()))]"
   ]
  },
  {
   "cell_type": "code",
   "execution_count": 15,
   "metadata": {
    "ExecuteTime": {
     "end_time": "2019-04-18T03:45:48.371847Z",
     "start_time": "2019-04-18T03:45:48.364845Z"
    }
   },
   "outputs": [],
   "source": [
    "def levenshteinDistance(s1, s2):\n",
    "    if len(s1) > len(s2):\n",
    "        s1, s2 = s2, s1\n",
    "\n",
    "    distances = range(len(s1) + 1)\n",
    "    for i2, c2 in enumerate(s2):\n",
    "        distances_ = [i2+1]\n",
    "        for i1, c1 in enumerate(s1):\n",
    "            if c1 == c2:\n",
    "                distances_.append(distances[i1])\n",
    "            else:\n",
    "                distances_.append(1 + min((distances[i1], distances[i1 + 1], distances_[-1])))\n",
    "        distances = distances_\n",
    "    return distances[-1]"
   ]
  },
  {
   "cell_type": "code",
   "execution_count": 16,
   "metadata": {
    "ExecuteTime": {
     "end_time": "2019-04-18T03:46:16.321036Z",
     "start_time": "2019-04-18T03:45:49.054041Z"
    }
   },
   "outputs": [
    {
     "name": "stdout",
     "output_type": "stream",
     "text": [
      "1 [\"Csíkszentkirály\"] Csíkszentkirály\n",
      "3 Csíkszentkirály\n",
      "4 Csíkszentkirályon Csíkszentkirály\n",
      "5 Csíkszentkirály Csíkszentkirály\n",
      "5 Csíkszentkirály Csíkszentmihály\n",
      "5 tavaly Haraly\n",
      "5 nyomán Nyomát\n",
      "5 keresi Keresd\n",
      "1 [\"Marosvásárhely\", \"medve\"] Marosvásárhely\n",
      "3 Marosvásárhely\n",
      "5 Marosvásárhely Marosvásárhely\n",
      "1 [\"Gyergyószentmiklós\", \"medve\"] Gyergyószentmiklós\n",
      "4 Gyergyószentmiklósi Gyergyószentmiklós\n",
      "5 Gyergyószentmiklóson Gyergyószentmiklós\n",
      "5 kereső Kerelő\n",
      "5 kereső Keresd\n",
      "1 [\"Gyergyószentmiklós\"] Gyergyószentmiklós\n",
      "4 Gyergyószentmiklóson Gyergyószentmiklós\n",
      "5 Gyergyószentmiklóson Gyergyószentmiklós\n",
      "1 [\"Gyergyószentmiklós\", \"medve\"] Gyergyószentmiklós\n",
      "2 Ditró\n",
      "5 Gyergyószentmiklósi Gyergyószentmiklós\n",
      "5 Vadász Vadasd\n",
      "5 magára Magura\n",
      "5 szentegyházi Szentegyháza\n",
      "4 Marosfőn Marosfő\n",
      "5 Marosfőn, Marosfő\n",
      "1 [\"medve\", \"Sepsiszentgyörgy\"] Sepsiszentgyörgy\n",
      "3 Sepsiszentgyörgy\n",
      "5 Sepsiszentgyörgy Sepsiszentgyörgy\n",
      "3 Sepsiszentgyörgy\n",
      "5 Sepsiszentgyörgy Sepsiszentgyörgy\n",
      "1 [\"medve\", \"Tusnádfürdő\"] Tusnádfürdő\n",
      "5 Tusnádfürdőn, Tusnádfürdő\n",
      "1 [\"Csíkszereda\", \"medve\"] Csíkszereda\n",
      "4 csíksomlyói Csíksomlyó\n",
      "5 csíksomlyói Csíksomlyó\n",
      "1 [\"Csíksomlyó\", \"medve\"] Csíksomlyó\n",
      "4 Csíksomlyón Csíksomlyó\n",
      "5 csíkszeredai Csíkszereda\n",
      "1 [\"Marosvásárhely\", \"medve\"] Marosvásárhely\n",
      "3 Ratosnya\n",
      "4 Marosvásárhelyen Marosvásárhely\n",
      "5 marosvásárhelyi Marosvásárhely\n",
      "5 Ratosnya Ratosnya\n",
      "1 [\"medve\", \"Tusnádfürdő\"] Tusnádfürdő\n",
      "2 Tusnádfürdő\n",
      "4 Tusnádfürdő Tusnádfürdő\n",
      "1 [\"Farkaslaka\", \"medve\"] Farkaslaka\n",
      "2 Farkaslaka\n",
      "4 Farkaslaka Farkaslaka\n",
      "5 farkaslaki Farkaslaka\n",
      "1 [\"medve\", \"Sepsiszentgyörgy\"] Sepsiszentgyörgy\n",
      "3 Kovászna\n",
      "5 Kovászna Kovászna\n",
      "3 Mikóújfalu\n",
      "3 Kovászna\n",
      "5 Mikóújfalu Mikóújfalu\n",
      "5 Kovászna Kovászna\n",
      "1 [\"Farkaslaka\", \"medve\"] Farkaslaka\n",
      "2 Farkaslaka\n",
      "3 Farkaslaka\n",
      "4 Farkaslaka Farkaslaka\n",
      "5 Farkaslaka Farkaslaka\n"
     ]
    }
   ],
   "source": [
    "#look for perfect matches\n",
    "decoded_locs={}\n",
    "min_loc_len=5\n",
    "for i in locs.index:\n",
    "    if '[' in locs.loc[i]['tags']:\n",
    "        k=locs.loc[i]['tags'].replace(\"'\",'\"')\n",
    "        for j in json.loads(k):\n",
    "            if j in laks:\n",
    "                if i not in decoded_locs:decoded_locs[i]=[]\n",
    "                decoded_locs[i].append(j)\n",
    "                print('1',k,j)\n",
    "    for j in locs.loc[i]['title'].split():\n",
    "        if j in laks:\n",
    "            if i not in decoded_locs:decoded_locs[i]=[]\n",
    "            decoded_locs[i].append(j)\n",
    "            print('2',j)\n",
    "    for j in locs.loc[i]['content'].split():\n",
    "        if j in laks:\n",
    "            if i not in decoded_locs:decoded_locs[i]=[]\n",
    "            decoded_locs[i].append(j)\n",
    "            print('3',j)\n",
    "    for j in locs.loc[i]['title'].split():\n",
    "        for k in laks:\n",
    "            if ((len(j)>min_loc_len) and (len(k)>min_loc_len)):\n",
    "                if levenshteinDistance(j,k)<3:\n",
    "                    if i not in decoded_locs:decoded_locs[i]=[]\n",
    "                    decoded_locs[i].append(k)\n",
    "                    print('4',j,k)\n",
    "    for j in locs.loc[i]['content'].split():\n",
    "        for k in laks:\n",
    "            if ((len(j)>min_loc_len) and (len(k)>min_loc_len)):\n",
    "                if levenshteinDistance(j,k)<3:\n",
    "                    if i not in decoded_locs:decoded_locs[i]=[]\n",
    "                    decoded_locs[i].append(k)\n",
    "                    print('5',j,k)"
   ]
  },
  {
   "cell_type": "code",
   "execution_count": 17,
   "metadata": {
    "ExecuteTime": {
     "end_time": "2019-04-18T03:46:19.580037Z",
     "start_time": "2019-04-18T03:46:19.573034Z"
    }
   },
   "outputs": [],
   "source": [
    "predicted_locs=[]\n",
    "for i in range(len(locs.index)):\n",
    "    if locs.index[i] in decoded_locs: \n",
    "        dummy=list(set(decoded_locs[locs.index[i]]))\n",
    "        if len(dummy)==1:\n",
    "            dummy=dummy[0]\n",
    "        else:\n",
    "            dummy=repr(list(set(decoded_locs[locs.index[i]])))\n",
    "        predicted_locs.append(dummy)\n",
    "    else: \n",
    "        predicted_locs.append('')"
   ]
  },
  {
   "cell_type": "code",
   "execution_count": 18,
   "metadata": {
    "ExecuteTime": {
     "end_time": "2019-04-18T03:46:21.573034Z",
     "start_time": "2019-04-18T03:46:21.479047Z"
    }
   },
   "outputs": [
    {
     "name": "stderr",
     "output_type": "stream",
     "text": [
      "<ipython-input-18-0909619aa9d9>:1: SettingWithCopyWarning: \n",
      "A value is trying to be set on a copy of a slice from a DataFrame.\n",
      "Try using .loc[row_indexer,col_indexer] = value instead\n",
      "\n",
      "See the caveats in the documentation: https://pandas.pydata.org/pandas-docs/stable/user_guide/indexing.html#returning-a-view-versus-a-copy\n",
      "  locs['predicted_locs']=predicted_locs\n",
      "<ipython-input-18-0909619aa9d9>:2: SettingWithCopyWarning: \n",
      "A value is trying to be set on a copy of a slice from a DataFrame.\n",
      "Try using .loc[row_indexer,col_indexer] = value instead\n",
      "\n",
      "See the caveats in the documentation: https://pandas.pydata.org/pandas-docs/stable/user_guide/indexing.html#returning-a-view-versus-a-copy\n",
      "  locs['actual_locs']=predicted_locs\n"
     ]
    }
   ],
   "source": [
    "locs['predicted_locs']=predicted_locs\n",
    "locs['actual_locs']=predicted_locs"
   ]
  },
  {
   "cell_type": "code",
   "execution_count": 19,
   "metadata": {
    "ExecuteTime": {
     "end_time": "2019-04-18T03:46:22.294039Z",
     "start_time": "2019-04-18T03:46:22.285036Z"
    }
   },
   "outputs": [],
   "source": [
    "lm=locs[['title','content','predicted_locs','actual_locs']]"
   ]
  },
  {
   "cell_type": "code",
   "execution_count": 20,
   "metadata": {
    "ExecuteTime": {
     "end_time": "2019-04-18T03:46:29.143039Z",
     "start_time": "2019-04-18T03:46:28.921039Z"
    }
   },
   "outputs": [],
   "source": [
    "lm.to_excel('data/szekelyhon_locs.xlsx')\n",
    "lm.to_excel('data/szekelyhon_locs_curated.xlsx')"
   ]
  },
  {
   "cell_type": "markdown",
   "metadata": {},
   "source": [
    "Open `data/szekelyhon_locs_curated` and manually verify predicted locations. Amend `actual_locs` where necessary."
   ]
  },
  {
   "cell_type": "code",
   "execution_count": null,
   "metadata": {},
   "outputs": [],
   "source": []
  },
  {
   "cell_type": "code",
   "execution_count": null,
   "metadata": {},
   "outputs": [],
   "source": []
  },
  {
   "cell_type": "code",
   "execution_count": null,
   "metadata": {},
   "outputs": [],
   "source": []
  },
  {
   "cell_type": "code",
   "execution_count": null,
   "metadata": {},
   "outputs": [],
   "source": []
  }
 ],
 "metadata": {
  "kernelspec": {
   "display_name": "Python 3",
   "language": "python",
   "name": "python3"
  },
  "language_info": {
   "codemirror_mode": {
    "name": "ipython",
    "version": 3
   },
   "file_extension": ".py",
   "mimetype": "text/x-python",
   "name": "python",
   "nbconvert_exporter": "python",
   "pygments_lexer": "ipython3",
   "version": "3.8.8"
  },
  "toc": {
   "base_numbering": 1,
   "nav_menu": {},
   "number_sections": true,
   "sideBar": true,
   "skip_h1_title": false,
   "title_cell": "Table of Contents",
   "title_sidebar": "Contents",
   "toc_cell": false,
   "toc_position": {},
   "toc_section_display": true,
   "toc_window_display": false
  }
 },
 "nbformat": 4,
 "nbformat_minor": 4
}
