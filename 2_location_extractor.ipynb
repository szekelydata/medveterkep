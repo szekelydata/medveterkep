{
 "cells": [
  {
   "cell_type": "code",
   "execution_count": 1,
   "metadata": {
    "ExecuteTime": {
     "end_time": "2019-04-18T03:39:33.701263Z",
     "start_time": "2019-04-18T03:39:33.035262Z"
    }
   },
   "outputs": [],
   "source": [
    "import pandas as pd, numpy as np"
   ]
  },
  {
   "cell_type": "code",
   "execution_count": 2,
   "metadata": {
    "ExecuteTime": {
     "end_time": "2019-04-18T03:39:33.823266Z",
     "start_time": "2019-04-18T03:39:33.705265Z"
    }
   },
   "outputs": [],
   "source": [
    "dm=pd.read_excel('data/szekelyhon_medve.xlsx')\n",
    "dc=pd.read_excel('data/szekelyhon_medve_curated.xlsx')"
   ]
  },
  {
   "cell_type": "code",
   "execution_count": 3,
   "metadata": {
    "ExecuteTime": {
     "end_time": "2019-04-18T03:39:33.836262Z",
     "start_time": "2019-04-18T03:39:33.825260Z"
    }
   },
   "outputs": [],
   "source": [
    "dc=dc[(dc['duplicate']!=1)&(dc['relevant']==1)]"
   ]
  },
  {
   "cell_type": "code",
   "execution_count": 4,
   "metadata": {
    "ExecuteTime": {
     "end_time": "2019-04-18T03:39:33.870262Z",
     "start_time": "2019-04-18T03:39:33.840262Z"
    }
   },
   "outputs": [],
   "source": [
    "dc[\"uid\"] = dc[\"title\"].map(str) + dc[\"content\"]\n",
    "dm[\"uid\"] = dm[\"title\"].map(str) + dm[\"content\"]"
   ]
  },
  {
   "cell_type": "code",
   "execution_count": 5,
   "metadata": {
    "ExecuteTime": {
     "end_time": "2019-04-18T03:39:33.888264Z",
     "start_time": "2019-04-18T03:39:33.877270Z"
    }
   },
   "outputs": [],
   "source": [
    "dc=dc.set_index('uid')\n",
    "dm=dm.set_index('uid')"
   ]
  },
  {
   "cell_type": "code",
   "execution_count": 6,
   "metadata": {
    "ExecuteTime": {
     "end_time": "2019-04-18T03:39:33.905263Z",
     "start_time": "2019-04-18T03:39:33.892263Z"
    }
   },
   "outputs": [],
   "source": [
    "dmi=dm.loc[dc.index.dropna()]"
   ]
  },
  {
   "cell_type": "code",
   "execution_count": 7,
   "metadata": {
    "ExecuteTime": {
     "end_time": "2019-04-18T03:39:33.941267Z",
     "start_time": "2019-04-18T03:39:33.909271Z"
    }
   },
   "outputs": [],
   "source": [
    "df=dmi.merge(dc).drop_duplicates()"
   ]
  },
  {
   "cell_type": "markdown",
   "metadata": {
    "ExecuteTime": {
     "end_time": "2018-11-03T01:06:46.878487Z",
     "start_time": "2018-11-03T01:06:46.784487Z"
    }
   },
   "source": [
    "Working df ready. Now infer location."
   ]
  },
  {
   "cell_type": "code",
   "execution_count": 8,
   "metadata": {
    "ExecuteTime": {
     "end_time": "2019-04-18T03:39:34.251834Z",
     "start_time": "2019-04-18T03:39:34.244823Z"
    }
   },
   "outputs": [],
   "source": [
    "locs=df[['category','icategory','tags','title','content']]"
   ]
  },
  {
   "cell_type": "code",
   "execution_count": 9,
   "metadata": {
    "ExecuteTime": {
     "end_time": "2019-04-18T03:39:34.742497Z",
     "start_time": "2019-04-18T03:39:34.710500Z"
    }
   },
   "outputs": [
    {
     "data": {
      "text/html": [
       "<div>\n",
       "<style scoped>\n",
       "    .dataframe tbody tr th:only-of-type {\n",
       "        vertical-align: middle;\n",
       "    }\n",
       "\n",
       "    .dataframe tbody tr th {\n",
       "        vertical-align: top;\n",
       "    }\n",
       "\n",
       "    .dataframe thead th {\n",
       "        text-align: right;\n",
       "    }\n",
       "</style>\n",
       "<table border=\"1\" class=\"dataframe\">\n",
       "  <thead>\n",
       "    <tr style=\"text-align: right;\">\n",
       "      <th></th>\n",
       "      <th>category</th>\n",
       "      <th>icategory</th>\n",
       "      <th>tags</th>\n",
       "      <th>title</th>\n",
       "      <th>content</th>\n",
       "    </tr>\n",
       "  </thead>\n",
       "  <tbody>\n",
       "    <tr>\n",
       "      <td>0</td>\n",
       "      <td>aktualis</td>\n",
       "      <td>udvarhely</td>\n",
       "      <td>['Brassó megye', 'medve', 'Székelyföld']</td>\n",
       "      <td>Medveprobléma: brüsszeli nyomásgyakorlásban bí...</td>\n",
       "      <td>Brüsszelben keresnek támogatást az egyre súlyo...</td>\n",
       "    </tr>\n",
       "    <tr>\n",
       "      <td>1</td>\n",
       "      <td>aktualis</td>\n",
       "      <td>udvarhely</td>\n",
       "      <td>['medve', 'Udvarhelyszék']</td>\n",
       "      <td>Sokkos állapotban került kórházba a medvetámad...</td>\n",
       "      <td>Mellkasi sérülései a legsúlyosabbak annak a fé...</td>\n",
       "    </tr>\n",
       "    <tr>\n",
       "      <td>2</td>\n",
       "      <td>aktualis</td>\n",
       "      <td>udvarhely</td>\n",
       "      <td>['medve', 'Székelykeresztúr']</td>\n",
       "      <td>Kilőnék a Hidegkúton emberre támadó medvét</td>\n",
       "      <td>Kérni fogja az engedélyt a székelykeresztúri H...</td>\n",
       "    </tr>\n",
       "    <tr>\n",
       "      <td>3</td>\n",
       "      <td>aktualis</td>\n",
       "      <td>csik</td>\n",
       "      <td>['Belföld', 'medve']</td>\n",
       "      <td>Szeben és Fehér megye is csatlakozott a „medve...</td>\n",
       "      <td>Szeben és Fehér megyék vezetői is aláírták az ...</td>\n",
       "    </tr>\n",
       "    <tr>\n",
       "      <td>4</td>\n",
       "      <td>aktualis</td>\n",
       "      <td>udvarhely</td>\n",
       "      <td>['Gazdaság', 'Hargita megye', 'medve']</td>\n",
       "      <td>Megtérítik a gazdáknak az elmúlt három évben t...</td>\n",
       "      <td>Biztosítják az önkormányzatok működését az ide...</td>\n",
       "    </tr>\n",
       "    <tr>\n",
       "      <td>5</td>\n",
       "      <td>aktualis</td>\n",
       "      <td>csik</td>\n",
       "      <td>['Csíksomlyó', 'medve']</td>\n",
       "      <td>Csíksomlyón jár a medve – figyelmeztet a Ro-Alert</td>\n",
       "      <td>Csíksomlyón, a sípálya környékén felbukkant me...</td>\n",
       "    </tr>\n",
       "    <tr>\n",
       "      <td>6</td>\n",
       "      <td>aktualis</td>\n",
       "      <td>udvarhely</td>\n",
       "      <td>['Háromszék', 'medve']</td>\n",
       "      <td>Kilőtték a medvét, amely május óta rettegésben...</td>\n",
       "      <td>Kilőtték hétvégén azt a medvét, amely május ót...</td>\n",
       "    </tr>\n",
       "    <tr>\n",
       "      <td>7</td>\n",
       "      <td>aktualis</td>\n",
       "      <td>udvarhely</td>\n",
       "      <td>['Hargita megye', 'Kovászna megye', 'Maros meg...</td>\n",
       "      <td>Számítani kell arra, hogy télen is aktívak leh...</td>\n",
       "      <td>Egyértelmű, hogy Székelyföldön még nem vonulta...</td>\n",
       "    </tr>\n",
       "    <tr>\n",
       "      <td>8</td>\n",
       "      <td>aktualis</td>\n",
       "      <td>udvarhely</td>\n",
       "      <td>['Gyergyószék', 'medve']</td>\n",
       "      <td>A háztáji gazdaságban levő összes birkát megöl...</td>\n",
       "      <td>Tizenegy birkát ölt meg a hétfőről keddre virr...</td>\n",
       "    </tr>\n",
       "  </tbody>\n",
       "</table>\n",
       "</div>"
      ],
      "text/plain": [
       "   category  icategory                                               tags  \\\n",
       "0  aktualis  udvarhely           ['Brassó megye', 'medve', 'Székelyföld']   \n",
       "1  aktualis  udvarhely                         ['medve', 'Udvarhelyszék']   \n",
       "2  aktualis  udvarhely                      ['medve', 'Székelykeresztúr']   \n",
       "3  aktualis       csik                               ['Belföld', 'medve']   \n",
       "4  aktualis  udvarhely             ['Gazdaság', 'Hargita megye', 'medve']   \n",
       "5  aktualis       csik                            ['Csíksomlyó', 'medve']   \n",
       "6  aktualis  udvarhely                             ['Háromszék', 'medve']   \n",
       "7  aktualis  udvarhely  ['Hargita megye', 'Kovászna megye', 'Maros meg...   \n",
       "8  aktualis  udvarhely                           ['Gyergyószék', 'medve']   \n",
       "\n",
       "                                               title  \\\n",
       "0  Medveprobléma: brüsszeli nyomásgyakorlásban bí...   \n",
       "1  Sokkos állapotban került kórházba a medvetámad...   \n",
       "2         Kilőnék a Hidegkúton emberre támadó medvét   \n",
       "3  Szeben és Fehér megye is csatlakozott a „medve...   \n",
       "4  Megtérítik a gazdáknak az elmúlt három évben t...   \n",
       "5  Csíksomlyón jár a medve – figyelmeztet a Ro-Alert   \n",
       "6  Kilőtték a medvét, amely május óta rettegésben...   \n",
       "7  Számítani kell arra, hogy télen is aktívak leh...   \n",
       "8  A háztáji gazdaságban levő összes birkát megöl...   \n",
       "\n",
       "                                             content  \n",
       "0  Brüsszelben keresnek támogatást az egyre súlyo...  \n",
       "1  Mellkasi sérülései a legsúlyosabbak annak a fé...  \n",
       "2  Kérni fogja az engedélyt a székelykeresztúri H...  \n",
       "3  Szeben és Fehér megyék vezetői is aláírták az ...  \n",
       "4  Biztosítják az önkormányzatok működését az ide...  \n",
       "5  Csíksomlyón, a sípálya környékén felbukkant me...  \n",
       "6  Kilőtték hétvégén azt a medvét, amely május ót...  \n",
       "7  Egyértelmű, hogy Székelyföldön még nem vonulta...  \n",
       "8  Tizenegy birkát ölt meg a hétfőről keddre virr...  "
      ]
     },
     "execution_count": 9,
     "metadata": {},
     "output_type": "execute_result"
    }
   ],
   "source": [
    "locs"
   ]
  },
  {
   "cell_type": "code",
   "execution_count": 10,
   "metadata": {
    "ExecuteTime": {
     "end_time": "2019-04-18T03:39:35.768753Z",
     "start_time": "2019-04-18T03:39:35.764751Z"
    }
   },
   "outputs": [],
   "source": [
    "import json"
   ]
  },
  {
   "cell_type": "code",
   "execution_count": 11,
   "metadata": {
    "ExecuteTime": {
     "end_time": "2019-04-18T03:39:36.451645Z",
     "start_time": "2019-04-18T03:39:36.422649Z"
    }
   },
   "outputs": [],
   "source": [
    "lak=json.loads(open('geo/huncoords.json','r').read())\n",
    "megyek=json.loads(open('geo/megyek.json','r').read())"
   ]
  },
  {
   "cell_type": "code",
   "execution_count": 12,
   "metadata": {
    "ExecuteTime": {
     "end_time": "2019-04-18T03:45:46.996470Z",
     "start_time": "2019-04-18T03:45:46.991465Z"
    }
   },
   "outputs": [],
   "source": [
    "laks=[i for i in megyek.keys() if ((megyek[i]!='Más megye')and(i in lak.keys()))]"
   ]
  },
  {
   "cell_type": "code",
   "execution_count": 13,
   "metadata": {
    "ExecuteTime": {
     "end_time": "2019-04-18T03:45:48.371847Z",
     "start_time": "2019-04-18T03:45:48.364845Z"
    }
   },
   "outputs": [],
   "source": [
    "def levenshteinDistance(s1, s2):\n",
    "    if len(s1) > len(s2):\n",
    "        s1, s2 = s2, s1\n",
    "\n",
    "    distances = range(len(s1) + 1)\n",
    "    for i2, c2 in enumerate(s2):\n",
    "        distances_ = [i2+1]\n",
    "        for i1, c1 in enumerate(s1):\n",
    "            if c1 == c2:\n",
    "                distances_.append(distances[i1])\n",
    "            else:\n",
    "                distances_.append(1 + min((distances[i1], distances[i1 + 1], distances_[-1])))\n",
    "        distances = distances_\n",
    "    return distances[-1]"
   ]
  },
  {
   "cell_type": "code",
   "execution_count": 14,
   "metadata": {
    "ExecuteTime": {
     "end_time": "2019-04-18T03:46:16.321036Z",
     "start_time": "2019-04-18T03:45:49.054041Z"
    }
   },
   "outputs": [
    {
     "name": "stdout",
     "output_type": "stream",
     "text": [
      "3 Brassó\n",
      "5 Kovászna, Kovászna\n",
      "5 Brassó Brassó\n",
      "5 hidegkúti Hidegkút\n",
      "1 [\"medve\", \"Székelykeresztúr\"] Székelykeresztúr\n",
      "4 Hidegkúton Hidegkút\n",
      "5 székelykeresztúri Székelykeresztúr\n",
      "1 [\"Csíksomlyó\", \"medve\"] Csíksomlyó\n",
      "4 Csíksomlyón Csíksomlyó\n",
      "5 Csíksomlyón, Csíksomlyó\n",
      "5 oltszemi Oltszem\n",
      "5 milyen Kilyén\n"
     ]
    }
   ],
   "source": [
    "#look for perfect matches\n",
    "decoded_locs={}\n",
    "min_loc_len=5\n",
    "for i in locs.index:\n",
    "    if '[' in locs.loc[i]['tags']:\n",
    "        k=locs.loc[i]['tags'].replace(\"'\",'\"')\n",
    "        for j in json.loads(k):\n",
    "            if j in laks:\n",
    "                if i not in decoded_locs:decoded_locs[i]=[]\n",
    "                decoded_locs[i].append(j)\n",
    "                print('1',k,j)\n",
    "    for j in locs.loc[i]['title'].split():\n",
    "        if j in laks:\n",
    "            if i not in decoded_locs:decoded_locs[i]=[]\n",
    "            decoded_locs[i].append(j)\n",
    "            print('2',j)\n",
    "    for j in locs.loc[i]['content'].split():\n",
    "        if j in laks:\n",
    "            if i not in decoded_locs:decoded_locs[i]=[]\n",
    "            decoded_locs[i].append(j)\n",
    "            print('3',j)\n",
    "    for j in locs.loc[i]['title'].split():\n",
    "        for k in laks:\n",
    "            if ((len(j)>min_loc_len) and (len(k)>min_loc_len)):\n",
    "                if levenshteinDistance(j,k)<3:\n",
    "                    if i not in decoded_locs:decoded_locs[i]=[]\n",
    "                    decoded_locs[i].append(k)\n",
    "                    print('4',j,k)\n",
    "    for j in locs.loc[i]['content'].split():\n",
    "        for k in laks:\n",
    "            if ((len(j)>min_loc_len) and (len(k)>min_loc_len)):\n",
    "                if levenshteinDistance(j,k)<3:\n",
    "                    if i not in decoded_locs:decoded_locs[i]=[]\n",
    "                    decoded_locs[i].append(k)\n",
    "                    print('5',j,k)"
   ]
  },
  {
   "cell_type": "code",
   "execution_count": 15,
   "metadata": {
    "ExecuteTime": {
     "end_time": "2019-04-18T03:46:19.580037Z",
     "start_time": "2019-04-18T03:46:19.573034Z"
    }
   },
   "outputs": [],
   "source": [
    "predicted_locs=[]\n",
    "for i in range(len(locs.index)):\n",
    "    if locs.index[i] in decoded_locs: \n",
    "        dummy=list(set(decoded_locs[locs.index[i]]))\n",
    "        if len(dummy)==1:\n",
    "            dummy=dummy[0]\n",
    "        else:\n",
    "            dummy=repr(list(set(decoded_locs[locs.index[i]])))\n",
    "        predicted_locs.append(dummy)\n",
    "    else: \n",
    "        predicted_locs.append('')"
   ]
  },
  {
   "cell_type": "code",
   "execution_count": 16,
   "metadata": {
    "ExecuteTime": {
     "end_time": "2019-04-18T03:46:21.573034Z",
     "start_time": "2019-04-18T03:46:21.479047Z"
    }
   },
   "outputs": [
    {
     "name": "stderr",
     "output_type": "stream",
     "text": [
      "C:\\ProgramData\\Anaconda3\\lib\\site-packages\\ipykernel_launcher.py:1: SettingWithCopyWarning: \n",
      "A value is trying to be set on a copy of a slice from a DataFrame.\n",
      "Try using .loc[row_indexer,col_indexer] = value instead\n",
      "\n",
      "See the caveats in the documentation: http://pandas.pydata.org/pandas-docs/stable/user_guide/indexing.html#returning-a-view-versus-a-copy\n",
      "  \"\"\"Entry point for launching an IPython kernel.\n",
      "C:\\ProgramData\\Anaconda3\\lib\\site-packages\\ipykernel_launcher.py:2: SettingWithCopyWarning: \n",
      "A value is trying to be set on a copy of a slice from a DataFrame.\n",
      "Try using .loc[row_indexer,col_indexer] = value instead\n",
      "\n",
      "See the caveats in the documentation: http://pandas.pydata.org/pandas-docs/stable/user_guide/indexing.html#returning-a-view-versus-a-copy\n",
      "  \n"
     ]
    }
   ],
   "source": [
    "locs['predicted_locs']=predicted_locs\n",
    "locs['actual_locs']=predicted_locs"
   ]
  },
  {
   "cell_type": "code",
   "execution_count": 17,
   "metadata": {
    "ExecuteTime": {
     "end_time": "2019-04-18T03:46:22.294039Z",
     "start_time": "2019-04-18T03:46:22.285036Z"
    }
   },
   "outputs": [],
   "source": [
    "lm=locs[['title','content','predicted_locs','actual_locs']]"
   ]
  },
  {
   "cell_type": "code",
   "execution_count": 18,
   "metadata": {
    "ExecuteTime": {
     "end_time": "2019-04-18T03:46:29.143039Z",
     "start_time": "2019-04-18T03:46:28.921039Z"
    }
   },
   "outputs": [],
   "source": [
    "lm.to_excel('data/szekelyhon_locs.xlsx')\n",
    "lm.to_excel('data/szekelyhon_locs_curated.xlsx')"
   ]
  },
  {
   "cell_type": "markdown",
   "metadata": {},
   "source": [
    "Open `data/szekelyhon_locs_curated` and manually verify predicted locations. Amend `actual_locs` where necessary."
   ]
  },
  {
   "cell_type": "code",
   "execution_count": null,
   "metadata": {},
   "outputs": [],
   "source": []
  }
 ],
 "metadata": {
  "kernelspec": {
   "display_name": "Python 3",
   "language": "python",
   "name": "python3"
  },
  "language_info": {
   "codemirror_mode": {
    "name": "ipython",
    "version": 3
   },
   "file_extension": ".py",
   "mimetype": "text/x-python",
   "name": "python",
   "nbconvert_exporter": "python",
   "pygments_lexer": "ipython3",
   "version": "3.7.4"
  },
  "toc": {
   "base_numbering": 1,
   "nav_menu": {},
   "number_sections": true,
   "sideBar": true,
   "skip_h1_title": false,
   "title_cell": "Table of Contents",
   "title_sidebar": "Contents",
   "toc_cell": false,
   "toc_position": {},
   "toc_section_display": true,
   "toc_window_display": false
  }
 },
 "nbformat": 4,
 "nbformat_minor": 4
}
