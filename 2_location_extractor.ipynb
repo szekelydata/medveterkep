{
 "cells": [
  {
   "cell_type": "code",
   "execution_count": 1,
   "metadata": {
    "ExecuteTime": {
     "end_time": "2019-04-18T03:39:33.701263Z",
     "start_time": "2019-04-18T03:39:33.035262Z"
    }
   },
   "outputs": [],
   "source": [
    "import pandas as pd, numpy as np"
   ]
  },
  {
   "cell_type": "code",
   "execution_count": 2,
   "metadata": {
    "ExecuteTime": {
     "end_time": "2019-04-18T03:39:33.823266Z",
     "start_time": "2019-04-18T03:39:33.705265Z"
    }
   },
   "outputs": [],
   "source": [
    "dm=pd.read_excel('data/szekelyhon_medve.xlsx')\n",
    "dc=pd.read_excel('data/szekelyhon_medve_curated.xlsx')"
   ]
  },
  {
   "cell_type": "code",
   "execution_count": 3,
   "metadata": {
    "ExecuteTime": {
     "end_time": "2019-04-18T03:39:33.836262Z",
     "start_time": "2019-04-18T03:39:33.825260Z"
    }
   },
   "outputs": [],
   "source": [
    "dc=dc[(dc['duplicate']!=1)&(dc['relevant']==1)]"
   ]
  },
  {
   "cell_type": "code",
   "execution_count": 4,
   "metadata": {
    "ExecuteTime": {
     "end_time": "2019-04-18T03:39:33.870262Z",
     "start_time": "2019-04-18T03:39:33.840262Z"
    }
   },
   "outputs": [],
   "source": [
    "dc[\"uid\"] = dc[\"title\"].map(str) + dc[\"content\"]\n",
    "dm[\"uid\"] = dm[\"title\"].map(str) + dm[\"content\"]"
   ]
  },
  {
   "cell_type": "code",
   "execution_count": 5,
   "metadata": {
    "ExecuteTime": {
     "end_time": "2019-04-18T03:39:33.888264Z",
     "start_time": "2019-04-18T03:39:33.877270Z"
    }
   },
   "outputs": [],
   "source": [
    "dc=dc.set_index('uid')\n",
    "dm=dm.set_index('uid')"
   ]
  },
  {
   "cell_type": "code",
   "execution_count": 6,
   "metadata": {
    "ExecuteTime": {
     "end_time": "2019-04-18T03:39:33.905263Z",
     "start_time": "2019-04-18T03:39:33.892263Z"
    }
   },
   "outputs": [],
   "source": [
    "dmi=dm.loc[dc.index.dropna()]"
   ]
  },
  {
   "cell_type": "code",
   "execution_count": 7,
   "metadata": {
    "ExecuteTime": {
     "end_time": "2019-04-18T03:39:33.941267Z",
     "start_time": "2019-04-18T03:39:33.909271Z"
    }
   },
   "outputs": [],
   "source": [
    "df=dmi.merge(dc).drop_duplicates()"
   ]
  },
  {
   "cell_type": "markdown",
   "metadata": {
    "ExecuteTime": {
     "end_time": "2018-11-03T01:06:46.878487Z",
     "start_time": "2018-11-03T01:06:46.784487Z"
    }
   },
   "source": [
    "Working df ready. Now infer location."
   ]
  },
  {
   "cell_type": "code",
   "execution_count": 8,
   "metadata": {
    "ExecuteTime": {
     "end_time": "2019-04-18T03:39:34.251834Z",
     "start_time": "2019-04-18T03:39:34.244823Z"
    }
   },
   "outputs": [],
   "source": [
    "locs=df[['category','icategory','tags','title','content']]"
   ]
  },
  {
   "cell_type": "code",
   "execution_count": 9,
   "metadata": {
    "ExecuteTime": {
     "end_time": "2019-04-18T03:39:34.742497Z",
     "start_time": "2019-04-18T03:39:34.710500Z"
    }
   },
   "outputs": [
    {
     "data": {
      "text/html": [
       "<div>\n",
       "<style scoped>\n",
       "    .dataframe tbody tr th:only-of-type {\n",
       "        vertical-align: middle;\n",
       "    }\n",
       "\n",
       "    .dataframe tbody tr th {\n",
       "        vertical-align: top;\n",
       "    }\n",
       "\n",
       "    .dataframe thead th {\n",
       "        text-align: right;\n",
       "    }\n",
       "</style>\n",
       "<table border=\"1\" class=\"dataframe\">\n",
       "  <thead>\n",
       "    <tr style=\"text-align: right;\">\n",
       "      <th></th>\n",
       "      <th>category</th>\n",
       "      <th>icategory</th>\n",
       "      <th>tags</th>\n",
       "      <th>title</th>\n",
       "      <th>content</th>\n",
       "    </tr>\n",
       "  </thead>\n",
       "  <tbody>\n",
       "    <tr>\n",
       "      <th>0</th>\n",
       "      <td>aktualis</td>\n",
       "      <td>udvarhely</td>\n",
       "      <td>['Etéd']</td>\n",
       "      <td>Elpusztult egy medve Etéd határában, orvvadász...</td>\n",
       "      <td>Sérült medve miatt riasztották a hatóságokat E...</td>\n",
       "    </tr>\n",
       "    <tr>\n",
       "      <th>1</th>\n",
       "      <td>aktualis</td>\n",
       "      <td>udvarhely</td>\n",
       "      <td>['Hargita megye', 'Háromszék', 'Marosszék']</td>\n",
       "      <td>Célkeresztben a „medvetörvény” – a vadászok sz...</td>\n",
       "      <td>A többéves tiltás után tavaly ugyan megszülete...</td>\n",
       "    </tr>\n",
       "    <tr>\n",
       "      <th>2</th>\n",
       "      <td>aktualis</td>\n",
       "      <td>udvarhely</td>\n",
       "      <td>['Háromszék', 'medve']</td>\n",
       "      <td>Tehetetlenek a lakók, az ablakból kénytelenek ...</td>\n",
       "      <td>Nemcsak éjszaka, hanem nappal is több medve já...</td>\n",
       "    </tr>\n",
       "    <tr>\n",
       "      <th>3</th>\n",
       "      <td>aktualis</td>\n",
       "      <td>vasarhely</td>\n",
       "      <td>['Felsőboldogfalva', 'medve']</td>\n",
       "      <td>Három juhot ölt meg a medve egy farcádi gazda ...</td>\n",
       "      <td>Három juhot ölt meg a medve a hétfőről keddre ...</td>\n",
       "    </tr>\n",
       "    <tr>\n",
       "      <th>4</th>\n",
       "      <td>aktualis</td>\n",
       "      <td>csik</td>\n",
       "      <td>['medve', 'Tusnádfürdő']</td>\n",
       "      <td>Áthelyezik egy másik területre a Tusnádfürdőre...</td>\n",
       "      <td>A hatóságok kérésére át fogják helyezni egy má...</td>\n",
       "    </tr>\n",
       "    <tr>\n",
       "      <th>5</th>\n",
       "      <td>aktualis</td>\n",
       "      <td>123rf</td>\n",
       "      <td>['Gyergyószék', 'medve', 'Udvarhelyszék']</td>\n",
       "      <td>Medvék miatt riasztották a hatóságokat és ébre...</td>\n",
       "      <td>Vaslábon egy ház udvarára, míg a Székelyudvarh...</td>\n",
       "    </tr>\n",
       "    <tr>\n",
       "      <th>6</th>\n",
       "      <td>aktualis</td>\n",
       "      <td>udvarhely</td>\n",
       "      <td>['Kovászna megye', 'medve']</td>\n",
       "      <td>Külön megelőzési kvótát és a medvekárok kifize...</td>\n",
       "      <td>A környezetvédelmi minisztérium a közvitára bo...</td>\n",
       "    </tr>\n",
       "    <tr>\n",
       "      <th>7</th>\n",
       "      <td>vilag</td>\n",
       "      <td>csik</td>\n",
       "      <td>['Belföld', 'medve']</td>\n",
       "      <td>A kormorán lekerülhet a védett fajok listájáró...</td>\n",
       "      <td>Képmutatásnak tartja Benkő Erika RMDSZ parlame...</td>\n",
       "    </tr>\n",
       "    <tr>\n",
       "      <th>8</th>\n",
       "      <td>aktualis</td>\n",
       "      <td>csik</td>\n",
       "      <td>['medve', 'Tusnád']</td>\n",
       "      <td>Medve hatolt be egy tusnádfürdői portára</td>\n",
       "      <td>Egy tusnádfürdői portára ment be egy medve csü...</td>\n",
       "    </tr>\n",
       "    <tr>\n",
       "      <th>9</th>\n",
       "      <td>aktualis</td>\n",
       "      <td>csik</td>\n",
       "      <td>['Gyergyószentmiklós', 'medve']</td>\n",
       "      <td>Hárombocsos anyamedve bukkant fel Gyergyószent...</td>\n",
       "      <td>Gyergyószentmiklós közelébe „tévedt” medvék mi...</td>\n",
       "    </tr>\n",
       "    <tr>\n",
       "      <th>10</th>\n",
       "      <td>aktualis</td>\n",
       "      <td>udvarhely</td>\n",
       "      <td>['medve', 'Udvarhelyszék']</td>\n",
       "      <td>Boncolás után úgy vélik, autó üthette el az el...</td>\n",
       "      <td>A tetemen elvégzett boncolás eredményei szerin...</td>\n",
       "    </tr>\n",
       "    <tr>\n",
       "      <th>11</th>\n",
       "      <td>aktualis</td>\n",
       "      <td>udvarhely</td>\n",
       "      <td>['Etéd', 'medve']</td>\n",
       "      <td>A villanypásztor sem állította meg a medvét</td>\n",
       "      <td>Nem először tört be medve az etédi Kelemen csa...</td>\n",
       "    </tr>\n",
       "  </tbody>\n",
       "</table>\n",
       "</div>"
      ],
      "text/plain": [
       "    category  icategory                                         tags  \\\n",
       "0   aktualis  udvarhely                                     ['Etéd']   \n",
       "1   aktualis  udvarhely  ['Hargita megye', 'Háromszék', 'Marosszék']   \n",
       "2   aktualis  udvarhely                       ['Háromszék', 'medve']   \n",
       "3   aktualis  vasarhely                ['Felsőboldogfalva', 'medve']   \n",
       "4   aktualis       csik                     ['medve', 'Tusnádfürdő']   \n",
       "5   aktualis      123rf    ['Gyergyószék', 'medve', 'Udvarhelyszék']   \n",
       "6   aktualis  udvarhely                  ['Kovászna megye', 'medve']   \n",
       "7      vilag       csik                         ['Belföld', 'medve']   \n",
       "8   aktualis       csik                          ['medve', 'Tusnád']   \n",
       "9   aktualis       csik              ['Gyergyószentmiklós', 'medve']   \n",
       "10  aktualis  udvarhely                   ['medve', 'Udvarhelyszék']   \n",
       "11  aktualis  udvarhely                            ['Etéd', 'medve']   \n",
       "\n",
       "                                                title  \\\n",
       "0   Elpusztult egy medve Etéd határában, orvvadász...   \n",
       "1   Célkeresztben a „medvetörvény” – a vadászok sz...   \n",
       "2   Tehetetlenek a lakók, az ablakból kénytelenek ...   \n",
       "3   Három juhot ölt meg a medve egy farcádi gazda ...   \n",
       "4   Áthelyezik egy másik területre a Tusnádfürdőre...   \n",
       "5   Medvék miatt riasztották a hatóságokat és ébre...   \n",
       "6   Külön megelőzési kvótát és a medvekárok kifize...   \n",
       "7   A kormorán lekerülhet a védett fajok listájáró...   \n",
       "8            Medve hatolt be egy tusnádfürdői portára   \n",
       "9   Hárombocsos anyamedve bukkant fel Gyergyószent...   \n",
       "10  Boncolás után úgy vélik, autó üthette el az el...   \n",
       "11        A villanypásztor sem állította meg a medvét   \n",
       "\n",
       "                                              content  \n",
       "0   Sérült medve miatt riasztották a hatóságokat E...  \n",
       "1   A többéves tiltás után tavaly ugyan megszülete...  \n",
       "2   Nemcsak éjszaka, hanem nappal is több medve já...  \n",
       "3   Három juhot ölt meg a medve a hétfőről keddre ...  \n",
       "4   A hatóságok kérésére át fogják helyezni egy má...  \n",
       "5   Vaslábon egy ház udvarára, míg a Székelyudvarh...  \n",
       "6   A környezetvédelmi minisztérium a közvitára bo...  \n",
       "7   Képmutatásnak tartja Benkő Erika RMDSZ parlame...  \n",
       "8   Egy tusnádfürdői portára ment be egy medve csü...  \n",
       "9   Gyergyószentmiklós közelébe „tévedt” medvék mi...  \n",
       "10  A tetemen elvégzett boncolás eredményei szerin...  \n",
       "11  Nem először tört be medve az etédi Kelemen csa...  "
      ]
     },
     "execution_count": 9,
     "metadata": {},
     "output_type": "execute_result"
    }
   ],
   "source": [
    "locs"
   ]
  },
  {
   "cell_type": "code",
   "execution_count": 10,
   "metadata": {
    "ExecuteTime": {
     "end_time": "2019-04-18T03:39:35.768753Z",
     "start_time": "2019-04-18T03:39:35.764751Z"
    }
   },
   "outputs": [],
   "source": [
    "import json"
   ]
  },
  {
   "cell_type": "code",
   "execution_count": 11,
   "metadata": {
    "ExecuteTime": {
     "end_time": "2019-04-18T03:39:36.451645Z",
     "start_time": "2019-04-18T03:39:36.422649Z"
    }
   },
   "outputs": [],
   "source": [
    "lak=json.loads(open('geo/huncoords.json','r').read())\n",
    "megyek=json.loads(open('geo/megyek.json','r').read())"
   ]
  },
  {
   "cell_type": "code",
   "execution_count": 12,
   "metadata": {
    "ExecuteTime": {
     "end_time": "2019-04-18T03:45:46.996470Z",
     "start_time": "2019-04-18T03:45:46.991465Z"
    }
   },
   "outputs": [],
   "source": [
    "laks=[i for i in megyek.keys() if ((megyek[i]!='Más megye')and(i in lak.keys()))]"
   ]
  },
  {
   "cell_type": "code",
   "execution_count": 13,
   "metadata": {
    "ExecuteTime": {
     "end_time": "2019-04-18T03:45:48.371847Z",
     "start_time": "2019-04-18T03:45:48.364845Z"
    }
   },
   "outputs": [],
   "source": [
    "def levenshteinDistance(s1, s2):\n",
    "    if len(s1) > len(s2):\n",
    "        s1, s2 = s2, s1\n",
    "\n",
    "    distances = range(len(s1) + 1)\n",
    "    for i2, c2 in enumerate(s2):\n",
    "        distances_ = [i2+1]\n",
    "        for i1, c1 in enumerate(s1):\n",
    "            if c1 == c2:\n",
    "                distances_.append(distances[i1])\n",
    "            else:\n",
    "                distances_.append(1 + min((distances[i1], distances[i1 + 1], distances_[-1])))\n",
    "        distances = distances_\n",
    "    return distances[-1]"
   ]
  },
  {
   "cell_type": "code",
   "execution_count": 14,
   "metadata": {
    "ExecuteTime": {
     "end_time": "2019-04-18T03:46:16.321036Z",
     "start_time": "2019-04-18T03:45:49.054041Z"
    }
   },
   "outputs": [
    {
     "name": "stdout",
     "output_type": "stream",
     "text": [
      "1 [\"Etéd\"] Etéd\n",
      "2 Etéd\n",
      "3 Etéd\n",
      "5 tavaly Haraly\n",
      "3 Zágon\n",
      "5 számos Ádámos\n",
      "1 [\"Felsőboldogfalva\", \"medve\"] Felsőboldogfalva\n",
      "4 farcádi Farcád\n",
      "1 [\"medve\", \"Tusnádfürdő\"] Tusnádfürdő\n",
      "4 Tusnádfürdőre Tusnádfürdő\n",
      "5 Tusnádfürdőre Tusnádfürdő\n",
      "5 Vaslábon Vasláb\n",
      "1 [\"medve\", \"Tusnád\"] Tusnád\n",
      "4 tusnádfürdői Tusnádfürdő\n",
      "5 tusnádfürdői Tusnádfürdő\n",
      "1 [\"Gyergyószentmiklós\", \"medve\"] Gyergyószentmiklós\n",
      "3 Gyergyószentmiklós\n",
      "5 Gyergyószentmiklós Gyergyószentmiklós\n",
      "3 Kőrispatak\n",
      "5 Kőrispatak Kőrispatak\n",
      "5 Kőrispatak Kispatak\n",
      "1 [\"Etéd\", \"medve\"] Etéd\n"
     ]
    }
   ],
   "source": [
    "#look for perfect matches\n",
    "decoded_locs={}\n",
    "min_loc_len=5\n",
    "for i in locs.index:\n",
    "    if '[' in locs.loc[i]['tags']:\n",
    "        k=locs.loc[i]['tags'].replace(\"'\",'\"')\n",
    "        for j in json.loads(k):\n",
    "            if j in laks:\n",
    "                if i not in decoded_locs:decoded_locs[i]=[]\n",
    "                decoded_locs[i].append(j)\n",
    "                print('1',k,j)\n",
    "    for j in locs.loc[i]['title'].split():\n",
    "        if j in laks:\n",
    "            if i not in decoded_locs:decoded_locs[i]=[]\n",
    "            decoded_locs[i].append(j)\n",
    "            print('2',j)\n",
    "    for j in locs.loc[i]['content'].split():\n",
    "        if j in laks:\n",
    "            if i not in decoded_locs:decoded_locs[i]=[]\n",
    "            decoded_locs[i].append(j)\n",
    "            print('3',j)\n",
    "    for j in locs.loc[i]['title'].split():\n",
    "        for k in laks:\n",
    "            if ((len(j)>min_loc_len) and (len(k)>min_loc_len)):\n",
    "                if levenshteinDistance(j,k)<3:\n",
    "                    if i not in decoded_locs:decoded_locs[i]=[]\n",
    "                    decoded_locs[i].append(k)\n",
    "                    print('4',j,k)\n",
    "    for j in locs.loc[i]['content'].split():\n",
    "        for k in laks:\n",
    "            if ((len(j)>min_loc_len) and (len(k)>min_loc_len)):\n",
    "                if levenshteinDistance(j,k)<3:\n",
    "                    if i not in decoded_locs:decoded_locs[i]=[]\n",
    "                    decoded_locs[i].append(k)\n",
    "                    print('5',j,k)"
   ]
  },
  {
   "cell_type": "code",
   "execution_count": 15,
   "metadata": {
    "ExecuteTime": {
     "end_time": "2019-04-18T03:46:19.580037Z",
     "start_time": "2019-04-18T03:46:19.573034Z"
    }
   },
   "outputs": [],
   "source": [
    "predicted_locs=[]\n",
    "for i in range(len(locs.index)):\n",
    "    if locs.index[i] in decoded_locs: \n",
    "        dummy=list(set(decoded_locs[locs.index[i]]))\n",
    "        if len(dummy)==1:\n",
    "            dummy=dummy[0]\n",
    "        else:\n",
    "            dummy=repr(list(set(decoded_locs[locs.index[i]])))\n",
    "        predicted_locs.append(dummy)\n",
    "    else: \n",
    "        predicted_locs.append('')"
   ]
  },
  {
   "cell_type": "code",
   "execution_count": 16,
   "metadata": {
    "ExecuteTime": {
     "end_time": "2019-04-18T03:46:21.573034Z",
     "start_time": "2019-04-18T03:46:21.479047Z"
    }
   },
   "outputs": [
    {
     "name": "stderr",
     "output_type": "stream",
     "text": [
      "C:\\ProgramData\\Anaconda3\\lib\\site-packages\\ipykernel_launcher.py:1: SettingWithCopyWarning: \n",
      "A value is trying to be set on a copy of a slice from a DataFrame.\n",
      "Try using .loc[row_indexer,col_indexer] = value instead\n",
      "\n",
      "See the caveats in the documentation: https://pandas.pydata.org/pandas-docs/stable/user_guide/indexing.html#returning-a-view-versus-a-copy\n",
      "  \"\"\"Entry point for launching an IPython kernel.\n",
      "C:\\ProgramData\\Anaconda3\\lib\\site-packages\\ipykernel_launcher.py:2: SettingWithCopyWarning: \n",
      "A value is trying to be set on a copy of a slice from a DataFrame.\n",
      "Try using .loc[row_indexer,col_indexer] = value instead\n",
      "\n",
      "See the caveats in the documentation: https://pandas.pydata.org/pandas-docs/stable/user_guide/indexing.html#returning-a-view-versus-a-copy\n",
      "  \n"
     ]
    }
   ],
   "source": [
    "locs['predicted_locs']=predicted_locs\n",
    "locs['actual_locs']=predicted_locs"
   ]
  },
  {
   "cell_type": "code",
   "execution_count": 17,
   "metadata": {
    "ExecuteTime": {
     "end_time": "2019-04-18T03:46:22.294039Z",
     "start_time": "2019-04-18T03:46:22.285036Z"
    }
   },
   "outputs": [],
   "source": [
    "lm=locs[['title','content','predicted_locs','actual_locs']]"
   ]
  },
  {
   "cell_type": "code",
   "execution_count": 18,
   "metadata": {
    "ExecuteTime": {
     "end_time": "2019-04-18T03:46:29.143039Z",
     "start_time": "2019-04-18T03:46:28.921039Z"
    }
   },
   "outputs": [],
   "source": [
    "lm.to_excel('data/szekelyhon_locs.xlsx')\n",
    "lm.to_excel('data/szekelyhon_locs_curated.xlsx')"
   ]
  },
  {
   "cell_type": "markdown",
   "metadata": {},
   "source": [
    "Open `data/szekelyhon_locs_curated` and manually verify predicted locations. Amend `actual_locs` where necessary."
   ]
  },
  {
   "cell_type": "code",
   "execution_count": null,
   "metadata": {},
   "outputs": [],
   "source": []
  }
 ],
 "metadata": {
  "kernelspec": {
   "display_name": "Python 3",
   "language": "python",
   "name": "python3"
  },
  "language_info": {
   "codemirror_mode": {
    "name": "ipython",
    "version": 3
   },
   "file_extension": ".py",
   "mimetype": "text/x-python",
   "name": "python",
   "nbconvert_exporter": "python",
   "pygments_lexer": "ipython3",
   "version": "3.7.4"
  },
  "toc": {
   "base_numbering": 1,
   "nav_menu": {},
   "number_sections": true,
   "sideBar": true,
   "skip_h1_title": false,
   "title_cell": "Table of Contents",
   "title_sidebar": "Contents",
   "toc_cell": false,
   "toc_position": {},
   "toc_section_display": true,
   "toc_window_display": false
  }
 },
 "nbformat": 4,
 "nbformat_minor": 4
}
