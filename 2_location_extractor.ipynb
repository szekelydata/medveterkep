{
 "cells": [
  {
   "cell_type": "code",
   "execution_count": 1,
   "metadata": {
    "ExecuteTime": {
     "end_time": "2019-04-18T03:39:33.701263Z",
     "start_time": "2019-04-18T03:39:33.035262Z"
    }
   },
   "outputs": [],
   "source": [
    "import pandas as pd, numpy as np"
   ]
  },
  {
   "cell_type": "code",
   "execution_count": 2,
   "metadata": {
    "ExecuteTime": {
     "end_time": "2019-04-18T03:39:33.823266Z",
     "start_time": "2019-04-18T03:39:33.705265Z"
    }
   },
   "outputs": [],
   "source": [
    "dm=pd.read_excel('data/szekelyhon_medve.xlsx')\n",
    "dc=pd.read_excel('data/szekelyhon_medve_curated.xlsx')"
   ]
  },
  {
   "cell_type": "code",
   "execution_count": 3,
   "metadata": {
    "ExecuteTime": {
     "end_time": "2019-04-18T03:39:33.836262Z",
     "start_time": "2019-04-18T03:39:33.825260Z"
    }
   },
   "outputs": [],
   "source": [
    "dc=dc[(dc['duplicate']!=1)&(dc['relevant']==1)]"
   ]
  },
  {
   "cell_type": "code",
   "execution_count": 4,
   "metadata": {
    "ExecuteTime": {
     "end_time": "2019-04-18T03:39:33.870262Z",
     "start_time": "2019-04-18T03:39:33.840262Z"
    }
   },
   "outputs": [],
   "source": [
    "dc[\"uid\"] = dc[\"title\"].map(str) + dc[\"content\"]\n",
    "dm[\"uid\"] = dm[\"title\"].map(str) + dm[\"content\"]"
   ]
  },
  {
   "cell_type": "code",
   "execution_count": 5,
   "metadata": {
    "ExecuteTime": {
     "end_time": "2019-04-18T03:39:33.888264Z",
     "start_time": "2019-04-18T03:39:33.877270Z"
    }
   },
   "outputs": [],
   "source": [
    "dc=dc.set_index('uid')\n",
    "dm=dm.set_index('uid')"
   ]
  },
  {
   "cell_type": "code",
   "execution_count": 6,
   "metadata": {
    "ExecuteTime": {
     "end_time": "2019-04-18T03:39:33.905263Z",
     "start_time": "2019-04-18T03:39:33.892263Z"
    }
   },
   "outputs": [],
   "source": [
    "dmi=dm.loc[dc.index.dropna()]"
   ]
  },
  {
   "cell_type": "code",
   "execution_count": 7,
   "metadata": {
    "ExecuteTime": {
     "end_time": "2019-04-18T03:39:33.941267Z",
     "start_time": "2019-04-18T03:39:33.909271Z"
    }
   },
   "outputs": [],
   "source": [
    "df=dmi.merge(dc).drop_duplicates()"
   ]
  },
  {
   "cell_type": "markdown",
   "metadata": {
    "ExecuteTime": {
     "end_time": "2018-11-03T01:06:46.878487Z",
     "start_time": "2018-11-03T01:06:46.784487Z"
    }
   },
   "source": [
    "Working df ready. Now infer location."
   ]
  },
  {
   "cell_type": "code",
   "execution_count": 8,
   "metadata": {
    "ExecuteTime": {
     "end_time": "2019-04-18T03:39:34.251834Z",
     "start_time": "2019-04-18T03:39:34.244823Z"
    }
   },
   "outputs": [],
   "source": [
    "locs=df[['category','icategory','tags','title','content']]"
   ]
  },
  {
   "cell_type": "code",
   "execution_count": 9,
   "metadata": {
    "ExecuteTime": {
     "end_time": "2019-04-18T03:39:34.742497Z",
     "start_time": "2019-04-18T03:39:34.710500Z"
    }
   },
   "outputs": [
    {
     "data": {
      "text/html": [
       "<div>\n",
       "<style scoped>\n",
       "    .dataframe tbody tr th:only-of-type {\n",
       "        vertical-align: middle;\n",
       "    }\n",
       "\n",
       "    .dataframe tbody tr th {\n",
       "        vertical-align: top;\n",
       "    }\n",
       "\n",
       "    .dataframe thead th {\n",
       "        text-align: right;\n",
       "    }\n",
       "</style>\n",
       "<table border=\"1\" class=\"dataframe\">\n",
       "  <thead>\n",
       "    <tr style=\"text-align: right;\">\n",
       "      <th></th>\n",
       "      <th>category</th>\n",
       "      <th>icategory</th>\n",
       "      <th>tags</th>\n",
       "      <th>title</th>\n",
       "      <th>content</th>\n",
       "    </tr>\n",
       "  </thead>\n",
       "  <tbody>\n",
       "    <tr>\n",
       "      <th>0</th>\n",
       "      <td>aktualis</td>\n",
       "      <td>udvarhely</td>\n",
       "      <td>['medve', 'Székelyudvarhely']</td>\n",
       "      <td>Még a rókák is kerülik az Udvarhelyhez közeli ...</td>\n",
       "      <td>A későbbiekben is érdemes elkerülni a Székelyu...</td>\n",
       "    </tr>\n",
       "    <tr>\n",
       "      <th>1</th>\n",
       "      <td>aktualis</td>\n",
       "      <td>udvarhely</td>\n",
       "      <td>['medve', 'Udvarhelyszék']</td>\n",
       "      <td>Elpusztult az Újszékely határában elgázolt med...</td>\n",
       "      <td>Egyedül bóklászó egyéves medvebocsot gázolt el...</td>\n",
       "    </tr>\n",
       "    <tr>\n",
       "      <th>2</th>\n",
       "      <td>aktualis</td>\n",
       "      <td>agerpres</td>\n",
       "      <td>['medve', 'Tusnádfürdő']</td>\n",
       "      <td>Újabb bocsot szabadítottak ki az egyik tusnádf...</td>\n",
       "      <td>Ismét medvebiztos szeméttárolóba rekedt egy bo...</td>\n",
       "    </tr>\n",
       "    <tr>\n",
       "      <th>3</th>\n",
       "      <td>aktualis</td>\n",
       "      <td>csik</td>\n",
       "      <td>['medve', 'Sepsiszentgyörgy']</td>\n",
       "      <td>Élesben a Ro-Alert: medve miatt riasztották a ...</td>\n",
       "      <td>A Ro-Alert riasztórendszeren keresztül figyelm...</td>\n",
       "    </tr>\n",
       "    <tr>\n",
       "      <th>4</th>\n",
       "      <td>aktualis</td>\n",
       "      <td>udvarhely</td>\n",
       "      <td>['medve', 'Udvarhelyszék']</td>\n",
       "      <td>Nem élte túl a kőrispataki medvetámadást az ál...</td>\n",
       "      <td>Rárontott és súlyosan megsebesített egy medve ...</td>\n",
       "    </tr>\n",
       "    <tr>\n",
       "      <th>5</th>\n",
       "      <td>aktualis</td>\n",
       "      <td>udvarhely</td>\n",
       "      <td>['medve', 'Udvarhelyszék']</td>\n",
       "      <td>Engedélyezik a kőrispataki férfit halálosan me...</td>\n",
       "      <td>Ha a környezetvédelmi minisztérium megkapja a ...</td>\n",
       "    </tr>\n",
       "    <tr>\n",
       "      <th>6</th>\n",
       "      <td>aktualis</td>\n",
       "      <td>udvarhely</td>\n",
       "      <td>['medve', 'Rendőrség', 'Udvarhelyszék']</td>\n",
       "      <td>Nyomozás indult a halálos medvetámadás miatt</td>\n",
       "      <td>A rendőrségi vizsgálatok szerint a Kőrispatako...</td>\n",
       "    </tr>\n",
       "    <tr>\n",
       "      <th>7</th>\n",
       "      <td>aktualis</td>\n",
       "      <td>udvarhely</td>\n",
       "      <td>['medve', 'Udvarhelyszék']</td>\n",
       "      <td>Ha „lecsillapodik” a kőrispataki medve, nem le...</td>\n",
       "      <td>Még várni kell a kőrispataki halálos kimenetel...</td>\n",
       "    </tr>\n",
       "    <tr>\n",
       "      <th>8</th>\n",
       "      <td>aktualis</td>\n",
       "      <td>agerpres</td>\n",
       "      <td>['medve', 'Sepsiszentgyörgy']</td>\n",
       "      <td>A medvehelyzet visszásságaira hívják fel a fig...</td>\n",
       "      <td>Egyre több lesz a vadkár és az áldozat a három...</td>\n",
       "    </tr>\n",
       "    <tr>\n",
       "      <th>9</th>\n",
       "      <td>aktualis</td>\n",
       "      <td>udvarhely</td>\n",
       "      <td>['Hargita megye', 'medve']</td>\n",
       "      <td>Adománygyűjtés a kőrispataki medvetámadásban á...</td>\n",
       "      <td>Két gyerek maradt árván a pénteki kőrispataki ...</td>\n",
       "    </tr>\n",
       "    <tr>\n",
       "      <th>10</th>\n",
       "      <td>aktualis</td>\n",
       "      <td>csik</td>\n",
       "      <td>['Csíkszereda', 'Kórház', 'medve']</td>\n",
       "      <td>Villanypásztort szereltek a Csíkszeredai Megye...</td>\n",
       "      <td>Villanypásztort szereltek fel a Csíkszeredai M...</td>\n",
       "    </tr>\n",
       "    <tr>\n",
       "      <th>11</th>\n",
       "      <td>aktualis</td>\n",
       "      <td>udvarhely</td>\n",
       "      <td>['medve', 'Udvarhelyszék']</td>\n",
       "      <td>Nevelőszülőt keresnek a medvetámadás miatt fél...</td>\n",
       "      <td>A napokban hoz döntést a kőrispataki medvetáma...</td>\n",
       "    </tr>\n",
       "    <tr>\n",
       "      <th>12</th>\n",
       "      <td>aktualis</td>\n",
       "      <td>udvarhely</td>\n",
       "      <td>['medve', 'Udvarhelyszék']</td>\n",
       "      <td>Videó a kőrispataki medvéről és a támadás hely...</td>\n",
       "      <td>Videót készített a kőrispataki medvéről, a bar...</td>\n",
       "    </tr>\n",
       "    <tr>\n",
       "      <th>13</th>\n",
       "      <td>aktualis</td>\n",
       "      <td>udvarhely</td>\n",
       "      <td>['Publicisztika']</td>\n",
       "      <td>#Sokamedve</td>\n",
       "      <td>Teljesen értelmetlen médiaháborúba fordult a k...</td>\n",
       "    </tr>\n",
       "    <tr>\n",
       "      <th>14</th>\n",
       "      <td>aktualis</td>\n",
       "      <td>udvarhely</td>\n",
       "      <td>['medve', 'Székelyföld']</td>\n",
       "      <td>Székelyföldi medveradar – térképen összegzik a...</td>\n",
       "      <td>Az egyre szaporodó medvekárok ihlették meg Csa...</td>\n",
       "    </tr>\n",
       "    <tr>\n",
       "      <th>15</th>\n",
       "      <td>aktualis</td>\n",
       "      <td>agerpres</td>\n",
       "      <td>['Maros megye', 'medve']</td>\n",
       "      <td>Medvetámadások után helyszíni terepszemlét tar...</td>\n",
       "      <td>Két medvetámadás történt tíz nap alatt Maros m...</td>\n",
       "    </tr>\n",
       "    <tr>\n",
       "      <th>16</th>\n",
       "      <td>aktualis</td>\n",
       "      <td>agerpres</td>\n",
       "      <td>['medve', 'Udvarhelyszék']</td>\n",
       "      <td>Halomra ölte a birkákat a medve</td>\n",
       "      <td>Tizennégy juhot pusztított el, illetve sebesít...</td>\n",
       "    </tr>\n",
       "    <tr>\n",
       "      <th>17</th>\n",
       "      <td>aktualis</td>\n",
       "      <td>udvarhely</td>\n",
       "      <td>['medve', 'Székelyudvarhely']</td>\n",
       "      <td>Legalább tizenöt medve jár be Székelyudvarhelyre</td>\n",
       "      <td>Idén már tizenöt olyan medvét azonosított be a...</td>\n",
       "    </tr>\n",
       "  </tbody>\n",
       "</table>\n",
       "</div>"
      ],
      "text/plain": [
       "    category  icategory                                     tags  \\\n",
       "0   aktualis  udvarhely            ['medve', 'Székelyudvarhely']   \n",
       "1   aktualis  udvarhely               ['medve', 'Udvarhelyszék']   \n",
       "2   aktualis   agerpres                 ['medve', 'Tusnádfürdő']   \n",
       "3   aktualis       csik            ['medve', 'Sepsiszentgyörgy']   \n",
       "4   aktualis  udvarhely               ['medve', 'Udvarhelyszék']   \n",
       "5   aktualis  udvarhely               ['medve', 'Udvarhelyszék']   \n",
       "6   aktualis  udvarhely  ['medve', 'Rendőrség', 'Udvarhelyszék']   \n",
       "7   aktualis  udvarhely               ['medve', 'Udvarhelyszék']   \n",
       "8   aktualis   agerpres            ['medve', 'Sepsiszentgyörgy']   \n",
       "9   aktualis  udvarhely               ['Hargita megye', 'medve']   \n",
       "10  aktualis       csik       ['Csíkszereda', 'Kórház', 'medve']   \n",
       "11  aktualis  udvarhely               ['medve', 'Udvarhelyszék']   \n",
       "12  aktualis  udvarhely               ['medve', 'Udvarhelyszék']   \n",
       "13  aktualis  udvarhely                        ['Publicisztika']   \n",
       "14  aktualis  udvarhely                 ['medve', 'Székelyföld']   \n",
       "15  aktualis   agerpres                 ['Maros megye', 'medve']   \n",
       "16  aktualis   agerpres               ['medve', 'Udvarhelyszék']   \n",
       "17  aktualis  udvarhely            ['medve', 'Székelyudvarhely']   \n",
       "\n",
       "                                                title  \\\n",
       "0   Még a rókák is kerülik az Udvarhelyhez közeli ...   \n",
       "1   Elpusztult az Újszékely határában elgázolt med...   \n",
       "2   Újabb bocsot szabadítottak ki az egyik tusnádf...   \n",
       "3   Élesben a Ro-Alert: medve miatt riasztották a ...   \n",
       "4   Nem élte túl a kőrispataki medvetámadást az ál...   \n",
       "5   Engedélyezik a kőrispataki férfit halálosan me...   \n",
       "6        Nyomozás indult a halálos medvetámadás miatt   \n",
       "7   Ha „lecsillapodik” a kőrispataki medve, nem le...   \n",
       "8   A medvehelyzet visszásságaira hívják fel a fig...   \n",
       "9   Adománygyűjtés a kőrispataki medvetámadásban á...   \n",
       "10  Villanypásztort szereltek a Csíkszeredai Megye...   \n",
       "11  Nevelőszülőt keresnek a medvetámadás miatt fél...   \n",
       "12  Videó a kőrispataki medvéről és a támadás hely...   \n",
       "13                                         #Sokamedve   \n",
       "14  Székelyföldi medveradar – térképen összegzik a...   \n",
       "15  Medvetámadások után helyszíni terepszemlét tar...   \n",
       "16                    Halomra ölte a birkákat a medve   \n",
       "17   Legalább tizenöt medve jár be Székelyudvarhelyre   \n",
       "\n",
       "                                              content  \n",
       "0   A későbbiekben is érdemes elkerülni a Székelyu...  \n",
       "1   Egyedül bóklászó egyéves medvebocsot gázolt el...  \n",
       "2   Ismét medvebiztos szeméttárolóba rekedt egy bo...  \n",
       "3   A Ro-Alert riasztórendszeren keresztül figyelm...  \n",
       "4   Rárontott és súlyosan megsebesített egy medve ...  \n",
       "5   Ha a környezetvédelmi minisztérium megkapja a ...  \n",
       "6   A rendőrségi vizsgálatok szerint a Kőrispatako...  \n",
       "7   Még várni kell a kőrispataki halálos kimenetel...  \n",
       "8   Egyre több lesz a vadkár és az áldozat a három...  \n",
       "9   Két gyerek maradt árván a pénteki kőrispataki ...  \n",
       "10  Villanypásztort szereltek fel a Csíkszeredai M...  \n",
       "11  A napokban hoz döntést a kőrispataki medvetáma...  \n",
       "12  Videót készített a kőrispataki medvéről, a bar...  \n",
       "13  Teljesen értelmetlen médiaháborúba fordult a k...  \n",
       "14  Az egyre szaporodó medvekárok ihlették meg Csa...  \n",
       "15  Két medvetámadás történt tíz nap alatt Maros m...  \n",
       "16  Tizennégy juhot pusztított el, illetve sebesít...  \n",
       "17  Idén már tizenöt olyan medvét azonosított be a...  "
      ]
     },
     "execution_count": 9,
     "metadata": {},
     "output_type": "execute_result"
    }
   ],
   "source": [
    "locs"
   ]
  },
  {
   "cell_type": "code",
   "execution_count": 10,
   "metadata": {
    "ExecuteTime": {
     "end_time": "2019-04-18T03:39:35.768753Z",
     "start_time": "2019-04-18T03:39:35.764751Z"
    }
   },
   "outputs": [],
   "source": [
    "import json"
   ]
  },
  {
   "cell_type": "code",
   "execution_count": 11,
   "metadata": {
    "ExecuteTime": {
     "end_time": "2019-04-18T03:39:36.451645Z",
     "start_time": "2019-04-18T03:39:36.422649Z"
    }
   },
   "outputs": [],
   "source": [
    "lak=json.loads(open('geo/huncoords.json','r').read())\n",
    "megyek=json.loads(open('geo/megyek.json','r').read())"
   ]
  },
  {
   "cell_type": "code",
   "execution_count": 28,
   "metadata": {
    "ExecuteTime": {
     "end_time": "2019-04-18T03:45:46.996470Z",
     "start_time": "2019-04-18T03:45:46.991465Z"
    }
   },
   "outputs": [],
   "source": [
    "laks=[i for i in megyek.keys() if ((megyek[i]!='Más megye')and(i in lak.keys()))]"
   ]
  },
  {
   "cell_type": "code",
   "execution_count": 29,
   "metadata": {
    "ExecuteTime": {
     "end_time": "2019-04-18T03:45:48.371847Z",
     "start_time": "2019-04-18T03:45:48.364845Z"
    }
   },
   "outputs": [],
   "source": [
    "def levenshteinDistance(s1, s2):\n",
    "    if len(s1) > len(s2):\n",
    "        s1, s2 = s2, s1\n",
    "\n",
    "    distances = range(len(s1) + 1)\n",
    "    for i2, c2 in enumerate(s2):\n",
    "        distances_ = [i2+1]\n",
    "        for i1, c1 in enumerate(s1):\n",
    "            if c1 == c2:\n",
    "                distances_.append(distances[i1])\n",
    "            else:\n",
    "                distances_.append(1 + min((distances[i1], distances[i1 + 1], distances_[-1])))\n",
    "        distances = distances_\n",
    "    return distances[-1]"
   ]
  },
  {
   "cell_type": "code",
   "execution_count": 30,
   "metadata": {
    "ExecuteTime": {
     "end_time": "2019-04-18T03:46:16.321036Z",
     "start_time": "2019-04-18T03:45:49.054041Z"
    }
   },
   "outputs": [
    {
     "name": "stdout",
     "output_type": "stream",
     "text": [
      "1 [\"medve\", \"Székelyudvarhely\"] Székelyudvarhely\n",
      "3 Székelyudvarhely\n",
      "5 Székelyudvarhely Székelyudvarhely\n",
      "2 Újszékely\n",
      "3 Újszékely\n",
      "4 Újszékely Újszékely\n",
      "5 Újszékely Újszékely\n",
      "1 [\"medve\", \"Tusnádfürdő\"] Tusnádfürdő\n",
      "4 tusnádfürdői Tusnádfürdő\n",
      "5 tusnádfürdői Tusnádfürdő\n",
      "1 [\"medve\", \"Sepsiszentgyörgy\"] Sepsiszentgyörgy\n",
      "4 kőrispataki Kőrispatak\n",
      "5 kőrispataki Kőrispatak\n",
      "4 kőrispataki Kőrispatak\n",
      "5 Kőrispatakon Kőrispatak\n",
      "4 kőrispataki Kőrispatak\n",
      "5 kőrispataki Kőrispatak\n",
      "1 [\"medve\", \"Sepsiszentgyörgy\"] Sepsiszentgyörgy\n",
      "4 kőrispataki Kőrispatak\n",
      "5 kőrispataki Kőrispatak\n",
      "1 [\"Csíkszereda\", \"Kórház\", \"medve\"] Csíkszereda\n",
      "4 Csíkszeredai Csíkszereda\n",
      "5 Csíkszeredai Csíkszereda\n",
      "5 kőrispataki Kőrispatak\n",
      "4 kőrispataki Kőrispatak\n",
      "5 kőrispataki Kőrispatak\n",
      "5 kőrispataki Kőrispatak\n",
      "5 Székelydata Székelyvaja\n",
      "3 Szászrégen\n",
      "5 Szászrégen Szászrégen\n",
      "1 [\"medve\", \"Székelyudvarhely\"] Székelyudvarhely\n",
      "4 Székelyudvarhelyre Székelyudvarhely\n"
     ]
    }
   ],
   "source": [
    "#look for perfect matches\n",
    "decoded_locs={}\n",
    "min_loc_len=5\n",
    "for i in locs.index:\n",
    "    if '[' in locs.loc[i]['tags']:\n",
    "        k=locs.loc[i]['tags'].replace(\"'\",'\"')\n",
    "        for j in json.loads(k):\n",
    "            if j in laks:\n",
    "                if i not in decoded_locs:decoded_locs[i]=[]\n",
    "                decoded_locs[i].append(j)\n",
    "                print('1',k,j)\n",
    "    for j in locs.loc[i]['title'].split():\n",
    "        if j in laks:\n",
    "            if i not in decoded_locs:decoded_locs[i]=[]\n",
    "            decoded_locs[i].append(j)\n",
    "            print('2',j)\n",
    "    for j in locs.loc[i]['content'].split():\n",
    "        if j in laks:\n",
    "            if i not in decoded_locs:decoded_locs[i]=[]\n",
    "            decoded_locs[i].append(j)\n",
    "            print('3',j)\n",
    "    for j in locs.loc[i]['title'].split():\n",
    "        for k in laks:\n",
    "            if ((len(j)>min_loc_len) and (len(k)>min_loc_len)):\n",
    "                if levenshteinDistance(j,k)<3:\n",
    "                    if i not in decoded_locs:decoded_locs[i]=[]\n",
    "                    decoded_locs[i].append(k)\n",
    "                    print('4',j,k)\n",
    "    for j in locs.loc[i]['content'].split():\n",
    "        for k in laks:\n",
    "            if ((len(j)>min_loc_len) and (len(k)>min_loc_len)):\n",
    "                if levenshteinDistance(j,k)<3:\n",
    "                    if i not in decoded_locs:decoded_locs[i]=[]\n",
    "                    decoded_locs[i].append(k)\n",
    "                    print('5',j,k)"
   ]
  },
  {
   "cell_type": "code",
   "execution_count": 31,
   "metadata": {
    "ExecuteTime": {
     "end_time": "2019-04-18T03:46:19.580037Z",
     "start_time": "2019-04-18T03:46:19.573034Z"
    }
   },
   "outputs": [],
   "source": [
    "predicted_locs=[]\n",
    "for i in range(len(locs.index)):\n",
    "    if locs.index[i] in decoded_locs: \n",
    "        dummy=list(set(decoded_locs[locs.index[i]]))\n",
    "        if len(dummy)==1:\n",
    "            dummy=dummy[0]\n",
    "        else:\n",
    "            dummy=repr(decoded_locs[locs.index[i]])\n",
    "        predicted_locs.append(dummy)\n",
    "    else: \n",
    "        predicted_locs.append('')"
   ]
  },
  {
   "cell_type": "code",
   "execution_count": 32,
   "metadata": {
    "ExecuteTime": {
     "end_time": "2019-04-18T03:46:21.573034Z",
     "start_time": "2019-04-18T03:46:21.479047Z"
    }
   },
   "outputs": [
    {
     "name": "stderr",
     "output_type": "stream",
     "text": [
      "C:\\ProgramData\\Anaconda3\\lib\\site-packages\\ipykernel_launcher.py:1: SettingWithCopyWarning: \n",
      "A value is trying to be set on a copy of a slice from a DataFrame.\n",
      "Try using .loc[row_indexer,col_indexer] = value instead\n",
      "\n",
      "See the caveats in the documentation: http://pandas.pydata.org/pandas-docs/stable/indexing.html#indexing-view-versus-copy\n",
      "  \"\"\"Entry point for launching an IPython kernel.\n",
      "C:\\ProgramData\\Anaconda3\\lib\\site-packages\\ipykernel_launcher.py:2: SettingWithCopyWarning: \n",
      "A value is trying to be set on a copy of a slice from a DataFrame.\n",
      "Try using .loc[row_indexer,col_indexer] = value instead\n",
      "\n",
      "See the caveats in the documentation: http://pandas.pydata.org/pandas-docs/stable/indexing.html#indexing-view-versus-copy\n",
      "  \n"
     ]
    }
   ],
   "source": [
    "locs['predicted_locs']=predicted_locs\n",
    "locs['actual_locs']=predicted_locs"
   ]
  },
  {
   "cell_type": "code",
   "execution_count": 33,
   "metadata": {
    "ExecuteTime": {
     "end_time": "2019-04-18T03:46:22.294039Z",
     "start_time": "2019-04-18T03:46:22.285036Z"
    }
   },
   "outputs": [],
   "source": [
    "lm=locs[['title','content','predicted_locs','actual_locs']]"
   ]
  },
  {
   "cell_type": "code",
   "execution_count": 35,
   "metadata": {
    "ExecuteTime": {
     "end_time": "2019-04-18T03:46:29.143039Z",
     "start_time": "2019-04-18T03:46:28.921039Z"
    }
   },
   "outputs": [],
   "source": [
    "lm.to_excel('data/szekelyhon_locs.xlsx')\n",
    "lm.to_excel('data/szekelyhon_locs_curated.xlsx')"
   ]
  },
  {
   "cell_type": "markdown",
   "metadata": {},
   "source": [
    "Open `szekelyhon_locs_curated` and manually verify predicted locations. Fill where necessary."
   ]
  }
 ],
 "metadata": {
  "kernelspec": {
   "display_name": "Python 3",
   "language": "python",
   "name": "python3"
  },
  "language_info": {
   "codemirror_mode": {
    "name": "ipython",
    "version": 3
   },
   "file_extension": ".py",
   "mimetype": "text/x-python",
   "name": "python",
   "nbconvert_exporter": "python",
   "pygments_lexer": "ipython3",
   "version": "3.7.0"
  },
  "toc": {
   "base_numbering": 1,
   "nav_menu": {},
   "number_sections": true,
   "sideBar": true,
   "skip_h1_title": false,
   "title_cell": "Table of Contents",
   "title_sidebar": "Contents",
   "toc_cell": false,
   "toc_position": {},
   "toc_section_display": true,
   "toc_window_display": false
  }
 },
 "nbformat": 4,
 "nbformat_minor": 2
}
