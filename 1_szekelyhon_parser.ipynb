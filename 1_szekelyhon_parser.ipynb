{
 "cells": [
  {
   "cell_type": "code",
   "execution_count": 1,
   "metadata": {
    "ExecuteTime": {
     "end_time": "2018-11-02T21:29:49.840309Z",
     "start_time": "2018-11-02T21:29:49.835307Z"
    }
   },
   "outputs": [],
   "source": [
    "import bs4 as bs, urllib, pandas as pd, numpy as np"
   ]
  },
  {
   "cell_type": "markdown",
   "metadata": {},
   "source": [
    "Parse past X years"
   ]
  },
  {
   "cell_type": "code",
   "execution_count": 2,
   "metadata": {
    "ExecuteTime": {
     "end_time": "2019-04-18T01:56:17.461626Z",
     "start_time": "2019-04-18T01:56:17.453625Z"
    }
   },
   "outputs": [],
   "source": [
    "keyword='medve'\n",
    "baseurl=u'https://szekelyhon.ro/kereses?op=search&src_words='"
   ]
  },
  {
   "cell_type": "code",
   "execution_count": 30,
   "metadata": {
    "ExecuteTime": {
     "end_time": "2019-04-18T01:58:37.992201Z",
     "start_time": "2019-04-18T01:58:37.985204Z"
    }
   },
   "outputs": [],
   "source": [
    "start='2019-09'\n",
    "end='2019-11'\n",
    "dates=[]\n",
    "datelist = pd.date_range(start=pd.to_datetime(start), end=pd.to_datetime(end), freq='M').tolist()\n",
    "for date in datelist:\n",
    "    dates.append(str(date)[:10])"
   ]
  },
  {
   "cell_type": "code",
   "execution_count": 31,
   "metadata": {
    "ExecuteTime": {
     "end_time": "2019-04-18T01:58:38.382203Z",
     "start_time": "2019-04-18T01:58:38.375205Z"
    }
   },
   "outputs": [
    {
     "data": {
      "text/plain": [
       "['2019-09-30', '2019-10-31']"
      ]
     },
     "execution_count": 31,
     "metadata": {},
     "output_type": "execute_result"
    }
   ],
   "source": [
    "dates[:5]"
   ]
  },
  {
   "cell_type": "code",
   "execution_count": 32,
   "metadata": {
    "ExecuteTime": {
     "end_time": "2019-04-18T01:58:39.428960Z",
     "start_time": "2019-04-18T01:58:39.423961Z"
    }
   },
   "outputs": [],
   "source": [
    "def extractor(time1,time2):\n",
    "    time1=dates[i]\n",
    "    time2=dates[i+1]\n",
    "    print('Parsing...',time1,'-',time2)\n",
    "    url=baseurl+keyword+'&src_time1='+time1+'&src_time2='+time2\n",
    "    html = urllib.request.urlopen(url).read()\n",
    "    soup = bs.BeautifulSoup(html,'lxml')\n",
    "    return soup.findAll(\"div\", {\"class\": \"cikkocka2c\"})"
   ]
  },
  {
   "cell_type": "code",
   "execution_count": 33,
   "metadata": {
    "ExecuteTime": {
     "end_time": "2019-04-18T01:58:43.646077Z",
     "start_time": "2019-04-18T01:58:40.142084Z"
    }
   },
   "outputs": [
    {
     "name": "stdout",
     "output_type": "stream",
     "text": [
      "Parsing... 2019-09-30 - 2019-10-31\n"
     ]
    }
   ],
   "source": [
    "divs=[]\n",
    "for i in range(len(dates)-1):\n",
    "    time1=dates[i]\n",
    "    time2=dates[i+1]\n",
    "    divs.append(extractor(time1,time2))"
   ]
  },
  {
   "cell_type": "code",
   "execution_count": 34,
   "metadata": {
    "ExecuteTime": {
     "end_time": "2019-04-18T01:58:52.185032Z",
     "start_time": "2019-04-18T01:58:52.179025Z"
    }
   },
   "outputs": [],
   "source": [
    "def date_hu_en(i):\n",
    "    date=i[6:-4]\n",
    "    if date=='augusztus': m='08'\n",
    "    elif date=='december': m='12'\n",
    "    elif date=='február': m='02'\n",
    "    elif date=='január': m='01'\n",
    "    elif date=='július': m='07'\n",
    "    elif date=='június': m='06'\n",
    "    elif date=='május': m='05'\n",
    "    elif date=='március': m='03'\n",
    "    elif date=='november': m='11'\n",
    "    elif date==u'október': m='10'\n",
    "    elif date==u'szeptember': m='09'\n",
    "    elif date==u'április': m='04'\n",
    "    else: return date\n",
    "    return i[:4]+'-'+m+'-'+i[-3:-1]"
   ]
  },
  {
   "cell_type": "code",
   "execution_count": 35,
   "metadata": {
    "ExecuteTime": {
     "end_time": "2019-04-18T01:58:53.150262Z",
     "start_time": "2019-04-18T01:58:53.146259Z"
    }
   },
   "outputs": [],
   "source": [
    "def find_all(s, ch):\n",
    "    return [i for i, letter in enumerate(s) if letter == ch]"
   ]
  },
  {
   "cell_type": "code",
   "execution_count": 36,
   "metadata": {
    "ExecuteTime": {
     "end_time": "2019-04-18T01:58:53.834854Z",
     "start_time": "2019-04-18T01:58:53.827857Z"
    }
   },
   "outputs": [],
   "source": [
    "from utils import text_processor"
   ]
  },
  {
   "cell_type": "code",
   "execution_count": 37,
   "metadata": {
    "ExecuteTime": {
     "end_time": "2019-04-18T01:58:54.460391Z",
     "start_time": "2019-04-18T01:58:54.399393Z"
    }
   },
   "outputs": [],
   "source": [
    "hirek=[]\n",
    "tagset=set()\n",
    "for i in range(len(dates)-1):\n",
    "    time2=dates[i+1]\n",
    "    divgroup=divs[i]\n",
    "    for div in divgroup:\n",
    "        icat=''\n",
    "        img=div.find('img')\n",
    "        if img !=None: \n",
    "            img=img['src']\n",
    "            #infer image category from image link\n",
    "            icats=find_all(img,'/')\n",
    "            if len(icats)>4:\n",
    "                icat=img[icats[3]+1:icats[4]]\n",
    "        tags=div.find(\"div\", {\"class\": \"tags_con1\"})\n",
    "        if tags!=None: \n",
    "            tags=[j.text.strip() for j in tags.findAll('div')]\n",
    "        idiv=div.find(\"div\", {\"class\": \"catinner\"})\n",
    "        if idiv!=None:\n",
    "            idiv=idiv.find('div')\n",
    "            content=div.find('p')\n",
    "            date=idiv.text[idiv.text.find('20'):idiv.text.find(',')]\n",
    "            title=div.find('h2').text\n",
    "            if content==None:\n",
    "                sdiv=str(div)[::-1]\n",
    "                content=sdiv[:sdiv.find('>a/<')].replace('\\r','').replace('\\t','').replace('\\n','')[::-1][:-6]\n",
    "            else: content=content.text\n",
    "            content=content.replace('</div><div class=\"clear\"></div></div><div class=\"clear\"></div>','')\n",
    "            link=div.findAll('a')[-1]['href']\n",
    "            #infer category from link\n",
    "            cats=find_all(link,'/')\n",
    "            if len(cats)>3:\n",
    "                cat=link[cats[2]+1:cats[3]]\n",
    "            else: cat=''\n",
    "            #infer attack from plain text\n",
    "            relevant,severity,deaths=text_processor(title,content)\n",
    "            if tags!=None:\n",
    "                notags=[u'Húsvét',u'Film',u'Egészségügy',u'Külföld',u'Színház',u'Ünnep']\n",
    "                for notag in notags:\n",
    "                    if notag in tags:\n",
    "                        relevant=-1\n",
    "                        break\n",
    "            if ((relevant>-1)&\\\n",
    "                (cat not in ['sport','muvelodes','sms-e-mail-velemeny','tusvanyos'])&\\\n",
    "                (title not in [u'Röviden'])):\n",
    "                if tags!=None: \n",
    "                    tagset=tagset.union(set(tags))\n",
    "                    if 'medve' in tags:\n",
    "                        relevant=1\n",
    "                hirek.append({'date':date_hu_en(date),\n",
    "                              'hudate':date,\n",
    "                              'title':title,\n",
    "                              'image':img,\n",
    "                              'tags':repr(tags),\n",
    "                              'content':content,\n",
    "                              'link':link,\n",
    "                              'category':cat,\n",
    "                              'icategory':icat,\n",
    "                              'relevant':relevant,\n",
    "                              'severity':severity,\n",
    "                              'deaths':deaths,\n",
    "                              'duplicate':0\n",
    "                               })"
   ]
  },
  {
   "cell_type": "markdown",
   "metadata": {},
   "source": [
    "Összes medvés hír"
   ]
  },
  {
   "cell_type": "code",
   "execution_count": 38,
   "metadata": {
    "ExecuteTime": {
     "end_time": "2019-04-18T01:58:55.338108Z",
     "start_time": "2019-04-18T01:58:55.300107Z"
    }
   },
   "outputs": [],
   "source": [
    "df=pd.DataFrame().from_dict(hirek)\n",
    "df['date']=pd.to_datetime(df['date'])\n",
    "df=df.sort_values('date').drop_duplicates().reset_index(drop=True)"
   ]
  },
  {
   "cell_type": "code",
   "execution_count": 39,
   "metadata": {
    "ExecuteTime": {
     "end_time": "2019-04-18T01:58:56.173594Z",
     "start_time": "2019-04-18T01:58:56.167592Z"
    }
   },
   "outputs": [
    {
     "data": {
      "text/plain": [
       "13"
      ]
     },
     "execution_count": 39,
     "metadata": {},
     "output_type": "execute_result"
    }
   ],
   "source": [
    "len(hirek)"
   ]
  },
  {
   "cell_type": "markdown",
   "metadata": {},
   "source": [
    "Save to medve Excel. Manual curation"
   ]
  },
  {
   "cell_type": "code",
   "execution_count": 40,
   "metadata": {
    "ExecuteTime": {
     "end_time": "2019-04-18T01:58:57.152809Z",
     "start_time": "2019-04-18T01:58:57.142804Z"
    },
    "code_folding": []
   },
   "outputs": [],
   "source": [
    "dm=df[[ 'date', 'hudate', 'link','image', 'category','icategory','tags','title',\n",
    "       'content']]\n",
    "dc=df[['title','content','relevant', 'severity','deaths','duplicate']]"
   ]
  },
  {
   "cell_type": "code",
   "execution_count": 41,
   "metadata": {
    "ExecuteTime": {
     "end_time": "2019-04-18T01:58:58.117150Z",
     "start_time": "2019-04-18T01:58:57.625502Z"
    }
   },
   "outputs": [],
   "source": [
    "#save parsed data\n",
    "dm.to_excel('data/szekelyhon_medve.xlsx')"
   ]
  },
  {
   "cell_type": "code",
   "execution_count": 42,
   "metadata": {
    "ExecuteTime": {
     "end_time": "2019-04-18T01:58:58.667784Z",
     "start_time": "2019-04-18T01:58:58.563786Z"
    }
   },
   "outputs": [],
   "source": [
    "#save data for curation\n",
    "#1 if you dont have savedata yet\n",
    "existing_savedata=False\n",
    "if not existing_savedata:\n",
    "    dc.to_excel('data/szekelyhon_medve_curated.xlsx')\n",
    "#2 if you already have savedata\n",
    "else:\n",
    "    dc2=pd.read_excel('data/szekelyhon_medve_curated.xlsx')\n",
    "    dc2.combine_first(dc).to_excel('data/szekelyhon_medve_curated.xlsx')"
   ]
  },
  {
   "cell_type": "markdown",
   "metadata": {},
   "source": [
    "Open `data/szekelyhon_medve_curated` and manually confirm each case."
   ]
  },
  {
   "cell_type": "markdown",
   "metadata": {},
   "source": [
    "Relevant = Medves cikk-e vagy sem: 1-igen, 0-nem biztos, -1:biztosan nem   \n",
    "Deaths = Halalok szama (ha ismert)  \n",
    "Severity = Sulyossag: 0-mas jellegu hir, 1-latas, 2-allat-tamadas, 3-ember-tamadas  \n",
    "Duplicate = 0: Eredeti cikk, 1: Masolat, 2: Osszegzes"
   ]
  }
 ],
 "metadata": {
  "kernelspec": {
   "display_name": "Python 3",
   "language": "python",
   "name": "python3"
  },
  "language_info": {
   "codemirror_mode": {
    "name": "ipython",
    "version": 3
   },
   "file_extension": ".py",
   "mimetype": "text/x-python",
   "name": "python",
   "nbconvert_exporter": "python",
   "pygments_lexer": "ipython3",
   "version": "3.7.3"
  },
  "toc": {
   "base_numbering": 1,
   "nav_menu": {},
   "number_sections": true,
   "sideBar": true,
   "skip_h1_title": false,
   "title_cell": "Table of Contents",
   "title_sidebar": "Contents",
   "toc_cell": false,
   "toc_position": {},
   "toc_section_display": true,
   "toc_window_display": false
  }
 },
 "nbformat": 4,
 "nbformat_minor": 2
}
