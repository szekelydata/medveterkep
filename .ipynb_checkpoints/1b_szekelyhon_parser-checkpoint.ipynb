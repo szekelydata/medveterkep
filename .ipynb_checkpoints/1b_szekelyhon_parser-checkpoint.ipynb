{
 "cells": [
  {
   "cell_type": "code",
   "execution_count": 1,
   "metadata": {
    "ExecuteTime": {
     "end_time": "2018-11-02T21:29:49.840309Z",
     "start_time": "2018-11-02T21:29:49.835307Z"
    }
   },
   "outputs": [],
   "source": [
    "import bs4 as bs, urllib, pandas as pd, numpy as np"
   ]
  },
  {
   "cell_type": "markdown",
   "metadata": {},
   "source": [
    "Parse past X years"
   ]
  },
  {
   "cell_type": "code",
   "execution_count": 2,
   "metadata": {
    "ExecuteTime": {
     "end_time": "2019-04-18T01:56:17.461626Z",
     "start_time": "2019-04-18T01:56:17.453625Z"
    }
   },
   "outputs": [],
   "source": [
    "keyword='medve'\n",
    "baseurl=u'https://szekelyhon.ro/kereses?op=search&src_words='"
   ]
  },
  {
   "cell_type": "markdown",
   "metadata": {},
   "source": [
    "Modified to not include dates - to comply with the new news format"
   ]
  },
  {
   "cell_type": "code",
   "execution_count": 3,
   "metadata": {
    "ExecuteTime": {
     "end_time": "2019-04-18T01:58:39.428960Z",
     "start_time": "2019-04-18T01:58:39.423961Z"
    }
   },
   "outputs": [],
   "source": [
    "def extractor(page):\n",
    "    print('Parsing... page',page)\n",
    "    url=baseurl+keyword+'&page='+str(page)\n",
    "    html = urllib.request.urlopen(url).read()\n",
    "#     soup = bs.BeautifulSoup(html,'lxml')\n",
    "    soup = bs.BeautifulSoup(html,\"html.parser\")\n",
    "    return soup.findAll(\"div\", {\"class\": \"cikkocka2c\"})"
   ]
  },
  {
   "cell_type": "code",
   "execution_count": 4,
   "metadata": {
    "ExecuteTime": {
     "end_time": "2019-04-18T01:58:43.646077Z",
     "start_time": "2019-04-18T01:58:40.142084Z"
    }
   },
   "outputs": [
    {
     "name": "stdout",
     "output_type": "stream",
     "text": [
      "Parsing... page 1\n",
      "Parsing... page 2\n",
      "Parsing... page 3\n",
      "Parsing... page 4\n",
      "Parsing... page 5\n",
      "Parsing... page 6\n",
      "Parsing... page 7\n",
      "Parsing... page 8\n",
      "Parsing... page 9\n"
     ]
    }
   ],
   "source": [
    "divs=[]\n",
    "for i in range(1,10):\n",
    "    divs.append(extractor(i))"
   ]
  },
  {
   "cell_type": "code",
   "execution_count": 5,
   "metadata": {
    "ExecuteTime": {
     "end_time": "2019-04-18T01:58:52.185032Z",
     "start_time": "2019-04-18T01:58:52.179025Z"
    }
   },
   "outputs": [],
   "source": [
    "def date_hu_en(i):\n",
    "    date=i[6:-4]\n",
    "    if date=='augusztus': m='08'\n",
    "    elif date=='december': m='12'\n",
    "    elif date=='február': m='02'\n",
    "    elif date=='január': m='01'\n",
    "    elif date=='július': m='07'\n",
    "    elif date=='június': m='06'\n",
    "    elif date=='május': m='05'\n",
    "    elif date=='március': m='03'\n",
    "    elif date=='november': m='11'\n",
    "    elif date==u'október': m='10'\n",
    "    elif date==u'szeptember': m='09'\n",
    "    elif date==u'április': m='04'\n",
    "    else: return date\n",
    "    return i[:4]+'-'+m+'-'+i[-3:-1]"
   ]
  },
  {
   "cell_type": "code",
   "execution_count": 6,
   "metadata": {
    "ExecuteTime": {
     "end_time": "2019-04-18T01:58:53.150262Z",
     "start_time": "2019-04-18T01:58:53.146259Z"
    }
   },
   "outputs": [],
   "source": [
    "def find_all(s, ch):\n",
    "    return [i for i, letter in enumerate(s) if letter == ch]"
   ]
  },
  {
   "cell_type": "code",
   "execution_count": 7,
   "metadata": {
    "ExecuteTime": {
     "end_time": "2019-04-18T01:58:53.834854Z",
     "start_time": "2019-04-18T01:58:53.827857Z"
    }
   },
   "outputs": [],
   "source": [
    "from utils import text_processor"
   ]
  },
  {
   "cell_type": "code",
   "execution_count": 8,
   "metadata": {
    "ExecuteTime": {
     "end_time": "2019-04-18T01:58:54.460391Z",
     "start_time": "2019-04-18T01:58:54.399393Z"
    }
   },
   "outputs": [
    {
     "name": "stdout",
     "output_type": "stream",
     "text": [
      "Nyugi van medvefronton, és még ezután jöhet a „füvezés”\n",
      " Mégsem szállítják el a medvéket Tusnádfürdőről\n",
      " Apa és fia vesztette életét\n",
      "Egyszer s mindenkorra rendezné a medvekérdést környezetvédelmi miniszterként Tánczos Barna\n",
      "Nem fűznek sok reményt a medvegondok rendezéséhez\n",
      "Medvetámadás: tizenötezer euró kártérítést ítéltek meg a sérültnek\n",
      "Balánbányai udvarba hatolt be egy medve\n",
      "Csak erős parlamenti képviselettel szállhatunk síkra jogainkért (x)\n",
      "Medveriasztás Marosvásárhelyen\n",
      "Medveles területére tévedtek, olcsón – mindössze az ijedtséggel – megúszták\n",
      "Idén sokkal több belföldi turista megfordult Szovátán\n",
      "Kijárási korlátozás a medvéknél is?\n",
      "Szovátán idén többször újraterveztek a vendéglátósok\n",
      "Szakmai tájékoztatás mellett segítséget is nyújtanak a medvékkel kapcsolatos problémák esetén\n",
      "Megújul a Természettudományi Múzeum Marosvásárhelyen\n",
      "Ha ezt a medvék tudnák...\n",
      "Elaltatták a medvét, többé nem ébredt fel\n",
      "A kilövési kérések száma alapján is Székelyföldön a legsúlyosabb a medveprobléma\n",
      "Hangradarral mutatják meg a Gyilkos-tó mélyén lévő erdőt\n",
      "Pásztorra támadt egy medve Csíkbánkfalva közelében\n",
      "Ez a medve nem csak úgy átszaladt az úton – kétszer is meggondolta\n",
      "Rendszeresen garázdálkodik egy nagyvad Székelyszentmihályon\n",
      "Medvét ütött el egy autó Maros megyében\n",
      "Két újabb menedékház Kovászna megyében\n",
      "Egyre több medve csatangol Székelyudvarhelyen, két példányt áthelyeztetnének\n",
      "Medvét hajtottak el Székelyudvarhelyről, a lakóknak is meg kellett ébredniük\n",
      "Kutyát és juhokat pusztítottak el a medvék Csíkszéken\n",
      "Megtermett medve rohangált Csíkpálfalva utcáin\n",
      "Egyik a másik után – miért látni gyakran medvét Csíkszeredában?\n",
      "A főtérig merészkedett a Csíkszeredában felbukkant újabb medve\n",
      "Elejtették a Csíkszeredában többször is felbukkanó medvét\n",
      "Iskolaudvarról kellett kiűzni egy medvét Csíkszeredában\n",
      "Második napja, hogy a borvízforrás környékén kószáló medvére figyelmeztetnek\n",
      "Medve Csíksomlyón – figyelmeztet a Ro-Alert\n",
      "Védeni az őshonos közösségeket – egy éve dolgozik európai parlamenti képviselőként Vincze Loránt\n",
      "Beperelte a minisztériumot egy medvetámadás sérültje, első fokon kártérítésre jogosult\n",
      "Medveparkot hoznának létre\n",
      "Magyarországi medveotthonba kerülhet néhány a tusnádfürdői medvék közül\n",
      "Egyelőre nem kötelezik a maszkviselést a Medve-tó területén és az Apollo-strandon\n",
      "Tizenöt év alatt minden esetet sikerült megoldani\n",
      "Medvekérdésre villanypásztor a minisztérium válasza\n",
      "Erdeigyümölcs-ültetvénnyel tartanák távol az üdülőteleptől a gyilkostói medvéket\n",
      "Kevesebb a turista, és akik itt vannak is kevesebbet költenek\n",
      "Páva – beszéljük a kikapcsolódás nyelvét (x)\n",
      "Kovásznai gondok: a medvék nem félnek az embertől, a turisták nem félnek a medvéktől\n",
      "Kerülik a lakott településeket a vadonba visszaengedett medvék\n",
      "Medvekérdés: megoldás helyett munkacsoportot ígér a miniszter\n",
      "Több mint tíz tehenet öltek meg a medvék a Gyergyószentmiklóshoz tartozó legelőkön\n",
      "Medvéket kergettek el a hatóságiak Székelyudvarhelyen\n",
      "Két medve is bement Székelyudvarhelyre\n",
      "Nagy volt a medvejárás hétvégén Hargita megyében\n",
      "Medve „irányított ki” egy autóst Csíkszeredából\n",
      "Nyílt levélben fordult az ország vezetőihez a medvejárás miatt Tusnádfürdő polgármestere\n",
      "Medve a csíksomlyói sípálya közelében\n",
      "Megbírságoltatná a környezetvédelmi miniszter azokat, akik medvéket etetnek\n",
      "Hiánypótló létesítménynek minősül a Csíkszeredában nyitott állathamvasztó\n",
      "Medvét gázoltak el Csíkszereda közelében\n",
      "Több medve is bejár Csíkszeredába, egyikre már kilövési engedélyt kértek\n",
      "Kelemen Hunor: közös kudarc a székelyudvarhelyi helyzet\n",
      "Tejjel táplálták a magára hagyott medvebocsot\n",
      "Két medve a székelyudvarhelyi Szászok táborában\n",
      "Gyarapodó medvekárok Székelyudvarhelyen és környékén\n",
      "Medve járkált Csíkszereda utcáin\n",
      "Már egy egyszerű kirándulás is veszélyessé vált a medveproblémák miatt\n",
      "Medve a székelyudvarhelyi Szászok táborában\n",
      "Jelen állás szerint nem nyitnak ki a napközik és a bölcsődék Csíkszeredában\n",
      "Maradj otthon, ezúttal medve miatt\n",
      "Lakossági panasz hiányában semmit sem tehetnek a Csíkszeredában garázdálkodó medve ellen\n",
      "Medvejárás Tusnádfürdőn, Marosfőn és Csobotfalván\n",
      "Medve a csíkszeredai kórház udvarán – figyelmeztet a Ro-Alert\n",
      "Visszaengedték az erdőbe a Székelyudvarhelyen befogott medvét\n",
      "Medve a csíkszeredai Szentlélek utcában\n",
      "A strandok készen állnak, de a jó idő még várat magára\n",
      "Fényes nappal fogtak be egy sérült medvét Székelyudvarhelyen\n",
      "Tusnádfürdői helyzetkép: kevés turista, sok medve\n",
      "Üzletnél járt a medve, hiába kergették el, visszatért\n",
      "Medve a csíksomlyói sípályánál\n",
      "Medvenagyüzem Tusnádfürdőn\n",
      "Bármely napszakban, a város bármely pontján felbukkanhatnak a medvék\n",
      "Medvék miatt riasztották a hatóságokat Tusnádfürdőn és Vaslábon\n",
      "Két anyamedve verekedett össze Tusnádfürdőn, egy bocs áldozatul esett\n",
      "Medvebocsot pusztíthatott el egy másik medve\n",
      "Kétbocsos anyamedvét zavartak el a csendőrök a tusnádfürdői vonatállomás közeléből\n",
      "Ismét tyúkokat pusztított a medve Vaslábon\n",
      "Fára mászott medvebocsot mentettek meg\n",
      "Medvéhez riasztották a csendőröket Gyergyószentmiklóson és Tusnádfürdőn\n",
      "Tyúkokat ölt a medve Vaslábon\n",
      "A villanypásztor sem állította meg a medvét\n",
      "Boncolás után úgy vélik, autó üthette el az elpusztult medvét\n",
      "Hárombocsos anyamedve bukkant fel Gyergyószentmiklósnál\n",
      "Medve hatolt be egy tusnádfürdői portára\n",
      "A kormorán lekerülhet a védett fajok listájáról, a medve viszont már nem?\n",
      "Előrelépés történt az erdészeti károk okozta jövedelemkiesés megtérítése esetében\n",
      "Szállodai tervek: étterem helyett szobaszerviz\n",
      "Medveveszély miatt lezártak két Szent Anna-tóhoz vezető turistaútvonalat\n",
      "Külön megelőzési kvótát és a medvekárok kifizetését kérik\n",
      "Medvék miatt riasztották a hatóságokat és ébresztették fel álmukból a környéken élőket\n",
      "Áthelyezik egy másik területre a Tusnádfürdőre napi rendszerességgel bejáró medvét\n",
      "Rendbe tett fürdőteleppel várják júniustól a vendégeket Szovátán\n",
      "Tehetetlenek a lakók, az ablakból kénytelenek végignézni, ahogy a medvék elpusztítják a haszonállataikat\n",
      "Három juhot ölt meg a medve egy farcádi gazda udvarán\n",
      "Célkeresztben a „medvetörvény” – a vadászok szerint a szaktárca összemossa a fogalmakat\n",
      "Elpusztult egy medve Etéd határában, orvvadászat gyanújával vizsgálódik a rendőrség\n",
      "Három medve egy csíkbánkfalvi portán\n",
      "Három medve járt be egy ülkei gazdaságba\n",
      "Juhokat öltek és bárányokat vittek el a nagyvadak\n",
      "Figyelmeztető lövésekkel kergették el a Székelyudvarhelyre betérő medvét\n",
      "Medve támadt két emberre, akik úgy döntöttek, hogy a szükségállapot alatt túrázni mennek\n",
      "Etetni kell a vadakat, hogy ne járjanak be a településekre\n",
      "Egy hónap sem kell, és megnövekednek a medvekárok a populáció túlszaporodása miatt\n",
      "Egy anyamedve és a bocsa okozott riadalmat\n",
      "Nem volt karanténban a második Maros megyei fertőzött, még egy pozitív teszt Háromszéken\n",
      "Két medvét látott egy nő a háza közelében, egyet találtak a helyszínen a csendőrök\n",
      "Kilövési engedélyt kértek a Maros megyében garázdálkodó medvére\n",
      "Újra garázdálkodnak a medvék Maros megyében\n",
      "Bevált a módszer, megijedt az emberektől a szabadon engedett medve\n",
      "Fesztivállal búcsúznak a téltől Szovátán\n",
      "Még nem tudni, hogy mennyi medvét lehet majd kilőni\n",
      "Videón, ahogy szabadon engedik a Székelyudvarhelyen befogott medvét\n",
      "Lakott területektől távol engedték szabadon a Székelyudvarhelyen befogott medvét\n",
      "Medvét fogtak Székelyudvarhelyen\n",
      "A nagytestű „időjós” szerint közeleg a tavasz\n",
      "Gyertyaszentelő Boldogasszony ünnepe\n",
      "Itt és ekkor mutatják meg a medvék, hogy mikor jön a tavasz\n",
      "Gyergyószentmiklós utcáin kóborolt egy medve\n",
      "Medveradar: Zetelakán és Farkaslakán voltak a legaktívabbak tavaly a nagyvadak\n",
      "Amíg elérhető közelségben van az ételmaradék, addig a medvék jelenlétére is számítani kell\n",
      "Jótékonysági hajtóvadászaton begyűlt összeggel segítenek egy édesanyát\n"
     ]
    }
   ],
   "source": [
    "hirek=[]\n",
    "tagset=set()\n",
    "for i in range(len(divs)-1):\n",
    "    divgroup=divs[i]\n",
    "    for div in divgroup:\n",
    "        icat=''\n",
    "        img=div.find('img')\n",
    "        if img !=None: \n",
    "            img=img['src']\n",
    "            #infer image category from image link\n",
    "            icats=find_all(img,'/')\n",
    "            if len(icats)>4:\n",
    "                icat=img[icats[3]+1:icats[4]]\n",
    "        tags=div.find(\"div\", {\"class\": \"tags_con1\"})\n",
    "        if tags!=None: \n",
    "            tags=[j.text.strip() for j in tags.findAll('div')]\n",
    "        idiv=div.find(\"div\", {\"class\": \"catinner\"})\n",
    "        if idiv!=None:\n",
    "            idiv=idiv.find('div')\n",
    "            content=div.find('p')\n",
    "            date=idiv.text[idiv.text.find('20'):idiv.text.find(',')]\n",
    "            title=div.find('h2').text\n",
    "            print(title)\n",
    "            if content==None:\n",
    "                sdiv=str(div)[::-1]\n",
    "                content=sdiv[:sdiv.find('>a/<')].replace('\\r','').replace('\\t','').replace('\\n','')[::-1][:-6]\n",
    "            else: content=content.text\n",
    "            content=content.replace('</div><div class=\"clear\"></div></div><div class=\"clear\"></div>','')\n",
    "            link=div.findAll('a')[-1]['href']\n",
    "            #infer category from link\n",
    "            cats=find_all(link,'/')\n",
    "            if len(cats)>3:\n",
    "                cat=link[cats[2]+1:cats[3]]\n",
    "            else: cat=''\n",
    "            #infer attack from plain text\n",
    "            relevant,severity,deaths=text_processor(title,content)\n",
    "            if tags!=None:\n",
    "                notags=[u'Húsvét',u'Film',u'Egészségügy',u'Külföld',u'Színház',u'Ünnep']\n",
    "                for notag in notags:\n",
    "                    if notag in tags:\n",
    "                        relevant=-1\n",
    "                        break\n",
    "            if ((relevant>-1)&\\\n",
    "                (cat not in ['sport','muvelodes','sms-e-mail-velemeny','tusvanyos'])&\\\n",
    "                (title not in [u'Röviden'])):\n",
    "                if tags!=None: \n",
    "                    tagset=tagset.union(set(tags))\n",
    "                    if 'medve' in tags:\n",
    "                        relevant=1\n",
    "                hirek.append({'date':date_hu_en(date),\n",
    "                              'hudate':date,\n",
    "                              'title':title,\n",
    "                              'image':img,\n",
    "                              'tags':repr(tags),\n",
    "                              'content':content,\n",
    "                              'link':link,\n",
    "                              'category':cat,\n",
    "                              'icategory':icat,\n",
    "                              'relevant':relevant,\n",
    "                              'severity':severity,\n",
    "                              'deaths':deaths,\n",
    "                              'duplicate':0\n",
    "                               })"
   ]
  },
  {
   "cell_type": "markdown",
   "metadata": {},
   "source": [
    "Összes medvés hír"
   ]
  },
  {
   "cell_type": "code",
   "execution_count": 9,
   "metadata": {
    "ExecuteTime": {
     "end_time": "2019-04-18T01:58:55.338108Z",
     "start_time": "2019-04-18T01:58:55.300107Z"
    }
   },
   "outputs": [],
   "source": [
    "df=pd.DataFrame().from_dict(hirek)\n",
    "df['date']=pd.to_datetime(df['date'])\n",
    "df=df.sort_values('date').drop_duplicates().reset_index(drop=True)"
   ]
  },
  {
   "cell_type": "code",
   "execution_count": 10,
   "metadata": {
    "ExecuteTime": {
     "end_time": "2019-04-18T01:58:56.173594Z",
     "start_time": "2019-04-18T01:58:56.167592Z"
    }
   },
   "outputs": [
    {
     "data": {
      "text/plain": [
       "86"
      ]
     },
     "execution_count": 10,
     "metadata": {},
     "output_type": "execute_result"
    }
   ],
   "source": [
    "len(hirek)"
   ]
  },
  {
   "cell_type": "markdown",
   "metadata": {},
   "source": [
    "Save to medve Excel. Manual curation"
   ]
  },
  {
   "cell_type": "code",
   "execution_count": 11,
   "metadata": {
    "ExecuteTime": {
     "end_time": "2019-04-18T01:58:57.152809Z",
     "start_time": "2019-04-18T01:58:57.142804Z"
    },
    "code_folding": []
   },
   "outputs": [],
   "source": [
    "dm=df[[ 'date', 'hudate', 'link','image', 'category','icategory','tags','title',\n",
    "       'content']]\n",
    "dc=df[['title','content','relevant', 'severity','deaths','duplicate']]"
   ]
  },
  {
   "cell_type": "code",
   "execution_count": 12,
   "metadata": {
    "ExecuteTime": {
     "end_time": "2019-04-18T01:58:58.117150Z",
     "start_time": "2019-04-18T01:58:57.625502Z"
    }
   },
   "outputs": [],
   "source": [
    "#save parsed data\n",
    "dm.to_excel('data/szekelyhon_medve.xlsx')"
   ]
  },
  {
   "cell_type": "code",
   "execution_count": 13,
   "metadata": {
    "ExecuteTime": {
     "end_time": "2019-04-18T01:58:58.667784Z",
     "start_time": "2019-04-18T01:58:58.563786Z"
    }
   },
   "outputs": [],
   "source": [
    "#save data for curation\n",
    "#1 if you dont have savedata yet\n",
    "existing_savedata=False\n",
    "if not existing_savedata:\n",
    "    dc.to_excel('data/szekelyhon_medve_curated.xlsx')\n",
    "#2 if you already have savedata\n",
    "else:\n",
    "    dc2=pd.read_excel('data/szekelyhon_medve_curated.xlsx')\n",
    "    dc2.combine_first(dc).to_excel('data/szekelyhon_medve_curated.xlsx')"
   ]
  },
  {
   "cell_type": "markdown",
   "metadata": {},
   "source": [
    "Open `data/szekelyhon_medve_curated` and manually confirm each case."
   ]
  },
  {
   "cell_type": "markdown",
   "metadata": {},
   "source": [
    "Relevant = Medves cikk-e vagy sem: 1-igen, 0-nem biztos, -1:biztosan nem   \n",
    "Deaths = Halalok szama (ha ismert)  \n",
    "Severity = Sulyossag: 0-mas jellegu hir, 1-nyom, 2-latas, 3-allat-tamadas, 4-ember-tamadas  \n",
    "Duplicate = 0: Eredeti cikk, 1: Masolat, 2: Osszegzes"
   ]
  },
  {
   "cell_type": "code",
   "execution_count": null,
   "metadata": {},
   "outputs": [],
   "source": []
  }
 ],
 "metadata": {
  "kernelspec": {
   "display_name": "Python 3",
   "language": "python",
   "name": "python3"
  },
  "language_info": {
   "codemirror_mode": {
    "name": "ipython",
    "version": 3
   },
   "file_extension": ".py",
   "mimetype": "text/x-python",
   "name": "python",
   "nbconvert_exporter": "python",
   "pygments_lexer": "ipython3",
   "version": "3.7.4"
  },
  "toc": {
   "base_numbering": 1,
   "nav_menu": {},
   "number_sections": true,
   "sideBar": true,
   "skip_h1_title": false,
   "title_cell": "Table of Contents",
   "title_sidebar": "Contents",
   "toc_cell": false,
   "toc_position": {},
   "toc_section_display": true,
   "toc_window_display": false
  }
 },
 "nbformat": 4,
 "nbformat_minor": 4
}
