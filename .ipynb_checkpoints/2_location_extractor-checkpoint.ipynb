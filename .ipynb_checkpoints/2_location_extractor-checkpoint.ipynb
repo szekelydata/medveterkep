{
 "cells": [
  {
   "cell_type": "code",
   "execution_count": 37,
   "metadata": {
    "ExecuteTime": {
     "end_time": "2019-04-18T03:39:33.701263Z",
     "start_time": "2019-04-18T03:39:33.035262Z"
    }
   },
   "outputs": [],
   "source": [
    "import pandas as pd, numpy as np"
   ]
  },
  {
   "cell_type": "code",
   "execution_count": 38,
   "metadata": {
    "ExecuteTime": {
     "end_time": "2019-04-18T03:39:33.823266Z",
     "start_time": "2019-04-18T03:39:33.705265Z"
    }
   },
   "outputs": [],
   "source": [
    "dm=pd.read_excel('data/szekelyhon_medve.xlsx')\n",
    "dc=pd.read_excel('data/szekelyhon_medve_curated.xlsx')"
   ]
  },
  {
   "cell_type": "code",
   "execution_count": 39,
   "metadata": {
    "ExecuteTime": {
     "end_time": "2019-04-18T03:39:33.836262Z",
     "start_time": "2019-04-18T03:39:33.825260Z"
    }
   },
   "outputs": [],
   "source": [
    "dc=dc[(dc['duplicate']!=1)&(dc['relevant']==1)]"
   ]
  },
  {
   "cell_type": "code",
   "execution_count": 40,
   "metadata": {
    "ExecuteTime": {
     "end_time": "2019-04-18T03:39:33.870262Z",
     "start_time": "2019-04-18T03:39:33.840262Z"
    }
   },
   "outputs": [],
   "source": [
    "dc[\"uid\"] = dc[\"title\"].map(str) + dc[\"content\"]\n",
    "dm[\"uid\"] = dm[\"title\"].map(str) + dm[\"content\"]"
   ]
  },
  {
   "cell_type": "code",
   "execution_count": 41,
   "metadata": {
    "ExecuteTime": {
     "end_time": "2019-04-18T03:39:33.888264Z",
     "start_time": "2019-04-18T03:39:33.877270Z"
    }
   },
   "outputs": [],
   "source": [
    "dc=dc.set_index('uid')\n",
    "dm=dm.set_index('uid')"
   ]
  },
  {
   "cell_type": "code",
   "execution_count": 42,
   "metadata": {
    "ExecuteTime": {
     "end_time": "2019-04-18T03:39:33.905263Z",
     "start_time": "2019-04-18T03:39:33.892263Z"
    }
   },
   "outputs": [],
   "source": [
    "dmi=dm.loc[dc.index.dropna()]"
   ]
  },
  {
   "cell_type": "code",
   "execution_count": 43,
   "metadata": {
    "ExecuteTime": {
     "end_time": "2019-04-18T03:39:33.941267Z",
     "start_time": "2019-04-18T03:39:33.909271Z"
    }
   },
   "outputs": [],
   "source": [
    "df=dmi.merge(dc).drop_duplicates()"
   ]
  },
  {
   "cell_type": "markdown",
   "metadata": {
    "ExecuteTime": {
     "end_time": "2018-11-03T01:06:46.878487Z",
     "start_time": "2018-11-03T01:06:46.784487Z"
    }
   },
   "source": [
    "Working df ready. Now infer location."
   ]
  },
  {
   "cell_type": "code",
   "execution_count": 44,
   "metadata": {
    "ExecuteTime": {
     "end_time": "2019-04-18T03:39:34.251834Z",
     "start_time": "2019-04-18T03:39:34.244823Z"
    }
   },
   "outputs": [],
   "source": [
    "locs=df[['category','icategory','tags','title','content']]"
   ]
  },
  {
   "cell_type": "code",
   "execution_count": 45,
   "metadata": {
    "ExecuteTime": {
     "end_time": "2019-04-18T03:39:34.742497Z",
     "start_time": "2019-04-18T03:39:34.710500Z"
    }
   },
   "outputs": [
    {
     "data": {
      "text/html": [
       "<div>\n",
       "<style scoped>\n",
       "    .dataframe tbody tr th:only-of-type {\n",
       "        vertical-align: middle;\n",
       "    }\n",
       "\n",
       "    .dataframe tbody tr th {\n",
       "        vertical-align: top;\n",
       "    }\n",
       "\n",
       "    .dataframe thead th {\n",
       "        text-align: right;\n",
       "    }\n",
       "</style>\n",
       "<table border=\"1\" class=\"dataframe\">\n",
       "  <thead>\n",
       "    <tr style=\"text-align: right;\">\n",
       "      <th></th>\n",
       "      <th>category</th>\n",
       "      <th>icategory</th>\n",
       "      <th>tags</th>\n",
       "      <th>title</th>\n",
       "      <th>content</th>\n",
       "    </tr>\n",
       "  </thead>\n",
       "  <tbody>\n",
       "    <tr>\n",
       "      <th>0</th>\n",
       "      <td>aktualis</td>\n",
       "      <td>csik</td>\n",
       "      <td>['Hargita megye', 'Marosszék', 'medve']</td>\n",
       "      <td>Nem pontosak a belügyi tárca medvetámadásokra ...</td>\n",
       "      <td>Nem pontosak a belügyminisztérium kimutatásai ...</td>\n",
       "    </tr>\n",
       "    <tr>\n",
       "      <th>1</th>\n",
       "      <td>aktualis</td>\n",
       "      <td>agerpres</td>\n",
       "      <td>['Gyergyószék', 'medve']</td>\n",
       "      <td>Feldúlva találták a sírhelyeket</td>\n",
       "      <td>Feldúlva találták a sírhelyeket, illetve azok ...</td>\n",
       "    </tr>\n",
       "    <tr>\n",
       "      <th>2</th>\n",
       "      <td>aktualis</td>\n",
       "      <td>udvarhely</td>\n",
       "      <td>['Hargita megye', 'medve']</td>\n",
       "      <td>Elutasította medveügyben a Zetelaki Területtul...</td>\n",
       "      <td>Elutasította a Marosvásárhelyi Táblabíróság a ...</td>\n",
       "    </tr>\n",
       "    <tr>\n",
       "      <th>3</th>\n",
       "      <td>aktualis</td>\n",
       "      <td>csik</td>\n",
       "      <td>['Belföld', 'medve', 'RMDSZ']</td>\n",
       "      <td>Ki akadályozta meg, hogy a barnamedve lekerülj...</td>\n",
       "      <td>Az állatvédők és az Európai Bizottság akadályo...</td>\n",
       "    </tr>\n",
       "    <tr>\n",
       "      <th>4</th>\n",
       "      <td>aktualis</td>\n",
       "      <td>csik</td>\n",
       "      <td>['Háromszék', 'medve']</td>\n",
       "      <td>Pénzt ígér a miniszter a medvék által veszélye...</td>\n",
       "      <td>A háromszéki Zabolán tartott terepszemlét Cost...</td>\n",
       "    </tr>\n",
       "    <tr>\n",
       "      <th>...</th>\n",
       "      <td>...</td>\n",
       "      <td>...</td>\n",
       "      <td>...</td>\n",
       "      <td>...</td>\n",
       "      <td>...</td>\n",
       "    </tr>\n",
       "    <tr>\n",
       "      <th>64</th>\n",
       "      <td>aktualis</td>\n",
       "      <td>csik</td>\n",
       "      <td>['Csíkszereda', 'medve']</td>\n",
       "      <td>Második napja, hogy a borvízforrás környékén k...</td>\n",
       "      <td>Akárcsak csütörtök este, péntek délután is fel...</td>\n",
       "    </tr>\n",
       "    <tr>\n",
       "      <th>65</th>\n",
       "      <td>aktualis</td>\n",
       "      <td>udvarhely</td>\n",
       "      <td>['Csíkszereda', 'medve']</td>\n",
       "      <td>Iskolaudvarról kellett kiűzni egy medvét Csíks...</td>\n",
       "      <td>Medvét vett észre a csíkszeredai Márton Áron F...</td>\n",
       "    </tr>\n",
       "    <tr>\n",
       "      <th>66</th>\n",
       "      <td>aktualis</td>\n",
       "      <td>csik</td>\n",
       "      <td>['Csíkszereda', 'medve']</td>\n",
       "      <td>Elejtették a Csíkszeredában többször is felbuk...</td>\n",
       "      <td>A Márton Áron Főgimnázium udvarán ejtették el ...</td>\n",
       "    </tr>\n",
       "    <tr>\n",
       "      <th>67</th>\n",
       "      <td>aktualis</td>\n",
       "      <td>csik</td>\n",
       "      <td>['Csíkszereda', 'medve']</td>\n",
       "      <td>A főtérig merészkedett a Csíkszeredában felbuk...</td>\n",
       "      <td>Miután szombat este kilőtték a múlt héten Csík...</td>\n",
       "    </tr>\n",
       "    <tr>\n",
       "      <th>68</th>\n",
       "      <td>aktualis</td>\n",
       "      <td>csik</td>\n",
       "      <td>['Csíkszereda', 'medve']</td>\n",
       "      <td>Egyik a másik után – miért látni gyakran medvé...</td>\n",
       "      <td>A fiatal medvék a területhiány miatt kénytelen...</td>\n",
       "    </tr>\n",
       "  </tbody>\n",
       "</table>\n",
       "<p>69 rows × 5 columns</p>\n",
       "</div>"
      ],
      "text/plain": [
       "    category  icategory                                     tags  \\\n",
       "0   aktualis       csik  ['Hargita megye', 'Marosszék', 'medve']   \n",
       "1   aktualis   agerpres                 ['Gyergyószék', 'medve']   \n",
       "2   aktualis  udvarhely               ['Hargita megye', 'medve']   \n",
       "3   aktualis       csik            ['Belföld', 'medve', 'RMDSZ']   \n",
       "4   aktualis       csik                   ['Háromszék', 'medve']   \n",
       "..       ...        ...                                      ...   \n",
       "64  aktualis       csik                 ['Csíkszereda', 'medve']   \n",
       "65  aktualis  udvarhely                 ['Csíkszereda', 'medve']   \n",
       "66  aktualis       csik                 ['Csíkszereda', 'medve']   \n",
       "67  aktualis       csik                 ['Csíkszereda', 'medve']   \n",
       "68  aktualis       csik                 ['Csíkszereda', 'medve']   \n",
       "\n",
       "                                                title  \\\n",
       "0   Nem pontosak a belügyi tárca medvetámadásokra ...   \n",
       "1                     Feldúlva találták a sírhelyeket   \n",
       "2   Elutasította medveügyben a Zetelaki Területtul...   \n",
       "3   Ki akadályozta meg, hogy a barnamedve lekerülj...   \n",
       "4   Pénzt ígér a miniszter a medvék által veszélye...   \n",
       "..                                                ...   \n",
       "64  Második napja, hogy a borvízforrás környékén k...   \n",
       "65  Iskolaudvarról kellett kiűzni egy medvét Csíks...   \n",
       "66  Elejtették a Csíkszeredában többször is felbuk...   \n",
       "67  A főtérig merészkedett a Csíkszeredában felbuk...   \n",
       "68  Egyik a másik után – miért látni gyakran medvé...   \n",
       "\n",
       "                                              content  \n",
       "0   Nem pontosak a belügyminisztérium kimutatásai ...  \n",
       "1   Feldúlva találták a sírhelyeket, illetve azok ...  \n",
       "2   Elutasította a Marosvásárhelyi Táblabíróság a ...  \n",
       "3   Az állatvédők és az Európai Bizottság akadályo...  \n",
       "4   A háromszéki Zabolán tartott terepszemlét Cost...  \n",
       "..                                                ...  \n",
       "64  Akárcsak csütörtök este, péntek délután is fel...  \n",
       "65  Medvét vett észre a csíkszeredai Márton Áron F...  \n",
       "66  A Márton Áron Főgimnázium udvarán ejtették el ...  \n",
       "67  Miután szombat este kilőtték a múlt héten Csík...  \n",
       "68  A fiatal medvék a területhiány miatt kénytelen...  \n",
       "\n",
       "[69 rows x 5 columns]"
      ]
     },
     "execution_count": 45,
     "metadata": {},
     "output_type": "execute_result"
    }
   ],
   "source": [
    "locs"
   ]
  },
  {
   "cell_type": "code",
   "execution_count": 46,
   "metadata": {
    "ExecuteTime": {
     "end_time": "2019-04-18T03:39:35.768753Z",
     "start_time": "2019-04-18T03:39:35.764751Z"
    }
   },
   "outputs": [],
   "source": [
    "import json"
   ]
  },
  {
   "cell_type": "code",
   "execution_count": 47,
   "metadata": {
    "ExecuteTime": {
     "end_time": "2019-04-18T03:39:36.451645Z",
     "start_time": "2019-04-18T03:39:36.422649Z"
    }
   },
   "outputs": [],
   "source": [
    "lak=json.loads(open('geo/huncoords.json','r').read())\n",
    "megyek=json.loads(open('geo/megyek.json','r').read())"
   ]
  },
  {
   "cell_type": "code",
   "execution_count": 48,
   "metadata": {
    "ExecuteTime": {
     "end_time": "2019-04-18T03:45:46.996470Z",
     "start_time": "2019-04-18T03:45:46.991465Z"
    }
   },
   "outputs": [],
   "source": [
    "laks=[i for i in megyek.keys() if ((megyek[i]!='Más megye')and(i in lak.keys()))]"
   ]
  },
  {
   "cell_type": "code",
   "execution_count": 49,
   "metadata": {
    "ExecuteTime": {
     "end_time": "2019-04-18T03:45:48.371847Z",
     "start_time": "2019-04-18T03:45:48.364845Z"
    }
   },
   "outputs": [],
   "source": [
    "def levenshteinDistance(s1, s2):\n",
    "    if len(s1) > len(s2):\n",
    "        s1, s2 = s2, s1\n",
    "\n",
    "    distances = range(len(s1) + 1)\n",
    "    for i2, c2 in enumerate(s2):\n",
    "        distances_ = [i2+1]\n",
    "        for i1, c1 in enumerate(s1):\n",
    "            if c1 == c2:\n",
    "                distances_.append(distances[i1])\n",
    "            else:\n",
    "                distances_.append(1 + min((distances[i1], distances[i1 + 1], distances_[-1])))\n",
    "        distances = distances_\n",
    "    return distances[-1]"
   ]
  },
  {
   "cell_type": "code",
   "execution_count": 50,
   "metadata": {
    "ExecuteTime": {
     "end_time": "2019-04-18T03:46:16.321036Z",
     "start_time": "2019-04-18T03:45:49.054041Z"
    }
   },
   "outputs": [
    {
     "name": "stdout",
     "output_type": "stream",
     "text": [
      "3 Vasláb\n",
      "5 Vasláb Vasláb\n",
      "5 hevederi Heveder\n",
      "4 Zetelaki Zetelaka\n",
      "5 Marosvásárhelyi Marosvásárhely\n",
      "5 Zetelaki Zetelaka\n",
      "5 Zabolán Zabola\n",
      "1 [\"Csendőrség\", \"medve\", \"Parajd\"] Parajd\n",
      "5 parajdi Parajd\n",
      "2 Székelyudvarhely\n",
      "3 Székelyudvarhely\n",
      "4 Székelyudvarhely Székelyudvarhely\n",
      "5 Székelyudvarhely Székelyudvarhely\n",
      "4 Zetelakán Zetelaka\n",
      "4 Farkaslakán Farkaslaka\n",
      "4 tavaly Haraly\n",
      "5 tavaly Haraly\n",
      "1 [\"Gyergyószentmiklós\", \"medve\"] Gyergyószentmiklós\n",
      "2 Gyergyószentmiklós\n",
      "4 Gyergyószentmiklós Gyergyószentmiklós\n",
      "1 [\"medve\", \"Székelyudvarhely\"] Székelyudvarhely\n",
      "4 Székelyudvarhelyen Székelyudvarhely\n",
      "5 székelyudvarhelyi Székelyudvarhely\n",
      "5 székelyszenttamási Székelyszenttamás\n",
      "1 [\"medve\", \"Székelyudvarhely\"] Székelyudvarhely\n",
      "4 Székelyudvarhelyre Székelyudvarhely\n",
      "5 székelyudvarhelyi Székelyudvarhely\n",
      "1 [\"Csíkszentgyörgy\", \"medve\"] Csíkszentgyörgy\n",
      "4 csíkbánkfalvi Csíkbánkfalva\n",
      "4 portán Zoltán\n",
      "5 csíkbánkfalvi Csíkbánkfalva\n",
      "1 [\"Etéd\"] Etéd\n",
      "2 Etéd\n",
      "3 Etéd\n",
      "5 tavaly Haraly\n",
      "1 [\"Felsőboldogfalva\", \"medve\"] Felsőboldogfalva\n",
      "4 farcádi Farcád\n",
      "3 Zágon\n",
      "5 számos Ádámos\n",
      "1 [\"medve\", \"Tusnádfürdő\"] Tusnádfürdő\n",
      "4 Tusnádfürdőre Tusnádfürdő\n",
      "5 Tusnádfürdőre Tusnádfürdő\n",
      "5 Vaslábon Vasláb\n",
      "1 [\"medve\", \"Tusnád\"] Tusnád\n",
      "4 tusnádfürdői Tusnádfürdő\n",
      "5 tusnádfürdői Tusnádfürdő\n",
      "1 [\"Gyergyószentmiklós\", \"medve\"] Gyergyószentmiklós\n",
      "3 Gyergyószentmiklós\n",
      "5 Gyergyószentmiklós Gyergyószentmiklós\n",
      "3 Kőrispatak\n",
      "5 Kőrispatak Kőrispatak\n",
      "5 Kőrispatak Kispatak\n",
      "1 [\"Etéd\", \"medve\"] Etéd\n",
      "4 Vaslábon Vasláb\n",
      "5 vaslábi Vasláb\n",
      "1 [\"medve\", \"Tusnádfürdő\"] Tusnádfürdő\n",
      "4 tusnádfürdői Tusnádfürdő\n",
      "5 tusnádfürdői Tusnádfürdő\n",
      "5 Bardóc Bardoc\n",
      "1 [\"medve\", \"Tusnádfürdő\"] Tusnádfürdő\n",
      "3 Tusnádfürdő\n",
      "4 Tusnádfürdőn, Tusnádfürdő\n",
      "5 Tusnádfürdő Tusnádfürdő\n",
      "1 [\"medve\", \"Tusnádfürdő\"] Tusnádfürdő\n",
      "1 [\"medve\", \"Tusnádfürdő\"] Tusnádfürdő\n",
      "4 Tusnádfürdőn Tusnádfürdő\n",
      "1 [\"medve\", \"Tusnádfürdő\"] Tusnádfürdő\n",
      "5 Tusnádfürdőn Tusnádfürdő\n",
      "1 [\"medve\", \"Székelyudvarhely\"] Székelyudvarhely\n",
      "4 Székelyudvarhelyen Székelyudvarhely\n",
      "5 székelyudvarhelyi Székelyudvarhely\n",
      "1 [\"medve\", \"Székelyudvarhely\"] Székelyudvarhely\n",
      "4 Székelyudvarhelyen Székelyudvarhely\n",
      "5 Székelyudvarhelyen Székelyudvarhely\n",
      "1 [\"medve\", \"Oroszhegy\"] Oroszhegy\n",
      "4 Tusnádfürdőn, Tusnádfürdő\n",
      "4 Marosfőn Marosfő\n",
      "4 Csobotfalván Csobotfalva\n",
      "1 [\"Csíkszereda\", \"medve\"] Csíkszereda\n",
      "3 Csíkszereda\n",
      "5 Csíkszereda Csíkszereda\n",
      "5 Zetelaki Zetelaka\n",
      "1 [\"Csíkszereda\", \"medve\"] Csíkszereda\n",
      "2 Csíkszereda\n",
      "4 Csíkszereda Csíkszereda\n",
      "5 csíkszeredai Csíkszereda\n",
      "4 Székelyudvarhelyen Székelyudvarhely\n",
      "5 székelyudvarhelyi Székelyudvarhely\n",
      "1 [\"medve\", \"Székelyudvarhely\"] Székelyudvarhely\n",
      "4 székelyudvarhelyi Székelyudvarhely\n",
      "1 [\"medve\", \"Tusnádfürdő\"] Tusnádfürdő\n",
      "3 Tusnádfürdő\n",
      "4 magára Magura\n",
      "5 Tusnádfürdő Tusnádfürdő\n",
      "5 magára Magura\n",
      "5 balánbányai Balánbánya\n",
      "1 [\"Csíkszereda\", \"medve\"] Csíkszereda\n",
      "1 [\"Baleset\", \"Csíkszereda\", \"medve\"] Csíkszereda\n",
      "2 Csíkszereda\n",
      "3 Csíkszereda\n",
      "4 Csíkszereda Csíkszereda\n",
      "5 Csíkszereda Csíkszereda\n",
      "1 [\"medve\", \"Tusnádfürdő\"] Tusnádfürdő\n",
      "2 Tusnádfürdő\n",
      "4 Tusnádfürdő Tusnádfürdő\n",
      "5 Tusnádfürdőn Tusnádfürdő\n",
      "5 tusnádfürdői Tusnádfürdő\n",
      "1 [\"medve\", \"Székelyudvarhely\"] Székelyudvarhely\n",
      "4 Székelyudvarhelyre Székelyudvarhely\n",
      "1 [\"medve\", \"Székelyudvarhely\"] Székelyudvarhely\n",
      "4 Székelyudvarhelyen Székelyudvarhely\n",
      "5 Székelyudvarhelyi Székelyudvarhely\n",
      "1 [\"Gyergyószentmiklós\", \"medve\"] Gyergyószentmiklós\n",
      "5 Székelyudvarhelyen Székelyudvarhely\n",
      "3 Kovászna\n",
      "4 Kovásznai Kovászna\n",
      "5 Kovászna Kovászna\n",
      "5 nyomán Nyomát\n",
      "1 [\"Magyarország\", \"medve\", \"Tusnádfürdő\"] Tusnádfürdő\n",
      "4 tusnádfürdői Tusnádfürdő\n",
      "5 Tusnádfürdőre Tusnádfürdő\n",
      "5 kereső Kerelő\n",
      "5 kereső Keresd\n",
      "1 [\"medve\", \"Tusnádfürdő\"] Tusnádfürdő\n",
      "5 Csíkszeredai Csíkszereda\n",
      "5 Tusnádfürdőn. Tusnádfürdő\n",
      "1 [\"Csíkszereda\", \"medve\"] Csíkszereda\n",
      "5 csíksomlyói Csíksomlyó\n",
      "1 [\"Csíkszereda\", \"medve\"] Csíkszereda\n",
      "5 csíkszeredai Csíkszereda\n",
      "5 Márton Márkos\n",
      "5 Márton Márkod\n",
      "1 [\"Csíkszereda\", \"medve\"] Csíkszereda\n",
      "5 Márton Márkos\n",
      "5 Márton Márkod\n",
      "5 Csíkszeredába Csíkszereda\n",
      "1 [\"Csíkszereda\", \"medve\"] Csíkszereda\n",
      "3 Csíkszereda\n",
      "3 Csíksomlyó\n",
      "5 Csíkszereda Csíkszereda\n",
      "5 Csíksomlyó Csíksomlyó\n",
      "1 [\"Csíkszereda\", \"medve\"] Csíkszereda\n"
     ]
    }
   ],
   "source": [
    "#look for perfect matches\n",
    "decoded_locs={}\n",
    "min_loc_len=5\n",
    "for i in locs.index:\n",
    "    if '[' in locs.loc[i]['tags']:\n",
    "        k=locs.loc[i]['tags'].replace(\"'\",'\"')\n",
    "        for j in json.loads(k):\n",
    "            if j in laks:\n",
    "                if i not in decoded_locs:decoded_locs[i]=[]\n",
    "                decoded_locs[i].append(j)\n",
    "                print('1',k,j)\n",
    "    for j in locs.loc[i]['title'].split():\n",
    "        if j in laks:\n",
    "            if i not in decoded_locs:decoded_locs[i]=[]\n",
    "            decoded_locs[i].append(j)\n",
    "            print('2',j)\n",
    "    for j in locs.loc[i]['content'].split():\n",
    "        if j in laks:\n",
    "            if i not in decoded_locs:decoded_locs[i]=[]\n",
    "            decoded_locs[i].append(j)\n",
    "            print('3',j)\n",
    "    for j in locs.loc[i]['title'].split():\n",
    "        for k in laks:\n",
    "            if ((len(j)>min_loc_len) and (len(k)>min_loc_len)):\n",
    "                if levenshteinDistance(j,k)<3:\n",
    "                    if i not in decoded_locs:decoded_locs[i]=[]\n",
    "                    decoded_locs[i].append(k)\n",
    "                    print('4',j,k)\n",
    "    for j in locs.loc[i]['content'].split():\n",
    "        for k in laks:\n",
    "            if ((len(j)>min_loc_len) and (len(k)>min_loc_len)):\n",
    "                if levenshteinDistance(j,k)<3:\n",
    "                    if i not in decoded_locs:decoded_locs[i]=[]\n",
    "                    decoded_locs[i].append(k)\n",
    "                    print('5',j,k)"
   ]
  },
  {
   "cell_type": "code",
   "execution_count": 51,
   "metadata": {
    "ExecuteTime": {
     "end_time": "2019-04-18T03:46:19.580037Z",
     "start_time": "2019-04-18T03:46:19.573034Z"
    }
   },
   "outputs": [],
   "source": [
    "predicted_locs=[]\n",
    "for i in range(len(locs.index)):\n",
    "    if locs.index[i] in decoded_locs: \n",
    "        dummy=list(set(decoded_locs[locs.index[i]]))\n",
    "        if len(dummy)==1:\n",
    "            dummy=dummy[0]\n",
    "        else:\n",
    "            dummy=repr(list(set(decoded_locs[locs.index[i]])))\n",
    "        predicted_locs.append(dummy)\n",
    "    else: \n",
    "        predicted_locs.append('')"
   ]
  },
  {
   "cell_type": "code",
   "execution_count": 52,
   "metadata": {
    "ExecuteTime": {
     "end_time": "2019-04-18T03:46:21.573034Z",
     "start_time": "2019-04-18T03:46:21.479047Z"
    }
   },
   "outputs": [
    {
     "name": "stderr",
     "output_type": "stream",
     "text": [
      "C:\\ProgramData\\Anaconda3\\lib\\site-packages\\ipykernel_launcher.py:1: SettingWithCopyWarning: \n",
      "A value is trying to be set on a copy of a slice from a DataFrame.\n",
      "Try using .loc[row_indexer,col_indexer] = value instead\n",
      "\n",
      "See the caveats in the documentation: https://pandas.pydata.org/pandas-docs/stable/user_guide/indexing.html#returning-a-view-versus-a-copy\n",
      "  \"\"\"Entry point for launching an IPython kernel.\n",
      "C:\\ProgramData\\Anaconda3\\lib\\site-packages\\ipykernel_launcher.py:2: SettingWithCopyWarning: \n",
      "A value is trying to be set on a copy of a slice from a DataFrame.\n",
      "Try using .loc[row_indexer,col_indexer] = value instead\n",
      "\n",
      "See the caveats in the documentation: https://pandas.pydata.org/pandas-docs/stable/user_guide/indexing.html#returning-a-view-versus-a-copy\n",
      "  \n"
     ]
    }
   ],
   "source": [
    "locs['predicted_locs']=predicted_locs\n",
    "locs['actual_locs']=predicted_locs"
   ]
  },
  {
   "cell_type": "code",
   "execution_count": 53,
   "metadata": {
    "ExecuteTime": {
     "end_time": "2019-04-18T03:46:22.294039Z",
     "start_time": "2019-04-18T03:46:22.285036Z"
    }
   },
   "outputs": [],
   "source": [
    "lm=locs[['title','content','predicted_locs','actual_locs']]"
   ]
  },
  {
   "cell_type": "code",
   "execution_count": 54,
   "metadata": {
    "ExecuteTime": {
     "end_time": "2019-04-18T03:46:29.143039Z",
     "start_time": "2019-04-18T03:46:28.921039Z"
    }
   },
   "outputs": [],
   "source": [
    "lm.to_excel('data/szekelyhon_locs.xlsx')\n",
    "lm.to_excel('data/szekelyhon_locs_curated.xlsx')"
   ]
  },
  {
   "cell_type": "markdown",
   "metadata": {},
   "source": [
    "Open `data/szekelyhon_locs_curated` and manually verify predicted locations. Amend `actual_locs` where necessary."
   ]
  },
  {
   "cell_type": "code",
   "execution_count": null,
   "metadata": {},
   "outputs": [],
   "source": []
  },
  {
   "cell_type": "code",
   "execution_count": null,
   "metadata": {},
   "outputs": [],
   "source": []
  }
 ],
 "metadata": {
  "kernelspec": {
   "display_name": "Python 3",
   "language": "python",
   "name": "python3"
  },
  "language_info": {
   "codemirror_mode": {
    "name": "ipython",
    "version": 3
   },
   "file_extension": ".py",
   "mimetype": "text/x-python",
   "name": "python",
   "nbconvert_exporter": "python",
   "pygments_lexer": "ipython3",
   "version": "3.7.4"
  },
  "toc": {
   "base_numbering": 1,
   "nav_menu": {},
   "number_sections": true,
   "sideBar": true,
   "skip_h1_title": false,
   "title_cell": "Table of Contents",
   "title_sidebar": "Contents",
   "toc_cell": false,
   "toc_position": {},
   "toc_section_display": true,
   "toc_window_display": false
  }
 },
 "nbformat": 4,
 "nbformat_minor": 4
}
