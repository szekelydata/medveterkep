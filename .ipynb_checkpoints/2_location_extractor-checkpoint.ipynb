{
 "cells": [
  {
   "cell_type": "code",
   "execution_count": 1,
   "metadata": {
    "ExecuteTime": {
     "end_time": "2019-04-18T03:39:33.701263Z",
     "start_time": "2019-04-18T03:39:33.035262Z"
    }
   },
   "outputs": [],
   "source": [
    "import pandas as pd, numpy as np"
   ]
  },
  {
   "cell_type": "code",
   "execution_count": 2,
   "metadata": {
    "ExecuteTime": {
     "end_time": "2019-04-18T03:39:33.823266Z",
     "start_time": "2019-04-18T03:39:33.705265Z"
    }
   },
   "outputs": [],
   "source": [
    "dm=pd.read_excel('data/szekelyhon_medve.xlsx')\n",
    "dc=pd.read_excel('data/szekelyhon_medve_curated.xlsx')"
   ]
  },
  {
   "cell_type": "code",
   "execution_count": 3,
   "metadata": {
    "ExecuteTime": {
     "end_time": "2019-04-18T03:39:33.836262Z",
     "start_time": "2019-04-18T03:39:33.825260Z"
    }
   },
   "outputs": [],
   "source": [
    "dc=dc[(dc['duplicate']!=1)&(dc['relevant']==1)]"
   ]
  },
  {
   "cell_type": "code",
   "execution_count": 4,
   "metadata": {
    "ExecuteTime": {
     "end_time": "2019-04-18T03:39:33.870262Z",
     "start_time": "2019-04-18T03:39:33.840262Z"
    }
   },
   "outputs": [],
   "source": [
    "dc[\"uid\"] = dc[\"title\"].map(str) + dc[\"content\"]\n",
    "dm[\"uid\"] = dm[\"title\"].map(str) + dm[\"content\"]"
   ]
  },
  {
   "cell_type": "code",
   "execution_count": 5,
   "metadata": {
    "ExecuteTime": {
     "end_time": "2019-04-18T03:39:33.888264Z",
     "start_time": "2019-04-18T03:39:33.877270Z"
    }
   },
   "outputs": [],
   "source": [
    "dc=dc.set_index('uid')\n",
    "dm=dm.set_index('uid')"
   ]
  },
  {
   "cell_type": "code",
   "execution_count": 6,
   "metadata": {
    "ExecuteTime": {
     "end_time": "2019-04-18T03:39:33.905263Z",
     "start_time": "2019-04-18T03:39:33.892263Z"
    }
   },
   "outputs": [],
   "source": [
    "dmi=dm.loc[dc.index.dropna()]"
   ]
  },
  {
   "cell_type": "code",
   "execution_count": 7,
   "metadata": {
    "ExecuteTime": {
     "end_time": "2019-04-18T03:39:33.941267Z",
     "start_time": "2019-04-18T03:39:33.909271Z"
    }
   },
   "outputs": [],
   "source": [
    "df=dmi.merge(dc).drop_duplicates()"
   ]
  },
  {
   "cell_type": "markdown",
   "metadata": {
    "ExecuteTime": {
     "end_time": "2018-11-03T01:06:46.878487Z",
     "start_time": "2018-11-03T01:06:46.784487Z"
    }
   },
   "source": [
    "Working df ready. Now infer location."
   ]
  },
  {
   "cell_type": "code",
   "execution_count": 8,
   "metadata": {
    "ExecuteTime": {
     "end_time": "2019-04-18T03:39:34.251834Z",
     "start_time": "2019-04-18T03:39:34.244823Z"
    }
   },
   "outputs": [],
   "source": [
    "locs=df[['category','icategory','tags','title','content']]"
   ]
  },
  {
   "cell_type": "code",
   "execution_count": 9,
   "metadata": {
    "ExecuteTime": {
     "end_time": "2019-04-18T03:39:34.742497Z",
     "start_time": "2019-04-18T03:39:34.710500Z"
    }
   },
   "outputs": [
    {
     "data": {
      "text/html": [
       "<div>\n",
       "<style scoped>\n",
       "    .dataframe tbody tr th:only-of-type {\n",
       "        vertical-align: middle;\n",
       "    }\n",
       "\n",
       "    .dataframe tbody tr th {\n",
       "        vertical-align: top;\n",
       "    }\n",
       "\n",
       "    .dataframe thead th {\n",
       "        text-align: right;\n",
       "    }\n",
       "</style>\n",
       "<table border=\"1\" class=\"dataframe\">\n",
       "  <thead>\n",
       "    <tr style=\"text-align: right;\">\n",
       "      <th></th>\n",
       "      <th>category</th>\n",
       "      <th>icategory</th>\n",
       "      <th>tags</th>\n",
       "      <th>title</th>\n",
       "      <th>content</th>\n",
       "    </tr>\n",
       "  </thead>\n",
       "  <tbody>\n",
       "    <tr>\n",
       "      <th>0</th>\n",
       "      <td>aktualis</td>\n",
       "      <td>agerpres</td>\n",
       "      <td>['Marosszék', 'medve']</td>\n",
       "      <td>Fényképpel nyomatékosítják, csak óvatosan, mer...</td>\n",
       "      <td>Marosvásárhely szomszédságában, a jeddi, koron...</td>\n",
       "    </tr>\n",
       "    <tr>\n",
       "      <th>1</th>\n",
       "      <td>aktualis</td>\n",
       "      <td>udvarhely</td>\n",
       "      <td>['medve', 'Udvarhelyszék']</td>\n",
       "      <td>Célkeresztbe kerülhet a Szentábrahámon juhokat...</td>\n",
       "      <td>A Szentábrahámon juhokat elpusztító medve is k...</td>\n",
       "    </tr>\n",
       "    <tr>\n",
       "      <th>2</th>\n",
       "      <td>aktualis</td>\n",
       "      <td>udvarhely</td>\n",
       "      <td>['Háromszék']</td>\n",
       "      <td>Korábbi élőhelyén engedték szabadon a tavaly e...</td>\n",
       "      <td>Szabadon engedték azt a medvebocsot, amelyet t...</td>\n",
       "    </tr>\n",
       "    <tr>\n",
       "      <th>3</th>\n",
       "      <td>aktualis</td>\n",
       "      <td>csik</td>\n",
       "      <td>['Csíkszék', 'medve']</td>\n",
       "      <td>Medve támadt egy madarasi juhászra</td>\n",
       "      <td>Legeltetés közben támadt egy 52 éves csíkmadar...</td>\n",
       "    </tr>\n",
       "    <tr>\n",
       "      <th>4</th>\n",
       "      <td>aktualis</td>\n",
       "      <td>udvarhely</td>\n",
       "      <td>['Marosszék', 'medve']</td>\n",
       "      <td>Szürkülettel jövő félelem: hárombocsos medvétő...</td>\n",
       "      <td>Elkergették, de visszajött a Marosszentannához...</td>\n",
       "    </tr>\n",
       "    <tr>\n",
       "      <th>5</th>\n",
       "      <td>aktualis</td>\n",
       "      <td>udvarhely</td>\n",
       "      <td>['medve', 'Udvarhelyszék']</td>\n",
       "      <td>Fáklyával igyekeznek elriasztani a medvét, amí...</td>\n",
       "      <td>A minisztérium illetékeseinek szóbeli ígéretei...</td>\n",
       "    </tr>\n",
       "    <tr>\n",
       "      <th>6</th>\n",
       "      <td>aktualis</td>\n",
       "      <td>udvarhely</td>\n",
       "      <td>['medve', 'Udvarhelyszék']</td>\n",
       "      <td>Továbbállt az agyagdombi medvecsalád</td>\n",
       "      <td>Üresen találták a vadászok nemrég a székelyudv...</td>\n",
       "    </tr>\n",
       "    <tr>\n",
       "      <th>7</th>\n",
       "      <td>aktualis</td>\n",
       "      <td>csik</td>\n",
       "      <td>['medve', 'Tusnádfürdő']</td>\n",
       "      <td>Gyerekek közeléből kergették el a medvéket</td>\n",
       "      <td>Egy kétbocsos anyamedve miatt riasztották kedd...</td>\n",
       "    </tr>\n",
       "    <tr>\n",
       "      <th>8</th>\n",
       "      <td>aktualis</td>\n",
       "      <td>csik</td>\n",
       "      <td>['Belföld', 'medve']</td>\n",
       "      <td>Turistákra támadt a medve</td>\n",
       "      <td>Két külföldi turistára támadt a medve szerdán ...</td>\n",
       "    </tr>\n",
       "    <tr>\n",
       "      <th>9</th>\n",
       "      <td>aktualis</td>\n",
       "      <td>agerpres</td>\n",
       "      <td>['medve', 'Szentegyháza']</td>\n",
       "      <td>Medve Szentegyháza határában</td>\n",
       "      <td>Nem kis fennakadást okozott egy medve Szentegy...</td>\n",
       "    </tr>\n",
       "    <tr>\n",
       "      <th>10</th>\n",
       "      <td>aktualis</td>\n",
       "      <td>123rf</td>\n",
       "      <td>['Hargita megye', 'Környezetvédelem', 'Maros m...</td>\n",
       "      <td>Kamerafelvételek, nyomok, barlangok – így szám...</td>\n",
       "      <td>Vadszámlálást végeznek a medvék, hiúzok és vad...</td>\n",
       "    </tr>\n",
       "    <tr>\n",
       "      <th>11</th>\n",
       "      <td>aktualis</td>\n",
       "      <td>123rf</td>\n",
       "      <td>['Brassó', 'medve']</td>\n",
       "      <td>Túlélte a gázolást a Brassó határában elütött ...</td>\n",
       "      <td>Elgázolt az autó egy medvét az 1-es országúton...</td>\n",
       "    </tr>\n",
       "    <tr>\n",
       "      <th>12</th>\n",
       "      <td>aktualis</td>\n",
       "      <td>csik</td>\n",
       "      <td>['medve', 'Tusnádfürdő']</td>\n",
       "      <td>Ahol az emberek a medvéket, a medvék pedig egy...</td>\n",
       "      <td>Az odalátogatóknak meglepetés és élmény, a tus...</td>\n",
       "    </tr>\n",
       "    <tr>\n",
       "      <th>13</th>\n",
       "      <td>aktualis</td>\n",
       "      <td>csik</td>\n",
       "      <td>['Háromszék', 'medve']</td>\n",
       "      <td>Ha medvével találkozna – tanácsok a csendőrségtől</td>\n",
       "      <td>Egyre többször bukkan fel a barnamedve a Kovás...</td>\n",
       "    </tr>\n",
       "    <tr>\n",
       "      <th>14</th>\n",
       "      <td>aktualis</td>\n",
       "      <td>udvarhely</td>\n",
       "      <td>['Hargita megye', 'medve']</td>\n",
       "      <td>140 medve kilövését hagyják jóvá, Borboly szer...</td>\n",
       "      <td>Bukarestben tartott közmeghallgatást a környez...</td>\n",
       "    </tr>\n",
       "    <tr>\n",
       "      <th>15</th>\n",
       "      <td>aktualis</td>\n",
       "      <td>udvarhely</td>\n",
       "      <td>['Maros megye', 'medve']</td>\n",
       "      <td>Hiába adnak le figyelmeztető lövéseket a medve...</td>\n",
       "      <td>Aggasztja a Maros megyei polgármestereket, hog...</td>\n",
       "    </tr>\n",
       "    <tr>\n",
       "      <th>16</th>\n",
       "      <td>aktualis</td>\n",
       "      <td>udvarhely</td>\n",
       "      <td>['Hargita megye', 'Maros megye', 'medve']</td>\n",
       "      <td>Íme, a vitatéma: megszámolták a medvéket</td>\n",
       "      <td>Évről évre jelentést tesznek ugyan a védett va...</td>\n",
       "    </tr>\n",
       "  </tbody>\n",
       "</table>\n",
       "</div>"
      ],
      "text/plain": [
       "    category  icategory                                               tags  \\\n",
       "0   aktualis   agerpres                             ['Marosszék', 'medve']   \n",
       "1   aktualis  udvarhely                         ['medve', 'Udvarhelyszék']   \n",
       "2   aktualis  udvarhely                                      ['Háromszék']   \n",
       "3   aktualis       csik                              ['Csíkszék', 'medve']   \n",
       "4   aktualis  udvarhely                             ['Marosszék', 'medve']   \n",
       "5   aktualis  udvarhely                         ['medve', 'Udvarhelyszék']   \n",
       "6   aktualis  udvarhely                         ['medve', 'Udvarhelyszék']   \n",
       "7   aktualis       csik                           ['medve', 'Tusnádfürdő']   \n",
       "8   aktualis       csik                               ['Belföld', 'medve']   \n",
       "9   aktualis   agerpres                          ['medve', 'Szentegyháza']   \n",
       "10  aktualis      123rf  ['Hargita megye', 'Környezetvédelem', 'Maros m...   \n",
       "11  aktualis      123rf                                ['Brassó', 'medve']   \n",
       "12  aktualis       csik                           ['medve', 'Tusnádfürdő']   \n",
       "13  aktualis       csik                             ['Háromszék', 'medve']   \n",
       "14  aktualis  udvarhely                         ['Hargita megye', 'medve']   \n",
       "15  aktualis  udvarhely                           ['Maros megye', 'medve']   \n",
       "16  aktualis  udvarhely          ['Hargita megye', 'Maros megye', 'medve']   \n",
       "\n",
       "                                                title  \\\n",
       "0   Fényképpel nyomatékosítják, csak óvatosan, mer...   \n",
       "1   Célkeresztbe kerülhet a Szentábrahámon juhokat...   \n",
       "2   Korábbi élőhelyén engedték szabadon a tavaly e...   \n",
       "3                  Medve támadt egy madarasi juhászra   \n",
       "4   Szürkülettel jövő félelem: hárombocsos medvétő...   \n",
       "5   Fáklyával igyekeznek elriasztani a medvét, amí...   \n",
       "6                Továbbállt az agyagdombi medvecsalád   \n",
       "7          Gyerekek közeléből kergették el a medvéket   \n",
       "8                           Turistákra támadt a medve   \n",
       "9                        Medve Szentegyháza határában   \n",
       "10  Kamerafelvételek, nyomok, barlangok – így szám...   \n",
       "11  Túlélte a gázolást a Brassó határában elütött ...   \n",
       "12  Ahol az emberek a medvéket, a medvék pedig egy...   \n",
       "13  Ha medvével találkozna – tanácsok a csendőrségtől   \n",
       "14  140 medve kilövését hagyják jóvá, Borboly szer...   \n",
       "15  Hiába adnak le figyelmeztető lövéseket a medve...   \n",
       "16           Íme, a vitatéma: megszámolták a medvéket   \n",
       "\n",
       "                                              content  \n",
       "0   Marosvásárhely szomszédságában, a jeddi, koron...  \n",
       "1   A Szentábrahámon juhokat elpusztító medve is k...  \n",
       "2   Szabadon engedték azt a medvebocsot, amelyet t...  \n",
       "3   Legeltetés közben támadt egy 52 éves csíkmadar...  \n",
       "4   Elkergették, de visszajött a Marosszentannához...  \n",
       "5   A minisztérium illetékeseinek szóbeli ígéretei...  \n",
       "6   Üresen találták a vadászok nemrég a székelyudv...  \n",
       "7   Egy kétbocsos anyamedve miatt riasztották kedd...  \n",
       "8   Két külföldi turistára támadt a medve szerdán ...  \n",
       "9   Nem kis fennakadást okozott egy medve Szentegy...  \n",
       "10  Vadszámlálást végeznek a medvék, hiúzok és vad...  \n",
       "11  Elgázolt az autó egy medvét az 1-es országúton...  \n",
       "12  Az odalátogatóknak meglepetés és élmény, a tus...  \n",
       "13  Egyre többször bukkan fel a barnamedve a Kovás...  \n",
       "14  Bukarestben tartott közmeghallgatást a környez...  \n",
       "15  Aggasztja a Maros megyei polgármestereket, hog...  \n",
       "16  Évről évre jelentést tesznek ugyan a védett va...  "
      ]
     },
     "execution_count": 9,
     "metadata": {},
     "output_type": "execute_result"
    }
   ],
   "source": [
    "locs"
   ]
  },
  {
   "cell_type": "code",
   "execution_count": 10,
   "metadata": {
    "ExecuteTime": {
     "end_time": "2019-04-18T03:39:35.768753Z",
     "start_time": "2019-04-18T03:39:35.764751Z"
    }
   },
   "outputs": [],
   "source": [
    "import json"
   ]
  },
  {
   "cell_type": "code",
   "execution_count": 11,
   "metadata": {
    "ExecuteTime": {
     "end_time": "2019-04-18T03:39:36.451645Z",
     "start_time": "2019-04-18T03:39:36.422649Z"
    }
   },
   "outputs": [],
   "source": [
    "lak=json.loads(open('geo/huncoords.json','r').read())\n",
    "megyek=json.loads(open('geo/megyek.json','r').read())"
   ]
  },
  {
   "cell_type": "code",
   "execution_count": 12,
   "metadata": {
    "ExecuteTime": {
     "end_time": "2019-04-18T03:45:46.996470Z",
     "start_time": "2019-04-18T03:45:46.991465Z"
    }
   },
   "outputs": [],
   "source": [
    "laks=[i for i in megyek.keys() if ((megyek[i]!='Más megye')and(i in lak.keys()))]"
   ]
  },
  {
   "cell_type": "code",
   "execution_count": 13,
   "metadata": {
    "ExecuteTime": {
     "end_time": "2019-04-18T03:45:48.371847Z",
     "start_time": "2019-04-18T03:45:48.364845Z"
    }
   },
   "outputs": [],
   "source": [
    "def levenshteinDistance(s1, s2):\n",
    "    if len(s1) > len(s2):\n",
    "        s1, s2 = s2, s1\n",
    "\n",
    "    distances = range(len(s1) + 1)\n",
    "    for i2, c2 in enumerate(s2):\n",
    "        distances_ = [i2+1]\n",
    "        for i1, c1 in enumerate(s1):\n",
    "            if c1 == c2:\n",
    "                distances_.append(distances[i1])\n",
    "            else:\n",
    "                distances_.append(1 + min((distances[i1], distances[i1 + 1], distances_[-1])))\n",
    "        distances = distances_\n",
    "    return distances[-1]"
   ]
  },
  {
   "cell_type": "code",
   "execution_count": 14,
   "metadata": {
    "ExecuteTime": {
     "end_time": "2019-04-18T03:46:16.321036Z",
     "start_time": "2019-04-18T03:45:49.054041Z"
    }
   },
   "outputs": [
    {
     "name": "stdout",
     "output_type": "stream",
     "text": [
      "3 Marosvásárhely\n",
      "5 Marosvásárhely Marosvásárhely\n",
      "5 koronkai Koronka\n",
      "5 székelybósi Székelybós\n",
      "4 Szentábrahámon Szentábrahám\n",
      "5 Szentábrahámon Szentábrahám\n",
      "3 Sepsibükszád\n",
      "4 tavaly Haraly\n",
      "5 tavaly Haraly\n",
      "5 Sepsibükszád Sepsibükszád\n",
      "5 csíkmadarasi Csíkmadaras\n",
      "5 Szentábrahámon Szentábrahám\n",
      "5 székelyudvarhelyi Székelyudvarhely\n",
      "1 [\"medve\", \"Tusnádfürdő\"] Tusnádfürdő\n",
      "3 Tusnádfürdő\n",
      "5 Tusnádfürdő Tusnádfürdő\n",
      "1 [\"medve\", \"Szentegyháza\"] Szentegyháza\n",
      "2 Szentegyháza\n",
      "3 Szentegyháza\n",
      "4 Szentegyháza Szentegyháza\n",
      "5 Szentegyháza Szentegyháza\n",
      "1 [\"Brassó\", \"medve\"] Brassó\n",
      "2 Brassó\n",
      "3 Brassó\n",
      "4 Brassó Brassó\n",
      "5 Brassó Brassó\n",
      "1 [\"medve\", \"Tusnádfürdő\"] Tusnádfürdő\n",
      "3 Kovászna\n",
      "5 Kovászna Kovászna\n",
      "5 válnak Dálnok\n",
      "5 válnak Kálnok\n",
      "5 tétele Petele\n"
     ]
    }
   ],
   "source": [
    "#look for perfect matches\n",
    "decoded_locs={}\n",
    "min_loc_len=5\n",
    "for i in locs.index:\n",
    "    if '[' in locs.loc[i]['tags']:\n",
    "        k=locs.loc[i]['tags'].replace(\"'\",'\"')\n",
    "        for j in json.loads(k):\n",
    "            if j in laks:\n",
    "                if i not in decoded_locs:decoded_locs[i]=[]\n",
    "                decoded_locs[i].append(j)\n",
    "                print('1',k,j)\n",
    "    for j in locs.loc[i]['title'].split():\n",
    "        if j in laks:\n",
    "            if i not in decoded_locs:decoded_locs[i]=[]\n",
    "            decoded_locs[i].append(j)\n",
    "            print('2',j)\n",
    "    for j in locs.loc[i]['content'].split():\n",
    "        if j in laks:\n",
    "            if i not in decoded_locs:decoded_locs[i]=[]\n",
    "            decoded_locs[i].append(j)\n",
    "            print('3',j)\n",
    "    for j in locs.loc[i]['title'].split():\n",
    "        for k in laks:\n",
    "            if ((len(j)>min_loc_len) and (len(k)>min_loc_len)):\n",
    "                if levenshteinDistance(j,k)<3:\n",
    "                    if i not in decoded_locs:decoded_locs[i]=[]\n",
    "                    decoded_locs[i].append(k)\n",
    "                    print('4',j,k)\n",
    "    for j in locs.loc[i]['content'].split():\n",
    "        for k in laks:\n",
    "            if ((len(j)>min_loc_len) and (len(k)>min_loc_len)):\n",
    "                if levenshteinDistance(j,k)<3:\n",
    "                    if i not in decoded_locs:decoded_locs[i]=[]\n",
    "                    decoded_locs[i].append(k)\n",
    "                    print('5',j,k)"
   ]
  },
  {
   "cell_type": "code",
   "execution_count": 15,
   "metadata": {
    "ExecuteTime": {
     "end_time": "2019-04-18T03:46:19.580037Z",
     "start_time": "2019-04-18T03:46:19.573034Z"
    }
   },
   "outputs": [],
   "source": [
    "predicted_locs=[]\n",
    "for i in range(len(locs.index)):\n",
    "    if locs.index[i] in decoded_locs: \n",
    "        dummy=list(set(decoded_locs[locs.index[i]]))\n",
    "        if len(dummy)==1:\n",
    "            dummy=dummy[0]\n",
    "        else:\n",
    "            dummy=repr(decoded_locs[locs.index[i]])\n",
    "        predicted_locs.append(dummy)\n",
    "    else: \n",
    "        predicted_locs.append('')"
   ]
  },
  {
   "cell_type": "code",
   "execution_count": 16,
   "metadata": {
    "ExecuteTime": {
     "end_time": "2019-04-18T03:46:21.573034Z",
     "start_time": "2019-04-18T03:46:21.479047Z"
    }
   },
   "outputs": [
    {
     "name": "stderr",
     "output_type": "stream",
     "text": [
      "C:\\ProgramData\\Anaconda3\\lib\\site-packages\\ipykernel_launcher.py:1: SettingWithCopyWarning: \n",
      "A value is trying to be set on a copy of a slice from a DataFrame.\n",
      "Try using .loc[row_indexer,col_indexer] = value instead\n",
      "\n",
      "See the caveats in the documentation: http://pandas.pydata.org/pandas-docs/stable/indexing.html#indexing-view-versus-copy\n",
      "  \"\"\"Entry point for launching an IPython kernel.\n",
      "C:\\ProgramData\\Anaconda3\\lib\\site-packages\\ipykernel_launcher.py:2: SettingWithCopyWarning: \n",
      "A value is trying to be set on a copy of a slice from a DataFrame.\n",
      "Try using .loc[row_indexer,col_indexer] = value instead\n",
      "\n",
      "See the caveats in the documentation: http://pandas.pydata.org/pandas-docs/stable/indexing.html#indexing-view-versus-copy\n",
      "  \n"
     ]
    }
   ],
   "source": [
    "locs['predicted_locs']=predicted_locs\n",
    "locs['actual_locs']=predicted_locs"
   ]
  },
  {
   "cell_type": "code",
   "execution_count": 17,
   "metadata": {
    "ExecuteTime": {
     "end_time": "2019-04-18T03:46:22.294039Z",
     "start_time": "2019-04-18T03:46:22.285036Z"
    }
   },
   "outputs": [],
   "source": [
    "lm=locs[['title','content','predicted_locs','actual_locs']]"
   ]
  },
  {
   "cell_type": "code",
   "execution_count": 18,
   "metadata": {
    "ExecuteTime": {
     "end_time": "2019-04-18T03:46:29.143039Z",
     "start_time": "2019-04-18T03:46:28.921039Z"
    }
   },
   "outputs": [],
   "source": [
    "lm.to_excel('data/szekelyhon_locs.xlsx')\n",
    "lm.to_excel('data/szekelyhon_locs_curated.xlsx')"
   ]
  },
  {
   "cell_type": "markdown",
   "metadata": {},
   "source": [
    "Open `data/szekelyhon_locs_curated` and manually verify predicted locations. Amend `actual_locs` where necessary."
   ]
  }
 ],
 "metadata": {
  "kernelspec": {
   "display_name": "Python 3",
   "language": "python",
   "name": "python3"
  },
  "language_info": {
   "codemirror_mode": {
    "name": "ipython",
    "version": 3
   },
   "file_extension": ".py",
   "mimetype": "text/x-python",
   "name": "python",
   "nbconvert_exporter": "python",
   "pygments_lexer": "ipython3",
   "version": "3.6.7"
  },
  "toc": {
   "base_numbering": 1,
   "nav_menu": {},
   "number_sections": true,
   "sideBar": true,
   "skip_h1_title": false,
   "title_cell": "Table of Contents",
   "title_sidebar": "Contents",
   "toc_cell": false,
   "toc_position": {},
   "toc_section_display": true,
   "toc_window_display": false
  }
 },
 "nbformat": 4,
 "nbformat_minor": 2
}
