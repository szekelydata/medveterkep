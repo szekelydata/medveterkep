{
 "cells": [
  {
   "cell_type": "code",
   "execution_count": 1,
   "metadata": {
    "ExecuteTime": {
     "end_time": "2019-04-18T03:39:33.701263Z",
     "start_time": "2019-04-18T03:39:33.035262Z"
    }
   },
   "outputs": [],
   "source": [
    "import pandas as pd, numpy as np"
   ]
  },
  {
   "cell_type": "code",
   "execution_count": 2,
   "metadata": {
    "ExecuteTime": {
     "end_time": "2019-04-18T03:39:33.823266Z",
     "start_time": "2019-04-18T03:39:33.705265Z"
    }
   },
   "outputs": [],
   "source": [
    "dm=pd.read_excel('data/szekelyhon_medve.xlsx')\n",
    "dc=pd.read_excel('data/szekelyhon_medve_curated.xlsx')"
   ]
  },
  {
   "cell_type": "code",
   "execution_count": 3,
   "metadata": {
    "ExecuteTime": {
     "end_time": "2019-04-18T03:39:33.836262Z",
     "start_time": "2019-04-18T03:39:33.825260Z"
    }
   },
   "outputs": [],
   "source": [
    "dc=dc[(dc['duplicate']!=1)&(dc['relevant']==1)]"
   ]
  },
  {
   "cell_type": "code",
   "execution_count": 4,
   "metadata": {
    "ExecuteTime": {
     "end_time": "2019-04-18T03:39:33.870262Z",
     "start_time": "2019-04-18T03:39:33.840262Z"
    }
   },
   "outputs": [],
   "source": [
    "dc[\"uid\"] = dc[\"title\"].map(str) + dc[\"content\"]\n",
    "dm[\"uid\"] = dm[\"title\"].map(str) + dm[\"content\"]"
   ]
  },
  {
   "cell_type": "code",
   "execution_count": 5,
   "metadata": {
    "ExecuteTime": {
     "end_time": "2019-04-18T03:39:33.888264Z",
     "start_time": "2019-04-18T03:39:33.877270Z"
    }
   },
   "outputs": [],
   "source": [
    "dc=dc.set_index('uid')\n",
    "dm=dm.set_index('uid')"
   ]
  },
  {
   "cell_type": "code",
   "execution_count": 6,
   "metadata": {
    "ExecuteTime": {
     "end_time": "2019-04-18T03:39:33.905263Z",
     "start_time": "2019-04-18T03:39:33.892263Z"
    }
   },
   "outputs": [],
   "source": [
    "dmi=dm.loc[dc.index.dropna()]"
   ]
  },
  {
   "cell_type": "code",
   "execution_count": 7,
   "metadata": {
    "ExecuteTime": {
     "end_time": "2019-04-18T03:39:33.941267Z",
     "start_time": "2019-04-18T03:39:33.909271Z"
    }
   },
   "outputs": [],
   "source": [
    "df=dmi.merge(dc).drop_duplicates()"
   ]
  },
  {
   "cell_type": "markdown",
   "metadata": {
    "ExecuteTime": {
     "end_time": "2018-11-03T01:06:46.878487Z",
     "start_time": "2018-11-03T01:06:46.784487Z"
    }
   },
   "source": [
    "Working df ready. Now infer location."
   ]
  },
  {
   "cell_type": "code",
   "execution_count": 8,
   "metadata": {
    "ExecuteTime": {
     "end_time": "2019-04-18T03:39:34.251834Z",
     "start_time": "2019-04-18T03:39:34.244823Z"
    }
   },
   "outputs": [],
   "source": [
    "locs=df[['category','icategory','tags','title','content']]"
   ]
  },
  {
   "cell_type": "code",
   "execution_count": 9,
   "metadata": {
    "ExecuteTime": {
     "end_time": "2019-04-18T03:39:34.742497Z",
     "start_time": "2019-04-18T03:39:34.710500Z"
    }
   },
   "outputs": [
    {
     "data": {
      "text/html": [
       "<div>\n",
       "<style scoped>\n",
       "    .dataframe tbody tr th:only-of-type {\n",
       "        vertical-align: middle;\n",
       "    }\n",
       "\n",
       "    .dataframe tbody tr th {\n",
       "        vertical-align: top;\n",
       "    }\n",
       "\n",
       "    .dataframe thead th {\n",
       "        text-align: right;\n",
       "    }\n",
       "</style>\n",
       "<table border=\"1\" class=\"dataframe\">\n",
       "  <thead>\n",
       "    <tr style=\"text-align: right;\">\n",
       "      <th></th>\n",
       "      <th>category</th>\n",
       "      <th>icategory</th>\n",
       "      <th>tags</th>\n",
       "      <th>title</th>\n",
       "      <th>content</th>\n",
       "    </tr>\n",
       "  </thead>\n",
       "  <tbody>\n",
       "    <tr>\n",
       "      <th>0</th>\n",
       "      <td>aktualis</td>\n",
       "      <td>csik</td>\n",
       "      <td>['Kovászna megye', 'medve']</td>\n",
       "      <td>Újabb medvét gázoltak el, ezúttal Kovászna meg...</td>\n",
       "      <td>Elgázolt vasárnap este egy gépkocsi egy medvét...</td>\n",
       "    </tr>\n",
       "    <tr>\n",
       "      <th>1</th>\n",
       "      <td>aktualis</td>\n",
       "      <td>agerpres</td>\n",
       "      <td>['Homoródalmás', 'medve']</td>\n",
       "      <td>Érdeklődik a medve a füstölt sonka iránt, de a...</td>\n",
       "      <td>Több háziállatot is megölt Homoródalmáson egy ...</td>\n",
       "    </tr>\n",
       "    <tr>\n",
       "      <th>2</th>\n",
       "      <td>aktualis</td>\n",
       "      <td>csik</td>\n",
       "      <td>['medve', 'Tusnádfürdő']</td>\n",
       "      <td>Bocsával együtt tört be az udvarra az anyamedve</td>\n",
       "      <td>Ismét medvéhez riasztották keddre virradóan a ...</td>\n",
       "    </tr>\n",
       "    <tr>\n",
       "      <th>3</th>\n",
       "      <td>aktualis</td>\n",
       "      <td>csik</td>\n",
       "      <td>['Hargita megye', 'medve']</td>\n",
       "      <td>Még a kormányválság is a garázdálkodó medvékne...</td>\n",
       "      <td>Már a veszélyes medvék kilövésére sem kapnak e...</td>\n",
       "    </tr>\n",
       "    <tr>\n",
       "      <th>4</th>\n",
       "      <td>aktualis</td>\n",
       "      <td>csik</td>\n",
       "      <td>['medve', 'Udvarhelyszék']</td>\n",
       "      <td>Nagykadácson és Felsőboldogfalván is medve mia...</td>\n",
       "      <td>Medve miatt riasztották csütörtökre virradóra ...</td>\n",
       "    </tr>\n",
       "    <tr>\n",
       "      <th>5</th>\n",
       "      <td>aktualis</td>\n",
       "      <td>csik</td>\n",
       "      <td>['Zetelaka']</td>\n",
       "      <td>Nem sokat ér a medvebiztos kuka, ha mellé tesz...</td>\n",
       "      <td>Még nem tudni, hogy bevált-e a nyáron Sikaszób...</td>\n",
       "    </tr>\n",
       "    <tr>\n",
       "      <th>6</th>\n",
       "      <td>aktualis</td>\n",
       "      <td>vasarhely</td>\n",
       "      <td>['Közlekedés', 'Környezetvédelem', 'Marosvásár...</td>\n",
       "      <td>Már most kellene számolni a medvékkel a Marosv...</td>\n",
       "      <td>Tíz százalékkal növelné a Marosvásárhely–Jászv...</td>\n",
       "    </tr>\n",
       "    <tr>\n",
       "      <th>7</th>\n",
       "      <td>vilag</td>\n",
       "      <td>csik</td>\n",
       "      <td>['Belföld', 'medve']</td>\n",
       "      <td>Medgyes utcáiról zavarták el a medvét</td>\n",
       "      <td>A csendőrök, rendőrök és erdészek visszazavart...</td>\n",
       "    </tr>\n",
       "    <tr>\n",
       "      <th>8</th>\n",
       "      <td>vilag</td>\n",
       "      <td>csik</td>\n",
       "      <td>['Belföld']</td>\n",
       "      <td>Lépcsőházban járt a medve</td>\n",
       "      <td>Egy fogarasi tömbház lépcsőházában látott medv...</td>\n",
       "    </tr>\n",
       "    <tr>\n",
       "      <th>9</th>\n",
       "      <td>aktualis</td>\n",
       "      <td>udvarhely</td>\n",
       "      <td>['medve', 'Székelyudvarhely']</td>\n",
       "      <td>Sebzett medvét üldöznek a vadászok Székelyudva...</td>\n",
       "      <td>Kétbocsos anyamedvét ütöttek el hétfőn este Sz...</td>\n",
       "    </tr>\n",
       "    <tr>\n",
       "      <th>10</th>\n",
       "      <td>aktualis</td>\n",
       "      <td>csik</td>\n",
       "      <td>['Háromszék', 'medve']</td>\n",
       "      <td>Öt medve pusztult el egy hét alatt Háromszéken</td>\n",
       "      <td>Az elmúlt egy hét alatt öt medve pusztult el H...</td>\n",
       "    </tr>\n",
       "    <tr>\n",
       "      <th>11</th>\n",
       "      <td>aktualis</td>\n",
       "      <td>udvarhely</td>\n",
       "      <td>['Székelyudvarhely']</td>\n",
       "      <td>Juhokat ölt a medve Székelyudvarhelyen</td>\n",
       "      <td>Egy juhot megölt, a másikat pedig halálosan me...</td>\n",
       "    </tr>\n",
       "    <tr>\n",
       "      <th>12</th>\n",
       "      <td>aktualis</td>\n",
       "      <td>agerpres</td>\n",
       "      <td>['Háromszék', 'medve']</td>\n",
       "      <td>Autót rongált a medve</td>\n",
       "      <td>Gépkocsit rongált meg egy medve Bálványoson sz...</td>\n",
       "    </tr>\n",
       "  </tbody>\n",
       "</table>\n",
       "</div>"
      ],
      "text/plain": [
       "    category  icategory                                               tags  \\\n",
       "0   aktualis       csik                        ['Kovászna megye', 'medve']   \n",
       "1   aktualis   agerpres                          ['Homoródalmás', 'medve']   \n",
       "2   aktualis       csik                           ['medve', 'Tusnádfürdő']   \n",
       "3   aktualis       csik                         ['Hargita megye', 'medve']   \n",
       "4   aktualis       csik                         ['medve', 'Udvarhelyszék']   \n",
       "5   aktualis       csik                                       ['Zetelaka']   \n",
       "6   aktualis  vasarhely  ['Közlekedés', 'Környezetvédelem', 'Marosvásár...   \n",
       "7      vilag       csik                               ['Belföld', 'medve']   \n",
       "8      vilag       csik                                        ['Belföld']   \n",
       "9   aktualis  udvarhely                      ['medve', 'Székelyudvarhely']   \n",
       "10  aktualis       csik                             ['Háromszék', 'medve']   \n",
       "11  aktualis  udvarhely                               ['Székelyudvarhely']   \n",
       "12  aktualis   agerpres                             ['Háromszék', 'medve']   \n",
       "\n",
       "                                                title  \\\n",
       "0   Újabb medvét gázoltak el, ezúttal Kovászna meg...   \n",
       "1   Érdeklődik a medve a füstölt sonka iránt, de a...   \n",
       "2     Bocsával együtt tört be az udvarra az anyamedve   \n",
       "3   Még a kormányválság is a garázdálkodó medvékne...   \n",
       "4   Nagykadácson és Felsőboldogfalván is medve mia...   \n",
       "5   Nem sokat ér a medvebiztos kuka, ha mellé tesz...   \n",
       "6   Már most kellene számolni a medvékkel a Marosv...   \n",
       "7               Medgyes utcáiról zavarták el a medvét   \n",
       "8                           Lépcsőházban járt a medve   \n",
       "9   Sebzett medvét üldöznek a vadászok Székelyudva...   \n",
       "10     Öt medve pusztult el egy hét alatt Háromszéken   \n",
       "11             Juhokat ölt a medve Székelyudvarhelyen   \n",
       "12                              Autót rongált a medve   \n",
       "\n",
       "                                              content  \n",
       "0   Elgázolt vasárnap este egy gépkocsi egy medvét...  \n",
       "1   Több háziállatot is megölt Homoródalmáson egy ...  \n",
       "2   Ismét medvéhez riasztották keddre virradóan a ...  \n",
       "3   Már a veszélyes medvék kilövésére sem kapnak e...  \n",
       "4   Medve miatt riasztották csütörtökre virradóra ...  \n",
       "5   Még nem tudni, hogy bevált-e a nyáron Sikaszób...  \n",
       "6   Tíz százalékkal növelné a Marosvásárhely–Jászv...  \n",
       "7   A csendőrök, rendőrök és erdészek visszazavart...  \n",
       "8   Egy fogarasi tömbház lépcsőházában látott medv...  \n",
       "9   Kétbocsos anyamedvét ütöttek el hétfőn este Sz...  \n",
       "10  Az elmúlt egy hét alatt öt medve pusztult el H...  \n",
       "11  Egy juhot megölt, a másikat pedig halálosan me...  \n",
       "12  Gépkocsit rongált meg egy medve Bálványoson sz...  "
      ]
     },
     "execution_count": 9,
     "metadata": {},
     "output_type": "execute_result"
    }
   ],
   "source": [
    "locs"
   ]
  },
  {
   "cell_type": "code",
   "execution_count": 10,
   "metadata": {
    "ExecuteTime": {
     "end_time": "2019-04-18T03:39:35.768753Z",
     "start_time": "2019-04-18T03:39:35.764751Z"
    }
   },
   "outputs": [],
   "source": [
    "import json"
   ]
  },
  {
   "cell_type": "code",
   "execution_count": 11,
   "metadata": {
    "ExecuteTime": {
     "end_time": "2019-04-18T03:39:36.451645Z",
     "start_time": "2019-04-18T03:39:36.422649Z"
    }
   },
   "outputs": [],
   "source": [
    "lak=json.loads(open('geo/huncoords.json','r').read())\n",
    "megyek=json.loads(open('geo/megyek.json','r').read())"
   ]
  },
  {
   "cell_type": "code",
   "execution_count": 12,
   "metadata": {
    "ExecuteTime": {
     "end_time": "2019-04-18T03:45:46.996470Z",
     "start_time": "2019-04-18T03:45:46.991465Z"
    }
   },
   "outputs": [],
   "source": [
    "laks=[i for i in megyek.keys() if ((megyek[i]!='Más megye')and(i in lak.keys()))]"
   ]
  },
  {
   "cell_type": "code",
   "execution_count": 13,
   "metadata": {
    "ExecuteTime": {
     "end_time": "2019-04-18T03:45:48.371847Z",
     "start_time": "2019-04-18T03:45:48.364845Z"
    }
   },
   "outputs": [],
   "source": [
    "def levenshteinDistance(s1, s2):\n",
    "    if len(s1) > len(s2):\n",
    "        s1, s2 = s2, s1\n",
    "\n",
    "    distances = range(len(s1) + 1)\n",
    "    for i2, c2 in enumerate(s2):\n",
    "        distances_ = [i2+1]\n",
    "        for i1, c1 in enumerate(s1):\n",
    "            if c1 == c2:\n",
    "                distances_.append(distances[i1])\n",
    "            else:\n",
    "                distances_.append(1 + min((distances[i1], distances[i1 + 1], distances_[-1])))\n",
    "        distances = distances_\n",
    "    return distances[-1]"
   ]
  },
  {
   "cell_type": "code",
   "execution_count": 14,
   "metadata": {
    "ExecuteTime": {
     "end_time": "2019-04-18T03:46:16.321036Z",
     "start_time": "2019-04-18T03:45:49.054041Z"
    }
   },
   "outputs": [
    {
     "name": "stdout",
     "output_type": "stream",
     "text": [
      "2 Kovászna\n",
      "3 Kovászna\n",
      "3 Ozsdola\n",
      "4 Kovászna Kovászna\n",
      "5 Kovászna Kovászna\n",
      "5 Ozsdola Ozsdola\n",
      "1 [\"Homoródalmás\", \"medve\"] Homoródalmás\n",
      "5 Homoródalmáson Homoródalmás\n",
      "1 [\"medve\", \"Tusnádfürdő\"] Tusnádfürdő\n",
      "5 Tusnádfürdőn. Tusnádfürdő\n",
      "4 Felsőboldogfalván Felsőboldogfalva\n",
      "1 [\"Zetelaka\"] Zetelaka\n",
      "1 [\"Közlekedés\", \"Környezetvédelem\", \"Marosvásárhely\"] Marosvásárhely\n",
      "3 Brassó\n",
      "5 fogarasi Fogaras\n",
      "5 Brassó Brassó\n",
      "1 [\"medve\", \"Székelyudvarhely\"] Székelyudvarhely\n",
      "2 Székelyudvarhely\n",
      "3 Székelyudvarhely\n",
      "3 Felsőboldogfalva\n",
      "4 Székelyudvarhely Székelyudvarhely\n",
      "5 Székelyudvarhely Székelyudvarhely\n",
      "5 Felsőboldogfalva Felsőboldogfalva\n",
      "5 keresi Keresd\n",
      "1 [\"Székelyudvarhely\"] Székelyudvarhely\n",
      "4 Székelyudvarhelyen Székelyudvarhely\n",
      "5 székelyudvarhelyi Székelyudvarhely\n",
      "3 Torja\n",
      "5 Daragus Dragus\n"
     ]
    }
   ],
   "source": [
    "#look for perfect matches\n",
    "decoded_locs={}\n",
    "min_loc_len=5\n",
    "for i in locs.index:\n",
    "    if '[' in locs.loc[i]['tags']:\n",
    "        k=locs.loc[i]['tags'].replace(\"'\",'\"')\n",
    "        for j in json.loads(k):\n",
    "            if j in laks:\n",
    "                if i not in decoded_locs:decoded_locs[i]=[]\n",
    "                decoded_locs[i].append(j)\n",
    "                print('1',k,j)\n",
    "    for j in locs.loc[i]['title'].split():\n",
    "        if j in laks:\n",
    "            if i not in decoded_locs:decoded_locs[i]=[]\n",
    "            decoded_locs[i].append(j)\n",
    "            print('2',j)\n",
    "    for j in locs.loc[i]['content'].split():\n",
    "        if j in laks:\n",
    "            if i not in decoded_locs:decoded_locs[i]=[]\n",
    "            decoded_locs[i].append(j)\n",
    "            print('3',j)\n",
    "    for j in locs.loc[i]['title'].split():\n",
    "        for k in laks:\n",
    "            if ((len(j)>min_loc_len) and (len(k)>min_loc_len)):\n",
    "                if levenshteinDistance(j,k)<3:\n",
    "                    if i not in decoded_locs:decoded_locs[i]=[]\n",
    "                    decoded_locs[i].append(k)\n",
    "                    print('4',j,k)\n",
    "    for j in locs.loc[i]['content'].split():\n",
    "        for k in laks:\n",
    "            if ((len(j)>min_loc_len) and (len(k)>min_loc_len)):\n",
    "                if levenshteinDistance(j,k)<3:\n",
    "                    if i not in decoded_locs:decoded_locs[i]=[]\n",
    "                    decoded_locs[i].append(k)\n",
    "                    print('5',j,k)"
   ]
  },
  {
   "cell_type": "code",
   "execution_count": 15,
   "metadata": {
    "ExecuteTime": {
     "end_time": "2019-04-18T03:46:19.580037Z",
     "start_time": "2019-04-18T03:46:19.573034Z"
    }
   },
   "outputs": [],
   "source": [
    "predicted_locs=[]\n",
    "for i in range(len(locs.index)):\n",
    "    if locs.index[i] in decoded_locs: \n",
    "        dummy=list(set(decoded_locs[locs.index[i]]))\n",
    "        if len(dummy)==1:\n",
    "            dummy=dummy[0]\n",
    "        else:\n",
    "            dummy=repr(list(set(decoded_locs[locs.index[i]])))\n",
    "        predicted_locs.append(dummy)\n",
    "    else: \n",
    "        predicted_locs.append('')"
   ]
  },
  {
   "cell_type": "code",
   "execution_count": 16,
   "metadata": {
    "ExecuteTime": {
     "end_time": "2019-04-18T03:46:21.573034Z",
     "start_time": "2019-04-18T03:46:21.479047Z"
    }
   },
   "outputs": [
    {
     "name": "stderr",
     "output_type": "stream",
     "text": [
      "C:\\ProgramData\\Anaconda3\\lib\\site-packages\\ipykernel_launcher.py:1: SettingWithCopyWarning: \n",
      "A value is trying to be set on a copy of a slice from a DataFrame.\n",
      "Try using .loc[row_indexer,col_indexer] = value instead\n",
      "\n",
      "See the caveats in the documentation: http://pandas.pydata.org/pandas-docs/stable/indexing.html#indexing-view-versus-copy\n",
      "  \"\"\"Entry point for launching an IPython kernel.\n",
      "C:\\ProgramData\\Anaconda3\\lib\\site-packages\\ipykernel_launcher.py:2: SettingWithCopyWarning: \n",
      "A value is trying to be set on a copy of a slice from a DataFrame.\n",
      "Try using .loc[row_indexer,col_indexer] = value instead\n",
      "\n",
      "See the caveats in the documentation: http://pandas.pydata.org/pandas-docs/stable/indexing.html#indexing-view-versus-copy\n",
      "  \n"
     ]
    }
   ],
   "source": [
    "locs['predicted_locs']=predicted_locs\n",
    "locs['actual_locs']=predicted_locs"
   ]
  },
  {
   "cell_type": "code",
   "execution_count": 17,
   "metadata": {
    "ExecuteTime": {
     "end_time": "2019-04-18T03:46:22.294039Z",
     "start_time": "2019-04-18T03:46:22.285036Z"
    }
   },
   "outputs": [],
   "source": [
    "lm=locs[['title','content','predicted_locs','actual_locs']]"
   ]
  },
  {
   "cell_type": "code",
   "execution_count": 18,
   "metadata": {
    "ExecuteTime": {
     "end_time": "2019-04-18T03:46:29.143039Z",
     "start_time": "2019-04-18T03:46:28.921039Z"
    }
   },
   "outputs": [],
   "source": [
    "lm.to_excel('data/szekelyhon_locs.xlsx')\n",
    "lm.to_excel('data/szekelyhon_locs_curated.xlsx')"
   ]
  },
  {
   "cell_type": "markdown",
   "metadata": {},
   "source": [
    "Open `data/szekelyhon_locs_curated` and manually verify predicted locations. Amend `actual_locs` where necessary."
   ]
  },
  {
   "cell_type": "code",
   "execution_count": null,
   "metadata": {},
   "outputs": [],
   "source": []
  }
 ],
 "metadata": {
  "kernelspec": {
   "display_name": "Python 3",
   "language": "python",
   "name": "python3"
  },
  "language_info": {
   "codemirror_mode": {
    "name": "ipython",
    "version": 3
   },
   "file_extension": ".py",
   "mimetype": "text/x-python",
   "name": "python",
   "nbconvert_exporter": "python",
   "pygments_lexer": "ipython3",
   "version": "3.6.7"
  },
  "toc": {
   "base_numbering": 1,
   "nav_menu": {},
   "number_sections": true,
   "sideBar": true,
   "skip_h1_title": false,
   "title_cell": "Table of Contents",
   "title_sidebar": "Contents",
   "toc_cell": false,
   "toc_position": {},
   "toc_section_display": true,
   "toc_window_display": false
  }
 },
 "nbformat": 4,
 "nbformat_minor": 2
}
