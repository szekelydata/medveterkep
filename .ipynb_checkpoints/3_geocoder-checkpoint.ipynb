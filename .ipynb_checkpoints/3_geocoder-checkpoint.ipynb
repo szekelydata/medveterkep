{
 "cells": [
  {
   "cell_type": "code",
   "execution_count": 35,
   "metadata": {
    "ExecuteTime": {
     "end_time": "2019-04-18T04:32:34.216709Z",
     "start_time": "2019-04-18T04:32:34.210710Z"
    }
   },
   "outputs": [],
   "source": [
    "import pandas as pd, numpy as np\n",
    "import itertools, requests, json"
   ]
  },
  {
   "cell_type": "code",
   "execution_count": 36,
   "metadata": {
    "ExecuteTime": {
     "end_time": "2019-04-18T04:32:34.425705Z",
     "start_time": "2019-04-18T04:32:34.359710Z"
    }
   },
   "outputs": [],
   "source": [
    "dm=pd.read_excel('data/szekelyhon_medve.xlsx')\n",
    "dc=pd.read_excel('data/szekelyhon_medve_curated.xlsx')\n",
    "lm=pd.read_excel('data/szekelyhon_locs_curated.xlsx')"
   ]
  },
  {
   "cell_type": "code",
   "execution_count": 37,
   "metadata": {
    "ExecuteTime": {
     "end_time": "2019-04-18T04:32:34.519710Z",
     "start_time": "2019-04-18T04:32:34.509717Z"
    }
   },
   "outputs": [],
   "source": [
    "dc=dc[(dc['duplicate']!=1)&(dc['relevant']==1)]"
   ]
  },
  {
   "cell_type": "code",
   "execution_count": 38,
   "metadata": {
    "ExecuteTime": {
     "end_time": "2019-04-18T04:32:34.668713Z",
     "start_time": "2019-04-18T04:32:34.653710Z"
    }
   },
   "outputs": [],
   "source": [
    "dc[\"uid\"] = dc[\"title\"].map(str) + dc[\"content\"]\n",
    "dm[\"uid\"] = dm[\"title\"].map(str) + dm[\"content\"]\n",
    "lm[\"uid\"] = lm[\"title\"].map(str) + lm[\"content\"]"
   ]
  },
  {
   "cell_type": "code",
   "execution_count": 39,
   "metadata": {
    "ExecuteTime": {
     "end_time": "2019-04-18T04:32:34.807714Z",
     "start_time": "2019-04-18T04:32:34.795706Z"
    }
   },
   "outputs": [],
   "source": [
    "dc=dc.set_index('uid')[['relevant','severity','deaths','duplicate']]\n",
    "dm=dm.set_index('uid')\n",
    "lm=lm.set_index('uid')[['predicted_locs','actual_locs']]"
   ]
  },
  {
   "cell_type": "code",
   "execution_count": 40,
   "metadata": {
    "ExecuteTime": {
     "end_time": "2019-04-18T04:32:34.945711Z",
     "start_time": "2019-04-18T04:32:34.938708Z"
    }
   },
   "outputs": [],
   "source": [
    "dmi=dm.loc[dc.index.dropna()]"
   ]
  },
  {
   "cell_type": "code",
   "execution_count": 41,
   "metadata": {
    "ExecuteTime": {
     "end_time": "2019-04-18T04:32:35.125710Z",
     "start_time": "2019-04-18T04:32:35.094712Z"
    }
   },
   "outputs": [],
   "source": [
    "df=dmi.join(dc).drop_duplicates()"
   ]
  },
  {
   "cell_type": "code",
   "execution_count": 42,
   "metadata": {
    "ExecuteTime": {
     "end_time": "2019-04-18T04:32:35.264708Z",
     "start_time": "2019-04-18T04:32:35.247713Z"
    }
   },
   "outputs": [],
   "source": [
    "dl=df.join(lm)"
   ]
  },
  {
   "cell_type": "code",
   "execution_count": 43,
   "metadata": {},
   "outputs": [
    {
     "data": {
      "text/plain": [
       "69"
      ]
     },
     "execution_count": 43,
     "metadata": {},
     "output_type": "execute_result"
    }
   ],
   "source": [
    "len(dl)"
   ]
  },
  {
   "cell_type": "markdown",
   "metadata": {
    "ExecuteTime": {
     "end_time": "2018-11-03T01:06:46.878487Z",
     "start_time": "2018-11-03T01:06:46.784487Z"
    }
   },
   "source": [
    "Working df ready. Now infer location."
   ]
  },
  {
   "cell_type": "code",
   "execution_count": 44,
   "metadata": {
    "ExecuteTime": {
     "end_time": "2019-04-18T04:32:35.595708Z",
     "start_time": "2019-04-18T04:32:35.590707Z"
    }
   },
   "outputs": [],
   "source": [
    "to_geo=[i.split(',') for i in dl['actual_locs'].unique() if str(i)!='nan']"
   ]
  },
  {
   "cell_type": "code",
   "execution_count": 45,
   "metadata": {
    "ExecuteTime": {
     "end_time": "2019-04-18T04:32:35.790713Z",
     "start_time": "2019-04-18T04:32:35.785710Z"
    }
   },
   "outputs": [],
   "source": [
    "to_geo=[i.strip() for i in list(itertools.chain.from_iterable(to_geo))]"
   ]
  },
  {
   "cell_type": "markdown",
   "metadata": {},
   "source": [
    "Load HU names"
   ]
  },
  {
   "cell_type": "code",
   "execution_count": 46,
   "metadata": {
    "ExecuteTime": {
     "end_time": "2019-04-18T04:32:36.208711Z",
     "start_time": "2019-04-18T04:32:36.171710Z"
    }
   },
   "outputs": [],
   "source": [
    "coords=json.loads(open('geo/huncoords.json','r').read())\n",
    "megyek=json.loads(open('geo/megyek.json','r').read())"
   ]
  },
  {
   "cell_type": "code",
   "execution_count": 47,
   "metadata": {
    "ExecuteTime": {
     "end_time": "2019-04-18T04:32:36.479710Z",
     "start_time": "2019-04-18T04:32:36.439714Z"
    }
   },
   "outputs": [],
   "source": [
    "data=[]\n",
    "header=['index']\n",
    "for i in dl.iteritems():\n",
    "    header.append(i[0])\n",
    "header.append('geo_loc')\n",
    "header.append('latitude')\n",
    "header.append('longitude')\n",
    "header.append('id')\n",
    "for i in dl.T.iteritems():\n",
    "    dummy=[i[0]]\n",
    "    for j in range(len(i[1])):\n",
    "        if j==(len(i[1])-1):\n",
    "            dummy.append(i[1][j])\n",
    "            dummy.append('')\n",
    "            dummy.append('')\n",
    "            dummy.append('')\n",
    "            dummy.append('')\n",
    "            dtime=str(dummy[1])[:10]\n",
    "            if dtime=='nan': dtime=u'N/A' \n",
    "            if str(i[1][j])!='nan':    \n",
    "                for k in i[1][j].split(','):\n",
    "                    tk=k.strip().replace('[','').replace(']','').replace(\"'\",'')\n",
    "                    dummy[-4]=tk\n",
    "                    if tk in coords:\n",
    "                        dummy[-3]=coords[tk][0]\n",
    "                        dummy[-2]=coords[tk][1]\n",
    "                    else:\n",
    "                        dummy[-3]=''\n",
    "                        dummy[-2]=''\n",
    "                    #dummy[-1]=str(dummy[-3])+' ('+str(dummy[0]+1)+')\\n'+dtime\n",
    "                    dummy[-1]=str(dummy[-4])+', '+dtime\n",
    "                    data.append(list(dummy))                    \n",
    "            else:\n",
    "                dummy[-1]=u'N/A' +', '+dtime\n",
    "                data.append(list(dummy))\n",
    "        else: \n",
    "            dummy.append(i[1][j])"
   ]
  },
  {
   "cell_type": "code",
   "execution_count": 48,
   "metadata": {
    "ExecuteTime": {
     "end_time": "2019-04-18T04:32:36.991710Z",
     "start_time": "2019-04-18T04:32:36.864711Z"
    }
   },
   "outputs": [
    {
     "data": {
      "text/html": [
       "<div>\n",
       "<style scoped>\n",
       "    .dataframe tbody tr th:only-of-type {\n",
       "        vertical-align: middle;\n",
       "    }\n",
       "\n",
       "    .dataframe tbody tr th {\n",
       "        vertical-align: top;\n",
       "    }\n",
       "\n",
       "    .dataframe thead th {\n",
       "        text-align: right;\n",
       "    }\n",
       "</style>\n",
       "<table border=\"1\" class=\"dataframe\">\n",
       "  <thead>\n",
       "    <tr style=\"text-align: right;\">\n",
       "      <th></th>\n",
       "      <th>index</th>\n",
       "      <th>Unnamed: 0</th>\n",
       "      <th>date</th>\n",
       "      <th>hudate</th>\n",
       "      <th>link</th>\n",
       "      <th>image</th>\n",
       "      <th>category</th>\n",
       "      <th>icategory</th>\n",
       "      <th>tags</th>\n",
       "      <th>title</th>\n",
       "      <th>...</th>\n",
       "      <th>relevant</th>\n",
       "      <th>severity</th>\n",
       "      <th>deaths</th>\n",
       "      <th>duplicate</th>\n",
       "      <th>predicted_locs</th>\n",
       "      <th>actual_locs</th>\n",
       "      <th>geo_loc</th>\n",
       "      <th>latitude</th>\n",
       "      <th>longitude</th>\n",
       "      <th>id</th>\n",
       "    </tr>\n",
       "  </thead>\n",
       "  <tbody>\n",
       "    <tr>\n",
       "      <th>0</th>\n",
       "      <td>Nem pontosak a belügyi tárca medvetámadásokra ...</td>\n",
       "      <td>0</td>\n",
       "      <td>2019-12-21</td>\n",
       "      <td>2019. december 21.</td>\n",
       "      <td>https://szekelyhon.ro/aktualis/nem-pontosak-a-...</td>\n",
       "      <td>https://media.szekelyhon.ro/pictures/csik/aktu...</td>\n",
       "      <td>aktualis</td>\n",
       "      <td>csik</td>\n",
       "      <td>['Hargita megye', 'Marosszék', 'medve']</td>\n",
       "      <td>Nem pontosak a belügyi tárca medvetámadásokra ...</td>\n",
       "      <td>...</td>\n",
       "      <td>1</td>\n",
       "      <td>0</td>\n",
       "      <td>0</td>\n",
       "      <td>0</td>\n",
       "      <td>NaN</td>\n",
       "      <td>NaN</td>\n",
       "      <td></td>\n",
       "      <td></td>\n",
       "      <td></td>\n",
       "      <td>N/A, 0</td>\n",
       "    </tr>\n",
       "    <tr>\n",
       "      <th>1</th>\n",
       "      <td>Feldúlva találták a sírhelyeketFeldúlva talált...</td>\n",
       "      <td>1</td>\n",
       "      <td>2019-12-25</td>\n",
       "      <td>2019. december 25.</td>\n",
       "      <td>https://szekelyhon.ro/aktualis/feldulva-talalt...</td>\n",
       "      <td>https://media.szekelyhon.ro/pictures/agerpres/...</td>\n",
       "      <td>aktualis</td>\n",
       "      <td>agerpres</td>\n",
       "      <td>['Gyergyószék', 'medve']</td>\n",
       "      <td>Feldúlva találták a sírhelyeket</td>\n",
       "      <td>...</td>\n",
       "      <td>1</td>\n",
       "      <td>1</td>\n",
       "      <td>0</td>\n",
       "      <td>0</td>\n",
       "      <td>['Vasláb', 'Heveder']</td>\n",
       "      <td>Heveder</td>\n",
       "      <td>Heveder</td>\n",
       "      <td>46.6603</td>\n",
       "      <td>25.6387</td>\n",
       "      <td>Heveder, 1</td>\n",
       "    </tr>\n",
       "    <tr>\n",
       "      <th>2</th>\n",
       "      <td>Elutasította medveügyben a Zetelaki Területtul...</td>\n",
       "      <td>2</td>\n",
       "      <td>2019-12-26</td>\n",
       "      <td>2019. december 26.</td>\n",
       "      <td>https://szekelyhon.ro/aktualis/elutasitotta-me...</td>\n",
       "      <td>https://media.szekelyhon.ro/pictures/udvarhely...</td>\n",
       "      <td>aktualis</td>\n",
       "      <td>udvarhely</td>\n",
       "      <td>['Hargita megye', 'medve']</td>\n",
       "      <td>Elutasította medveügyben a Zetelaki Területtul...</td>\n",
       "      <td>...</td>\n",
       "      <td>1</td>\n",
       "      <td>0</td>\n",
       "      <td>0</td>\n",
       "      <td>0</td>\n",
       "      <td>['Marosvásárhely', 'Zetelaka']</td>\n",
       "      <td>Zetelaka</td>\n",
       "      <td>Zetelaka</td>\n",
       "      <td>46.391</td>\n",
       "      <td>25.3679</td>\n",
       "      <td>Zetelaka, 2</td>\n",
       "    </tr>\n",
       "    <tr>\n",
       "      <th>3</th>\n",
       "      <td>Ki akadályozta meg, hogy a barnamedve lekerülj...</td>\n",
       "      <td>4</td>\n",
       "      <td>2020-01-04</td>\n",
       "      <td>2020. január 04.</td>\n",
       "      <td>https://szekelyhon.ro/aktualis/ki-akadalyozta-...</td>\n",
       "      <td>https://media.szekelyhon.ro/pictures/csik/aktu...</td>\n",
       "      <td>aktualis</td>\n",
       "      <td>csik</td>\n",
       "      <td>['Belföld', 'medve', 'RMDSZ']</td>\n",
       "      <td>Ki akadályozta meg, hogy a barnamedve lekerülj...</td>\n",
       "      <td>...</td>\n",
       "      <td>1</td>\n",
       "      <td>0</td>\n",
       "      <td>0</td>\n",
       "      <td>0</td>\n",
       "      <td>NaN</td>\n",
       "      <td>Sepsiszentgyörgy</td>\n",
       "      <td>Sepsiszentgyörgy</td>\n",
       "      <td>45.8609</td>\n",
       "      <td>25.7886</td>\n",
       "      <td>Sepsiszentgyörgy, 4</td>\n",
       "    </tr>\n",
       "    <tr>\n",
       "      <th>4</th>\n",
       "      <td>Pénzt ígér a miniszter a medvék által veszélye...</td>\n",
       "      <td>5</td>\n",
       "      <td>2020-01-06</td>\n",
       "      <td>2020. január 06.</td>\n",
       "      <td>https://szekelyhon.ro/aktualis/penzt-iger-a-mi...</td>\n",
       "      <td>https://media.szekelyhon.ro/pictures/csik/aktu...</td>\n",
       "      <td>aktualis</td>\n",
       "      <td>csik</td>\n",
       "      <td>['Háromszék', 'medve']</td>\n",
       "      <td>Pénzt ígér a miniszter a medvék által veszélye...</td>\n",
       "      <td>...</td>\n",
       "      <td>1</td>\n",
       "      <td>0</td>\n",
       "      <td>0</td>\n",
       "      <td>0</td>\n",
       "      <td>Zabola</td>\n",
       "      <td>Zabola</td>\n",
       "      <td>Zabola</td>\n",
       "      <td>45.8877</td>\n",
       "      <td>26.1898</td>\n",
       "      <td>Zabola, 5</td>\n",
       "    </tr>\n",
       "    <tr>\n",
       "      <th>...</th>\n",
       "      <td>...</td>\n",
       "      <td>...</td>\n",
       "      <td>...</td>\n",
       "      <td>...</td>\n",
       "      <td>...</td>\n",
       "      <td>...</td>\n",
       "      <td>...</td>\n",
       "      <td>...</td>\n",
       "      <td>...</td>\n",
       "      <td>...</td>\n",
       "      <td>...</td>\n",
       "      <td>...</td>\n",
       "      <td>...</td>\n",
       "      <td>...</td>\n",
       "      <td>...</td>\n",
       "      <td>...</td>\n",
       "      <td>...</td>\n",
       "      <td>...</td>\n",
       "      <td>...</td>\n",
       "      <td>...</td>\n",
       "      <td>...</td>\n",
       "    </tr>\n",
       "    <tr>\n",
       "      <th>77</th>\n",
       "      <td>Elejtették a Csíkszeredában többször is felbuk...</td>\n",
       "      <td>75</td>\n",
       "      <td>2020-08-23</td>\n",
       "      <td>2020. augusztus 23.</td>\n",
       "      <td>https://szekelyhon.ro/aktualis/elejtettek-a-cs...</td>\n",
       "      <td>https://media.szekelyhon.ro/pictures/csik/aktu...</td>\n",
       "      <td>aktualis</td>\n",
       "      <td>csik</td>\n",
       "      <td>['Csíkszereda', 'medve']</td>\n",
       "      <td>Elejtették a Csíkszeredában többször is felbuk...</td>\n",
       "      <td>...</td>\n",
       "      <td>1</td>\n",
       "      <td>0</td>\n",
       "      <td>0</td>\n",
       "      <td>0</td>\n",
       "      <td>['Márkos', 'Márkod', 'Csíkszereda']</td>\n",
       "      <td>['Márkos', 'Márkod', 'Csíkszereda']</td>\n",
       "      <td>Márkod</td>\n",
       "      <td>46.5963</td>\n",
       "      <td>24.8632</td>\n",
       "      <td>Márkod, 75</td>\n",
       "    </tr>\n",
       "    <tr>\n",
       "      <th>78</th>\n",
       "      <td>Elejtették a Csíkszeredában többször is felbuk...</td>\n",
       "      <td>75</td>\n",
       "      <td>2020-08-23</td>\n",
       "      <td>2020. augusztus 23.</td>\n",
       "      <td>https://szekelyhon.ro/aktualis/elejtettek-a-cs...</td>\n",
       "      <td>https://media.szekelyhon.ro/pictures/csik/aktu...</td>\n",
       "      <td>aktualis</td>\n",
       "      <td>csik</td>\n",
       "      <td>['Csíkszereda', 'medve']</td>\n",
       "      <td>Elejtették a Csíkszeredában többször is felbuk...</td>\n",
       "      <td>...</td>\n",
       "      <td>1</td>\n",
       "      <td>0</td>\n",
       "      <td>0</td>\n",
       "      <td>0</td>\n",
       "      <td>['Márkos', 'Márkod', 'Csíkszereda']</td>\n",
       "      <td>['Márkos', 'Márkod', 'Csíkszereda']</td>\n",
       "      <td>Csíkszereda</td>\n",
       "      <td>46.3696</td>\n",
       "      <td>25.7954</td>\n",
       "      <td>Csíkszereda, 75</td>\n",
       "    </tr>\n",
       "    <tr>\n",
       "      <th>79</th>\n",
       "      <td>A főtérig merészkedett a Csíkszeredában felbuk...</td>\n",
       "      <td>76</td>\n",
       "      <td>2020-08-24</td>\n",
       "      <td>2020. augusztus 24.</td>\n",
       "      <td>https://szekelyhon.ro/aktualis/a-foterig-meres...</td>\n",
       "      <td>https://media.szekelyhon.ro/pictures/csik/aktu...</td>\n",
       "      <td>aktualis</td>\n",
       "      <td>csik</td>\n",
       "      <td>['Csíkszereda', 'medve']</td>\n",
       "      <td>A főtérig merészkedett a Csíkszeredában felbuk...</td>\n",
       "      <td>...</td>\n",
       "      <td>1</td>\n",
       "      <td>0</td>\n",
       "      <td>0</td>\n",
       "      <td>0</td>\n",
       "      <td>['Csíksomlyó', 'Csíkszereda']</td>\n",
       "      <td>['Csíksomlyó', 'Csíkszereda']</td>\n",
       "      <td>Csíksomlyó</td>\n",
       "      <td>46.3753</td>\n",
       "      <td>25.8193</td>\n",
       "      <td>Csíksomlyó, 76</td>\n",
       "    </tr>\n",
       "    <tr>\n",
       "      <th>80</th>\n",
       "      <td>A főtérig merészkedett a Csíkszeredában felbuk...</td>\n",
       "      <td>76</td>\n",
       "      <td>2020-08-24</td>\n",
       "      <td>2020. augusztus 24.</td>\n",
       "      <td>https://szekelyhon.ro/aktualis/a-foterig-meres...</td>\n",
       "      <td>https://media.szekelyhon.ro/pictures/csik/aktu...</td>\n",
       "      <td>aktualis</td>\n",
       "      <td>csik</td>\n",
       "      <td>['Csíkszereda', 'medve']</td>\n",
       "      <td>A főtérig merészkedett a Csíkszeredában felbuk...</td>\n",
       "      <td>...</td>\n",
       "      <td>1</td>\n",
       "      <td>0</td>\n",
       "      <td>0</td>\n",
       "      <td>0</td>\n",
       "      <td>['Csíksomlyó', 'Csíkszereda']</td>\n",
       "      <td>['Csíksomlyó', 'Csíkszereda']</td>\n",
       "      <td>Csíkszereda</td>\n",
       "      <td>46.3696</td>\n",
       "      <td>25.7954</td>\n",
       "      <td>Csíkszereda, 76</td>\n",
       "    </tr>\n",
       "    <tr>\n",
       "      <th>81</th>\n",
       "      <td>Egyik a másik után – miért látni gyakran medvé...</td>\n",
       "      <td>77</td>\n",
       "      <td>2020-08-24</td>\n",
       "      <td>2020. augusztus 24.</td>\n",
       "      <td>https://szekelyhon.ro/aktualis/egyik-utan-a-ma...</td>\n",
       "      <td>https://media.szekelyhon.ro/pictures/csik/aktu...</td>\n",
       "      <td>aktualis</td>\n",
       "      <td>csik</td>\n",
       "      <td>['Csíkszereda', 'medve']</td>\n",
       "      <td>Egyik a másik után – miért látni gyakran medvé...</td>\n",
       "      <td>...</td>\n",
       "      <td>1</td>\n",
       "      <td>0</td>\n",
       "      <td>0</td>\n",
       "      <td>0</td>\n",
       "      <td>Csíkszereda</td>\n",
       "      <td>Csíkszereda</td>\n",
       "      <td>Csíkszereda</td>\n",
       "      <td>46.3696</td>\n",
       "      <td>25.7954</td>\n",
       "      <td>Csíkszereda, 77</td>\n",
       "    </tr>\n",
       "  </tbody>\n",
       "</table>\n",
       "<p>82 rows × 21 columns</p>\n",
       "</div>"
      ],
      "text/plain": [
       "                                                index  Unnamed: 0       date  \\\n",
       "0   Nem pontosak a belügyi tárca medvetámadásokra ...           0 2019-12-21   \n",
       "1   Feldúlva találták a sírhelyeketFeldúlva talált...           1 2019-12-25   \n",
       "2   Elutasította medveügyben a Zetelaki Területtul...           2 2019-12-26   \n",
       "3   Ki akadályozta meg, hogy a barnamedve lekerülj...           4 2020-01-04   \n",
       "4   Pénzt ígér a miniszter a medvék által veszélye...           5 2020-01-06   \n",
       "..                                                ...         ...        ...   \n",
       "77  Elejtették a Csíkszeredában többször is felbuk...          75 2020-08-23   \n",
       "78  Elejtették a Csíkszeredában többször is felbuk...          75 2020-08-23   \n",
       "79  A főtérig merészkedett a Csíkszeredában felbuk...          76 2020-08-24   \n",
       "80  A főtérig merészkedett a Csíkszeredában felbuk...          76 2020-08-24   \n",
       "81  Egyik a másik után – miért látni gyakran medvé...          77 2020-08-24   \n",
       "\n",
       "                 hudate                                               link  \\\n",
       "0    2019. december 21.  https://szekelyhon.ro/aktualis/nem-pontosak-a-...   \n",
       "1    2019. december 25.  https://szekelyhon.ro/aktualis/feldulva-talalt...   \n",
       "2    2019. december 26.  https://szekelyhon.ro/aktualis/elutasitotta-me...   \n",
       "3      2020. január 04.  https://szekelyhon.ro/aktualis/ki-akadalyozta-...   \n",
       "4      2020. január 06.  https://szekelyhon.ro/aktualis/penzt-iger-a-mi...   \n",
       "..                  ...                                                ...   \n",
       "77  2020. augusztus 23.  https://szekelyhon.ro/aktualis/elejtettek-a-cs...   \n",
       "78  2020. augusztus 23.  https://szekelyhon.ro/aktualis/elejtettek-a-cs...   \n",
       "79  2020. augusztus 24.  https://szekelyhon.ro/aktualis/a-foterig-meres...   \n",
       "80  2020. augusztus 24.  https://szekelyhon.ro/aktualis/a-foterig-meres...   \n",
       "81  2020. augusztus 24.  https://szekelyhon.ro/aktualis/egyik-utan-a-ma...   \n",
       "\n",
       "                                                image  category  icategory  \\\n",
       "0   https://media.szekelyhon.ro/pictures/csik/aktu...  aktualis       csik   \n",
       "1   https://media.szekelyhon.ro/pictures/agerpres/...  aktualis   agerpres   \n",
       "2   https://media.szekelyhon.ro/pictures/udvarhely...  aktualis  udvarhely   \n",
       "3   https://media.szekelyhon.ro/pictures/csik/aktu...  aktualis       csik   \n",
       "4   https://media.szekelyhon.ro/pictures/csik/aktu...  aktualis       csik   \n",
       "..                                                ...       ...        ...   \n",
       "77  https://media.szekelyhon.ro/pictures/csik/aktu...  aktualis       csik   \n",
       "78  https://media.szekelyhon.ro/pictures/csik/aktu...  aktualis       csik   \n",
       "79  https://media.szekelyhon.ro/pictures/csik/aktu...  aktualis       csik   \n",
       "80  https://media.szekelyhon.ro/pictures/csik/aktu...  aktualis       csik   \n",
       "81  https://media.szekelyhon.ro/pictures/csik/aktu...  aktualis       csik   \n",
       "\n",
       "                                       tags  \\\n",
       "0   ['Hargita megye', 'Marosszék', 'medve']   \n",
       "1                  ['Gyergyószék', 'medve']   \n",
       "2                ['Hargita megye', 'medve']   \n",
       "3             ['Belföld', 'medve', 'RMDSZ']   \n",
       "4                    ['Háromszék', 'medve']   \n",
       "..                                      ...   \n",
       "77                 ['Csíkszereda', 'medve']   \n",
       "78                 ['Csíkszereda', 'medve']   \n",
       "79                 ['Csíkszereda', 'medve']   \n",
       "80                 ['Csíkszereda', 'medve']   \n",
       "81                 ['Csíkszereda', 'medve']   \n",
       "\n",
       "                                                title  ... relevant  severity  \\\n",
       "0   Nem pontosak a belügyi tárca medvetámadásokra ...  ...        1         0   \n",
       "1                     Feldúlva találták a sírhelyeket  ...        1         1   \n",
       "2   Elutasította medveügyben a Zetelaki Területtul...  ...        1         0   \n",
       "3   Ki akadályozta meg, hogy a barnamedve lekerülj...  ...        1         0   \n",
       "4   Pénzt ígér a miniszter a medvék által veszélye...  ...        1         0   \n",
       "..                                                ...  ...      ...       ...   \n",
       "77  Elejtették a Csíkszeredában többször is felbuk...  ...        1         0   \n",
       "78  Elejtették a Csíkszeredában többször is felbuk...  ...        1         0   \n",
       "79  A főtérig merészkedett a Csíkszeredában felbuk...  ...        1         0   \n",
       "80  A főtérig merészkedett a Csíkszeredában felbuk...  ...        1         0   \n",
       "81  Egyik a másik után – miért látni gyakran medvé...  ...        1         0   \n",
       "\n",
       "    deaths  duplicate                       predicted_locs  \\\n",
       "0        0          0                                  NaN   \n",
       "1        0          0                ['Vasláb', 'Heveder']   \n",
       "2        0          0       ['Marosvásárhely', 'Zetelaka']   \n",
       "3        0          0                                  NaN   \n",
       "4        0          0                               Zabola   \n",
       "..     ...        ...                                  ...   \n",
       "77       0          0  ['Márkos', 'Márkod', 'Csíkszereda']   \n",
       "78       0          0  ['Márkos', 'Márkod', 'Csíkszereda']   \n",
       "79       0          0        ['Csíksomlyó', 'Csíkszereda']   \n",
       "80       0          0        ['Csíksomlyó', 'Csíkszereda']   \n",
       "81       0          0                          Csíkszereda   \n",
       "\n",
       "                            actual_locs           geo_loc latitude longitude  \\\n",
       "0                                   NaN                                        \n",
       "1                               Heveder           Heveder  46.6603   25.6387   \n",
       "2                              Zetelaka          Zetelaka   46.391   25.3679   \n",
       "3                      Sepsiszentgyörgy  Sepsiszentgyörgy  45.8609   25.7886   \n",
       "4                                Zabola            Zabola  45.8877   26.1898   \n",
       "..                                  ...               ...      ...       ...   \n",
       "77  ['Márkos', 'Márkod', 'Csíkszereda']            Márkod  46.5963   24.8632   \n",
       "78  ['Márkos', 'Márkod', 'Csíkszereda']       Csíkszereda  46.3696   25.7954   \n",
       "79        ['Csíksomlyó', 'Csíkszereda']        Csíksomlyó  46.3753   25.8193   \n",
       "80        ['Csíksomlyó', 'Csíkszereda']       Csíkszereda  46.3696   25.7954   \n",
       "81                          Csíkszereda       Csíkszereda  46.3696   25.7954   \n",
       "\n",
       "                     id  \n",
       "0                N/A, 0  \n",
       "1            Heveder, 1  \n",
       "2           Zetelaka, 2  \n",
       "3   Sepsiszentgyörgy, 4  \n",
       "4             Zabola, 5  \n",
       "..                  ...  \n",
       "77           Márkod, 75  \n",
       "78      Csíkszereda, 75  \n",
       "79       Csíksomlyó, 76  \n",
       "80      Csíkszereda, 76  \n",
       "81      Csíkszereda, 77  \n",
       "\n",
       "[82 rows x 21 columns]"
      ]
     },
     "execution_count": 48,
     "metadata": {},
     "output_type": "execute_result"
    }
   ],
   "source": [
    "df=pd.DataFrame(data)\n",
    "df.columns=header\n",
    "df"
   ]
  },
  {
   "cell_type": "markdown",
   "metadata": {},
   "source": [
    "Save data for loading in viz app"
   ]
  },
  {
   "cell_type": "code",
   "execution_count": 49,
   "metadata": {
    "ExecuteTime": {
     "end_time": "2019-04-18T04:33:06.297709Z",
     "start_time": "2019-04-18T04:33:06.289711Z"
    }
   },
   "outputs": [],
   "source": [
    "df['checked']=''\n",
    "df['exact_loc']=0\n",
    "df['source']='Székelyhon'"
   ]
  },
  {
   "cell_type": "code",
   "execution_count": 50,
   "metadata": {
    "ExecuteTime": {
     "end_time": "2019-04-18T04:33:06.786724Z",
     "start_time": "2019-04-18T04:33:06.769712Z"
    }
   },
   "outputs": [],
   "source": [
    "df=df[['checked',\n",
    "    'date',\n",
    "    'link',\n",
    "    'image',\n",
    "    'source',\n",
    "    'title',\n",
    "    'content',\n",
    "    'relevant',\n",
    "    'severity',\n",
    "    'deaths',\n",
    "    'duplicate',\n",
    "    'geo_loc',\n",
    "    'exact_loc',\n",
    "    'latitude',\n",
    "    'longitude']].set_index('checked')"
   ]
  },
  {
   "cell_type": "code",
   "execution_count": 51,
   "metadata": {
    "ExecuteTime": {
     "end_time": "2019-04-18T04:33:07.955716Z",
     "start_time": "2019-04-18T04:33:07.743723Z"
    }
   },
   "outputs": [],
   "source": [
    "#PowerBI exploration data\n",
    "df.to_excel('data/szekelyhon_data.xlsx')"
   ]
  },
  {
   "cell_type": "code",
   "execution_count": null,
   "metadata": {},
   "outputs": [],
   "source": []
  }
 ],
 "metadata": {
  "kernelspec": {
   "display_name": "Python 3",
   "language": "python",
   "name": "python3"
  },
  "language_info": {
   "codemirror_mode": {
    "name": "ipython",
    "version": 3
   },
   "file_extension": ".py",
   "mimetype": "text/x-python",
   "name": "python",
   "nbconvert_exporter": "python",
   "pygments_lexer": "ipython3",
   "version": "3.7.4"
  },
  "toc": {
   "base_numbering": 1,
   "nav_menu": {},
   "number_sections": true,
   "sideBar": true,
   "skip_h1_title": false,
   "title_cell": "Table of Contents",
   "title_sidebar": "Contents",
   "toc_cell": false,
   "toc_position": {},
   "toc_section_display": true,
   "toc_window_display": false
  }
 },
 "nbformat": 4,
 "nbformat_minor": 4
}
