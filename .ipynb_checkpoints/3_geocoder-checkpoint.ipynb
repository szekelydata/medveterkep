{
 "cells": [
  {
   "cell_type": "code",
   "execution_count": 1,
   "metadata": {
    "ExecuteTime": {
     "end_time": "2019-04-18T04:32:34.216709Z",
     "start_time": "2019-04-18T04:32:34.210710Z"
    }
   },
   "outputs": [],
   "source": [
    "import pandas as pd, numpy as np\n",
    "import itertools, requests, json"
   ]
  },
  {
   "cell_type": "code",
   "execution_count": 2,
   "metadata": {
    "ExecuteTime": {
     "end_time": "2019-04-18T04:32:34.425705Z",
     "start_time": "2019-04-18T04:32:34.359710Z"
    }
   },
   "outputs": [],
   "source": [
    "dm=pd.read_excel('data/szekelyhon_medve.xlsx')\n",
    "dc=pd.read_excel('data/szekelyhon_medve_curated.xlsx')\n",
    "lm=pd.read_excel('data/szekelyhon_locs_curated.xlsx')"
   ]
  },
  {
   "cell_type": "code",
   "execution_count": 3,
   "metadata": {
    "ExecuteTime": {
     "end_time": "2019-04-18T04:32:34.519710Z",
     "start_time": "2019-04-18T04:32:34.509717Z"
    }
   },
   "outputs": [],
   "source": [
    "dc=dc[(dc['duplicate']!=1)&(dc['relevant']==1)]"
   ]
  },
  {
   "cell_type": "code",
   "execution_count": 4,
   "metadata": {
    "ExecuteTime": {
     "end_time": "2019-04-18T04:32:34.668713Z",
     "start_time": "2019-04-18T04:32:34.653710Z"
    }
   },
   "outputs": [],
   "source": [
    "dc[\"uid\"] = dc[\"title\"].map(str) + dc[\"content\"]\n",
    "dm[\"uid\"] = dm[\"title\"].map(str) + dm[\"content\"]\n",
    "lm[\"uid\"] = lm[\"title\"].map(str) + lm[\"content\"]"
   ]
  },
  {
   "cell_type": "code",
   "execution_count": 5,
   "metadata": {
    "ExecuteTime": {
     "end_time": "2019-04-18T04:32:34.807714Z",
     "start_time": "2019-04-18T04:32:34.795706Z"
    }
   },
   "outputs": [],
   "source": [
    "dc=dc.set_index('uid')[['relevant','severity','deaths','duplicate']]\n",
    "dm=dm.set_index('uid')\n",
    "lm=lm.set_index('uid')[['predicted_locs','actual_locs']]"
   ]
  },
  {
   "cell_type": "code",
   "execution_count": 6,
   "metadata": {
    "ExecuteTime": {
     "end_time": "2019-04-18T04:32:34.945711Z",
     "start_time": "2019-04-18T04:32:34.938708Z"
    }
   },
   "outputs": [],
   "source": [
    "dmi=dm.loc[dc.index.dropna()]"
   ]
  },
  {
   "cell_type": "code",
   "execution_count": 7,
   "metadata": {
    "ExecuteTime": {
     "end_time": "2019-04-18T04:32:35.125710Z",
     "start_time": "2019-04-18T04:32:35.094712Z"
    }
   },
   "outputs": [],
   "source": [
    "df=dmi.join(dc).drop_duplicates()"
   ]
  },
  {
   "cell_type": "code",
   "execution_count": 8,
   "metadata": {
    "ExecuteTime": {
     "end_time": "2019-04-18T04:32:35.264708Z",
     "start_time": "2019-04-18T04:32:35.247713Z"
    }
   },
   "outputs": [],
   "source": [
    "dl=df.join(lm)"
   ]
  },
  {
   "cell_type": "code",
   "execution_count": 9,
   "metadata": {},
   "outputs": [
    {
     "data": {
      "text/plain": [
       "13"
      ]
     },
     "execution_count": 9,
     "metadata": {},
     "output_type": "execute_result"
    }
   ],
   "source": [
    "len(dl)"
   ]
  },
  {
   "cell_type": "markdown",
   "metadata": {
    "ExecuteTime": {
     "end_time": "2018-11-03T01:06:46.878487Z",
     "start_time": "2018-11-03T01:06:46.784487Z"
    }
   },
   "source": [
    "Working df ready. Now infer location."
   ]
  },
  {
   "cell_type": "code",
   "execution_count": 10,
   "metadata": {
    "ExecuteTime": {
     "end_time": "2019-04-18T04:32:35.595708Z",
     "start_time": "2019-04-18T04:32:35.590707Z"
    }
   },
   "outputs": [],
   "source": [
    "to_geo=[i.split(',') for i in dl['actual_locs'].unique() if str(i)!='nan']"
   ]
  },
  {
   "cell_type": "code",
   "execution_count": 11,
   "metadata": {
    "ExecuteTime": {
     "end_time": "2019-04-18T04:32:35.790713Z",
     "start_time": "2019-04-18T04:32:35.785710Z"
    }
   },
   "outputs": [],
   "source": [
    "to_geo=[i.strip() for i in list(itertools.chain.from_iterable(to_geo))]"
   ]
  },
  {
   "cell_type": "markdown",
   "metadata": {},
   "source": [
    "Load HU names"
   ]
  },
  {
   "cell_type": "code",
   "execution_count": 12,
   "metadata": {
    "ExecuteTime": {
     "end_time": "2019-04-18T04:32:36.208711Z",
     "start_time": "2019-04-18T04:32:36.171710Z"
    }
   },
   "outputs": [],
   "source": [
    "coords=json.loads(open('geo/huncoords.json','r').read())\n",
    "megyek=json.loads(open('geo/megyek.json','r').read())"
   ]
  },
  {
   "cell_type": "code",
   "execution_count": 13,
   "metadata": {
    "ExecuteTime": {
     "end_time": "2019-04-18T04:32:36.479710Z",
     "start_time": "2019-04-18T04:32:36.439714Z"
    }
   },
   "outputs": [],
   "source": [
    "data=[]\n",
    "header=['index']\n",
    "for i in dl.iteritems():\n",
    "    header.append(i[0])\n",
    "header.append('geo_loc')\n",
    "header.append('latitude')\n",
    "header.append('longitude')\n",
    "header.append('id')\n",
    "for i in dl.T.iteritems():\n",
    "    dummy=[i[0]]\n",
    "    for j in range(len(i[1])):\n",
    "        if j==(len(i[1])-1):\n",
    "            dummy.append(i[1][j])\n",
    "            dummy.append('')\n",
    "            dummy.append('')\n",
    "            dummy.append('')\n",
    "            dummy.append('')\n",
    "            dtime=str(dummy[1])[:10]\n",
    "            if dtime=='nan': dtime=u'N/A' \n",
    "            if str(i[1][j])!='nan':    \n",
    "                for k in i[1][j].split(','):\n",
    "                    tk=k.strip().replace('[','').replace(']','').replace(\"'\",'')\n",
    "                    dummy[-4]=tk\n",
    "                    if tk in coords:\n",
    "                        dummy[-3]=coords[tk][0]\n",
    "                        dummy[-2]=coords[tk][1]\n",
    "                    else:\n",
    "                        dummy[-3]=''\n",
    "                        dummy[-2]=''\n",
    "                    #dummy[-1]=str(dummy[-3])+' ('+str(dummy[0]+1)+')\\n'+dtime\n",
    "                    dummy[-1]=str(dummy[-4])+', '+dtime\n",
    "                    data.append(list(dummy))                    \n",
    "            else:\n",
    "                dummy[-1]=u'N/A' +', '+dtime\n",
    "                data.append(list(dummy))\n",
    "        else: \n",
    "            dummy.append(i[1][j])"
   ]
  },
  {
   "cell_type": "code",
   "execution_count": 14,
   "metadata": {
    "ExecuteTime": {
     "end_time": "2019-04-18T04:32:36.991710Z",
     "start_time": "2019-04-18T04:32:36.864711Z"
    }
   },
   "outputs": [
    {
     "data": {
      "text/html": [
       "<div>\n",
       "<style scoped>\n",
       "    .dataframe tbody tr th:only-of-type {\n",
       "        vertical-align: middle;\n",
       "    }\n",
       "\n",
       "    .dataframe tbody tr th {\n",
       "        vertical-align: top;\n",
       "    }\n",
       "\n",
       "    .dataframe thead th {\n",
       "        text-align: right;\n",
       "    }\n",
       "</style>\n",
       "<table border=\"1\" class=\"dataframe\">\n",
       "  <thead>\n",
       "    <tr style=\"text-align: right;\">\n",
       "      <th></th>\n",
       "      <th>index</th>\n",
       "      <th>Unnamed: 0</th>\n",
       "      <th>date</th>\n",
       "      <th>hudate</th>\n",
       "      <th>link</th>\n",
       "      <th>image</th>\n",
       "      <th>category</th>\n",
       "      <th>icategory</th>\n",
       "      <th>tags</th>\n",
       "      <th>title</th>\n",
       "      <th>...</th>\n",
       "      <th>relevant</th>\n",
       "      <th>severity</th>\n",
       "      <th>deaths</th>\n",
       "      <th>duplicate</th>\n",
       "      <th>predicted_locs</th>\n",
       "      <th>actual_locs</th>\n",
       "      <th>geo_loc</th>\n",
       "      <th>latitude</th>\n",
       "      <th>longitude</th>\n",
       "      <th>id</th>\n",
       "    </tr>\n",
       "  </thead>\n",
       "  <tbody>\n",
       "    <tr>\n",
       "      <th>0</th>\n",
       "      <td>Újabb medvét gázoltak el, ezúttal Kovászna meg...</td>\n",
       "      <td>0</td>\n",
       "      <td>2019-10-21</td>\n",
       "      <td>2019. október 21.</td>\n",
       "      <td>https://szekelyhon.ro/aktualis/ujabb-medvet-ga...</td>\n",
       "      <td>https://media.szekelyhon.ro/pictures/csik/aktu...</td>\n",
       "      <td>aktualis</td>\n",
       "      <td>csik</td>\n",
       "      <td>['Kovászna megye', 'medve']</td>\n",
       "      <td>Újabb medvét gázoltak el, ezúttal Kovászna meg...</td>\n",
       "      <td>...</td>\n",
       "      <td>1</td>\n",
       "      <td>2</td>\n",
       "      <td>0</td>\n",
       "      <td>0</td>\n",
       "      <td>['Ozsdola', 'Kovászna']</td>\n",
       "      <td>Ozsdola</td>\n",
       "      <td>Ozsdola</td>\n",
       "      <td>45.9805</td>\n",
       "      <td>26.263</td>\n",
       "      <td>Ozsdola, 0</td>\n",
       "    </tr>\n",
       "    <tr>\n",
       "      <th>1</th>\n",
       "      <td>Érdeklődik a medve a füstölt sonka iránt, de a...</td>\n",
       "      <td>1</td>\n",
       "      <td>2019-10-21</td>\n",
       "      <td>2019. október 21.</td>\n",
       "      <td>https://szekelyhon.ro/aktualis/megtermett-medv...</td>\n",
       "      <td>https://media.szekelyhon.ro/pictures/agerpres/...</td>\n",
       "      <td>aktualis</td>\n",
       "      <td>agerpres</td>\n",
       "      <td>['Homoródalmás', 'medve']</td>\n",
       "      <td>Érdeklődik a medve a füstölt sonka iránt, de a...</td>\n",
       "      <td>...</td>\n",
       "      <td>1</td>\n",
       "      <td>4</td>\n",
       "      <td>0</td>\n",
       "      <td>0</td>\n",
       "      <td>Homoródalmás</td>\n",
       "      <td>Homoródalmás</td>\n",
       "      <td>Homoródalmás</td>\n",
       "      <td>46.2344</td>\n",
       "      <td>25.457</td>\n",
       "      <td>Homoródalmás, 1</td>\n",
       "    </tr>\n",
       "    <tr>\n",
       "      <th>2</th>\n",
       "      <td>Bocsával együtt tört be az udvarra az anyamedv...</td>\n",
       "      <td>2</td>\n",
       "      <td>2019-10-22</td>\n",
       "      <td>2019. október 22.</td>\n",
       "      <td>https://szekelyhon.ro/aktualis/bocsaval-egyutt...</td>\n",
       "      <td>https://media.szekelyhon.ro/pictures/csik/aktu...</td>\n",
       "      <td>aktualis</td>\n",
       "      <td>csik</td>\n",
       "      <td>['medve', 'Tusnádfürdő']</td>\n",
       "      <td>Bocsával együtt tört be az udvarra az anyamedve</td>\n",
       "      <td>...</td>\n",
       "      <td>1</td>\n",
       "      <td>2</td>\n",
       "      <td>0</td>\n",
       "      <td>0</td>\n",
       "      <td>Tusnádfürdő</td>\n",
       "      <td>Tusnádfürdő</td>\n",
       "      <td>Tusnádfürdő</td>\n",
       "      <td>46.1461</td>\n",
       "      <td>25.857</td>\n",
       "      <td>Tusnádfürdő, 2</td>\n",
       "    </tr>\n",
       "    <tr>\n",
       "      <th>3</th>\n",
       "      <td>Még a kormányválság is a garázdálkodó medvékne...</td>\n",
       "      <td>3</td>\n",
       "      <td>2019-10-22</td>\n",
       "      <td>2019. október 22.</td>\n",
       "      <td>https://szekelyhon.ro/aktualis/meg-a-kormanyva...</td>\n",
       "      <td>https://media.szekelyhon.ro/pictures/csik/aktu...</td>\n",
       "      <td>aktualis</td>\n",
       "      <td>csik</td>\n",
       "      <td>['Hargita megye', 'medve']</td>\n",
       "      <td>Még a kormányválság is a garázdálkodó medvékne...</td>\n",
       "      <td>...</td>\n",
       "      <td>1</td>\n",
       "      <td>0</td>\n",
       "      <td>0</td>\n",
       "      <td>0</td>\n",
       "      <td>NaN</td>\n",
       "      <td>NaN</td>\n",
       "      <td></td>\n",
       "      <td></td>\n",
       "      <td></td>\n",
       "      <td>N/A, 3</td>\n",
       "    </tr>\n",
       "    <tr>\n",
       "      <th>4</th>\n",
       "      <td>Nagykadácson és Felsőboldogfalván is medve mia...</td>\n",
       "      <td>4</td>\n",
       "      <td>2019-10-24</td>\n",
       "      <td>2019. október 24.</td>\n",
       "      <td>https://szekelyhon.ro/aktualis/nagykadacson-es...</td>\n",
       "      <td>https://media.szekelyhon.ro/pictures/csik/aktu...</td>\n",
       "      <td>aktualis</td>\n",
       "      <td>csik</td>\n",
       "      <td>['medve', 'Udvarhelyszék']</td>\n",
       "      <td>Nagykadácson és Felsőboldogfalván is medve mia...</td>\n",
       "      <td>...</td>\n",
       "      <td>1</td>\n",
       "      <td>2</td>\n",
       "      <td>0</td>\n",
       "      <td>0</td>\n",
       "      <td>Felsőboldogfalva</td>\n",
       "      <td>Felsőboldogfalva</td>\n",
       "      <td>Felsőboldogfalva</td>\n",
       "      <td>46.2743</td>\n",
       "      <td>25.2775</td>\n",
       "      <td>Felsőboldogfalva, 4</td>\n",
       "    </tr>\n",
       "    <tr>\n",
       "      <th>5</th>\n",
       "      <td>Nem sokat ér a medvebiztos kuka, ha mellé tesz...</td>\n",
       "      <td>5</td>\n",
       "      <td>2019-10-25</td>\n",
       "      <td>2019. október 25.</td>\n",
       "      <td>https://szekelyhon.ro/aktualis/nem-sokat-er-a-...</td>\n",
       "      <td>https://media.szekelyhon.ro/pictures/csik/aktu...</td>\n",
       "      <td>aktualis</td>\n",
       "      <td>csik</td>\n",
       "      <td>['Zetelaka']</td>\n",
       "      <td>Nem sokat ér a medvebiztos kuka, ha mellé tesz...</td>\n",
       "      <td>...</td>\n",
       "      <td>1</td>\n",
       "      <td>0</td>\n",
       "      <td>0</td>\n",
       "      <td>0</td>\n",
       "      <td>Zetelaka</td>\n",
       "      <td>Zetelaka</td>\n",
       "      <td>Zetelaka</td>\n",
       "      <td>46.391</td>\n",
       "      <td>25.3679</td>\n",
       "      <td>Zetelaka, 5</td>\n",
       "    </tr>\n",
       "    <tr>\n",
       "      <th>6</th>\n",
       "      <td>Már most kellene számolni a medvékkel a Marosv...</td>\n",
       "      <td>6</td>\n",
       "      <td>2019-10-26</td>\n",
       "      <td>2019. október 26.</td>\n",
       "      <td>https://szekelyhon.ro/aktualis/mar-most-kellen...</td>\n",
       "      <td>https://media.szekelyhon.ro/pictures/vasarhely...</td>\n",
       "      <td>aktualis</td>\n",
       "      <td>vasarhely</td>\n",
       "      <td>['Közlekedés', 'Környezetvédelem', 'Marosvásár...</td>\n",
       "      <td>Már most kellene számolni a medvékkel a Marosv...</td>\n",
       "      <td>...</td>\n",
       "      <td>1</td>\n",
       "      <td>0</td>\n",
       "      <td>0</td>\n",
       "      <td>0</td>\n",
       "      <td>Marosvásárhely</td>\n",
       "      <td>Marosvásárhely</td>\n",
       "      <td>Marosvásárhely</td>\n",
       "      <td>46.5386</td>\n",
       "      <td>24.5514</td>\n",
       "      <td>Marosvásárhely, 6</td>\n",
       "    </tr>\n",
       "    <tr>\n",
       "      <th>7</th>\n",
       "      <td>Medgyes utcáiról zavarták el a medvétA csendőr...</td>\n",
       "      <td>7</td>\n",
       "      <td>2019-10-26</td>\n",
       "      <td>2019. október 26.</td>\n",
       "      <td>https://szekelyhon.ro/vilag/medgyes-utcairol-z...</td>\n",
       "      <td>https://media.szekelyhon.ro/pictures/csik/aktu...</td>\n",
       "      <td>vilag</td>\n",
       "      <td>csik</td>\n",
       "      <td>['Belföld', 'medve']</td>\n",
       "      <td>Medgyes utcáiról zavarták el a medvét</td>\n",
       "      <td>...</td>\n",
       "      <td>1</td>\n",
       "      <td>2</td>\n",
       "      <td>0</td>\n",
       "      <td>0</td>\n",
       "      <td>NaN</td>\n",
       "      <td>NaN</td>\n",
       "      <td></td>\n",
       "      <td></td>\n",
       "      <td></td>\n",
       "      <td>N/A, 7</td>\n",
       "    </tr>\n",
       "    <tr>\n",
       "      <th>8</th>\n",
       "      <td>Lépcsőházban járt a medveEgy fogarasi tömbház ...</td>\n",
       "      <td>8</td>\n",
       "      <td>2019-10-28</td>\n",
       "      <td>2019. október 28.</td>\n",
       "      <td>https://szekelyhon.ro/vilag/lepcsohazban-jart-...</td>\n",
       "      <td>https://media.szekelyhon.ro/pictures/csik/aktu...</td>\n",
       "      <td>vilag</td>\n",
       "      <td>csik</td>\n",
       "      <td>['Belföld']</td>\n",
       "      <td>Lépcsőházban járt a medve</td>\n",
       "      <td>...</td>\n",
       "      <td>1</td>\n",
       "      <td>2</td>\n",
       "      <td>0</td>\n",
       "      <td>0</td>\n",
       "      <td>['Fogaras', 'Brassó']</td>\n",
       "      <td>['Fogaras', 'Brassó']</td>\n",
       "      <td>Fogaras</td>\n",
       "      <td>45.8416</td>\n",
       "      <td>24.9731</td>\n",
       "      <td>Fogaras, 8</td>\n",
       "    </tr>\n",
       "    <tr>\n",
       "      <th>9</th>\n",
       "      <td>Lépcsőházban járt a medveEgy fogarasi tömbház ...</td>\n",
       "      <td>8</td>\n",
       "      <td>2019-10-28</td>\n",
       "      <td>2019. október 28.</td>\n",
       "      <td>https://szekelyhon.ro/vilag/lepcsohazban-jart-...</td>\n",
       "      <td>https://media.szekelyhon.ro/pictures/csik/aktu...</td>\n",
       "      <td>vilag</td>\n",
       "      <td>csik</td>\n",
       "      <td>['Belföld']</td>\n",
       "      <td>Lépcsőházban járt a medve</td>\n",
       "      <td>...</td>\n",
       "      <td>1</td>\n",
       "      <td>2</td>\n",
       "      <td>0</td>\n",
       "      <td>0</td>\n",
       "      <td>['Fogaras', 'Brassó']</td>\n",
       "      <td>['Fogaras', 'Brassó']</td>\n",
       "      <td>Brassó</td>\n",
       "      <td>45.658</td>\n",
       "      <td>25.6012</td>\n",
       "      <td>Brassó, 8</td>\n",
       "    </tr>\n",
       "    <tr>\n",
       "      <th>10</th>\n",
       "      <td>Sebzett medvét üldöznek a vadászok Székelyudva...</td>\n",
       "      <td>9</td>\n",
       "      <td>2019-10-29</td>\n",
       "      <td>2019. október 29.</td>\n",
       "      <td>https://szekelyhon.ro/aktualis/sebzett-medvet-...</td>\n",
       "      <td>https://media.szekelyhon.ro/pictures/udvarhely...</td>\n",
       "      <td>aktualis</td>\n",
       "      <td>udvarhely</td>\n",
       "      <td>['medve', 'Székelyudvarhely']</td>\n",
       "      <td>Sebzett medvét üldöznek a vadászok Székelyudva...</td>\n",
       "      <td>...</td>\n",
       "      <td>1</td>\n",
       "      <td>1</td>\n",
       "      <td>0</td>\n",
       "      <td>0</td>\n",
       "      <td>['Székelyudvarhely', 'Keresd', 'Felsőboldogfal...</td>\n",
       "      <td>Felsőboldogfalva</td>\n",
       "      <td>Felsőboldogfalva</td>\n",
       "      <td>46.2743</td>\n",
       "      <td>25.2775</td>\n",
       "      <td>Felsőboldogfalva, 9</td>\n",
       "    </tr>\n",
       "    <tr>\n",
       "      <th>11</th>\n",
       "      <td>Öt medve pusztult el egy hét alatt Háromszéken...</td>\n",
       "      <td>10</td>\n",
       "      <td>2019-10-30</td>\n",
       "      <td>2019. október 30.</td>\n",
       "      <td>https://szekelyhon.ro/aktualis/ot-medve-pusztu...</td>\n",
       "      <td>https://media.szekelyhon.ro/pictures/csik/aktu...</td>\n",
       "      <td>aktualis</td>\n",
       "      <td>csik</td>\n",
       "      <td>['Háromszék', 'medve']</td>\n",
       "      <td>Öt medve pusztult el egy hét alatt Háromszéken</td>\n",
       "      <td>...</td>\n",
       "      <td>1</td>\n",
       "      <td>0</td>\n",
       "      <td>0</td>\n",
       "      <td>0</td>\n",
       "      <td>NaN</td>\n",
       "      <td>NaN</td>\n",
       "      <td></td>\n",
       "      <td></td>\n",
       "      <td></td>\n",
       "      <td>N/A, 10</td>\n",
       "    </tr>\n",
       "    <tr>\n",
       "      <th>12</th>\n",
       "      <td>Juhokat ölt a medve SzékelyudvarhelyenEgy juho...</td>\n",
       "      <td>11</td>\n",
       "      <td>2019-10-30</td>\n",
       "      <td>2019. október 30.</td>\n",
       "      <td>https://szekelyhon.ro/aktualis/juhokat-olt-a-m...</td>\n",
       "      <td>https://media.szekelyhon.ro/pictures/udvarhely...</td>\n",
       "      <td>aktualis</td>\n",
       "      <td>udvarhely</td>\n",
       "      <td>['Székelyudvarhely']</td>\n",
       "      <td>Juhokat ölt a medve Székelyudvarhelyen</td>\n",
       "      <td>...</td>\n",
       "      <td>1</td>\n",
       "      <td>3</td>\n",
       "      <td>1</td>\n",
       "      <td>0</td>\n",
       "      <td>Székelyudvarhely</td>\n",
       "      <td>Székelyudvarhely</td>\n",
       "      <td>Székelyudvarhely</td>\n",
       "      <td>46.305</td>\n",
       "      <td>25.2926</td>\n",
       "      <td>Székelyudvarhely, 11</td>\n",
       "    </tr>\n",
       "    <tr>\n",
       "      <th>13</th>\n",
       "      <td>Autót rongált a medveGépkocsit rongált meg egy...</td>\n",
       "      <td>12</td>\n",
       "      <td>2019-10-31</td>\n",
       "      <td>2019. október 31.</td>\n",
       "      <td>https://szekelyhon.ro/aktualis/autot-rongalt-a...</td>\n",
       "      <td>https://media.szekelyhon.ro/pictures/agerpres/...</td>\n",
       "      <td>aktualis</td>\n",
       "      <td>agerpres</td>\n",
       "      <td>['Háromszék', 'medve']</td>\n",
       "      <td>Autót rongált a medve</td>\n",
       "      <td>...</td>\n",
       "      <td>1</td>\n",
       "      <td>1</td>\n",
       "      <td>0</td>\n",
       "      <td>0</td>\n",
       "      <td>['Torja', 'Dragus']</td>\n",
       "      <td>Torja</td>\n",
       "      <td>Torja</td>\n",
       "      <td>46.0512</td>\n",
       "      <td>26.0422</td>\n",
       "      <td>Torja, 12</td>\n",
       "    </tr>\n",
       "  </tbody>\n",
       "</table>\n",
       "<p>14 rows × 21 columns</p>\n",
       "</div>"
      ],
      "text/plain": [
       "                                                index  Unnamed: 0       date  \\\n",
       "0   Újabb medvét gázoltak el, ezúttal Kovászna meg...           0 2019-10-21   \n",
       "1   Érdeklődik a medve a füstölt sonka iránt, de a...           1 2019-10-21   \n",
       "2   Bocsával együtt tört be az udvarra az anyamedv...           2 2019-10-22   \n",
       "3   Még a kormányválság is a garázdálkodó medvékne...           3 2019-10-22   \n",
       "4   Nagykadácson és Felsőboldogfalván is medve mia...           4 2019-10-24   \n",
       "5   Nem sokat ér a medvebiztos kuka, ha mellé tesz...           5 2019-10-25   \n",
       "6   Már most kellene számolni a medvékkel a Marosv...           6 2019-10-26   \n",
       "7   Medgyes utcáiról zavarták el a medvétA csendőr...           7 2019-10-26   \n",
       "8   Lépcsőházban járt a medveEgy fogarasi tömbház ...           8 2019-10-28   \n",
       "9   Lépcsőházban járt a medveEgy fogarasi tömbház ...           8 2019-10-28   \n",
       "10  Sebzett medvét üldöznek a vadászok Székelyudva...           9 2019-10-29   \n",
       "11  Öt medve pusztult el egy hét alatt Háromszéken...          10 2019-10-30   \n",
       "12  Juhokat ölt a medve SzékelyudvarhelyenEgy juho...          11 2019-10-30   \n",
       "13  Autót rongált a medveGépkocsit rongált meg egy...          12 2019-10-31   \n",
       "\n",
       "               hudate                                               link  \\\n",
       "0   2019. október 21.  https://szekelyhon.ro/aktualis/ujabb-medvet-ga...   \n",
       "1   2019. október 21.  https://szekelyhon.ro/aktualis/megtermett-medv...   \n",
       "2   2019. október 22.  https://szekelyhon.ro/aktualis/bocsaval-egyutt...   \n",
       "3   2019. október 22.  https://szekelyhon.ro/aktualis/meg-a-kormanyva...   \n",
       "4   2019. október 24.  https://szekelyhon.ro/aktualis/nagykadacson-es...   \n",
       "5   2019. október 25.  https://szekelyhon.ro/aktualis/nem-sokat-er-a-...   \n",
       "6   2019. október 26.  https://szekelyhon.ro/aktualis/mar-most-kellen...   \n",
       "7   2019. október 26.  https://szekelyhon.ro/vilag/medgyes-utcairol-z...   \n",
       "8   2019. október 28.  https://szekelyhon.ro/vilag/lepcsohazban-jart-...   \n",
       "9   2019. október 28.  https://szekelyhon.ro/vilag/lepcsohazban-jart-...   \n",
       "10  2019. október 29.  https://szekelyhon.ro/aktualis/sebzett-medvet-...   \n",
       "11  2019. október 30.  https://szekelyhon.ro/aktualis/ot-medve-pusztu...   \n",
       "12  2019. október 30.  https://szekelyhon.ro/aktualis/juhokat-olt-a-m...   \n",
       "13  2019. október 31.  https://szekelyhon.ro/aktualis/autot-rongalt-a...   \n",
       "\n",
       "                                                image  category  icategory  \\\n",
       "0   https://media.szekelyhon.ro/pictures/csik/aktu...  aktualis       csik   \n",
       "1   https://media.szekelyhon.ro/pictures/agerpres/...  aktualis   agerpres   \n",
       "2   https://media.szekelyhon.ro/pictures/csik/aktu...  aktualis       csik   \n",
       "3   https://media.szekelyhon.ro/pictures/csik/aktu...  aktualis       csik   \n",
       "4   https://media.szekelyhon.ro/pictures/csik/aktu...  aktualis       csik   \n",
       "5   https://media.szekelyhon.ro/pictures/csik/aktu...  aktualis       csik   \n",
       "6   https://media.szekelyhon.ro/pictures/vasarhely...  aktualis  vasarhely   \n",
       "7   https://media.szekelyhon.ro/pictures/csik/aktu...     vilag       csik   \n",
       "8   https://media.szekelyhon.ro/pictures/csik/aktu...     vilag       csik   \n",
       "9   https://media.szekelyhon.ro/pictures/csik/aktu...     vilag       csik   \n",
       "10  https://media.szekelyhon.ro/pictures/udvarhely...  aktualis  udvarhely   \n",
       "11  https://media.szekelyhon.ro/pictures/csik/aktu...  aktualis       csik   \n",
       "12  https://media.szekelyhon.ro/pictures/udvarhely...  aktualis  udvarhely   \n",
       "13  https://media.szekelyhon.ro/pictures/agerpres/...  aktualis   agerpres   \n",
       "\n",
       "                                                 tags  \\\n",
       "0                         ['Kovászna megye', 'medve']   \n",
       "1                           ['Homoródalmás', 'medve']   \n",
       "2                            ['medve', 'Tusnádfürdő']   \n",
       "3                          ['Hargita megye', 'medve']   \n",
       "4                          ['medve', 'Udvarhelyszék']   \n",
       "5                                        ['Zetelaka']   \n",
       "6   ['Közlekedés', 'Környezetvédelem', 'Marosvásár...   \n",
       "7                                ['Belföld', 'medve']   \n",
       "8                                         ['Belföld']   \n",
       "9                                         ['Belföld']   \n",
       "10                      ['medve', 'Székelyudvarhely']   \n",
       "11                             ['Háromszék', 'medve']   \n",
       "12                               ['Székelyudvarhely']   \n",
       "13                             ['Háromszék', 'medve']   \n",
       "\n",
       "                                                title  ... relevant  severity  \\\n",
       "0   Újabb medvét gázoltak el, ezúttal Kovászna meg...  ...        1         2   \n",
       "1   Érdeklődik a medve a füstölt sonka iránt, de a...  ...        1         4   \n",
       "2     Bocsával együtt tört be az udvarra az anyamedve  ...        1         2   \n",
       "3   Még a kormányválság is a garázdálkodó medvékne...  ...        1         0   \n",
       "4   Nagykadácson és Felsőboldogfalván is medve mia...  ...        1         2   \n",
       "5   Nem sokat ér a medvebiztos kuka, ha mellé tesz...  ...        1         0   \n",
       "6   Már most kellene számolni a medvékkel a Marosv...  ...        1         0   \n",
       "7               Medgyes utcáiról zavarták el a medvét  ...        1         2   \n",
       "8                           Lépcsőházban járt a medve  ...        1         2   \n",
       "9                           Lépcsőházban járt a medve  ...        1         2   \n",
       "10  Sebzett medvét üldöznek a vadászok Székelyudva...  ...        1         1   \n",
       "11     Öt medve pusztult el egy hét alatt Háromszéken  ...        1         0   \n",
       "12             Juhokat ölt a medve Székelyudvarhelyen  ...        1         3   \n",
       "13                              Autót rongált a medve  ...        1         1   \n",
       "\n",
       "    deaths  duplicate                                     predicted_locs  \\\n",
       "0        0          0                            ['Ozsdola', 'Kovászna']   \n",
       "1        0          0                                       Homoródalmás   \n",
       "2        0          0                                        Tusnádfürdő   \n",
       "3        0          0                                                NaN   \n",
       "4        0          0                                   Felsőboldogfalva   \n",
       "5        0          0                                           Zetelaka   \n",
       "6        0          0                                     Marosvásárhely   \n",
       "7        0          0                                                NaN   \n",
       "8        0          0                              ['Fogaras', 'Brassó']   \n",
       "9        0          0                              ['Fogaras', 'Brassó']   \n",
       "10       0          0  ['Székelyudvarhely', 'Keresd', 'Felsőboldogfal...   \n",
       "11       0          0                                                NaN   \n",
       "12       1          0                                   Székelyudvarhely   \n",
       "13       0          0                                ['Torja', 'Dragus']   \n",
       "\n",
       "              actual_locs           geo_loc latitude longitude  \\\n",
       "0                 Ozsdola           Ozsdola  45.9805    26.263   \n",
       "1            Homoródalmás      Homoródalmás  46.2344    25.457   \n",
       "2             Tusnádfürdő       Tusnádfürdő  46.1461    25.857   \n",
       "3                     NaN                                        \n",
       "4        Felsőboldogfalva  Felsőboldogfalva  46.2743   25.2775   \n",
       "5                Zetelaka          Zetelaka   46.391   25.3679   \n",
       "6          Marosvásárhely    Marosvásárhely  46.5386   24.5514   \n",
       "7                     NaN                                        \n",
       "8   ['Fogaras', 'Brassó']           Fogaras  45.8416   24.9731   \n",
       "9   ['Fogaras', 'Brassó']            Brassó   45.658   25.6012   \n",
       "10       Felsőboldogfalva  Felsőboldogfalva  46.2743   25.2775   \n",
       "11                    NaN                                        \n",
       "12       Székelyudvarhely  Székelyudvarhely   46.305   25.2926   \n",
       "13                  Torja             Torja  46.0512   26.0422   \n",
       "\n",
       "                      id  \n",
       "0             Ozsdola, 0  \n",
       "1        Homoródalmás, 1  \n",
       "2         Tusnádfürdő, 2  \n",
       "3                 N/A, 3  \n",
       "4    Felsőboldogfalva, 4  \n",
       "5            Zetelaka, 5  \n",
       "6      Marosvásárhely, 6  \n",
       "7                 N/A, 7  \n",
       "8             Fogaras, 8  \n",
       "9              Brassó, 8  \n",
       "10   Felsőboldogfalva, 9  \n",
       "11               N/A, 10  \n",
       "12  Székelyudvarhely, 11  \n",
       "13             Torja, 12  \n",
       "\n",
       "[14 rows x 21 columns]"
      ]
     },
     "execution_count": 14,
     "metadata": {},
     "output_type": "execute_result"
    }
   ],
   "source": [
    "df=pd.DataFrame(data)\n",
    "df.columns=header\n",
    "df"
   ]
  },
  {
   "cell_type": "markdown",
   "metadata": {},
   "source": [
    "Save data for loading in viz app"
   ]
  },
  {
   "cell_type": "code",
   "execution_count": 15,
   "metadata": {
    "ExecuteTime": {
     "end_time": "2019-04-18T04:33:06.297709Z",
     "start_time": "2019-04-18T04:33:06.289711Z"
    }
   },
   "outputs": [],
   "source": [
    "df['checked']=''\n",
    "df['exact_loc']=0\n",
    "df['source']='Székelyhon'"
   ]
  },
  {
   "cell_type": "code",
   "execution_count": 16,
   "metadata": {
    "ExecuteTime": {
     "end_time": "2019-04-18T04:33:06.786724Z",
     "start_time": "2019-04-18T04:33:06.769712Z"
    }
   },
   "outputs": [],
   "source": [
    "df=df[['checked',\n",
    "    'date',\n",
    "    'link',\n",
    "    'image',\n",
    "    'source',\n",
    "    'title',\n",
    "    'content',\n",
    "    'relevant',\n",
    "    'severity',\n",
    "    'deaths',\n",
    "    'duplicate',\n",
    "    'geo_loc',\n",
    "    'exact_loc',\n",
    "    'latitude',\n",
    "    'longitude']].set_index('checked')"
   ]
  },
  {
   "cell_type": "code",
   "execution_count": 17,
   "metadata": {
    "ExecuteTime": {
     "end_time": "2019-04-18T04:33:07.955716Z",
     "start_time": "2019-04-18T04:33:07.743723Z"
    }
   },
   "outputs": [],
   "source": [
    "#PowerBI exploration data\n",
    "df.to_excel('data/szekelyhon_data.xlsx')"
   ]
  },
  {
   "cell_type": "code",
   "execution_count": null,
   "metadata": {},
   "outputs": [],
   "source": []
  }
 ],
 "metadata": {
  "kernelspec": {
   "display_name": "Python 3",
   "language": "python",
   "name": "python3"
  },
  "language_info": {
   "codemirror_mode": {
    "name": "ipython",
    "version": 3
   },
   "file_extension": ".py",
   "mimetype": "text/x-python",
   "name": "python",
   "nbconvert_exporter": "python",
   "pygments_lexer": "ipython3",
   "version": "3.6.7"
  },
  "toc": {
   "base_numbering": 1,
   "nav_menu": {},
   "number_sections": true,
   "sideBar": true,
   "skip_h1_title": false,
   "title_cell": "Table of Contents",
   "title_sidebar": "Contents",
   "toc_cell": false,
   "toc_position": {},
   "toc_section_display": true,
   "toc_window_display": false
  }
 },
 "nbformat": 4,
 "nbformat_minor": 2
}
