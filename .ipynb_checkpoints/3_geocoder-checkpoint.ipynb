{
 "cells": [
  {
   "cell_type": "code",
   "execution_count": 7,
   "metadata": {
    "ExecuteTime": {
     "end_time": "2019-04-18T04:32:34.216709Z",
     "start_time": "2019-04-18T04:32:34.210710Z"
    }
   },
   "outputs": [],
   "source": [
    "import pandas as pd, numpy as np\n",
    "import itertools, requests, json"
   ]
  },
  {
   "cell_type": "code",
   "execution_count": 8,
   "metadata": {
    "ExecuteTime": {
     "end_time": "2019-04-18T04:32:34.425705Z",
     "start_time": "2019-04-18T04:32:34.359710Z"
    }
   },
   "outputs": [],
   "source": [
    "dm=pd.read_excel('data/szekelyhon_medve.xlsx')\n",
    "dc=pd.read_excel('data/szekelyhon_medve_curated.xlsx')\n",
    "lm=pd.read_excel('data/szekelyhon_locs_curated.xlsx')"
   ]
  },
  {
   "cell_type": "code",
   "execution_count": 9,
   "metadata": {
    "ExecuteTime": {
     "end_time": "2019-04-18T04:32:34.519710Z",
     "start_time": "2019-04-18T04:32:34.509717Z"
    }
   },
   "outputs": [],
   "source": [
    "dc=dc[(dc['duplicate']!=1)&(dc['relevant']==1)]"
   ]
  },
  {
   "cell_type": "code",
   "execution_count": 10,
   "metadata": {
    "ExecuteTime": {
     "end_time": "2019-04-18T04:32:34.668713Z",
     "start_time": "2019-04-18T04:32:34.653710Z"
    }
   },
   "outputs": [],
   "source": [
    "dc[\"uid\"] = dc[\"title\"].map(str) + dc[\"content\"]\n",
    "dm[\"uid\"] = dm[\"title\"].map(str) + dm[\"content\"]\n",
    "lm[\"uid\"] = lm[\"title\"].map(str) + lm[\"content\"]"
   ]
  },
  {
   "cell_type": "code",
   "execution_count": 11,
   "metadata": {
    "ExecuteTime": {
     "end_time": "2019-04-18T04:32:34.807714Z",
     "start_time": "2019-04-18T04:32:34.795706Z"
    }
   },
   "outputs": [],
   "source": [
    "dc=dc.set_index('uid')[['relevant','severity','deaths','duplicate']]\n",
    "dm=dm.set_index('uid')\n",
    "lm=lm.set_index('uid')[['predicted_locs','actual_locs']]"
   ]
  },
  {
   "cell_type": "code",
   "execution_count": 12,
   "metadata": {
    "ExecuteTime": {
     "end_time": "2019-04-18T04:32:34.945711Z",
     "start_time": "2019-04-18T04:32:34.938708Z"
    }
   },
   "outputs": [],
   "source": [
    "dmi=dm.loc[dc.index.dropna()]"
   ]
  },
  {
   "cell_type": "code",
   "execution_count": 13,
   "metadata": {
    "ExecuteTime": {
     "end_time": "2019-04-18T04:32:35.125710Z",
     "start_time": "2019-04-18T04:32:35.094712Z"
    }
   },
   "outputs": [],
   "source": [
    "df=dmi.join(dc).drop_duplicates()"
   ]
  },
  {
   "cell_type": "code",
   "execution_count": 14,
   "metadata": {
    "ExecuteTime": {
     "end_time": "2019-04-18T04:32:35.264708Z",
     "start_time": "2019-04-18T04:32:35.247713Z"
    }
   },
   "outputs": [],
   "source": [
    "dl=df.join(lm)"
   ]
  },
  {
   "cell_type": "code",
   "execution_count": 15,
   "metadata": {},
   "outputs": [
    {
     "data": {
      "text/plain": [
       "6"
      ]
     },
     "execution_count": 15,
     "metadata": {},
     "output_type": "execute_result"
    }
   ],
   "source": [
    "len(dl)"
   ]
  },
  {
   "cell_type": "markdown",
   "metadata": {
    "ExecuteTime": {
     "end_time": "2018-11-03T01:06:46.878487Z",
     "start_time": "2018-11-03T01:06:46.784487Z"
    }
   },
   "source": [
    "Working df ready. Now infer location."
   ]
  },
  {
   "cell_type": "code",
   "execution_count": 16,
   "metadata": {
    "ExecuteTime": {
     "end_time": "2019-04-18T04:32:35.595708Z",
     "start_time": "2019-04-18T04:32:35.590707Z"
    }
   },
   "outputs": [],
   "source": [
    "to_geo=[i.split(',') for i in dl['actual_locs'].unique() if str(i)!='nan']"
   ]
  },
  {
   "cell_type": "code",
   "execution_count": 17,
   "metadata": {
    "ExecuteTime": {
     "end_time": "2019-04-18T04:32:35.790713Z",
     "start_time": "2019-04-18T04:32:35.785710Z"
    }
   },
   "outputs": [],
   "source": [
    "to_geo=[i.strip() for i in list(itertools.chain.from_iterable(to_geo))]"
   ]
  },
  {
   "cell_type": "markdown",
   "metadata": {},
   "source": [
    "Load HU names"
   ]
  },
  {
   "cell_type": "code",
   "execution_count": 18,
   "metadata": {
    "ExecuteTime": {
     "end_time": "2019-04-18T04:32:36.208711Z",
     "start_time": "2019-04-18T04:32:36.171710Z"
    }
   },
   "outputs": [],
   "source": [
    "coords=json.loads(open('geo/huncoords.json','r').read())\n",
    "megyek=json.loads(open('geo/megyek.json','r').read())"
   ]
  },
  {
   "cell_type": "code",
   "execution_count": 19,
   "metadata": {
    "ExecuteTime": {
     "end_time": "2019-04-18T04:32:36.479710Z",
     "start_time": "2019-04-18T04:32:36.439714Z"
    }
   },
   "outputs": [],
   "source": [
    "data=[]\n",
    "header=['index']\n",
    "for i in dl.iteritems():\n",
    "    header.append(i[0])\n",
    "header.append('geo_loc')\n",
    "header.append('latitude')\n",
    "header.append('longitude')\n",
    "header.append('id')\n",
    "for i in dl.T.iteritems():\n",
    "    dummy=[i[0]]\n",
    "    for j in range(len(i[1])):\n",
    "        if j==(len(i[1])-1):\n",
    "            dummy.append(i[1][j])\n",
    "            dummy.append('')\n",
    "            dummy.append('')\n",
    "            dummy.append('')\n",
    "            dummy.append('')\n",
    "            dtime=str(dummy[1])[:10]\n",
    "            if dtime=='nan': dtime=u'N/A' \n",
    "            if str(i[1][j])!='nan':    \n",
    "                for k in i[1][j].split(','):\n",
    "                    tk=k.strip().replace('[','').replace(']','').replace(\"'\",'')\n",
    "                    dummy[-4]=tk\n",
    "                    if tk in coords:\n",
    "                        dummy[-3]=coords[tk][0]\n",
    "                        dummy[-2]=coords[tk][1]\n",
    "                    else:\n",
    "                        dummy[-3]=''\n",
    "                        dummy[-2]=''\n",
    "                    #dummy[-1]=str(dummy[-3])+' ('+str(dummy[0]+1)+')\\n'+dtime\n",
    "                    dummy[-1]=str(dummy[-4])+', '+dtime\n",
    "                    data.append(list(dummy))                    \n",
    "            else:\n",
    "                dummy[-1]=u'N/A' +', '+dtime\n",
    "                data.append(list(dummy))\n",
    "        else: \n",
    "            dummy.append(i[1][j])"
   ]
  },
  {
   "cell_type": "code",
   "execution_count": 20,
   "metadata": {
    "ExecuteTime": {
     "end_time": "2019-04-18T04:32:36.991710Z",
     "start_time": "2019-04-18T04:32:36.864711Z"
    }
   },
   "outputs": [
    {
     "data": {
      "text/html": [
       "<div>\n",
       "<style scoped>\n",
       "    .dataframe tbody tr th:only-of-type {\n",
       "        vertical-align: middle;\n",
       "    }\n",
       "\n",
       "    .dataframe tbody tr th {\n",
       "        vertical-align: top;\n",
       "    }\n",
       "\n",
       "    .dataframe thead th {\n",
       "        text-align: right;\n",
       "    }\n",
       "</style>\n",
       "<table border=\"1\" class=\"dataframe\">\n",
       "  <thead>\n",
       "    <tr style=\"text-align: right;\">\n",
       "      <th></th>\n",
       "      <th>index</th>\n",
       "      <th>Unnamed: 0</th>\n",
       "      <th>date</th>\n",
       "      <th>hudate</th>\n",
       "      <th>link</th>\n",
       "      <th>image</th>\n",
       "      <th>category</th>\n",
       "      <th>icategory</th>\n",
       "      <th>tags</th>\n",
       "      <th>title</th>\n",
       "      <th>...</th>\n",
       "      <th>relevant</th>\n",
       "      <th>severity</th>\n",
       "      <th>deaths</th>\n",
       "      <th>duplicate</th>\n",
       "      <th>predicted_locs</th>\n",
       "      <th>actual_locs</th>\n",
       "      <th>geo_loc</th>\n",
       "      <th>latitude</th>\n",
       "      <th>longitude</th>\n",
       "      <th>id</th>\n",
       "    </tr>\n",
       "  </thead>\n",
       "  <tbody>\n",
       "    <tr>\n",
       "      <th>0</th>\n",
       "      <td>Balánbányai udvarba hatolt be egy medveA háza ...</td>\n",
       "      <td>80</td>\n",
       "      <td>2020-12-05</td>\n",
       "      <td>2020. december 05.</td>\n",
       "      <td>https://szekelyhon.ro/aktualis/balanbanyai-udv...</td>\n",
       "      <td>https://media.szekelyhon.ro/pictures/csik/aktu...</td>\n",
       "      <td>aktualis</td>\n",
       "      <td>csik</td>\n",
       "      <td>['Balánbánya', 'medve', 'Rendőrség']</td>\n",
       "      <td>Balánbányai udvarba hatolt be egy medve</td>\n",
       "      <td>...</td>\n",
       "      <td>1</td>\n",
       "      <td>3</td>\n",
       "      <td>0</td>\n",
       "      <td>0</td>\n",
       "      <td>Balánbánya</td>\n",
       "      <td>Balánbánya</td>\n",
       "      <td>Balánbánya</td>\n",
       "      <td>46.6586</td>\n",
       "      <td>25.8077</td>\n",
       "      <td>Balánbánya, 80</td>\n",
       "    </tr>\n",
       "    <tr>\n",
       "      <th>1</th>\n",
       "      <td>Medvetámadás: tizenötezer euró kártérítést íté...</td>\n",
       "      <td>81</td>\n",
       "      <td>2020-12-20</td>\n",
       "      <td>2020. december 20.</td>\n",
       "      <td>https://szekelyhon.ro/aktualis/medvetamadas-ti...</td>\n",
       "      <td>https://media.szekelyhon.ro/pictures/csik/aktu...</td>\n",
       "      <td>aktualis</td>\n",
       "      <td>csik</td>\n",
       "      <td>['medve', 'Tusnádfürdő']</td>\n",
       "      <td>Medvetámadás: tizenötezer euró kártérítést íté...</td>\n",
       "      <td>...</td>\n",
       "      <td>1</td>\n",
       "      <td>0</td>\n",
       "      <td>0</td>\n",
       "      <td>0</td>\n",
       "      <td>Tusnádfürdő</td>\n",
       "      <td>Tusnádfürdő</td>\n",
       "      <td>Tusnádfürdő</td>\n",
       "      <td>46.1461</td>\n",
       "      <td>25.857</td>\n",
       "      <td>Tusnádfürdő, 81</td>\n",
       "    </tr>\n",
       "    <tr>\n",
       "      <th>2</th>\n",
       "      <td>Nem fűznek sok reményt a medvegondok rendezésé...</td>\n",
       "      <td>82</td>\n",
       "      <td>2020-12-27</td>\n",
       "      <td>2020. december 27.</td>\n",
       "      <td>https://szekelyhon.ro/aktualis/nem-fuznek-sok-...</td>\n",
       "      <td>https://media.szekelyhon.ro/pictures/csik/aktu...</td>\n",
       "      <td>aktualis</td>\n",
       "      <td>csik</td>\n",
       "      <td>['Hargita megye', 'medve']</td>\n",
       "      <td>Nem fűznek sok reményt a medvegondok rendezéséhez</td>\n",
       "      <td>...</td>\n",
       "      <td>1</td>\n",
       "      <td>0</td>\n",
       "      <td>0</td>\n",
       "      <td>0</td>\n",
       "      <td>Zetelaka</td>\n",
       "      <td>Zetelaka</td>\n",
       "      <td>Zetelaka</td>\n",
       "      <td>46.391</td>\n",
       "      <td>25.3679</td>\n",
       "      <td>Zetelaka, 82</td>\n",
       "    </tr>\n",
       "    <tr>\n",
       "      <th>3</th>\n",
       "      <td>Egyszer s mindenkorra rendezné a medvekérdést ...</td>\n",
       "      <td>83</td>\n",
       "      <td>2020-12-30</td>\n",
       "      <td>2020. december 30.</td>\n",
       "      <td>https://szekelyhon.ro/vilag/egyszer-es-mindenk...</td>\n",
       "      <td>https://media.szekelyhon.ro/pictures/agerpres/...</td>\n",
       "      <td>vilag</td>\n",
       "      <td>agerpres</td>\n",
       "      <td>['Belföld', 'Környezetvédelem']</td>\n",
       "      <td>Egyszer s mindenkorra rendezné a medvekérdést ...</td>\n",
       "      <td>...</td>\n",
       "      <td>1</td>\n",
       "      <td>0</td>\n",
       "      <td>0</td>\n",
       "      <td>0</td>\n",
       "      <td>NaN</td>\n",
       "      <td>NaN</td>\n",
       "      <td></td>\n",
       "      <td></td>\n",
       "      <td></td>\n",
       "      <td>N/A, 83</td>\n",
       "    </tr>\n",
       "    <tr>\n",
       "      <th>4</th>\n",
       "      <td>Mégsem szállítják el a medvéket Tusnádfürdőrő...</td>\n",
       "      <td>84</td>\n",
       "      <td>2021-01-05</td>\n",
       "      <td>2021. január 05.</td>\n",
       "      <td>https://szekelyhon.ro/aktualis/megsem-szallitj...</td>\n",
       "      <td>https://media.szekelyhon.ro/pictures/csik/aktu...</td>\n",
       "      <td>aktualis</td>\n",
       "      <td>csik</td>\n",
       "      <td>['medve', 'Tusnádfürdő']</td>\n",
       "      <td>Mégsem szállítják el a medvéket Tusnádfürdőről</td>\n",
       "      <td>...</td>\n",
       "      <td>1</td>\n",
       "      <td>0</td>\n",
       "      <td>0</td>\n",
       "      <td>0</td>\n",
       "      <td>['Haraly', 'Tusnádfürdő']</td>\n",
       "      <td>Tusnádfürdő</td>\n",
       "      <td>Tusnádfürdő</td>\n",
       "      <td>46.1461</td>\n",
       "      <td>25.857</td>\n",
       "      <td>Tusnádfürdő, 84</td>\n",
       "    </tr>\n",
       "    <tr>\n",
       "      <th>5</th>\n",
       "      <td>Nyugi van medvefronton, és még ezután jöhet a ...</td>\n",
       "      <td>85</td>\n",
       "      <td>2021-01-10</td>\n",
       "      <td>2021. január 10.</td>\n",
       "      <td>https://szekelyhon.ro/aktualis/nyugi-van-medve...</td>\n",
       "      <td>https://media.szekelyhon.ro/pictures/udvarhely...</td>\n",
       "      <td>aktualis</td>\n",
       "      <td>udvarhely</td>\n",
       "      <td>['Hargita megye', 'medve']</td>\n",
       "      <td>Nyugi van medvefronton, és még ezután jöhet a ...</td>\n",
       "      <td>...</td>\n",
       "      <td>1</td>\n",
       "      <td>0</td>\n",
       "      <td>0</td>\n",
       "      <td>0</td>\n",
       "      <td>NaN</td>\n",
       "      <td>NaN</td>\n",
       "      <td></td>\n",
       "      <td></td>\n",
       "      <td></td>\n",
       "      <td>N/A, 85</td>\n",
       "    </tr>\n",
       "  </tbody>\n",
       "</table>\n",
       "<p>6 rows × 21 columns</p>\n",
       "</div>"
      ],
      "text/plain": [
       "                                               index  Unnamed: 0       date  \\\n",
       "0  Balánbányai udvarba hatolt be egy medveA háza ...          80 2020-12-05   \n",
       "1  Medvetámadás: tizenötezer euró kártérítést íté...          81 2020-12-20   \n",
       "2  Nem fűznek sok reményt a medvegondok rendezésé...          82 2020-12-27   \n",
       "3  Egyszer s mindenkorra rendezné a medvekérdést ...          83 2020-12-30   \n",
       "4   Mégsem szállítják el a medvéket Tusnádfürdőrő...          84 2021-01-05   \n",
       "5  Nyugi van medvefronton, és még ezután jöhet a ...          85 2021-01-10   \n",
       "\n",
       "               hudate                                               link  \\\n",
       "0  2020. december 05.  https://szekelyhon.ro/aktualis/balanbanyai-udv...   \n",
       "1  2020. december 20.  https://szekelyhon.ro/aktualis/medvetamadas-ti...   \n",
       "2  2020. december 27.  https://szekelyhon.ro/aktualis/nem-fuznek-sok-...   \n",
       "3  2020. december 30.  https://szekelyhon.ro/vilag/egyszer-es-mindenk...   \n",
       "4    2021. január 05.  https://szekelyhon.ro/aktualis/megsem-szallitj...   \n",
       "5    2021. január 10.  https://szekelyhon.ro/aktualis/nyugi-van-medve...   \n",
       "\n",
       "                                               image  category  icategory  \\\n",
       "0  https://media.szekelyhon.ro/pictures/csik/aktu...  aktualis       csik   \n",
       "1  https://media.szekelyhon.ro/pictures/csik/aktu...  aktualis       csik   \n",
       "2  https://media.szekelyhon.ro/pictures/csik/aktu...  aktualis       csik   \n",
       "3  https://media.szekelyhon.ro/pictures/agerpres/...     vilag   agerpres   \n",
       "4  https://media.szekelyhon.ro/pictures/csik/aktu...  aktualis       csik   \n",
       "5  https://media.szekelyhon.ro/pictures/udvarhely...  aktualis  udvarhely   \n",
       "\n",
       "                                   tags  \\\n",
       "0  ['Balánbánya', 'medve', 'Rendőrség']   \n",
       "1              ['medve', 'Tusnádfürdő']   \n",
       "2            ['Hargita megye', 'medve']   \n",
       "3       ['Belföld', 'Környezetvédelem']   \n",
       "4              ['medve', 'Tusnádfürdő']   \n",
       "5            ['Hargita megye', 'medve']   \n",
       "\n",
       "                                               title  ... relevant  severity  \\\n",
       "0            Balánbányai udvarba hatolt be egy medve  ...        1         3   \n",
       "1  Medvetámadás: tizenötezer euró kártérítést íté...  ...        1         0   \n",
       "2  Nem fűznek sok reményt a medvegondok rendezéséhez  ...        1         0   \n",
       "3  Egyszer s mindenkorra rendezné a medvekérdést ...  ...        1         0   \n",
       "4     Mégsem szállítják el a medvéket Tusnádfürdőről  ...        1         0   \n",
       "5  Nyugi van medvefronton, és még ezután jöhet a ...  ...        1         0   \n",
       "\n",
       "   deaths  duplicate             predicted_locs  actual_locs      geo_loc  \\\n",
       "0       0          0                 Balánbánya   Balánbánya   Balánbánya   \n",
       "1       0          0                Tusnádfürdő  Tusnádfürdő  Tusnádfürdő   \n",
       "2       0          0                   Zetelaka     Zetelaka     Zetelaka   \n",
       "3       0          0                        NaN          NaN                \n",
       "4       0          0  ['Haraly', 'Tusnádfürdő']  Tusnádfürdő  Tusnádfürdő   \n",
       "5       0          0                        NaN          NaN                \n",
       "\n",
       "  latitude longitude               id  \n",
       "0  46.6586   25.8077   Balánbánya, 80  \n",
       "1  46.1461    25.857  Tusnádfürdő, 81  \n",
       "2   46.391   25.3679     Zetelaka, 82  \n",
       "3                             N/A, 83  \n",
       "4  46.1461    25.857  Tusnádfürdő, 84  \n",
       "5                             N/A, 85  \n",
       "\n",
       "[6 rows x 21 columns]"
      ]
     },
     "execution_count": 20,
     "metadata": {},
     "output_type": "execute_result"
    }
   ],
   "source": [
    "df=pd.DataFrame(data)\n",
    "df.columns=header\n",
    "df"
   ]
  },
  {
   "cell_type": "markdown",
   "metadata": {},
   "source": [
    "Save data for loading in viz app"
   ]
  },
  {
   "cell_type": "code",
   "execution_count": 21,
   "metadata": {
    "ExecuteTime": {
     "end_time": "2019-04-18T04:33:06.297709Z",
     "start_time": "2019-04-18T04:33:06.289711Z"
    }
   },
   "outputs": [],
   "source": [
    "df['checked']=''\n",
    "df['exact_loc']=0\n",
    "df['source']='Székelyhon'"
   ]
  },
  {
   "cell_type": "code",
   "execution_count": 22,
   "metadata": {
    "ExecuteTime": {
     "end_time": "2019-04-18T04:33:06.786724Z",
     "start_time": "2019-04-18T04:33:06.769712Z"
    }
   },
   "outputs": [],
   "source": [
    "df=df[['checked',\n",
    "    'date',\n",
    "    'link',\n",
    "    'image',\n",
    "    'source',\n",
    "    'title',\n",
    "    'content',\n",
    "    'relevant',\n",
    "    'severity',\n",
    "    'deaths',\n",
    "    'duplicate',\n",
    "    'geo_loc',\n",
    "    'exact_loc',\n",
    "    'latitude',\n",
    "    'longitude']].set_index('checked')"
   ]
  },
  {
   "cell_type": "code",
   "execution_count": 23,
   "metadata": {
    "ExecuteTime": {
     "end_time": "2019-04-18T04:33:07.955716Z",
     "start_time": "2019-04-18T04:33:07.743723Z"
    }
   },
   "outputs": [],
   "source": [
    "#PowerBI exploration data\n",
    "df.to_excel('data/szekelyhon_data.xlsx')"
   ]
  },
  {
   "cell_type": "code",
   "execution_count": null,
   "metadata": {},
   "outputs": [],
   "source": []
  },
  {
   "cell_type": "code",
   "execution_count": null,
   "metadata": {},
   "outputs": [],
   "source": []
  }
 ],
 "metadata": {
  "kernelspec": {
   "display_name": "Python 3",
   "language": "python",
   "name": "python3"
  },
  "language_info": {
   "codemirror_mode": {
    "name": "ipython",
    "version": 3
   },
   "file_extension": ".py",
   "mimetype": "text/x-python",
   "name": "python",
   "nbconvert_exporter": "python",
   "pygments_lexer": "ipython3",
   "version": "3.7.4"
  },
  "toc": {
   "base_numbering": 1,
   "nav_menu": {},
   "number_sections": true,
   "sideBar": true,
   "skip_h1_title": false,
   "title_cell": "Table of Contents",
   "title_sidebar": "Contents",
   "toc_cell": false,
   "toc_position": {},
   "toc_section_display": true,
   "toc_window_display": false
  }
 },
 "nbformat": 4,
 "nbformat_minor": 4
}
