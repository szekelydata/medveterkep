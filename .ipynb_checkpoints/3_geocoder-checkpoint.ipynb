{
 "cells": [
  {
   "cell_type": "code",
   "execution_count": 1,
   "metadata": {
    "ExecuteTime": {
     "end_time": "2019-04-18T04:32:34.216709Z",
     "start_time": "2019-04-18T04:32:34.210710Z"
    }
   },
   "outputs": [],
   "source": [
    "import pandas as pd, numpy as np\n",
    "import itertools, requests, json"
   ]
  },
  {
   "cell_type": "code",
   "execution_count": 2,
   "metadata": {
    "ExecuteTime": {
     "end_time": "2019-04-18T04:32:34.425705Z",
     "start_time": "2019-04-18T04:32:34.359710Z"
    }
   },
   "outputs": [],
   "source": [
    "dm=pd.read_excel('data/szekelyhon_medve.xlsx')\n",
    "dc=pd.read_excel('data/szekelyhon_medve_curated.xlsx')\n",
    "lm=pd.read_excel('data/szekelyhon_locs_curated.xlsx')"
   ]
  },
  {
   "cell_type": "code",
   "execution_count": 3,
   "metadata": {
    "ExecuteTime": {
     "end_time": "2019-04-18T04:32:34.519710Z",
     "start_time": "2019-04-18T04:32:34.509717Z"
    }
   },
   "outputs": [],
   "source": [
    "dc=dc[(dc['duplicate']!=1)&(dc['relevant']==1)]"
   ]
  },
  {
   "cell_type": "code",
   "execution_count": 4,
   "metadata": {
    "ExecuteTime": {
     "end_time": "2019-04-18T04:32:34.668713Z",
     "start_time": "2019-04-18T04:32:34.653710Z"
    }
   },
   "outputs": [],
   "source": [
    "dc[\"uid\"] = dc[\"title\"].map(str) + dc[\"content\"]\n",
    "dm[\"uid\"] = dm[\"title\"].map(str) + dm[\"content\"]\n",
    "lm[\"uid\"] = lm[\"title\"].map(str) + lm[\"content\"]"
   ]
  },
  {
   "cell_type": "code",
   "execution_count": 5,
   "metadata": {
    "ExecuteTime": {
     "end_time": "2019-04-18T04:32:34.807714Z",
     "start_time": "2019-04-18T04:32:34.795706Z"
    }
   },
   "outputs": [],
   "source": [
    "dc=dc.set_index('uid')[['relevant','severity','deaths','duplicate']]\n",
    "dm=dm.set_index('uid')\n",
    "lm=lm.set_index('uid')[['predicted_locs','actual_locs']]"
   ]
  },
  {
   "cell_type": "code",
   "execution_count": 6,
   "metadata": {
    "ExecuteTime": {
     "end_time": "2019-04-18T04:32:34.945711Z",
     "start_time": "2019-04-18T04:32:34.938708Z"
    }
   },
   "outputs": [],
   "source": [
    "dmi=dm.loc[dc.index.dropna()]"
   ]
  },
  {
   "cell_type": "code",
   "execution_count": 7,
   "metadata": {
    "ExecuteTime": {
     "end_time": "2019-04-18T04:32:35.125710Z",
     "start_time": "2019-04-18T04:32:35.094712Z"
    }
   },
   "outputs": [],
   "source": [
    "df=dmi.join(dc).drop_duplicates()"
   ]
  },
  {
   "cell_type": "code",
   "execution_count": 8,
   "metadata": {
    "ExecuteTime": {
     "end_time": "2019-04-18T04:32:35.264708Z",
     "start_time": "2019-04-18T04:32:35.247713Z"
    }
   },
   "outputs": [],
   "source": [
    "dl=df.join(lm)"
   ]
  },
  {
   "cell_type": "code",
   "execution_count": 9,
   "metadata": {},
   "outputs": [
    {
     "data": {
      "text/plain": [
       "10"
      ]
     },
     "execution_count": 9,
     "metadata": {},
     "output_type": "execute_result"
    }
   ],
   "source": [
    "len(dl)"
   ]
  },
  {
   "cell_type": "markdown",
   "metadata": {
    "ExecuteTime": {
     "end_time": "2018-11-03T01:06:46.878487Z",
     "start_time": "2018-11-03T01:06:46.784487Z"
    }
   },
   "source": [
    "Working df ready. Now infer location."
   ]
  },
  {
   "cell_type": "code",
   "execution_count": 10,
   "metadata": {
    "ExecuteTime": {
     "end_time": "2019-04-18T04:32:35.595708Z",
     "start_time": "2019-04-18T04:32:35.590707Z"
    }
   },
   "outputs": [],
   "source": [
    "to_geo=[i.split(',') for i in dl['actual_locs'].unique() if str(i)!='nan']"
   ]
  },
  {
   "cell_type": "code",
   "execution_count": 11,
   "metadata": {
    "ExecuteTime": {
     "end_time": "2019-04-18T04:32:35.790713Z",
     "start_time": "2019-04-18T04:32:35.785710Z"
    }
   },
   "outputs": [],
   "source": [
    "to_geo=[i.strip() for i in list(itertools.chain.from_iterable(to_geo))]"
   ]
  },
  {
   "cell_type": "markdown",
   "metadata": {},
   "source": [
    "Load HU names"
   ]
  },
  {
   "cell_type": "code",
   "execution_count": 12,
   "metadata": {
    "ExecuteTime": {
     "end_time": "2019-04-18T04:32:36.208711Z",
     "start_time": "2019-04-18T04:32:36.171710Z"
    }
   },
   "outputs": [],
   "source": [
    "coords=json.loads(open('geo/huncoords.json','r').read())\n",
    "megyek=json.loads(open('geo/megyek.json','r').read())"
   ]
  },
  {
   "cell_type": "code",
   "execution_count": 13,
   "metadata": {
    "ExecuteTime": {
     "end_time": "2019-04-18T04:32:36.479710Z",
     "start_time": "2019-04-18T04:32:36.439714Z"
    }
   },
   "outputs": [],
   "source": [
    "data=[]\n",
    "header=['index']\n",
    "for i in dl.iteritems():\n",
    "    header.append(i[0])\n",
    "header.append('geo_loc')\n",
    "header.append('latitude')\n",
    "header.append('longitude')\n",
    "header.append('id')\n",
    "for i in dl.T.iteritems():\n",
    "    dummy=[i[0]]\n",
    "    for j in range(len(i[1])):\n",
    "        if j==(len(i[1])-1):\n",
    "            dummy.append(i[1][j])\n",
    "            dummy.append('')\n",
    "            dummy.append('')\n",
    "            dummy.append('')\n",
    "            dummy.append('')\n",
    "            dtime=str(dummy[1])[:10]\n",
    "            if dtime=='nan': dtime=u'N/A' \n",
    "            if str(i[1][j])!='nan':    \n",
    "                for k in i[1][j].split(','):\n",
    "                    tk=k.strip().replace('[','').replace(']','').replace(\"'\",'')\n",
    "                    dummy[-4]=tk\n",
    "                    if tk in coords:\n",
    "                        dummy[-3]=coords[tk][0]\n",
    "                        dummy[-2]=coords[tk][1]\n",
    "                    else:\n",
    "                        dummy[-3]=''\n",
    "                        dummy[-2]=''\n",
    "                    #dummy[-1]=str(dummy[-3])+' ('+str(dummy[0]+1)+')\\n'+dtime\n",
    "                    dummy[-1]=str(dummy[-4])+', '+dtime\n",
    "                    data.append(list(dummy))                    \n",
    "            else:\n",
    "                dummy[-1]=u'N/A' +', '+dtime\n",
    "                data.append(list(dummy))\n",
    "        else: \n",
    "            dummy.append(i[1][j])"
   ]
  },
  {
   "cell_type": "code",
   "execution_count": 14,
   "metadata": {
    "ExecuteTime": {
     "end_time": "2019-04-18T04:32:36.991710Z",
     "start_time": "2019-04-18T04:32:36.864711Z"
    }
   },
   "outputs": [
    {
     "data": {
      "text/html": [
       "<div>\n",
       "<style scoped>\n",
       "    .dataframe tbody tr th:only-of-type {\n",
       "        vertical-align: middle;\n",
       "    }\n",
       "\n",
       "    .dataframe tbody tr th {\n",
       "        vertical-align: top;\n",
       "    }\n",
       "\n",
       "    .dataframe thead th {\n",
       "        text-align: right;\n",
       "    }\n",
       "</style>\n",
       "<table border=\"1\" class=\"dataframe\">\n",
       "  <thead>\n",
       "    <tr style=\"text-align: right;\">\n",
       "      <th></th>\n",
       "      <th>index</th>\n",
       "      <th>Unnamed: 0</th>\n",
       "      <th>date</th>\n",
       "      <th>hudate</th>\n",
       "      <th>link</th>\n",
       "      <th>image</th>\n",
       "      <th>category</th>\n",
       "      <th>icategory</th>\n",
       "      <th>tags</th>\n",
       "      <th>title</th>\n",
       "      <th>...</th>\n",
       "      <th>relevant</th>\n",
       "      <th>severity</th>\n",
       "      <th>deaths</th>\n",
       "      <th>duplicate</th>\n",
       "      <th>predicted_locs</th>\n",
       "      <th>actual_locs</th>\n",
       "      <th>geo_loc</th>\n",
       "      <th>latitude</th>\n",
       "      <th>longitude</th>\n",
       "      <th>id</th>\n",
       "    </tr>\n",
       "  </thead>\n",
       "  <tbody>\n",
       "    <tr>\n",
       "      <th>0</th>\n",
       "      <td>Feldúlva találták a sírhelyeketFeldúlva talált...</td>\n",
       "      <td>0</td>\n",
       "      <td>2019-12-25</td>\n",
       "      <td>2019. december 25.</td>\n",
       "      <td>https://szekelyhon.ro/aktualis/feldulva-talalt...</td>\n",
       "      <td>https://media.szekelyhon.ro/pictures/agerpres/...</td>\n",
       "      <td>aktualis</td>\n",
       "      <td>agerpres</td>\n",
       "      <td>['Gyergyószék', 'medve']</td>\n",
       "      <td>Feldúlva találták a sírhelyeket</td>\n",
       "      <td>...</td>\n",
       "      <td>1</td>\n",
       "      <td>1</td>\n",
       "      <td>0</td>\n",
       "      <td>0</td>\n",
       "      <td>['Vasláb', 'Heveder']</td>\n",
       "      <td>Vasláb</td>\n",
       "      <td>Vasláb</td>\n",
       "      <td>46.646075</td>\n",
       "      <td>25.623711</td>\n",
       "      <td>Vasláb, 0</td>\n",
       "    </tr>\n",
       "    <tr>\n",
       "      <th>1</th>\n",
       "      <td>Elutasította medveügyben a Zetelaki Területtul...</td>\n",
       "      <td>1</td>\n",
       "      <td>2019-12-26</td>\n",
       "      <td>2019. december 26.</td>\n",
       "      <td>https://szekelyhon.ro/aktualis/elutasitotta-me...</td>\n",
       "      <td>https://media.szekelyhon.ro/pictures/udvarhely...</td>\n",
       "      <td>aktualis</td>\n",
       "      <td>udvarhely</td>\n",
       "      <td>['Hargita megye', 'medve']</td>\n",
       "      <td>Elutasította medveügyben a Zetelaki Területtul...</td>\n",
       "      <td>...</td>\n",
       "      <td>1</td>\n",
       "      <td>0</td>\n",
       "      <td>0</td>\n",
       "      <td>0</td>\n",
       "      <td>['Marosvásárhely', 'Zetelaka']</td>\n",
       "      <td>Zetelaka</td>\n",
       "      <td>Zetelaka</td>\n",
       "      <td>46.391031</td>\n",
       "      <td>25.367929</td>\n",
       "      <td>Zetelaka, 1</td>\n",
       "    </tr>\n",
       "    <tr>\n",
       "      <th>2</th>\n",
       "      <td>Ki akadályozta meg, hogy a barnamedve lekerülj...</td>\n",
       "      <td>3</td>\n",
       "      <td>2020-01-04</td>\n",
       "      <td>2020. január 04.</td>\n",
       "      <td>https://szekelyhon.ro/aktualis/ki-akadalyozta-...</td>\n",
       "      <td>https://media.szekelyhon.ro/pictures/csik/aktu...</td>\n",
       "      <td>aktualis</td>\n",
       "      <td>csik</td>\n",
       "      <td>['Belföld', 'medve', 'RMDSZ']</td>\n",
       "      <td>Ki akadályozta meg, hogy a barnamedve lekerülj...</td>\n",
       "      <td>...</td>\n",
       "      <td>1</td>\n",
       "      <td>0</td>\n",
       "      <td>0</td>\n",
       "      <td>0</td>\n",
       "      <td>NaN</td>\n",
       "      <td>Sepsiszentgyörgy</td>\n",
       "      <td>Sepsiszentgyörgy</td>\n",
       "      <td>45.860937</td>\n",
       "      <td>25.788580</td>\n",
       "      <td>Sepsiszentgyörgy, 3</td>\n",
       "    </tr>\n",
       "    <tr>\n",
       "      <th>3</th>\n",
       "      <td>Pénzt ígér a miniszter a medvék által veszélye...</td>\n",
       "      <td>4</td>\n",
       "      <td>2020-01-06</td>\n",
       "      <td>2020. január 06.</td>\n",
       "      <td>https://szekelyhon.ro/aktualis/penzt-iger-a-mi...</td>\n",
       "      <td>https://media.szekelyhon.ro/pictures/csik/aktu...</td>\n",
       "      <td>aktualis</td>\n",
       "      <td>csik</td>\n",
       "      <td>['Háromszék', 'medve']</td>\n",
       "      <td>Pénzt ígér a miniszter a medvék által veszélye...</td>\n",
       "      <td>...</td>\n",
       "      <td>1</td>\n",
       "      <td>0</td>\n",
       "      <td>0</td>\n",
       "      <td>0</td>\n",
       "      <td>Zabola</td>\n",
       "      <td>Zabola</td>\n",
       "      <td>Zabola</td>\n",
       "      <td>45.887703</td>\n",
       "      <td>26.189789</td>\n",
       "      <td>Zabola, 4</td>\n",
       "    </tr>\n",
       "    <tr>\n",
       "      <th>4</th>\n",
       "      <td>Hargita megye: megvan az év első 112-s medveés...</td>\n",
       "      <td>5</td>\n",
       "      <td>2020-01-11</td>\n",
       "      <td>2020. január 11.</td>\n",
       "      <td>https://szekelyhon.ro/aktualis/hargita-megye-m...</td>\n",
       "      <td>https://media.szekelyhon.ro/pictures/udvarhely...</td>\n",
       "      <td>aktualis</td>\n",
       "      <td>udvarhely</td>\n",
       "      <td>['Csendőrség', 'medve', 'Parajd']</td>\n",
       "      <td>Hargita megye: megvan az év első 112-s medveés...</td>\n",
       "      <td>...</td>\n",
       "      <td>1</td>\n",
       "      <td>2</td>\n",
       "      <td>0</td>\n",
       "      <td>0</td>\n",
       "      <td>Parajd</td>\n",
       "      <td>Parajd</td>\n",
       "      <td>Parajd</td>\n",
       "      <td>46.555343</td>\n",
       "      <td>25.127272</td>\n",
       "      <td>Parajd, 5</td>\n",
       "    </tr>\n",
       "    <tr>\n",
       "      <th>5</th>\n",
       "      <td>Aktívak a medvék Székelyudvarhely környékénNoh...</td>\n",
       "      <td>6</td>\n",
       "      <td>2020-01-13</td>\n",
       "      <td>2020. január 13.</td>\n",
       "      <td>https://szekelyhon.ro/aktualis/aktivak-a-medve...</td>\n",
       "      <td>https://media.szekelyhon.ro/pictures/udvarhely...</td>\n",
       "      <td>aktualis</td>\n",
       "      <td>udvarhely</td>\n",
       "      <td>['medve', 'Udvarhelyszék']</td>\n",
       "      <td>Aktívak a medvék Székelyudvarhely környékén</td>\n",
       "      <td>...</td>\n",
       "      <td>1</td>\n",
       "      <td>0</td>\n",
       "      <td>0</td>\n",
       "      <td>0</td>\n",
       "      <td>Székelyudvarhely</td>\n",
       "      <td>Székelyudvarhely</td>\n",
       "      <td>Székelyudvarhely</td>\n",
       "      <td>46.305000</td>\n",
       "      <td>25.292648</td>\n",
       "      <td>Székelyudvarhely, 6</td>\n",
       "    </tr>\n",
       "    <tr>\n",
       "      <th>6</th>\n",
       "      <td>Lemondott a vadásztársaság az emberre támadó h...</td>\n",
       "      <td>7</td>\n",
       "      <td>2020-01-16</td>\n",
       "      <td>2020. január 16.</td>\n",
       "      <td>https://szekelyhon.ro/aktualis/lemondott-a-vad...</td>\n",
       "      <td>https://media.szekelyhon.ro/pictures/udvarhely...</td>\n",
       "      <td>aktualis</td>\n",
       "      <td>udvarhely</td>\n",
       "      <td>['medve', 'Udvarhelyszék']</td>\n",
       "      <td>Lemondott a vadásztársaság az emberre támadó h...</td>\n",
       "      <td>...</td>\n",
       "      <td>1</td>\n",
       "      <td>0</td>\n",
       "      <td>0</td>\n",
       "      <td>0</td>\n",
       "      <td>Hidegkút</td>\n",
       "      <td>Hidegkút</td>\n",
       "      <td>Hidegkút</td>\n",
       "      <td>46.335918</td>\n",
       "      <td>24.894143</td>\n",
       "      <td>Hidegkút, 7</td>\n",
       "    </tr>\n",
       "    <tr>\n",
       "      <th>7</th>\n",
       "      <td>Amíg elérhető közelségben van az ételmaradék, ...</td>\n",
       "      <td>8</td>\n",
       "      <td>2020-01-21</td>\n",
       "      <td>2020. január 21.</td>\n",
       "      <td>https://szekelyhon.ro/aktualis/szagra-jonnek-a...</td>\n",
       "      <td>https://media.szekelyhon.ro/pictures/csik/aktu...</td>\n",
       "      <td>aktualis</td>\n",
       "      <td>csik</td>\n",
       "      <td>['medve', 'Székelyudvarhely']</td>\n",
       "      <td>Amíg elérhető közelségben van az ételmaradék, ...</td>\n",
       "      <td>...</td>\n",
       "      <td>1</td>\n",
       "      <td>0</td>\n",
       "      <td>0</td>\n",
       "      <td>0</td>\n",
       "      <td>Székelyudvarhely</td>\n",
       "      <td>Székelyudvarhely</td>\n",
       "      <td>Székelyudvarhely</td>\n",
       "      <td>46.305000</td>\n",
       "      <td>25.292648</td>\n",
       "      <td>Székelyudvarhely, 8</td>\n",
       "    </tr>\n",
       "    <tr>\n",
       "      <th>8</th>\n",
       "      <td>Medveradar: Zetelakán és Farkaslakán voltak a ...</td>\n",
       "      <td>9</td>\n",
       "      <td>2020-01-26</td>\n",
       "      <td>2020. január 26.</td>\n",
       "      <td>https://szekelyhon.ro/aktualis/medveradar-zete...</td>\n",
       "      <td>https://media.szekelyhon.ro/pictures/udvarhely...</td>\n",
       "      <td>aktualis</td>\n",
       "      <td>udvarhely</td>\n",
       "      <td>['Hargita megye', 'medve']</td>\n",
       "      <td>Medveradar: Zetelakán és Farkaslakán voltak a ...</td>\n",
       "      <td>...</td>\n",
       "      <td>1</td>\n",
       "      <td>0</td>\n",
       "      <td>0</td>\n",
       "      <td>0</td>\n",
       "      <td>['Haraly', 'Zetelaka', 'Farkaslaka']</td>\n",
       "      <td>Csíkszereda</td>\n",
       "      <td>Csíkszereda</td>\n",
       "      <td>46.369557</td>\n",
       "      <td>25.795365</td>\n",
       "      <td>Csíkszereda, 9</td>\n",
       "    </tr>\n",
       "    <tr>\n",
       "      <th>9</th>\n",
       "      <td>Gyergyószentmiklós utcáin kóborolt egy medveEg...</td>\n",
       "      <td>10</td>\n",
       "      <td>2020-01-28</td>\n",
       "      <td>2020. január 28.</td>\n",
       "      <td>https://szekelyhon.ro/aktualis/gyergyoszentmik...</td>\n",
       "      <td>https://media.szekelyhon.ro/pictures/csik/aktu...</td>\n",
       "      <td>aktualis</td>\n",
       "      <td>csik</td>\n",
       "      <td>['Gyergyószentmiklós', 'medve']</td>\n",
       "      <td>Gyergyószentmiklós utcáin kóborolt egy medve</td>\n",
       "      <td>...</td>\n",
       "      <td>1</td>\n",
       "      <td>2</td>\n",
       "      <td>0</td>\n",
       "      <td>0</td>\n",
       "      <td>Gyergyószentmiklós</td>\n",
       "      <td>Gyergyószentmiklós</td>\n",
       "      <td>Gyergyószentmiklós</td>\n",
       "      <td>46.721211</td>\n",
       "      <td>25.585528</td>\n",
       "      <td>Gyergyószentmiklós, 10</td>\n",
       "    </tr>\n",
       "  </tbody>\n",
       "</table>\n",
       "<p>10 rows × 21 columns</p>\n",
       "</div>"
      ],
      "text/plain": [
       "                                               index  Unnamed: 0       date  \\\n",
       "0  Feldúlva találták a sírhelyeketFeldúlva talált...           0 2019-12-25   \n",
       "1  Elutasította medveügyben a Zetelaki Területtul...           1 2019-12-26   \n",
       "2  Ki akadályozta meg, hogy a barnamedve lekerülj...           3 2020-01-04   \n",
       "3  Pénzt ígér a miniszter a medvék által veszélye...           4 2020-01-06   \n",
       "4  Hargita megye: megvan az év első 112-s medveés...           5 2020-01-11   \n",
       "5  Aktívak a medvék Székelyudvarhely környékénNoh...           6 2020-01-13   \n",
       "6  Lemondott a vadásztársaság az emberre támadó h...           7 2020-01-16   \n",
       "7  Amíg elérhető közelségben van az ételmaradék, ...           8 2020-01-21   \n",
       "8  Medveradar: Zetelakán és Farkaslakán voltak a ...           9 2020-01-26   \n",
       "9  Gyergyószentmiklós utcáin kóborolt egy medveEg...          10 2020-01-28   \n",
       "\n",
       "               hudate                                               link  \\\n",
       "0  2019. december 25.  https://szekelyhon.ro/aktualis/feldulva-talalt...   \n",
       "1  2019. december 26.  https://szekelyhon.ro/aktualis/elutasitotta-me...   \n",
       "2    2020. január 04.  https://szekelyhon.ro/aktualis/ki-akadalyozta-...   \n",
       "3    2020. január 06.  https://szekelyhon.ro/aktualis/penzt-iger-a-mi...   \n",
       "4    2020. január 11.  https://szekelyhon.ro/aktualis/hargita-megye-m...   \n",
       "5    2020. január 13.  https://szekelyhon.ro/aktualis/aktivak-a-medve...   \n",
       "6    2020. január 16.  https://szekelyhon.ro/aktualis/lemondott-a-vad...   \n",
       "7    2020. január 21.  https://szekelyhon.ro/aktualis/szagra-jonnek-a...   \n",
       "8    2020. január 26.  https://szekelyhon.ro/aktualis/medveradar-zete...   \n",
       "9    2020. január 28.  https://szekelyhon.ro/aktualis/gyergyoszentmik...   \n",
       "\n",
       "                                               image  category  icategory  \\\n",
       "0  https://media.szekelyhon.ro/pictures/agerpres/...  aktualis   agerpres   \n",
       "1  https://media.szekelyhon.ro/pictures/udvarhely...  aktualis  udvarhely   \n",
       "2  https://media.szekelyhon.ro/pictures/csik/aktu...  aktualis       csik   \n",
       "3  https://media.szekelyhon.ro/pictures/csik/aktu...  aktualis       csik   \n",
       "4  https://media.szekelyhon.ro/pictures/udvarhely...  aktualis  udvarhely   \n",
       "5  https://media.szekelyhon.ro/pictures/udvarhely...  aktualis  udvarhely   \n",
       "6  https://media.szekelyhon.ro/pictures/udvarhely...  aktualis  udvarhely   \n",
       "7  https://media.szekelyhon.ro/pictures/csik/aktu...  aktualis       csik   \n",
       "8  https://media.szekelyhon.ro/pictures/udvarhely...  aktualis  udvarhely   \n",
       "9  https://media.szekelyhon.ro/pictures/csik/aktu...  aktualis       csik   \n",
       "\n",
       "                                tags  \\\n",
       "0           ['Gyergyószék', 'medve']   \n",
       "1         ['Hargita megye', 'medve']   \n",
       "2      ['Belföld', 'medve', 'RMDSZ']   \n",
       "3             ['Háromszék', 'medve']   \n",
       "4  ['Csendőrség', 'medve', 'Parajd']   \n",
       "5         ['medve', 'Udvarhelyszék']   \n",
       "6         ['medve', 'Udvarhelyszék']   \n",
       "7      ['medve', 'Székelyudvarhely']   \n",
       "8         ['Hargita megye', 'medve']   \n",
       "9    ['Gyergyószentmiklós', 'medve']   \n",
       "\n",
       "                                               title  ... relevant  severity  \\\n",
       "0                    Feldúlva találták a sírhelyeket  ...        1         1   \n",
       "1  Elutasította medveügyben a Zetelaki Területtul...  ...        1         0   \n",
       "2  Ki akadályozta meg, hogy a barnamedve lekerülj...  ...        1         0   \n",
       "3  Pénzt ígér a miniszter a medvék által veszélye...  ...        1         0   \n",
       "4  Hargita megye: megvan az év első 112-s medveés...  ...        1         2   \n",
       "5        Aktívak a medvék Székelyudvarhely környékén  ...        1         0   \n",
       "6  Lemondott a vadásztársaság az emberre támadó h...  ...        1         0   \n",
       "7  Amíg elérhető közelségben van az ételmaradék, ...  ...        1         0   \n",
       "8  Medveradar: Zetelakán és Farkaslakán voltak a ...  ...        1         0   \n",
       "9       Gyergyószentmiklós utcáin kóborolt egy medve  ...        1         2   \n",
       "\n",
       "   deaths  duplicate                        predicted_locs  \\\n",
       "0       0          0                 ['Vasláb', 'Heveder']   \n",
       "1       0          0        ['Marosvásárhely', 'Zetelaka']   \n",
       "2       0          0                                   NaN   \n",
       "3       0          0                                Zabola   \n",
       "4       0          0                                Parajd   \n",
       "5       0          0                      Székelyudvarhely   \n",
       "6       0          0                              Hidegkút   \n",
       "7       0          0                      Székelyudvarhely   \n",
       "8       0          0  ['Haraly', 'Zetelaka', 'Farkaslaka']   \n",
       "9       0          0                    Gyergyószentmiklós   \n",
       "\n",
       "          actual_locs             geo_loc   latitude  longitude  \\\n",
       "0              Vasláb              Vasláb  46.646075  25.623711   \n",
       "1            Zetelaka            Zetelaka  46.391031  25.367929   \n",
       "2    Sepsiszentgyörgy    Sepsiszentgyörgy  45.860937  25.788580   \n",
       "3              Zabola              Zabola  45.887703  26.189789   \n",
       "4              Parajd              Parajd  46.555343  25.127272   \n",
       "5    Székelyudvarhely    Székelyudvarhely  46.305000  25.292648   \n",
       "6            Hidegkút            Hidegkút  46.335918  24.894143   \n",
       "7    Székelyudvarhely    Székelyudvarhely  46.305000  25.292648   \n",
       "8         Csíkszereda         Csíkszereda  46.369557  25.795365   \n",
       "9  Gyergyószentmiklós  Gyergyószentmiklós  46.721211  25.585528   \n",
       "\n",
       "                       id  \n",
       "0               Vasláb, 0  \n",
       "1             Zetelaka, 1  \n",
       "2     Sepsiszentgyörgy, 3  \n",
       "3               Zabola, 4  \n",
       "4               Parajd, 5  \n",
       "5     Székelyudvarhely, 6  \n",
       "6             Hidegkút, 7  \n",
       "7     Székelyudvarhely, 8  \n",
       "8          Csíkszereda, 9  \n",
       "9  Gyergyószentmiklós, 10  \n",
       "\n",
       "[10 rows x 21 columns]"
      ]
     },
     "execution_count": 14,
     "metadata": {},
     "output_type": "execute_result"
    }
   ],
   "source": [
    "df=pd.DataFrame(data)\n",
    "df.columns=header\n",
    "df"
   ]
  },
  {
   "cell_type": "markdown",
   "metadata": {},
   "source": [
    "Save data for loading in viz app"
   ]
  },
  {
   "cell_type": "code",
   "execution_count": 15,
   "metadata": {
    "ExecuteTime": {
     "end_time": "2019-04-18T04:33:06.297709Z",
     "start_time": "2019-04-18T04:33:06.289711Z"
    }
   },
   "outputs": [],
   "source": [
    "df['checked']=''\n",
    "df['exact_loc']=0\n",
    "df['source']='Székelyhon'"
   ]
  },
  {
   "cell_type": "code",
   "execution_count": 16,
   "metadata": {
    "ExecuteTime": {
     "end_time": "2019-04-18T04:33:06.786724Z",
     "start_time": "2019-04-18T04:33:06.769712Z"
    }
   },
   "outputs": [],
   "source": [
    "df=df[['checked',\n",
    "    'date',\n",
    "    'link',\n",
    "    'image',\n",
    "    'source',\n",
    "    'title',\n",
    "    'content',\n",
    "    'relevant',\n",
    "    'severity',\n",
    "    'deaths',\n",
    "    'duplicate',\n",
    "    'geo_loc',\n",
    "    'exact_loc',\n",
    "    'latitude',\n",
    "    'longitude']].set_index('checked')"
   ]
  },
  {
   "cell_type": "code",
   "execution_count": 17,
   "metadata": {
    "ExecuteTime": {
     "end_time": "2019-04-18T04:33:07.955716Z",
     "start_time": "2019-04-18T04:33:07.743723Z"
    }
   },
   "outputs": [],
   "source": [
    "#PowerBI exploration data\n",
    "df.to_excel('data/szekelyhon_data.xlsx')"
   ]
  },
  {
   "cell_type": "code",
   "execution_count": null,
   "metadata": {},
   "outputs": [],
   "source": []
  }
 ],
 "metadata": {
  "kernelspec": {
   "display_name": "Python 3",
   "language": "python",
   "name": "python3"
  },
  "language_info": {
   "codemirror_mode": {
    "name": "ipython",
    "version": 3
   },
   "file_extension": ".py",
   "mimetype": "text/x-python",
   "name": "python",
   "nbconvert_exporter": "python",
   "pygments_lexer": "ipython3",
   "version": "3.7.4"
  },
  "toc": {
   "base_numbering": 1,
   "nav_menu": {},
   "number_sections": true,
   "sideBar": true,
   "skip_h1_title": false,
   "title_cell": "Table of Contents",
   "title_sidebar": "Contents",
   "toc_cell": false,
   "toc_position": {},
   "toc_section_display": true,
   "toc_window_display": false
  }
 },
 "nbformat": 4,
 "nbformat_minor": 4
}
